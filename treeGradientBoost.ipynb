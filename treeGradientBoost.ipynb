{
 "cells": [
  {
   "cell_type": "code",
   "execution_count": 1,
   "id": "6a2b1431-9d4e-4939-87c2-7e213291d701",
   "metadata": {},
   "outputs": [],
   "source": [
    "\n",
    "from binarybeech.binarybeech import *\n",
    "import binarybeech.utils as utils\n"
   ]
  },
  {
   "cell_type": "code",
   "execution_count": 2,
   "id": "3e43599c-650e-4390-8ea2-cea4a1e37683",
   "metadata": {},
   "outputs": [],
   "source": [
    "\n",
    "df = pd.read_csv(\"data/titanic.csv\")\n",
    "df_titanic = df.sample(frac=0.75)\n",
    "df_test = df.loc[df.index.difference(df_titanic),:]\n",
    "    "
   ]
  },
  {
   "cell_type": "code",
   "execution_count": 3,
   "id": "13bc6b70-630e-4464-b85c-07970a06e549",
   "metadata": {},
   "outputs": [],
   "source": [
    "\n",
    "gbt_titanic = GradientBoostedTree(df_titanic,\"Survived\",learning_rate=0.5)\n"
   ]
  },
  {
   "cell_type": "code",
   "execution_count": 4,
   "id": "69e10b97-63a3-427e-a6a8-a6fcbe75f23d",
   "metadata": {
    "tags": []
   },
   "outputs": [
    {
     "data": {
      "text/plain": [
       "['Pclass',\n",
       " 'Name',\n",
       " 'Sex',\n",
       " 'Age',\n",
       " 'Siblings/Spouses Aboard',\n",
       " 'Parents/Children Aboard',\n",
       " 'Fare']"
      ]
     },
     "execution_count": 4,
     "metadata": {},
     "output_type": "execute_result"
    }
   ],
   "source": [
    "gbt_titanic.X_names"
   ]
  },
  {
   "cell_type": "code",
   "execution_count": 5,
   "id": "6e271ec5-3d96-42d9-a32a-4ff8b4158990",
   "metadata": {},
   "outputs": [
    {
     "name": "stdout",
     "output_type": "stream",
     "text": [
      "A tree with 1 leafs was created\n"
     ]
    }
   ],
   "source": [
    "it=gbt_titanic._initial_tree()\n",
    "#utils.print_tree(it.tree)\n"
   ]
  },
  {
   "cell_type": "code",
   "execution_count": 6,
   "id": "c52850c8-e78a-43d6-863a-442fc59f485b",
   "metadata": {},
   "outputs": [
    {
     "data": {
      "text/plain": [
       "<binarybeech.tree.Node at 0x7f8adc073a10>"
      ]
     },
     "execution_count": 6,
     "metadata": {},
     "output_type": "execute_result"
    }
   ],
   "source": [
    "it.tree.root"
   ]
  },
  {
   "cell_type": "code",
   "execution_count": 7,
   "id": "7edbef2d-a34b-41d1-9903-3a1fb0d56cbf",
   "metadata": {},
   "outputs": [
    {
     "name": "stdout",
     "output_type": "stream",
     "text": [
      "A tree with 1 leafs was created\n",
      "Norm of pseudo-residuals: 12.62531172845255\n",
      "A tree with 8 leafs was created\n",
      "4.89\t 0.4670\n",
      "Norm of pseudo-residuals: 10.430142204914343\n",
      "A tree with 8 leafs was created\n",
      "5.12\t 0.4539\n",
      "Norm of pseudo-residuals: 9.914910893562258\n",
      "A tree with 7 leafs was created\n",
      "5.58\t 0.4292\n",
      "Norm of pseudo-residuals: 9.544791578165148\n",
      "A tree with 8 leafs was created\n",
      "4.21\t 0.4182\n",
      "Norm of pseudo-residuals: 9.35616502362004\n",
      "A tree with 8 leafs was created\n",
      "3.96\t 0.4030\n",
      "Norm of pseudo-residuals: 9.146669868589699\n",
      "A tree with 6 leafs was created\n",
      "3.23\t 0.4036\n",
      "Norm of pseudo-residuals: 9.111932877969085\n",
      "A tree with 8 leafs was created\n",
      "3.41\t 0.3977\n",
      "Norm of pseudo-residuals: 9.046610375888658\n",
      "A tree with 7 leafs was created\n",
      "2.63\t 0.3950\n",
      "Norm of pseudo-residuals: 8.99925807592677\n",
      "A tree with 7 leafs was created\n",
      "3.42\t 0.3911\n",
      "Norm of pseudo-residuals: 8.961706389619597\n",
      "A tree with 5 leafs was created\n",
      "2.27\t 0.3899\n",
      "Norm of pseudo-residuals: 8.948227138673598\n",
      "A tree with 5 leafs was created\n",
      "3.58\t 0.3878\n",
      "Norm of pseudo-residuals: 8.916017150178448\n",
      "A tree with 8 leafs was created\n",
      "4.05\t 0.3819\n",
      "Norm of pseudo-residuals: 8.850136958879439\n",
      "A tree with 8 leafs was created\n",
      "3.79\t 0.3757\n",
      "Norm of pseudo-residuals: 8.767214700607372\n",
      "A tree with 8 leafs was created\n",
      "4.00\t 0.3746\n",
      "Norm of pseudo-residuals: 8.744867175170645\n",
      "A tree with 8 leafs was created\n",
      "3.63\t 0.3704\n",
      "Norm of pseudo-residuals: 8.68668217235158\n",
      "A tree with 8 leafs was created\n",
      "2.25\t 0.3698\n",
      "Norm of pseudo-residuals: 8.6675122193837\n",
      "A tree with 8 leafs was created\n",
      "2.55\t 0.3675\n",
      "Norm of pseudo-residuals: 8.636933801057454\n",
      "A tree with 8 leafs was created\n",
      "4.56\t 0.3623\n",
      "Norm of pseudo-residuals: 8.586472001533421\n",
      "A tree with 8 leafs was created\n",
      "2.86\t 0.3609\n",
      "Norm of pseudo-residuals: 8.557258955677344\n",
      "A tree with 8 leafs was created\n",
      "5.28\t 0.3554\n",
      "Norm of pseudo-residuals: 8.490973003457546\n",
      "A tree with 8 leafs was created\n",
      "2.36\t 0.3550\n",
      "Norm of pseudo-residuals: 8.483894789365914\n",
      "A tree with 5 leafs was created\n",
      "3.95\t 0.3527\n",
      "Norm of pseudo-residuals: 8.450527018379486\n",
      "A tree with 8 leafs was created\n",
      "2.87\t 0.3512\n",
      "Norm of pseudo-residuals: 8.428187388290363\n",
      "A tree with 8 leafs was created\n",
      "1.37\t 0.3512\n",
      "Norm of pseudo-residuals: 8.422611694723026\n",
      "A tree with 7 leafs was created\n",
      "3.74\t 0.3489\n",
      "Norm of pseudo-residuals: 8.41024855721875\n",
      "A tree with 8 leafs was created\n",
      "3.62\t 0.3458\n",
      "Norm of pseudo-residuals: 8.362791698964275\n",
      "A tree with 8 leafs was created\n",
      "3.48\t 0.3450\n",
      "Norm of pseudo-residuals: 8.34385931268546\n",
      "A tree with 7 leafs was created\n",
      "5.59\t 0.3412\n",
      "Norm of pseudo-residuals: 8.315805176676298\n",
      "A tree with 8 leafs was created\n",
      "2.14\t 0.3409\n",
      "Norm of pseudo-residuals: 8.295055036784152\n",
      "A tree with 8 leafs was created\n",
      "1.84\t 0.3405\n"
     ]
    }
   ],
   "source": [
    "\n",
    "gbt_titanic.train(30)\n"
   ]
  },
  {
   "cell_type": "code",
   "execution_count": 8,
   "id": "ab483568-cbe5-452a-8524-d1700c4f2efc",
   "metadata": {},
   "outputs": [
    {
     "data": {
      "text/plain": [
       "0.8975736450398336"
      ]
     },
     "execution_count": 8,
     "metadata": {},
     "output_type": "execute_result"
    }
   ],
   "source": [
    "\n",
    "gbt_titanic._predict(df_titanic.iloc[0])"
   ]
  },
  {
   "cell_type": "code",
   "execution_count": 9,
   "id": "2ca1ac16-51e1-4b8c-b24e-adb14805c846",
   "metadata": {},
   "outputs": [
    {
     "data": {
      "text/plain": [
       "{'precision': array([0.9075    , 0.78113208]),\n",
       " 'recall': array([0.86223278, 0.84836066]),\n",
       " 'F-score': 0.8488234914056125,\n",
       " 'accuracy': 0.8571428571428571}"
      ]
     },
     "execution_count": 9,
     "metadata": {},
     "output_type": "execute_result"
    }
   ],
   "source": [
    "\n",
    "gbt_titanic.validate()\n"
   ]
  },
  {
   "cell_type": "code",
   "execution_count": null,
   "id": "59e80777-1a78-4c53-bc9c-5ceef2c75f4d",
   "metadata": {},
   "outputs": [],
   "source": []
  }
 ],
 "metadata": {
  "kernelspec": {
   "display_name": "Python 3 (ipykernel)",
   "language": "python",
   "name": "python3"
  },
  "language_info": {
   "codemirror_mode": {
    "name": "ipython",
    "version": 3
   },
   "file_extension": ".py",
   "mimetype": "text/x-python",
   "name": "python",
   "nbconvert_exporter": "python",
   "pygments_lexer": "ipython3",
   "version": "3.7.12"
  }
 },
 "nbformat": 4,
 "nbformat_minor": 5
}
