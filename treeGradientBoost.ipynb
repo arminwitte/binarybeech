{
 "cells": [
  {
   "cell_type": "code",
   "execution_count": 1,
   "id": "6a2b1431-9d4e-4939-87c2-7e213291d701",
   "metadata": {},
   "outputs": [],
   "source": [
    "\n",
    "from binarybeech.binarybeech import *\n",
    "import binarybeech.utils as utils\n"
   ]
  },
  {
   "cell_type": "code",
   "execution_count": 2,
   "id": "3e43599c-650e-4390-8ea2-cea4a1e37683",
   "metadata": {},
   "outputs": [],
   "source": [
    "\n",
    "df = pd.read_csv(\"data/titanic.csv\")\n",
    "df_titanic = df.sample(frac=0.75)\n",
    "df_test = df.loc[df.index.difference(df_titanic),:]\n",
    "    "
   ]
  },
  {
   "cell_type": "code",
   "execution_count": 3,
   "id": "13bc6b70-630e-4464-b85c-07970a06e549",
   "metadata": {},
   "outputs": [],
   "source": [
    "\n",
    "gbt_titanic = GradientBoostedTree(df_titanic,\"Survived\",learning_rate=0.5)\n"
   ]
  },
  {
   "cell_type": "code",
   "execution_count": 4,
   "id": "69e10b97-63a3-427e-a6a8-a6fcbe75f23d",
   "metadata": {
    "tags": []
   },
   "outputs": [
    {
     "data": {
      "text/plain": [
       "['Pclass',\n",
       " 'Name',\n",
       " 'Sex',\n",
       " 'Age',\n",
       " 'Siblings/Spouses Aboard',\n",
       " 'Parents/Children Aboard',\n",
       " 'Fare']"
      ]
     },
     "execution_count": 4,
     "metadata": {},
     "output_type": "execute_result"
    }
   ],
   "source": [
    "gbt_titanic.X_names"
   ]
  },
  {
   "cell_type": "code",
   "execution_count": 5,
   "id": "6e271ec5-3d96-42d9-a32a-4ff8b4158990",
   "metadata": {},
   "outputs": [
    {
     "name": "stdout",
     "output_type": "stream",
     "text": [
      "A tree with 1 leafs was created\n",
      "0.38345864661654133\n",
      "\n"
     ]
    }
   ],
   "source": [
    "it=gbt_titanic._initial_tree()\n",
    "utils.print_tree(it.tree)\n"
   ]
  },
  {
   "cell_type": "code",
   "execution_count": 6,
   "id": "c52850c8-e78a-43d6-863a-442fc59f485b",
   "metadata": {},
   "outputs": [
    {
     "data": {
      "text/plain": [
       "<binarybeech.tree.Node at 0x7f35ed02e790>"
      ]
     },
     "execution_count": 6,
     "metadata": {},
     "output_type": "execute_result"
    }
   ],
   "source": [
    "it.tree.root"
   ]
  },
  {
   "cell_type": "code",
   "execution_count": 7,
   "id": "7edbef2d-a34b-41d1-9903-3a1fb0d56cbf",
   "metadata": {},
   "outputs": [
    {
     "name": "stdout",
     "output_type": "stream",
     "text": [
      "A tree with 1 leafs was created\n",
      "Norm of pseudo-residuals: 12.5386620144568\n",
      "A tree with 8 leafs was created\n",
      "6.04\t 0.4329\n",
      "Norm of pseudo-residuals: 9.999761981168977\n",
      "A tree with 8 leafs was created\n",
      "4.37\t 0.4312\n",
      "Norm of pseudo-residuals: 9.525459914055565\n",
      "A tree with 8 leafs was created\n",
      "4.82\t 0.4093\n",
      "Norm of pseudo-residuals: 9.240528772611865\n",
      "A tree with 8 leafs was created\n",
      "5.36\t 0.3941\n",
      "Norm of pseudo-residuals: 9.052434588755233\n",
      "A tree with 5 leafs was created\n",
      "5.93\t 0.3882\n",
      "Norm of pseudo-residuals: 8.943370004671715\n",
      "A tree with 8 leafs was created\n",
      "7.10\t 0.3786\n",
      "Norm of pseudo-residuals: 8.838313831115636\n",
      "A tree with 8 leafs was created\n",
      "3.39\t 0.3763\n",
      "Norm of pseudo-residuals: 8.789049260049529\n",
      "A tree with 8 leafs was created\n",
      "2.21\t 0.3759\n",
      "Norm of pseudo-residuals: 8.775490827325934\n",
      "A tree with 7 leafs was created\n",
      "2.61\t 0.3739\n",
      "Norm of pseudo-residuals: 8.756817572005705\n",
      "A tree with 8 leafs was created\n",
      "3.12\t 0.3701\n",
      "Norm of pseudo-residuals: 8.71748316544983\n",
      "A tree with 8 leafs was created\n",
      "2.53\t 0.3696\n",
      "Norm of pseudo-residuals: 8.70413887887327\n",
      "A tree with 8 leafs was created\n",
      "2.31\t 0.3664\n",
      "Norm of pseudo-residuals: 8.655990803076536\n",
      "A tree with 8 leafs was created\n",
      "3.81\t 0.3633\n",
      "Norm of pseudo-residuals: 8.627955769301312\n",
      "A tree with 7 leafs was created\n",
      "0.67\t 0.3641\n",
      "Norm of pseudo-residuals: 8.625458764288616\n",
      "A tree with 7 leafs was created\n",
      "4.17\t 0.3577\n",
      "Norm of pseudo-residuals: 8.551182153003525\n",
      "A tree with 8 leafs was created\n",
      "2.74\t 0.3571\n",
      "Norm of pseudo-residuals: 8.5314250664687\n",
      "A tree with 7 leafs was created\n",
      "1.87\t 0.3570\n",
      "Norm of pseudo-residuals: 8.52732170623354\n",
      "A tree with 8 leafs was created\n",
      "2.67\t 0.3542\n",
      "Norm of pseudo-residuals: 8.50684925332118\n",
      "A tree with 8 leafs was created\n",
      "1.55\t 0.3538\n",
      "Norm of pseudo-residuals: 8.493387964826647\n",
      "A tree with 8 leafs was created\n",
      "2.50\t 0.3504\n",
      "Norm of pseudo-residuals: 8.456284680578356\n",
      "A tree with 8 leafs was created\n",
      "3.95\t 0.3478\n",
      "Norm of pseudo-residuals: 8.428105318387798\n",
      "A tree with 5 leafs was created\n",
      "3.54\t 0.3472\n",
      "Norm of pseudo-residuals: 8.40712837991888\n",
      "A tree with 7 leafs was created\n",
      "6.28\t 0.3444\n",
      "Norm of pseudo-residuals: 8.370612474816882\n",
      "A tree with 8 leafs was created\n",
      "1.84\t 0.3444\n",
      "Norm of pseudo-residuals: 8.36748957444373\n",
      "A tree with 8 leafs was created\n",
      "1.56\t 0.3441\n",
      "Norm of pseudo-residuals: 8.36545197553214\n",
      "A tree with 8 leafs was created\n",
      "2.73\t 0.3419\n",
      "Norm of pseudo-residuals: 8.350432156806347\n",
      "A tree with 8 leafs was created\n",
      "3.68\t 0.3403\n",
      "Norm of pseudo-residuals: 8.327716941959512\n",
      "A tree with 8 leafs was created\n",
      "3.23\t 0.3377\n",
      "Norm of pseudo-residuals: 8.294558975413107\n",
      "A tree with 8 leafs was created\n",
      "3.06\t 0.3366\n",
      "Norm of pseudo-residuals: 8.279212359899216\n",
      "A tree with 8 leafs was created\n",
      "4.63\t 0.3334\n"
     ]
    }
   ],
   "source": [
    "\n",
    "gbt_titanic.train(30)\n"
   ]
  },
  {
   "cell_type": "code",
   "execution_count": 8,
   "id": "ab483568-cbe5-452a-8524-d1700c4f2efc",
   "metadata": {},
   "outputs": [
    {
     "data": {
      "text/plain": [
       "array([0.10418096])"
      ]
     },
     "execution_count": 8,
     "metadata": {},
     "output_type": "execute_result"
    }
   ],
   "source": [
    "\n",
    "gbt_titanic.predict(df_titanic.iloc[[0]])"
   ]
  },
  {
   "cell_type": "code",
   "execution_count": 9,
   "id": "2ca1ac16-51e1-4b8c-b24e-adb14805c846",
   "metadata": {},
   "outputs": [
    {
     "data": {
      "text/plain": [
       "{'precision': array([0.9097561, 0.8      ]),\n",
       " 'recall': array([0.87971698, 0.84647303]),\n",
       " 'F-score': 0.8585325288156571,\n",
       " 'accuracy': 0.8676691729323308}"
      ]
     },
     "execution_count": 9,
     "metadata": {},
     "output_type": "execute_result"
    }
   ],
   "source": [
    "\n",
    "gbt_titanic.validate()\n"
   ]
  }
 ],
 "metadata": {
  "kernelspec": {
   "display_name": "Python 3 (ipykernel)",
   "language": "python",
   "name": "python3"
  },
  "language_info": {
   "codemirror_mode": {
    "name": "ipython",
    "version": 3
   },
   "file_extension": ".py",
   "mimetype": "text/x-python",
   "name": "python",
   "nbconvert_exporter": "python",
   "pygments_lexer": "ipython3",
   "version": "3.7.12"
  }
 },
 "nbformat": 4,
 "nbformat_minor": 5
}
