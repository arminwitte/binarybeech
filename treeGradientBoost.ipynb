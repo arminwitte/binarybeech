{
 "cells": [
  {
   "cell_type": "code",
   "execution_count": 1,
   "id": "6a2b1431-9d4e-4939-87c2-7e213291d701",
   "metadata": {},
   "outputs": [],
   "source": [
    "\n",
    "from binarybeech.binarybeech import *\n"
   ]
  },
  {
   "cell_type": "code",
   "execution_count": 2,
   "id": "3e43599c-650e-4390-8ea2-cea4a1e37683",
   "metadata": {},
   "outputs": [],
   "source": [
    "\n",
    "df = pd.read_csv(\"data/titanic.csv\")\n",
    "df_titanic = df.sample(frac=0.75)\n",
    "df_test = df.loc[df.index.difference(df_titanic),:]\n",
    "    "
   ]
  },
  {
   "cell_type": "code",
   "execution_count": 3,
   "id": "13bc6b70-630e-4464-b85c-07970a06e549",
   "metadata": {},
   "outputs": [
    {
     "name": "stdout",
     "output_type": "stream",
     "text": [
      "Pclass is interval\n",
      "Name is nominal\n",
      "Sex is dichotomous\n",
      "Age is interval\n",
      "Siblings/Spouses Aboard is interval\n",
      "Parents/Children Aboard is interval\n",
      "Fare is interval\n",
      "Survived is dichotomous\n"
     ]
    }
   ],
   "source": [
    "\n",
    "gbt_titanic = GradientBoostedTree(df_titanic,\"Survived\",learning_rate=0.5)\n"
   ]
  },
  {
   "cell_type": "code",
   "execution_count": 4,
   "id": "69e10b97-63a3-427e-a6a8-a6fcbe75f23d",
   "metadata": {
    "tags": []
   },
   "outputs": [
    {
     "data": {
      "text/plain": [
       "['Pclass',\n",
       " 'Name',\n",
       " 'Sex',\n",
       " 'Age',\n",
       " 'Siblings/Spouses Aboard',\n",
       " 'Parents/Children Aboard',\n",
       " 'Fare']"
      ]
     },
     "execution_count": 4,
     "metadata": {},
     "output_type": "execute_result"
    }
   ],
   "source": [
    "gbt_titanic.X_names"
   ]
  },
  {
   "cell_type": "code",
   "execution_count": 5,
   "id": "6e271ec5-3d96-42d9-a32a-4ff8b4158990",
   "metadata": {},
   "outputs": [
    {
     "name": "stdout",
     "output_type": "stream",
     "text": [
      "Pclass is interval\n",
      "Name is nominal\n",
      "Sex is dichotomous\n",
      "Age is interval\n",
      "Siblings/Spouses Aboard is interval\n",
      "Parents/Children Aboard is interval\n",
      "Fare is interval\n",
      "Survived is dichotomous\n",
      "Pclass is interval\n",
      "Name is nominal\n",
      "Sex is dichotomous\n",
      "Age is interval\n",
      "Siblings/Spouses Aboard is interval\n",
      "Parents/Children Aboard is interval\n",
      "Fare is interval\n",
      "Survived is dichotomous\n",
      "0.37293233082706767\n",
      "\n"
     ]
    }
   ],
   "source": [
    "it=gbt_titanic._initial_tree()\n",
    "it.tree.show()\n"
   ]
  },
  {
   "cell_type": "code",
   "execution_count": 6,
   "id": "c52850c8-e78a-43d6-863a-442fc59f485b",
   "metadata": {},
   "outputs": [
    {
     "data": {
      "text/plain": [
       "<binarybeech.binarybeech.Node at 0x7fcc179945d0>"
      ]
     },
     "execution_count": 6,
     "metadata": {},
     "output_type": "execute_result"
    }
   ],
   "source": [
    "it.tree.root"
   ]
  },
  {
   "cell_type": "code",
   "execution_count": 7,
   "id": "7edbef2d-a34b-41d1-9903-3a1fb0d56cbf",
   "metadata": {},
   "outputs": [
    {
     "name": "stdout",
     "output_type": "stream",
     "text": [
      "Pclass is interval\n",
      "Name is nominal\n",
      "Sex is dichotomous\n",
      "Age is interval\n",
      "Siblings/Spouses Aboard is interval\n",
      "Parents/Children Aboard is interval\n",
      "Fare is interval\n",
      "Survived is dichotomous\n",
      "Pclass is interval\n",
      "Name is nominal\n",
      "Sex is dichotomous\n",
      "Age is interval\n",
      "Siblings/Spouses Aboard is interval\n",
      "Parents/Children Aboard is interval\n",
      "Fare is interval\n",
      "Survived is dichotomous\n",
      "5.97\t 0.3994\n",
      "5.16\t 0.4084\n",
      "4.62\t 0.3938\n",
      "3.46\t 0.3818\n",
      "4.76\t 0.3770\n",
      "6.93\t 0.3688\n",
      "5.10\t 0.3594\n",
      "3.71\t 0.3512\n",
      "3.71\t 0.3429\n",
      "5.35\t 0.3404\n",
      "4.38\t 0.3399\n",
      "3.52\t 0.3363\n",
      "3.83\t 0.3293\n",
      "2.17\t 0.3268\n",
      "2.50\t 0.3253\n",
      "3.81\t 0.3207\n",
      "2.90\t 0.3201\n",
      "2.54\t 0.3165\n",
      "5.01\t 0.3129\n",
      "3.43\t 0.3104\n",
      "2.55\t 0.3101\n",
      "1.86\t 0.3098\n",
      "4.77\t 0.3046\n",
      "2.94\t 0.3054\n",
      "4.56\t 0.3002\n",
      "5.00\t 0.2954\n",
      "4.16\t 0.2937\n",
      "1.06\t 0.2937\n",
      "3.74\t 0.2897\n",
      "3.64\t 0.2869\n"
     ]
    }
   ],
   "source": [
    "\n",
    "gbt_titanic.train(30)\n"
   ]
  },
  {
   "cell_type": "code",
   "execution_count": 8,
   "id": "ab483568-cbe5-452a-8524-d1700c4f2efc",
   "metadata": {},
   "outputs": [
    {
     "data": {
      "text/plain": [
       "0.5261168486326848"
      ]
     },
     "execution_count": 8,
     "metadata": {},
     "output_type": "execute_result"
    }
   ],
   "source": [
    "\n",
    "gbt_titanic._predict(df_titanic.iloc[0])"
   ]
  },
  {
   "cell_type": "code",
   "execution_count": 9,
   "id": "2ca1ac16-51e1-4b8c-b24e-adb14805c846",
   "metadata": {},
   "outputs": [
    {
     "data": {
      "text/plain": [
       "{'precision': array([0.9088729 , 0.84274194]),\n",
       " 'recall': array([0.90669856, 0.84615385]),\n",
       " 'F-score': 0.8761144377910844,\n",
       " 'accuracy': 0.8842105263157894}"
      ]
     },
     "execution_count": 9,
     "metadata": {},
     "output_type": "execute_result"
    }
   ],
   "source": [
    "\n",
    "gbt_titanic.validate()\n"
   ]
  },
  {
   "cell_type": "code",
   "execution_count": null,
   "id": "59e80777-1a78-4c53-bc9c-5ceef2c75f4d",
   "metadata": {},
   "outputs": [],
   "source": []
  }
 ],
 "metadata": {
  "kernelspec": {
   "display_name": "Python 3 (ipykernel)",
   "language": "python",
   "name": "python3"
  },
  "language_info": {
   "codemirror_mode": {
    "name": "ipython",
    "version": 3
   },
   "file_extension": ".py",
   "mimetype": "text/x-python",
   "name": "python",
   "nbconvert_exporter": "python",
   "pygments_lexer": "ipython3",
   "version": "3.7.12"
  }
 },
 "nbformat": 4,
 "nbformat_minor": 5
}
