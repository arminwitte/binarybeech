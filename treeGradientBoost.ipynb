{
 "cells": [
  {
   "cell_type": "code",
   "execution_count": 1,
   "id": "6a2b1431-9d4e-4939-87c2-7e213291d701",
   "metadata": {},
   "outputs": [],
   "source": [
    "\n",
    "from binarybeech.binarybeech import *\n",
    "import binarybeech.utils as utils\n"
   ]
  },
  {
   "cell_type": "code",
   "execution_count": 2,
   "id": "3e43599c-650e-4390-8ea2-cea4a1e37683",
   "metadata": {},
   "outputs": [],
   "source": [
    "\n",
    "df = pd.read_csv(\"data/titanic.csv\")\n",
    "df_titanic = df.sample(frac=0.75)\n",
    "df_test = df.loc[df.index.difference(df_titanic),:]\n",
    "    "
   ]
  },
  {
   "cell_type": "code",
   "execution_count": 3,
   "id": "13bc6b70-630e-4464-b85c-07970a06e549",
   "metadata": {},
   "outputs": [],
   "source": [
    "\n",
    "gbt_titanic = GradientBoostedTree(df_titanic,\"Survived\",learning_rate=0.5)\n"
   ]
  },
  {
   "cell_type": "code",
   "execution_count": 4,
   "id": "69e10b97-63a3-427e-a6a8-a6fcbe75f23d",
   "metadata": {
    "tags": []
   },
   "outputs": [
    {
     "data": {
      "text/plain": [
       "['Pclass',\n",
       " 'Name',\n",
       " 'Sex',\n",
       " 'Age',\n",
       " 'Siblings/Spouses Aboard',\n",
       " 'Parents/Children Aboard',\n",
       " 'Fare']"
      ]
     },
     "execution_count": 4,
     "metadata": {},
     "output_type": "execute_result"
    }
   ],
   "source": [
    "gbt_titanic.X_names"
   ]
  },
  {
   "cell_type": "code",
   "execution_count": 10,
   "id": "6e271ec5-3d96-42d9-a32a-4ff8b4158990",
   "metadata": {},
   "outputs": [
    {
     "name": "stdout",
     "output_type": "stream",
     "text": [
      "A tree with 1 leafs was created\n",
      "0.3954887218045112\n",
      "\n"
     ]
    }
   ],
   "source": [
    "it=gbt_titanic._initial_tree()\n",
    "utils.print_tree(it.tree)\n"
   ]
  },
  {
   "cell_type": "code",
   "execution_count": 6,
   "id": "c52850c8-e78a-43d6-863a-442fc59f485b",
   "metadata": {},
   "outputs": [
    {
     "data": {
      "text/plain": [
       "<binarybeech.tree.Node at 0x7f8498384f10>"
      ]
     },
     "execution_count": 6,
     "metadata": {},
     "output_type": "execute_result"
    }
   ],
   "source": [
    "it.tree.root"
   ]
  },
  {
   "cell_type": "code",
   "execution_count": 7,
   "id": "7edbef2d-a34b-41d1-9903-3a1fb0d56cbf",
   "metadata": {},
   "outputs": [
    {
     "name": "stdout",
     "output_type": "stream",
     "text": [
      "A tree with 1 leafs was created\n",
      "Norm of pseudo-residuals: 12.608983550049285\n",
      "A tree with 8 leafs was created\n",
      "5.37\t 0.4498\n",
      "Norm of pseudo-residuals: 10.214219622937769\n",
      "A tree with 8 leafs was created\n",
      "5.55\t 0.4249\n",
      "Norm of pseudo-residuals: 9.490115239257046\n",
      "A tree with 8 leafs was created\n",
      "4.78\t 0.4172\n",
      "Norm of pseudo-residuals: 9.293283895079664\n",
      "A tree with 8 leafs was created\n",
      "5.11\t 0.4131\n",
      "Norm of pseudo-residuals: 9.227818563955102\n",
      "A tree with 8 leafs was created\n",
      "3.82\t 0.4062\n",
      "Norm of pseudo-residuals: 9.141015771176786\n",
      "A tree with 8 leafs was created\n",
      "3.04\t 0.3988\n",
      "Norm of pseudo-residuals: 9.046623206781247\n",
      "A tree with 6 leafs was created\n",
      "4.05\t 0.3986\n",
      "Norm of pseudo-residuals: 9.030501705028126\n",
      "A tree with 8 leafs was created\n",
      "2.84\t 0.3971\n",
      "Norm of pseudo-residuals: 9.009632144983836\n",
      "A tree with 8 leafs was created\n",
      "3.26\t 0.3906\n",
      "Norm of pseudo-residuals: 8.948316718986941\n",
      "A tree with 7 leafs was created\n",
      "3.69\t 0.3886\n",
      "Norm of pseudo-residuals: 8.910001605397674\n",
      "A tree with 5 leafs was created\n",
      "1.08\t 0.3886\n",
      "Norm of pseudo-residuals: 8.903227723009872\n",
      "A tree with 8 leafs was created\n",
      "2.94\t 0.3829\n",
      "Norm of pseudo-residuals: 8.831008330242502\n",
      "A tree with 7 leafs was created\n",
      "2.68\t 0.3826\n",
      "Norm of pseudo-residuals: 8.815529760155298\n",
      "A tree with 8 leafs was created\n",
      "3.11\t 0.3811\n",
      "Norm of pseudo-residuals: 8.801769652574512\n",
      "A tree with 7 leafs was created\n",
      "1.86\t 0.3793\n",
      "Norm of pseudo-residuals: 8.78649247251605\n",
      "A tree with 8 leafs was created\n",
      "1.42\t 0.3783\n",
      "Norm of pseudo-residuals: 8.773443107005471\n",
      "A tree with 7 leafs was created\n",
      "2.12\t 0.3767\n",
      "Norm of pseudo-residuals: 8.757694671608748\n",
      "A tree with 8 leafs was created\n",
      "2.83\t 0.3737\n",
      "Norm of pseudo-residuals: 8.714806784749303\n",
      "A tree with 5 leafs was created\n",
      "3.76\t 0.3734\n",
      "Norm of pseudo-residuals: 8.701496029867805\n",
      "A tree with 6 leafs was created\n",
      "1.49\t 0.3732\n",
      "Norm of pseudo-residuals: 8.694471295477754\n",
      "A tree with 8 leafs was created\n",
      "0.99\t 0.3724\n",
      "Norm of pseudo-residuals: 8.678926958471607\n",
      "A tree with 8 leafs was created\n",
      "1.60\t 0.3712\n",
      "Norm of pseudo-residuals: 8.669278953883087\n",
      "A tree with 8 leafs was created\n",
      "2.27\t 0.3690\n",
      "Norm of pseudo-residuals: 8.63848344575824\n",
      "A tree with 8 leafs was created\n",
      "3.27\t 0.3644\n",
      "Norm of pseudo-residuals: 8.592513593253363\n",
      "A tree with 8 leafs was created\n",
      "3.93\t 0.3598\n",
      "Norm of pseudo-residuals: 8.536904305171591\n",
      "A tree with 8 leafs was created\n",
      "2.77\t 0.3586\n",
      "Norm of pseudo-residuals: 8.503620718789922\n",
      "A tree with 6 leafs was created\n",
      "3.86\t 0.3582\n",
      "Norm of pseudo-residuals: 8.488747849425513\n",
      "A tree with 8 leafs was created\n",
      "3.69\t 0.3534\n",
      "Norm of pseudo-residuals: 8.428957841260592\n",
      "A tree with 8 leafs was created\n",
      "2.82\t 0.3524\n",
      "Norm of pseudo-residuals: 8.409242208837439\n",
      "A tree with 8 leafs was created\n",
      "2.81\t 0.3495\n"
     ]
    }
   ],
   "source": [
    "\n",
    "gbt_titanic.train(30)\n"
   ]
  },
  {
   "cell_type": "code",
   "execution_count": 8,
   "id": "ab483568-cbe5-452a-8524-d1700c4f2efc",
   "metadata": {},
   "outputs": [
    {
     "data": {
      "text/plain": [
       "0.9420404735022848"
      ]
     },
     "execution_count": 8,
     "metadata": {},
     "output_type": "execute_result"
    }
   ],
   "source": [
    "\n",
    "gbt_titanic._predict(df_titanic.iloc[0])"
   ]
  },
  {
   "cell_type": "code",
   "execution_count": 9,
   "id": "2ca1ac16-51e1-4b8c-b24e-adb14805c846",
   "metadata": {},
   "outputs": [
    {
     "data": {
      "text/plain": [
       "{'precision': array([0.90547264, 0.78326996]),\n",
       " 'recall': array([0.86460808, 0.8442623 ]),\n",
       " 'F-score': 0.848595962718778,\n",
       " 'accuracy': 0.8571428571428571}"
      ]
     },
     "execution_count": 9,
     "metadata": {},
     "output_type": "execute_result"
    }
   ],
   "source": [
    "\n",
    "gbt_titanic.validate()\n"
   ]
  }
 ],
 "metadata": {
  "kernelspec": {
   "display_name": "Python 3 (ipykernel)",
   "language": "python",
   "name": "python3"
  },
  "language_info": {
   "codemirror_mode": {
    "name": "ipython",
    "version": 3
   },
   "file_extension": ".py",
   "mimetype": "text/x-python",
   "name": "python",
   "nbconvert_exporter": "python",
   "pygments_lexer": "ipython3",
   "version": "3.7.12"
  }
 },
 "nbformat": 4,
 "nbformat_minor": 5
}
