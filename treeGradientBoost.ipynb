{
 "cells": [
  {
   "cell_type": "code",
   "execution_count": 1,
   "id": "6a2b1431-9d4e-4939-87c2-7e213291d701",
   "metadata": {},
   "outputs": [],
   "source": [
    "\n",
    "from binarybeech.binarybeech import *\n"
   ]
  },
  {
   "cell_type": "code",
   "execution_count": 2,
   "id": "3e43599c-650e-4390-8ea2-cea4a1e37683",
   "metadata": {},
   "outputs": [],
   "source": [
    "\n",
    "df = pd.read_csv(\"data/titanic.csv\")\n",
    "df_titanic = df.sample(frac=0.75)\n",
    "df_test = df.loc[df.index.difference(df_titanic),:]\n",
    "    "
   ]
  },
  {
   "cell_type": "code",
   "execution_count": 3,
   "id": "13bc6b70-630e-4464-b85c-07970a06e549",
   "metadata": {},
   "outputs": [
    {
     "name": "stdout",
     "output_type": "stream",
     "text": [
      "Survived is nominal\n",
      "Pclass is nominal\n",
      "Name is nominal\n",
      "Sex is nominal\n",
      "Age is nominal\n",
      "Siblings/Spouses Aboard is nominal\n",
      "Parents/Children Aboard is nominal\n",
      "Fare is nominal\n"
     ]
    }
   ],
   "source": [
    "\n",
    "gbt_titanic = GradientBoostedTree(df_titanic,\"Survived\",learning_rate=0.1)\n"
   ]
  },
  {
   "cell_type": "code",
   "execution_count": 4,
   "id": "69e10b97-63a3-427e-a6a8-a6fcbe75f23d",
   "metadata": {
    "tags": []
   },
   "outputs": [
    {
     "data": {
      "text/plain": [
       "['Pclass',\n",
       " 'Name',\n",
       " 'Sex',\n",
       " 'Age',\n",
       " 'Siblings/Spouses Aboard',\n",
       " 'Parents/Children Aboard',\n",
       " 'Fare']"
      ]
     },
     "execution_count": 4,
     "metadata": {},
     "output_type": "execute_result"
    }
   ],
   "source": [
    "gbt_titanic.X_names"
   ]
  },
  {
   "cell_type": "code",
   "execution_count": 5,
   "id": "6e271ec5-3d96-42d9-a32a-4ff8b4158990",
   "metadata": {},
   "outputs": [
    {
     "name": "stdout",
     "output_type": "stream",
     "text": [
      "Survived is nominal\n",
      "Pclass is nominal\n",
      "Name is nominal\n",
      "Sex is nominal\n",
      "Age is nominal\n",
      "Siblings/Spouses Aboard is nominal\n",
      "Parents/Children Aboard is nominal\n",
      "Fare is nominal\n",
      "Survived is nominal\n",
      "Pclass is nominal\n",
      "Name is nominal\n",
      "Sex is nominal\n",
      "Age is nominal\n",
      "Siblings/Spouses Aboard is nominal\n",
      "Parents/Children Aboard is nominal\n",
      "Fare is nominal\n",
      "0.38947368421052636\n",
      "\n"
     ]
    }
   ],
   "source": [
    "it=gbt_titanic._initial_tree()\n",
    "it.tree.show()\n"
   ]
  },
  {
   "cell_type": "code",
   "execution_count": 6,
   "id": "c52850c8-e78a-43d6-863a-442fc59f485b",
   "metadata": {},
   "outputs": [
    {
     "data": {
      "text/plain": [
       "<binarybeech.binarybeech.Node at 0x7f4ee8c4b250>"
      ]
     },
     "execution_count": 6,
     "metadata": {},
     "output_type": "execute_result"
    }
   ],
   "source": [
    "it.tree.root"
   ]
  },
  {
   "cell_type": "code",
   "execution_count": 7,
   "id": "7edbef2d-a34b-41d1-9903-3a1fb0d56cbf",
   "metadata": {},
   "outputs": [
    {
     "name": "stdout",
     "output_type": "stream",
     "text": [
      "Survived is nominal\n",
      "Pclass is nominal\n",
      "Name is nominal\n",
      "Sex is nominal\n",
      "Age is nominal\n",
      "Siblings/Spouses Aboard is nominal\n",
      "Parents/Children Aboard is nominal\n",
      "Fare is nominal\n",
      "Survived is nominal\n",
      "Pclass is nominal\n",
      "Name is nominal\n",
      "Sex is nominal\n",
      "Age is nominal\n",
      "Siblings/Spouses Aboard is nominal\n",
      "Parents/Children Aboard is nominal\n",
      "Fare is nominal\n",
      "4.97\t 0.4404\n",
      "5.75\t 0.4302\n",
      "5.74\t 0.4205\n",
      "5.03\t 0.4418\n",
      "5.59\t 0.4387\n",
      "5.36\t 0.4378\n",
      "4.08\t 0.4530\n",
      "4.43\t 0.4375\n",
      "3.63\t 0.4414\n",
      "4.42\t 0.4284\n",
      "3.59\t 0.4323\n",
      "4.74\t 0.4208\n",
      "3.14\t 0.4279\n",
      "4.44\t 0.4119\n",
      "5.46\t 0.4122\n",
      "3.70\t 0.4153\n",
      "4.20\t 0.4108\n",
      "3.92\t 0.4116\n",
      "3.45\t 0.4132\n",
      "3.19\t 0.4155\n",
      "4.18\t 0.4113\n",
      "2.74\t 0.4119\n",
      "3.33\t 0.4026\n",
      "3.27\t 0.4051\n",
      "3.60\t 0.4022\n",
      "4.40\t 0.4024\n",
      "1.60\t 0.4044\n",
      "2.67\t 0.4046\n",
      "3.63\t 0.4024\n",
      "2.30\t 0.4022\n"
     ]
    }
   ],
   "source": [
    "\n",
    "gbt_titanic.train(30)\n"
   ]
  },
  {
   "cell_type": "code",
   "execution_count": 8,
   "id": "ab483568-cbe5-452a-8524-d1700c4f2efc",
   "metadata": {},
   "outputs": [
    {
     "data": {
      "text/plain": [
       "0.15966389088006042"
      ]
     },
     "execution_count": 8,
     "metadata": {},
     "output_type": "execute_result"
    }
   ],
   "source": [
    "\n",
    "gbt_titanic._predict(df_titanic.iloc[0])"
   ]
  },
  {
   "cell_type": "code",
   "execution_count": 9,
   "id": "2ca1ac16-51e1-4b8c-b24e-adb14805c846",
   "metadata": {},
   "outputs": [
    {
     "data": {
      "text/plain": [
       "{'precision': array([0.92118227, 0.67181467]),\n",
       " 'recall': array([0.81481481, 0.84466019]),\n",
       " 'F-score': 0.8065634905836285,\n",
       " 'accuracy': 0.8240601503759398}"
      ]
     },
     "execution_count": 9,
     "metadata": {},
     "output_type": "execute_result"
    }
   ],
   "source": [
    "\n",
    "gbt_titanic.validate()\n"
   ]
  },
  {
   "cell_type": "code",
   "execution_count": null,
   "id": "59e80777-1a78-4c53-bc9c-5ceef2c75f4d",
   "metadata": {},
   "outputs": [],
   "source": []
  }
 ],
 "metadata": {
  "kernelspec": {
   "display_name": "Python 3 (ipykernel)",
   "language": "python",
   "name": "python3"
  },
  "language_info": {
   "codemirror_mode": {
    "name": "ipython",
    "version": 3
   },
   "file_extension": ".py",
   "mimetype": "text/x-python",
   "name": "python",
   "nbconvert_exporter": "python",
   "pygments_lexer": "ipython3",
   "version": "3.7.12"
  }
 },
 "nbformat": 4,
 "nbformat_minor": 5
}
