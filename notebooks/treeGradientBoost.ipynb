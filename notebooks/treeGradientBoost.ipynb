{
 "cells": [
  {
   "cell_type": "code",
   "execution_count": 1,
   "metadata": {},
   "outputs": [
    {
     "name": "stdout",
     "output_type": "stream",
     "text": [
      "c:\\Users\\susanne\\git\\binarybeech\n"
     ]
    }
   ],
   "source": [
    "try:\n",
    "    passes += 1\n",
    "except NameError:\n",
    "    %cd ..\n",
    "    passes = 1"
   ]
  },
  {
   "cell_type": "code",
   "execution_count": 2,
   "metadata": {},
   "outputs": [],
   "source": [
    "\n",
    "from binarybeech.binarybeech import *\n",
    "import binarybeech.utils as utils\n"
   ]
  },
  {
   "cell_type": "code",
   "execution_count": 3,
   "metadata": {},
   "outputs": [],
   "source": [
    "\n",
    "df = pd.read_csv(\"data/titanic.csv\")\n",
    "df_titanic = df.sample(frac=0.75)\n",
    "df_test = df.loc[df.index.difference(df_titanic),:]\n",
    "    "
   ]
  },
  {
   "cell_type": "code",
   "execution_count": 4,
   "metadata": {},
   "outputs": [],
   "source": [
    "\n",
    "gbt_titanic = GradientBoostedTree(df=df_titanic,y_name=\"Survived\",learning_rate=0.5)\n"
   ]
  },
  {
   "cell_type": "code",
   "execution_count": 5,
   "metadata": {
    "tags": []
   },
   "outputs": [
    {
     "data": {
      "text/plain": [
       "['Pclass',\n",
       " 'Name',\n",
       " 'Sex',\n",
       " 'Age',\n",
       " 'Siblings/Spouses Aboard',\n",
       " 'Parents/Children Aboard',\n",
       " 'Fare']"
      ]
     },
     "execution_count": 5,
     "metadata": {},
     "output_type": "execute_result"
    }
   ],
   "source": [
    "gbt_titanic.X_names"
   ]
  },
  {
   "cell_type": "code",
   "execution_count": 6,
   "metadata": {},
   "outputs": [
    {
     "name": "stdout",
     "output_type": "stream",
     "text": [
      "A tree with 1 leafs was created\n",
      "0.6300751879699248\n",
      "\n"
     ]
    }
   ],
   "source": [
    "it=gbt_titanic._initial_tree()\n",
    "utils.print_tree(it.tree)\n"
   ]
  },
  {
   "cell_type": "code",
   "execution_count": 7,
   "metadata": {},
   "outputs": [
    {
     "data": {
      "text/plain": [
       "<binarybeech.tree.Node at 0x24ac5a55f40>"
      ]
     },
     "execution_count": 7,
     "metadata": {},
     "output_type": "execute_result"
    }
   ],
   "source": [
    "it.tree.root"
   ]
  },
  {
   "cell_type": "code",
   "execution_count": 8,
   "metadata": {},
   "outputs": [
    {
     "name": "stdout",
     "output_type": "stream",
     "text": [
      "A tree with 1 leafs was created\n",
      "Norm of pseudo-residuals: 14.142295120601727\n",
      "A tree with 8 leafs was created\n",
      "4.95\t 0.4271\n",
      "Norm of pseudo-residuals: 10.312036692251672\n",
      "A tree with 8 leafs was created\n",
      "5.34\t 0.4273\n",
      "Norm of pseudo-residuals: 9.575477191128163\n",
      "A tree with 8 leafs was created\n",
      "4.16\t 0.4096\n",
      "Norm of pseudo-residuals: 9.218750841852557\n",
      "A tree with 8 leafs was created\n",
      "5.41\t 0.4005\n",
      "Norm of pseudo-residuals: 9.098556435244225\n",
      "A tree with 8 leafs was created\n",
      "2.87\t 0.4009\n",
      "Norm of pseudo-residuals: 9.072455462087303\n",
      "A tree with 8 leafs was created\n",
      "3.77\t 0.3898\n",
      "Norm of pseudo-residuals: 8.97313858611629\n",
      "A tree with 8 leafs was created\n",
      "2.70\t 0.3903\n",
      "Norm of pseudo-residuals: 8.955680789187637\n",
      "A tree with 8 leafs was created\n",
      "3.99\t 0.3827\n",
      "Norm of pseudo-residuals: 8.881753983035507\n",
      "A tree with 7 leafs was created\n",
      "3.17\t 0.3820\n",
      "Norm of pseudo-residuals: 8.855880905320925\n",
      "A tree with 8 leafs was created\n",
      "2.54\t 0.3773\n",
      "Norm of pseudo-residuals: 8.798408109743983\n",
      "A tree with 8 leafs was created\n",
      "2.06\t 0.3775\n",
      "Norm of pseudo-residuals: 8.793742374107755\n",
      "A tree with 8 leafs was created\n",
      "2.88\t 0.3742\n",
      "Norm of pseudo-residuals: 8.764689791639396\n",
      "A tree with 7 leafs was created\n",
      "1.26\t 0.3736\n",
      "Norm of pseudo-residuals: 8.754488728955977\n",
      "A tree with 5 leafs was created\n",
      "0.69\t 0.3738\n",
      "Norm of pseudo-residuals: 8.754666401132317\n",
      "A tree with 8 leafs was created\n",
      "2.11\t 0.3721\n",
      "Norm of pseudo-residuals: 8.730594340118653\n",
      "A tree with 8 leafs was created\n",
      "0.32\t 0.3725\n",
      "Norm of pseudo-residuals: 8.73167553383851\n",
      "A tree with 8 leafs was created\n",
      "3.52\t 0.3658\n",
      "Norm of pseudo-residuals: 8.651418832683056\n",
      "A tree with 6 leafs was created\n",
      "3.63\t 0.3649\n",
      "Norm of pseudo-residuals: 8.615703374859399\n",
      "A tree with 7 leafs was created\n",
      "0.86\t 0.3653\n",
      "Norm of pseudo-residuals: 8.616835627474385\n",
      "A tree with 8 leafs was created\n",
      "2.45\t 0.3640\n",
      "Norm of pseudo-residuals: 8.598330749502413\n",
      "A tree with 8 leafs was created\n",
      "1.50\t 0.3623\n",
      "Norm of pseudo-residuals: 8.577169348981267\n",
      "A tree with 7 leafs was created\n",
      "3.71\t 0.3600\n",
      "Norm of pseudo-residuals: 8.542950642500257\n",
      "A tree with 8 leafs was created\n",
      "2.39\t 0.3595\n",
      "Norm of pseudo-residuals: 8.53502649135768\n",
      "A tree with 6 leafs was created\n",
      "3.57\t 0.3586\n",
      "Norm of pseudo-residuals: 8.526618353285285\n",
      "A tree with 6 leafs was created\n",
      "1.52\t 0.3585\n",
      "Norm of pseudo-residuals: 8.523711717056667\n",
      "A tree with 8 leafs was created\n",
      "1.90\t 0.3576\n",
      "Norm of pseudo-residuals: 8.518058859384597\n",
      "A tree with 8 leafs was created\n",
      "1.61\t 0.3570\n",
      "Norm of pseudo-residuals: 8.50703770667105\n",
      "A tree with 7 leafs was created\n",
      "3.92\t 0.3542\n",
      "Norm of pseudo-residuals: 8.467577605592224\n",
      "A tree with 8 leafs was created\n",
      "2.48\t 0.3540\n",
      "Norm of pseudo-residuals: 8.45706137149533\n",
      "A tree with 6 leafs was created\n",
      "2.45\t 0.3532\n"
     ]
    }
   ],
   "source": [
    "\n",
    "gbt_titanic.train(30)\n"
   ]
  },
  {
   "cell_type": "code",
   "execution_count": 9,
   "metadata": {},
   "outputs": [
    {
     "data": {
      "text/plain": [
       "array([0.86197805])"
      ]
     },
     "execution_count": 9,
     "metadata": {},
     "output_type": "execute_result"
    }
   ],
   "source": [
    "\n",
    "gbt_titanic.predict(df_titanic.iloc[[0]])"
   ]
  },
  {
   "cell_type": "code",
   "execution_count": 10,
   "metadata": {},
   "outputs": [
    {
     "data": {
      "text/plain": [
       "{'precision': array([0.90930788, 0.7601626 ]),\n",
       " 'recall': array([0.86590909, 0.83111111]),\n",
       " 'F-score': 0.8405665996851126,\n",
       " 'accuracy': 0.8541353383458646}"
      ]
     },
     "execution_count": 10,
     "metadata": {},
     "output_type": "execute_result"
    }
   ],
   "source": [
    "\n",
    "gbt_titanic.validate()\n"
   ]
  }
 ],
 "metadata": {
  "kernelspec": {
   "display_name": "Python 3",
   "language": "python",
   "name": "python3"
  },
  "language_info": {
   "codemirror_mode": {
    "name": "ipython",
    "version": 3
   },
   "file_extension": ".py",
   "mimetype": "text/x-python",
   "name": "python",
   "nbconvert_exporter": "python",
   "pygments_lexer": "ipython3",
   "version": "3.8.3"
  }
 },
 "nbformat": 4,
 "nbformat_minor": 5
}
