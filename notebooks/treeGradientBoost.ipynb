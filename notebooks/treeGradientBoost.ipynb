{
 "cells": [
  {
   "cell_type": "code",
   "execution_count": 7,
   "metadata": {},
   "outputs": [],
   "source": [
    "try:\n",
    "    passes += 1\n",
    "except NameError:\n",
    "    %cd ..\n",
    "    passes = 1"
   ]
  },
  {
   "cell_type": "code",
   "execution_count": 8,
   "metadata": {},
   "outputs": [],
   "source": [
    "from binarybeech.binarybeech import *\n",
    "import binarybeech.visualize as viz"
   ]
  },
  {
   "cell_type": "code",
   "execution_count": 9,
   "metadata": {},
   "outputs": [],
   "source": [
    "df = pd.read_csv(\"data/titanic.csv\")\n",
    "df_titanic = df.sample(frac=0.75)\n",
    "df_test = df.loc[df.index.difference(df_titanic), :]"
   ]
  },
  {
   "cell_type": "code",
   "execution_count": 10,
   "metadata": {},
   "outputs": [
    {
     "name": "stdout",
     "output_type": "stream",
     "text": [
      "WARNING: {method} is not a registered method group. Chosing 'default'.\n"
     ]
    }
   ],
   "source": [
    "gbt_titanic = GradientBoostedTree(df=df_titanic, y_name=\"Survived\", learning_rate=0.5)"
   ]
  },
  {
   "cell_type": "code",
   "execution_count": 11,
   "metadata": {
    "tags": []
   },
   "outputs": [
    {
     "data": {
      "text/plain": [
       "['Pclass',\n",
       " 'Name',\n",
       " 'Sex',\n",
       " 'Age',\n",
       " 'Siblings/Spouses Aboard',\n",
       " 'Parents/Children Aboard',\n",
       " 'Fare']"
      ]
     },
     "execution_count": 11,
     "metadata": {},
     "output_type": "execute_result"
    }
   ],
   "source": [
    "gbt_titanic.X_names"
   ]
  },
  {
   "cell_type": "code",
   "execution_count": 12,
   "metadata": {},
   "outputs": [
    {
     "name": "stdout",
     "output_type": "stream",
     "text": [
      "A tree with 1 leafs was created\n",
      "0.6105263157894737\n",
      "\n"
     ]
    }
   ],
   "source": [
    "it = gbt_titanic._initial_tree()\n",
    "viz.print_tree(it.tree)"
   ]
  },
  {
   "cell_type": "code",
   "execution_count": 13,
   "metadata": {},
   "outputs": [
    {
     "data": {
      "text/plain": [
       "<binarybeech.tree.Node at 0x7f3c10216d30>"
      ]
     },
     "execution_count": 13,
     "metadata": {},
     "output_type": "execute_result"
    }
   ],
   "source": [
    "it.tree.root"
   ]
  },
  {
   "cell_type": "code",
   "execution_count": 14,
   "metadata": {},
   "outputs": [
    {
     "name": "stdout",
     "output_type": "stream",
     "text": [
      "A tree with 1 leafs was created\n",
      "WARNING: {method} is not a registered method group. Chosing 'default'.\n",
      "A tree with 8 leafs was created\n",
      "iter res_norm gamma sse      0\t13.81\t5.27\t0.43\t\n",
      "WARNING: {method} is not a registered method group. Chosing 'default'.\n",
      "A tree with 8 leafs was created\n",
      "     1\t10.33\t5.18\t0.42\t\n",
      "WARNING: {method} is not a registered method group. Chosing 'default'.\n",
      "A tree with 7 leafs was created\n",
      "     2\t9.47\t6.71\t0.40\t\n",
      "WARNING: {method} is not a registered method group. Chosing 'default'.\n",
      "A tree with 8 leafs was created\n",
      "     3\t9.08\t3.90\t0.38\t\n",
      "WARNING: {method} is not a registered method group. Chosing 'default'.\n",
      "A tree with 5 leafs was created\n",
      "     4\t8.88\t4.98\t0.38\t\n",
      "WARNING: {method} is not a registered method group. Chosing 'default'.\n",
      "A tree with 8 leafs was created\n",
      "     5\t8.78\t2.54\t0.38\t\n",
      "WARNING: {method} is not a registered method group. Chosing 'default'.\n",
      "A tree with 8 leafs was created\n",
      "     6\t8.74\t3.53\t0.37\t\n",
      "WARNING: {method} is not a registered method group. Chosing 'default'.\n",
      "A tree with 8 leafs was created\n",
      "     7\t8.70\t2.40\t0.37\t\n",
      "WARNING: {method} is not a registered method group. Chosing 'default'.\n",
      "A tree with 8 leafs was created\n",
      "     8\t8.67\t1.99\t0.37\t\n",
      "WARNING: {method} is not a registered method group. Chosing 'default'.\n",
      "A tree with 8 leafs was created\n",
      "     9\t8.64\t6.31\t0.36\t\n",
      "WARNING: {method} is not a registered method group. Chosing 'default'.\n",
      "A tree with 7 leafs was created\n",
      "    10\t8.54\t1.79\t0.36\t\n",
      "WARNING: {method} is not a registered method group. Chosing 'default'.\n",
      "A tree with 8 leafs was created\n",
      "    11\t8.53\t2.74\t0.36\t\n",
      "WARNING: {method} is not a registered method group. Chosing 'default'.\n",
      "A tree with 5 leafs was created\n",
      "    12\t8.53\t2.54\t0.36\t\n",
      "WARNING: {method} is not a registered method group. Chosing 'default'.\n",
      "A tree with 8 leafs was created\n",
      "    13\t8.52\t2.05\t0.35\t\n",
      "WARNING: {method} is not a registered method group. Chosing 'default'.\n",
      "A tree with 8 leafs was created\n",
      "    14\t8.50\t2.96\t0.35\t\n",
      "WARNING: {method} is not a registered method group. Chosing 'default'.\n",
      "A tree with 8 leafs was created\n",
      "    15\t8.45\t2.27\t0.35\t\n",
      "WARNING: {method} is not a registered method group. Chosing 'default'.\n",
      "A tree with 8 leafs was created\n",
      "    16\t8.43\t2.62\t0.34\t\n",
      "WARNING: {method} is not a registered method group. Chosing 'default'.\n",
      "A tree with 8 leafs was created\n",
      "    17\t8.37\t1.02\t0.34\t\n",
      "WARNING: {method} is not a registered method group. Chosing 'default'.\n",
      "A tree with 8 leafs was created\n",
      "    18\t8.36\t2.72\t0.34\t\n",
      "WARNING: {method} is not a registered method group. Chosing 'default'.\n",
      "A tree with 8 leafs was created\n",
      "    19\t8.35\t2.46\t0.34\t\n",
      "WARNING: {method} is not a registered method group. Chosing 'default'.\n",
      "A tree with 8 leafs was created\n",
      "    20\t8.29\t3.58\t0.34\t\n",
      "WARNING: {method} is not a registered method group. Chosing 'default'.\n",
      "A tree with 8 leafs was created\n",
      "    21\t8.28\t2.76\t0.34\t\n",
      "WARNING: {method} is not a registered method group. Chosing 'default'.\n",
      "A tree with 8 leafs was created\n",
      "iter res_norm gamma sse     22\t8.23\t1.91\t0.34\t\n",
      "WARNING: {method} is not a registered method group. Chosing 'default'.\n",
      "A tree with 8 leafs was created\n",
      "    23\t8.22\t2.99\t0.33\t\n",
      "WARNING: {method} is not a registered method group. Chosing 'default'.\n",
      "A tree with 8 leafs was created\n",
      "    24\t8.19\t2.94\t0.33\t\n",
      "WARNING: {method} is not a registered method group. Chosing 'default'.\n",
      "A tree with 6 leafs was created\n",
      "    25\t8.17\t3.69\t0.33\t\n",
      "WARNING: {method} is not a registered method group. Chosing 'default'.\n",
      "A tree with 8 leafs was created\n",
      "    26\t8.15\t2.82\t0.33\t\n",
      "WARNING: {method} is not a registered method group. Chosing 'default'.\n",
      "A tree with 7 leafs was created\n",
      "    27\t8.13\t1.98\t0.33\t\n",
      "WARNING: {method} is not a registered method group. Chosing 'default'.\n",
      "A tree with 8 leafs was created\n",
      "    28\t8.12\t4.15\t0.32\t\n",
      "WARNING: {method} is not a registered method group. Chosing 'default'.\n",
      "A tree with 7 leafs was created\n",
      "    29\t8.07\t2.29\t0.32\t\n"
     ]
    }
   ],
   "source": [
    "gbt_titanic.train(30)"
   ]
  },
  {
   "cell_type": "code",
   "execution_count": 15,
   "metadata": {},
   "outputs": [
    {
     "data": {
      "text/plain": [
       "array([0.96566313])"
      ]
     },
     "execution_count": 15,
     "metadata": {},
     "output_type": "execute_result"
    }
   ],
   "source": [
    "gbt_titanic.predict(df_titanic.iloc[[0]])"
   ]
  },
  {
   "cell_type": "code",
   "execution_count": 16,
   "metadata": {},
   "outputs": [
    {
     "data": {
      "text/plain": [
       "{'precision': array([0.91625616, 0.78764479]),\n",
       " 'recall': array([0.87119438, 0.85714286]),\n",
       " 'F-score': 0.8570414081125408,\n",
       " 'accuracy': 0.8661654135338346}"
      ]
     },
     "execution_count": 16,
     "metadata": {},
     "output_type": "execute_result"
    }
   ],
   "source": [
    "gbt_titanic.validate()"
   ]
  }
 ],
 "metadata": {
  "kernelspec": {
   "display_name": "Python 3",
   "language": "python",
   "name": "python3"
  },
  "language_info": {
   "codemirror_mode": {
    "name": "ipython",
    "version": 3
   },
   "file_extension": ".py",
   "mimetype": "text/x-python",
   "name": "python",
   "nbconvert_exporter": "python",
   "pygments_lexer": "ipython3",
   "version": "3.8.8"
  }
 },
 "nbformat": 4,
 "nbformat_minor": 5
}
