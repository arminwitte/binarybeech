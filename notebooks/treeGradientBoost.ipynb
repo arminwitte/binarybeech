{
 "cells": [
  {
   "cell_type": "code",
   "execution_count": 1,
   "metadata": {},
   "outputs": [
    {
     "name": "stdout",
     "output_type": "stream",
     "text": [
      "c:\\Users\\susanne\\git\\binarybeech\n"
     ]
    }
   ],
   "source": [
    "try:\n",
    "    passes += 1\n",
    "except NameError:\n",
    "    %cd ..\n",
    "    passes = 1"
   ]
  },
  {
   "cell_type": "code",
   "execution_count": 2,
   "metadata": {},
   "outputs": [],
   "source": [
    "from binarybeech.binarybeech import *\n",
    "import binarybeech.utils as utils"
   ]
  },
  {
   "cell_type": "code",
   "execution_count": 3,
   "metadata": {},
   "outputs": [],
   "source": [
    "df = pd.read_csv(\"data/titanic.csv\")\n",
    "df_titanic = df.sample(frac=0.75)\n",
    "df_test = df.loc[df.index.difference(df_titanic), :]"
   ]
  },
  {
   "cell_type": "code",
   "execution_count": 4,
   "metadata": {},
   "outputs": [],
   "source": [
    "gbt_titanic = GradientBoostedTree(df=df_titanic, y_name=\"Survived\", learning_rate=0.5)"
   ]
  },
  {
   "cell_type": "code",
   "execution_count": 5,
   "metadata": {
    "tags": []
   },
   "outputs": [
    {
     "data": {
      "text/plain": [
       "['Pclass',\n",
       " 'Name',\n",
       " 'Sex',\n",
       " 'Age',\n",
       " 'Siblings/Spouses Aboard',\n",
       " 'Parents/Children Aboard',\n",
       " 'Fare']"
      ]
     },
     "execution_count": 5,
     "metadata": {},
     "output_type": "execute_result"
    }
   ],
   "source": [
    "gbt_titanic.X_names"
   ]
  },
  {
   "cell_type": "code",
   "execution_count": 6,
   "metadata": {},
   "outputs": [
    {
     "name": "stdout",
     "output_type": "stream",
     "text": [
      "A tree with 1 leafs was created\n",
      "0.6195488721804512\n",
      "\n"
     ]
    }
   ],
   "source": [
    "it = gbt_titanic._initial_tree()\n",
    "utils.print_tree(it.tree)"
   ]
  },
  {
   "cell_type": "code",
   "execution_count": 7,
   "metadata": {},
   "outputs": [
    {
     "data": {
      "text/plain": [
       "<binarybeech.tree.Node at 0x2358601e850>"
      ]
     },
     "execution_count": 7,
     "metadata": {},
     "output_type": "execute_result"
    }
   ],
   "source": [
    "it.tree.root"
   ]
  },
  {
   "cell_type": "code",
   "execution_count": 8,
   "metadata": {},
   "outputs": [
    {
     "name": "stdout",
     "output_type": "stream",
     "text": [
      "A tree with 1 leafs was created\n",
      "A tree with 8 leafs was created\n",
      "iter res_norm gamma sse  - \t13.96\t4.99\t0.44\t\n",
      "A tree with 8 leafs was created\n",
      " - \t10.39\t5.28\t0.42\t\n",
      "A tree with 8 leafs was created\n",
      " - \t9.43\t7.02\t0.39\t\n",
      "A tree with 5 leafs was created\n",
      " - \t8.95\t5.01\t0.39\t\n",
      "A tree with 8 leafs was created\n",
      " - \t8.87\t3.91\t0.38\t\n",
      "A tree with 8 leafs was created\n",
      " - \t8.76\t4.07\t0.37\t\n",
      "A tree with 7 leafs was created\n",
      " - \t8.66\t3.07\t0.37\t\n",
      "A tree with 8 leafs was created\n",
      " - \t8.62\t3.73\t0.36\t\n",
      "A tree with 8 leafs was created\n",
      " - \t8.50\t5.72\t0.35\t\n",
      "A tree with 8 leafs was created\n",
      " - \t8.40\t2.82\t0.35\t\n",
      "A tree with 7 leafs was created\n",
      " - \t8.37\t5.59\t0.35\t\n",
      "A tree with 7 leafs was created\n",
      " - \t8.32\t2.04\t0.34\t\n",
      "A tree with 8 leafs was created\n",
      " - \t8.29\t3.59\t0.34\t\n",
      "A tree with 8 leafs was created\n",
      " - \t8.27\t1.79\t0.34\t\n",
      "A tree with 8 leafs was created\n",
      " - \t8.25\t3.68\t0.33\t\n",
      "A tree with 8 leafs was created\n",
      " - \t8.17\t2.46\t0.33\t\n",
      "A tree with 8 leafs was created\n",
      " - \t8.15\t3.01\t0.33\t\n",
      "A tree with 8 leafs was created\n",
      " - \t8.09\t3.23\t0.33\t\n",
      "A tree with 7 leafs was created\n",
      " - \t8.04\t2.30\t0.33\t\n",
      "A tree with 8 leafs was created\n",
      " - \t8.03\t2.70\t0.32\t\n",
      "A tree with 8 leafs was created\n",
      " - \t8.01\t1.72\t0.32\t\n",
      "A tree with 7 leafs was created\n",
      " - \t8.00\t2.53\t0.32\t\n",
      "A tree with 5 leafs was created\n",
      "iter res_norm gamma sse  - \t7.98\t2.51\t0.32\t\n",
      "A tree with 5 leafs was created\n",
      " - \t7.96\t1.43\t0.32\t\n",
      "A tree with 5 leafs was created\n",
      " - \t7.96\t0.70\t0.32\t\n",
      "A tree with 8 leafs was created\n",
      " - \t7.96\t3.05\t0.32\t\n",
      "A tree with 8 leafs was created\n",
      " - \t7.93\t3.62\t0.32\t\n",
      "A tree with 5 leafs was created\n",
      " - \t7.92\t3.87\t0.31\t\n",
      "A tree with 8 leafs was created\n",
      " - \t7.88\t0.42\t0.31\t\n",
      "A tree with 8 leafs was created\n",
      " - \t7.88\t2.53\t0.31\t\n"
     ]
    }
   ],
   "source": [
    "gbt_titanic.train(30)"
   ]
  },
  {
   "cell_type": "code",
   "execution_count": 9,
   "metadata": {},
   "outputs": [
    {
     "data": {
      "text/plain": [
       "array([0.04261325])"
      ]
     },
     "execution_count": 9,
     "metadata": {},
     "output_type": "execute_result"
    }
   ],
   "source": [
    "gbt_titanic.predict(df_titanic.iloc[[0]])"
   ]
  },
  {
   "cell_type": "code",
   "execution_count": 10,
   "metadata": {},
   "outputs": [
    {
     "data": {
      "text/plain": [
       "{'precision': array([0.90291262, 0.83794466]),\n",
       " 'recall': array([0.90072639, 0.84126984]),\n",
       " 'F-score': 0.8707110711071107,\n",
       " 'accuracy': 0.8781954887218045}"
      ]
     },
     "execution_count": 10,
     "metadata": {},
     "output_type": "execute_result"
    }
   ],
   "source": [
    "gbt_titanic.validate()"
   ]
  }
 ],
 "metadata": {
  "kernelspec": {
   "display_name": "Python 3",
   "language": "python",
   "name": "python3"
  },
  "language_info": {
   "codemirror_mode": {
    "name": "ipython",
    "version": 3
   },
   "file_extension": ".py",
   "mimetype": "text/x-python",
   "name": "python",
   "nbconvert_exporter": "python",
   "pygments_lexer": "ipython3",
   "version": "3.8.3"
  }
 },
 "nbformat": 4,
 "nbformat_minor": 5
}
