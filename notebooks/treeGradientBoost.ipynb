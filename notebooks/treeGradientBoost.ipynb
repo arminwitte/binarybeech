{
 "cells": [
  {
   "cell_type": "code",
   "execution_count": 1,
   "metadata": {},
   "outputs": [
    {
     "name": "stdout",
     "output_type": "stream",
     "text": [
      "c:\\Users\\susanne\\git\\binarybeech\n"
     ]
    }
   ],
   "source": [
    "try:\n",
    "    passes += 1\n",
    "except NameError:\n",
    "    %cd ..\n",
    "    passes = 1"
   ]
  },
  {
   "cell_type": "code",
   "execution_count": 2,
   "metadata": {},
   "outputs": [],
   "source": [
    "\n",
    "from binarybeech.binarybeech import *\n",
    "import binarybeech.utils as utils\n"
   ]
  },
  {
   "cell_type": "code",
   "execution_count": 3,
   "metadata": {},
   "outputs": [],
   "source": [
    "\n",
    "df = pd.read_csv(\"data/titanic.csv\")\n",
    "df_titanic = df.sample(frac=0.75)\n",
    "df_test = df.loc[df.index.difference(df_titanic),:]\n",
    "    "
   ]
  },
  {
   "cell_type": "code",
   "execution_count": 4,
   "metadata": {},
   "outputs": [],
   "source": [
    "\n",
    "gbt_titanic = GradientBoostedTree(df=df_titanic,y_name=\"Survived\",learning_rate=0.5)\n"
   ]
  },
  {
   "cell_type": "code",
   "execution_count": 5,
   "metadata": {
    "tags": []
   },
   "outputs": [
    {
     "data": {
      "text/plain": [
       "['Pclass',\n",
       " 'Name',\n",
       " 'Sex',\n",
       " 'Age',\n",
       " 'Siblings/Spouses Aboard',\n",
       " 'Parents/Children Aboard',\n",
       " 'Fare']"
      ]
     },
     "execution_count": 5,
     "metadata": {},
     "output_type": "execute_result"
    }
   ],
   "source": [
    "gbt_titanic.X_names"
   ]
  },
  {
   "cell_type": "code",
   "execution_count": 6,
   "metadata": {},
   "outputs": [
    {
     "name": "stdout",
     "output_type": "stream",
     "text": [
      "A tree with 1 leafs was created\n",
      "0.6165413533834586\n",
      "\n"
     ]
    }
   ],
   "source": [
    "it=gbt_titanic._initial_tree()\n",
    "utils.print_tree(it.tree)\n"
   ]
  },
  {
   "cell_type": "code",
   "execution_count": 7,
   "metadata": {},
   "outputs": [
    {
     "data": {
      "text/plain": [
       "<binarybeech.tree.Node at 0x1a70f391eb0>"
      ]
     },
     "execution_count": 7,
     "metadata": {},
     "output_type": "execute_result"
    }
   ],
   "source": [
    "it.tree.root"
   ]
  },
  {
   "cell_type": "code",
   "execution_count": 8,
   "metadata": {},
   "outputs": [
    {
     "name": "stdout",
     "output_type": "stream",
     "text": [
      "A tree with 1 leafs was created\n",
      "Norm of pseudo-residuals: 13.904886359177988\n",
      "A tree with 8 leafs was created\n",
      "5.12\t 0.4168\n",
      "Norm of pseudo-residuals: 10.119288922825572\n",
      "A tree with 7 leafs was created\n",
      "5.80\t 0.4251\n",
      "Norm of pseudo-residuals: 9.486008486510244\n",
      "A tree with 8 leafs was created\n",
      "7.20\t 0.3866\n",
      "Norm of pseudo-residuals: 8.951406814680766\n",
      "A tree with 8 leafs was created\n",
      "3.40\t 0.3891\n",
      "Norm of pseudo-residuals: 8.895022453092109\n",
      "A tree with 8 leafs was created\n",
      "5.60\t 0.3829\n",
      "Norm of pseudo-residuals: 8.82590221166365\n",
      "A tree with 8 leafs was created\n",
      "3.81\t 0.3805\n",
      "Norm of pseudo-residuals: 8.798988789666161\n",
      "A tree with 8 leafs was created\n",
      "4.78\t 0.3752\n",
      "Norm of pseudo-residuals: 8.746508475746056\n",
      "A tree with 7 leafs was created\n",
      "3.94\t 0.3741\n",
      "Norm of pseudo-residuals: 8.72412275541805\n",
      "A tree with 8 leafs was created\n",
      "3.63\t 0.3704\n",
      "Norm of pseudo-residuals: 8.689070512215237\n",
      "A tree with 7 leafs was created\n",
      "3.90\t 0.3643\n",
      "Norm of pseudo-residuals: 8.623120780209542\n",
      "A tree with 8 leafs was created\n",
      "3.79\t 0.3609\n",
      "Norm of pseudo-residuals: 8.567574217400297\n",
      "A tree with 8 leafs was created\n",
      "1.63\t 0.3612\n",
      "Norm of pseudo-residuals: 8.563432745514737\n",
      "A tree with 8 leafs was created\n",
      "3.02\t 0.3575\n",
      "Norm of pseudo-residuals: 8.526769441585369\n",
      "A tree with 8 leafs was created\n",
      "3.92\t 0.3522\n",
      "Norm of pseudo-residuals: 8.456667296933254\n",
      "A tree with 7 leafs was created\n",
      "2.69\t 0.3520\n",
      "Norm of pseudo-residuals: 8.434594402329646\n",
      "A tree with 7 leafs was created\n",
      "2.73\t 0.3502\n",
      "Norm of pseudo-residuals: 8.406598642734536\n",
      "A tree with 8 leafs was created\n",
      "5.66\t 0.3460\n",
      "Norm of pseudo-residuals: 8.355638254328252\n",
      "A tree with 8 leafs was created\n",
      "1.73\t 0.3459\n",
      "Norm of pseudo-residuals: 8.344495994830815\n",
      "A tree with 6 leafs was created\n",
      "2.70\t 0.3451\n",
      "Norm of pseudo-residuals: 8.33222661663104\n",
      "A tree with 8 leafs was created\n",
      "3.78\t 0.3415\n",
      "Norm of pseudo-residuals: 8.30006459758846\n",
      "A tree with 6 leafs was created\n",
      "2.58\t 0.3413\n",
      "Norm of pseudo-residuals: 8.289384278808358\n",
      "A tree with 8 leafs was created\n",
      "3.23\t 0.3370\n",
      "Norm of pseudo-residuals: 8.24774028172958\n",
      "A tree with 5 leafs was created\n",
      "4.62\t 0.3342\n",
      "Norm of pseudo-residuals: 8.203254486580573\n",
      "A tree with 8 leafs was created\n",
      "1.25\t 0.3347\n",
      "Norm of pseudo-residuals: 8.197443418501095\n",
      "A tree with 7 leafs was created\n",
      "1.90\t 0.3344\n",
      "Norm of pseudo-residuals: 8.194101387988942\n",
      "A tree with 8 leafs was created\n",
      "3.24\t 0.3323\n",
      "Norm of pseudo-residuals: 8.168415251052869\n",
      "A tree with 8 leafs was created\n",
      "2.09\t 0.3312\n",
      "Norm of pseudo-residuals: 8.142818153245507\n",
      "A tree with 8 leafs was created\n",
      "2.23\t 0.3298\n",
      "Norm of pseudo-residuals: 8.123304528744361\n",
      "A tree with 8 leafs was created\n",
      "3.70\t 0.3280\n",
      "Norm of pseudo-residuals: 8.0992626106723\n",
      "A tree with 8 leafs was created\n",
      "1.07\t 0.3283\n"
     ]
    }
   ],
   "source": [
    "\n",
    "gbt_titanic.train(30)\n"
   ]
  },
  {
   "cell_type": "code",
   "execution_count": 9,
   "metadata": {},
   "outputs": [
    {
     "data": {
      "text/plain": [
       "array([0.97557792])"
      ]
     },
     "execution_count": 9,
     "metadata": {},
     "output_type": "execute_result"
    }
   ],
   "source": [
    "\n",
    "gbt_titanic.predict(df_titanic.iloc[[0]])"
   ]
  },
  {
   "cell_type": "code",
   "execution_count": 10,
   "metadata": {},
   "outputs": [
    {
     "data": {
      "text/plain": [
       "{'precision': array([0.9195122 , 0.78431373]),\n",
       " 'recall': array([0.87268519, 0.8583691 ]),\n",
       " 'F-score': 0.8575795335072622,\n",
       " 'accuracy': 0.8676691729323308}"
      ]
     },
     "execution_count": 10,
     "metadata": {},
     "output_type": "execute_result"
    }
   ],
   "source": [
    "\n",
    "gbt_titanic.validate()\n"
   ]
  }
 ],
 "metadata": {
  "kernelspec": {
   "display_name": "Python 3",
   "language": "python",
   "name": "python3"
  },
  "language_info": {
   "codemirror_mode": {
    "name": "ipython",
    "version": 3
   },
   "file_extension": ".py",
   "mimetype": "text/x-python",
   "name": "python",
   "nbconvert_exporter": "python",
   "pygments_lexer": "ipython3",
   "version": "3.8.3"
  }
 },
 "nbformat": 4,
 "nbformat_minor": 5
}
