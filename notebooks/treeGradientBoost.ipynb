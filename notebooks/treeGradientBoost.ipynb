{
 "cells": [
  {
   "cell_type": "code",
   "execution_count": 1,
   "metadata": {},
   "outputs": [
    {
     "name": "stdout",
     "output_type": "stream",
     "text": [
      "c:\\Users\\susanne\\git\\binarybeech\n"
     ]
    }
   ],
   "source": [
    "try:\n",
    "    passes += 1\n",
    "except NameError:\n",
    "    %cd ..\n",
    "    passes = 1"
   ]
  },
  {
   "cell_type": "code",
   "execution_count": 2,
   "metadata": {},
   "outputs": [],
   "source": [
    "from binarybeech.binarybeech import *\n",
    "import binarybeech.utils as utils"
   ]
  },
  {
   "cell_type": "code",
   "execution_count": 3,
   "metadata": {},
   "outputs": [],
   "source": [
    "df = pd.read_csv(\"data/titanic.csv\")\n",
    "df_titanic = df.sample(frac=0.75)\n",
    "df_test = df.loc[df.index.difference(df_titanic), :]"
   ]
  },
  {
   "cell_type": "code",
   "execution_count": 4,
   "metadata": {},
   "outputs": [],
   "source": [
    "gbt_titanic = GradientBoostedTree(df=df_titanic, y_name=\"Survived\", learning_rate=0.5)"
   ]
  },
  {
   "cell_type": "code",
   "execution_count": 5,
   "metadata": {
    "tags": []
   },
   "outputs": [
    {
     "data": {
      "text/plain": [
       "['Pclass',\n",
       " 'Name',\n",
       " 'Sex',\n",
       " 'Age',\n",
       " 'Siblings/Spouses Aboard',\n",
       " 'Parents/Children Aboard',\n",
       " 'Fare']"
      ]
     },
     "execution_count": 5,
     "metadata": {},
     "output_type": "execute_result"
    }
   ],
   "source": [
    "gbt_titanic.X_names"
   ]
  },
  {
   "cell_type": "code",
   "execution_count": 6,
   "metadata": {},
   "outputs": [
    {
     "name": "stdout",
     "output_type": "stream",
     "text": [
      "A tree with 1 leafs was created\n",
      "0.606015037593985\n",
      "\n"
     ]
    }
   ],
   "source": [
    "it = gbt_titanic._initial_tree()\n",
    "utils.print_tree(it.tree)"
   ]
  },
  {
   "cell_type": "code",
   "execution_count": 7,
   "metadata": {},
   "outputs": [
    {
     "data": {
      "text/plain": [
       "<binarybeech.tree.Node at 0x222a7f861f0>"
      ]
     },
     "execution_count": 7,
     "metadata": {},
     "output_type": "execute_result"
    }
   ],
   "source": [
    "it.tree.root"
   ]
  },
  {
   "cell_type": "code",
   "execution_count": 8,
   "metadata": {},
   "outputs": [
    {
     "name": "stdout",
     "output_type": "stream",
     "text": [
      "A tree with 1 leafs was created\n",
      "A tree with 8 leafs was created\n",
      "iter res_norm gamma sse      0\t13.74\t5.58\t0.41\t\n",
      "A tree with 8 leafs was created\n",
      "     1\t10.03\t4.64\t0.42\t\n",
      "A tree with 8 leafs was created\n",
      "     2\t9.36\t3.74\t0.41\t\n",
      "A tree with 7 leafs was created\n",
      "     3\t9.19\t4.20\t0.40\t\n",
      "A tree with 8 leafs was created\n",
      "     4\t9.07\t5.34\t0.38\t\n",
      "A tree with 8 leafs was created\n",
      "     5\t8.86\t4.91\t0.38\t\n",
      "A tree with 8 leafs was created\n",
      "     6\t8.80\t4.79\t0.37\t\n",
      "A tree with 6 leafs was created\n",
      "     7\t8.70\t4.80\t0.37\t\n",
      "A tree with 8 leafs was created\n",
      "     8\t8.66\t1.89\t0.37\t\n",
      "A tree with 8 leafs was created\n",
      "     9\t8.63\t3.18\t0.37\t\n",
      "A tree with 7 leafs was created\n",
      "    10\t8.59\t3.43\t0.36\t\n",
      "A tree with 5 leafs was created\n",
      "    11\t8.53\t3.80\t0.36\t\n",
      "A tree with 8 leafs was created\n",
      "    12\t8.51\t4.89\t0.35\t\n",
      "A tree with 8 leafs was created\n",
      "    13\t8.45\t2.18\t0.35\t\n",
      "A tree with 8 leafs was created\n",
      "    14\t8.39\t1.70\t0.35\t\n",
      "A tree with 8 leafs was created\n",
      "    15\t8.38\t2.59\t0.35\t\n",
      "A tree with 8 leafs was created\n",
      "    16\t8.36\t3.70\t0.34\t\n",
      "A tree with 8 leafs was created\n",
      "    17\t8.31\t2.89\t0.34\t\n",
      "A tree with 7 leafs was created\n",
      "    18\t8.26\t2.93\t0.34\t\n",
      "A tree with 8 leafs was created\n",
      "    19\t8.25\t2.74\t0.34\t\n",
      "A tree with 7 leafs was created\n",
      "    20\t8.22\t2.94\t0.34\t\n",
      "A tree with 8 leafs was created\n",
      "    21\t8.19\t3.01\t0.33\t\n",
      "A tree with 8 leafs was created\n",
      "iter res_norm gamma sse     22\t8.18\t2.53\t0.33\t\n",
      "A tree with 7 leafs was created\n",
      "    23\t8.16\t1.73\t0.33\t\n",
      "A tree with 5 leafs was created\n",
      "    24\t8.15\t5.12\t0.33\t\n",
      "A tree with 5 leafs was created\n",
      "    25\t8.14\t4.18\t0.33\t\n",
      "A tree with 7 leafs was created\n",
      "    26\t8.12\t3.84\t0.33\t\n",
      "A tree with 6 leafs was created\n",
      "    27\t8.08\t2.97\t0.33\t\n",
      "A tree with 7 leafs was created\n",
      "    28\t8.05\t2.61\t0.33\t\n",
      "A tree with 8 leafs was created\n",
      "    29\t8.05\t4.89\t0.32\t\n"
     ]
    }
   ],
   "source": [
    "gbt_titanic.train(30)"
   ]
  },
  {
   "cell_type": "code",
   "execution_count": 9,
   "metadata": {},
   "outputs": [
    {
     "data": {
      "text/plain": [
       "array([0.13086655])"
      ]
     },
     "execution_count": 9,
     "metadata": {},
     "output_type": "execute_result"
    }
   ],
   "source": [
    "gbt_titanic.predict(df_titanic.iloc[[0]])"
   ]
  },
  {
   "cell_type": "code",
   "execution_count": 10,
   "metadata": {},
   "outputs": [
    {
     "data": {
      "text/plain": [
       "{'precision': array([0.92059553, 0.79770992]),\n",
       " 'recall': array([0.875     , 0.86721992]),\n",
       " 'F-score': 0.8641163899312708,\n",
       " 'accuracy': 0.8721804511278195}"
      ]
     },
     "execution_count": 10,
     "metadata": {},
     "output_type": "execute_result"
    }
   ],
   "source": [
    "gbt_titanic.validate()"
   ]
  }
 ],
 "metadata": {
  "kernelspec": {
   "display_name": "Python 3",
   "language": "python",
   "name": "python3"
  },
  "language_info": {
   "codemirror_mode": {
    "name": "ipython",
    "version": 3
   },
   "file_extension": ".py",
   "mimetype": "text/x-python",
   "name": "python",
   "nbconvert_exporter": "python",
   "pygments_lexer": "ipython3",
   "version": "3.8.3"
  }
 },
 "nbformat": 4,
 "nbformat_minor": 5
}
