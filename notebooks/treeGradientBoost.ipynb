{
 "cells": [
  {
   "cell_type": "code",
   "execution_count": null,
   "metadata": {},
   "outputs": [],
   "source": [
    "%cd .."
   ]
  },
  {
   "cell_type": "code",
   "execution_count": 2,
   "metadata": {},
   "outputs": [],
   "source": [
    "\n",
    "from binarybeech.binarybeech import *\n",
    "import binarybeech.utils as utils\n"
   ]
  },
  {
   "cell_type": "code",
   "execution_count": 3,
   "metadata": {},
   "outputs": [],
   "source": [
    "\n",
    "df = pd.read_csv(\"data/titanic.csv\")\n",
    "df_titanic = df.sample(frac=0.75)\n",
    "df_test = df.loc[df.index.difference(df_titanic),:]\n",
    "    "
   ]
  },
  {
   "cell_type": "code",
   "execution_count": 4,
   "metadata": {},
   "outputs": [],
   "source": [
    "\n",
    "gbt_titanic = GradientBoostedTree(df_titanic,\"Survived\",learning_rate=0.5)\n"
   ]
  },
  {
   "cell_type": "code",
   "execution_count": 5,
   "metadata": {
    "tags": []
   },
   "outputs": [
    {
     "data": {
      "text/plain": [
       "['Pclass',\n",
       " 'Name',\n",
       " 'Sex',\n",
       " 'Age',\n",
       " 'Siblings/Spouses Aboard',\n",
       " 'Parents/Children Aboard',\n",
       " 'Fare']"
      ]
     },
     "execution_count": 5,
     "metadata": {},
     "output_type": "execute_result"
    }
   ],
   "source": [
    "gbt_titanic.X_names"
   ]
  },
  {
   "cell_type": "code",
   "execution_count": 6,
   "metadata": {},
   "outputs": [
    {
     "name": "stdout",
     "output_type": "stream",
     "text": [
      "A tree with 1 leafs was created\n",
      "0.3849624060150376\n",
      "\n"
     ]
    }
   ],
   "source": [
    "it=gbt_titanic._initial_tree()\n",
    "utils.print_tree(it.tree)\n"
   ]
  },
  {
   "cell_type": "code",
   "execution_count": 7,
   "metadata": {},
   "outputs": [
    {
     "data": {
      "text/plain": [
       "<binarybeech.tree.Node at 0x2b4b0268f10>"
      ]
     },
     "execution_count": 7,
     "metadata": {},
     "output_type": "execute_result"
    }
   ],
   "source": [
    "it.tree.root"
   ]
  },
  {
   "cell_type": "code",
   "execution_count": 8,
   "metadata": {},
   "outputs": [
    {
     "name": "stdout",
     "output_type": "stream",
     "text": [
      "A tree with 1 leafs was created\n",
      "Norm of pseudo-residuals: 12.547893212015728\n",
      "A tree with 8 leafs was created\n",
      "5.22\t 0.4388\n",
      "Norm of pseudo-residuals: 10.052713244508524\n",
      "A tree with 8 leafs was created\n",
      "6.43\t 0.4065\n",
      "Norm of pseudo-residuals: 9.295711095471987\n",
      "A tree with 8 leafs was created\n",
      "5.80\t 0.3755\n",
      "Norm of pseudo-residuals: 8.789155588304993\n",
      "A tree with 8 leafs was created\n",
      "5.70\t 0.3801\n",
      "Norm of pseudo-residuals: 8.744318220445248\n",
      "A tree with 8 leafs was created\n",
      "4.24\t 0.3703\n",
      "Norm of pseudo-residuals: 8.646626853909597\n",
      "A tree with 8 leafs was created\n",
      "4.81\t 0.3628\n",
      "Norm of pseudo-residuals: 8.56285923628523\n",
      "A tree with 8 leafs was created\n",
      "3.41\t 0.3599\n",
      "Norm of pseudo-residuals: 8.521472981296968\n",
      "A tree with 8 leafs was created\n",
      "3.07\t 0.3557\n",
      "Norm of pseudo-residuals: 8.461411719826854\n",
      "A tree with 8 leafs was created\n",
      "2.08\t 0.3554\n",
      "Norm of pseudo-residuals: 8.44799646699494\n",
      "A tree with 7 leafs was created\n",
      "2.08\t 0.3536\n",
      "Norm of pseudo-residuals: 8.430770555919727\n",
      "A tree with 5 leafs was created\n",
      "6.94\t 0.3498\n",
      "Norm of pseudo-residuals: 8.38844106755271\n",
      "A tree with 8 leafs was created\n",
      "1.65\t 0.3504\n",
      "Norm of pseudo-residuals: 8.381682494219335\n",
      "A tree with 8 leafs was created\n",
      "2.74\t 0.3473\n",
      "Norm of pseudo-residuals: 8.359467534309191\n",
      "A tree with 8 leafs was created\n",
      "3.01\t 0.3447\n",
      "Norm of pseudo-residuals: 8.323890576117524\n",
      "A tree with 8 leafs was created\n",
      "4.40\t 0.3432\n",
      "Norm of pseudo-residuals: 8.304880689542127\n",
      "A tree with 7 leafs was created\n",
      "2.34\t 0.3414\n",
      "Norm of pseudo-residuals: 8.285538347088213\n",
      "A tree with 8 leafs was created\n",
      "2.89\t 0.3383\n",
      "Norm of pseudo-residuals: 8.24075687168241\n",
      "A tree with 8 leafs was created\n",
      "2.29\t 0.3378\n",
      "Norm of pseudo-residuals: 8.228442574879521\n",
      "A tree with 7 leafs was created\n",
      "3.44\t 0.3357\n",
      "Norm of pseudo-residuals: 8.199192615106917\n",
      "A tree with 7 leafs was created\n",
      "2.61\t 0.3352\n",
      "Norm of pseudo-residuals: 8.186179290377801\n",
      "A tree with 7 leafs was created\n",
      "3.00\t 0.3339\n",
      "Norm of pseudo-residuals: 8.17377532390794\n",
      "A tree with 8 leafs was created\n",
      "2.50\t 0.3317\n",
      "Norm of pseudo-residuals: 8.148029552058926\n",
      "A tree with 8 leafs was created\n",
      "3.32\t 0.3300\n",
      "Norm of pseudo-residuals: 8.129538109023992\n",
      "A tree with 8 leafs was created\n",
      "2.40\t 0.3288\n",
      "Norm of pseudo-residuals: 8.112436734715365\n",
      "A tree with 8 leafs was created\n",
      "1.87\t 0.3273\n",
      "Norm of pseudo-residuals: 8.087226382653547\n",
      "A tree with 8 leafs was created\n",
      "4.08\t 0.3240\n",
      "Norm of pseudo-residuals: 8.055474066989744\n",
      "A tree with 8 leafs was created\n",
      "1.79\t 0.3243\n",
      "Norm of pseudo-residuals: 8.050964304937684\n",
      "A tree with 8 leafs was created\n",
      "1.86\t 0.3232\n",
      "Norm of pseudo-residuals: 8.037666108818932\n",
      "A tree with 8 leafs was created\n",
      "3.21\t 0.3219\n",
      "Norm of pseudo-residuals: 8.014981262977175\n",
      "A tree with 8 leafs was created\n",
      "2.97\t 0.3207\n"
     ]
    }
   ],
   "source": [
    "\n",
    "gbt_titanic.train(30)\n"
   ]
  },
  {
   "cell_type": "code",
   "execution_count": 9,
   "metadata": {},
   "outputs": [
    {
     "data": {
      "text/plain": [
       "array([0.0957564])"
      ]
     },
     "execution_count": 9,
     "metadata": {},
     "output_type": "execute_result"
    }
   ],
   "source": [
    "\n",
    "gbt_titanic.predict(df_titanic.iloc[[0]])"
   ]
  },
  {
   "cell_type": "code",
   "execution_count": 10,
   "metadata": {},
   "outputs": [
    {
     "data": {
      "text/plain": [
       "{'precision': array([0.90220049, 0.81640625]),\n",
       " 'recall': array([0.88701923, 0.83935743]),\n",
       " 'F-score': 0.861134113411341,\n",
       " 'accuracy': 0.869172932330827}"
      ]
     },
     "execution_count": 10,
     "metadata": {},
     "output_type": "execute_result"
    }
   ],
   "source": [
    "\n",
    "gbt_titanic.validate()\n"
   ]
  }
 ],
 "metadata": {
  "kernelspec": {
   "display_name": "Python 3",
   "language": "python",
   "name": "python3"
  },
  "language_info": {
   "codemirror_mode": {
    "name": "ipython",
    "version": 3
   },
   "file_extension": ".py",
   "mimetype": "text/x-python",
   "name": "python",
   "nbconvert_exporter": "python",
   "pygments_lexer": "ipython3",
   "version": "3.8.3"
  }
 },
 "nbformat": 4,
 "nbformat_minor": 5
}
