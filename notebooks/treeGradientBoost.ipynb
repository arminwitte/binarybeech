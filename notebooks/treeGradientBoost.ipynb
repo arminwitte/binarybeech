{
 "cells": [
  {
   "cell_type": "code",
   "execution_count": 1,
   "metadata": {},
   "outputs": [
    {
     "name": "stdout",
     "output_type": "stream",
     "text": [
      "c:\\Users\\susanne\\git\\binarybeech\n"
     ]
    }
   ],
   "source": [
    "try:\n",
    "    passes += 1\n",
    "except NameError:\n",
    "    %cd ..\n",
    "    passes = 1"
   ]
  },
  {
   "cell_type": "code",
   "execution_count": 2,
   "metadata": {},
   "outputs": [],
   "source": [
    "from binarybeech.binarybeech import *\n",
    "import binarybeech.visualize as viz"
   ]
  },
  {
   "cell_type": "code",
   "execution_count": 3,
   "metadata": {},
   "outputs": [],
   "source": [
    "df = pd.read_csv(\"data/titanic.csv\")\n",
    "df_titanic = df.sample(frac=0.75)\n",
    "df_test = df.loc[df.index.difference(df_titanic), :]"
   ]
  },
  {
   "cell_type": "code",
   "execution_count": 4,
   "metadata": {},
   "outputs": [],
   "source": [
    "gbt_titanic = GradientBoostedTree(df=df_titanic, y_name=\"Survived\", learning_rate=0.5)"
   ]
  },
  {
   "cell_type": "code",
   "execution_count": 5,
   "metadata": {
    "tags": []
   },
   "outputs": [
    {
     "data": {
      "text/plain": [
       "['Pclass',\n",
       " 'Name',\n",
       " 'Sex',\n",
       " 'Age',\n",
       " 'Siblings/Spouses Aboard',\n",
       " 'Parents/Children Aboard',\n",
       " 'Fare']"
      ]
     },
     "execution_count": 5,
     "metadata": {},
     "output_type": "execute_result"
    }
   ],
   "source": [
    "gbt_titanic.X_names"
   ]
  },
  {
   "cell_type": "code",
   "execution_count": 6,
   "metadata": {},
   "outputs": [
    {
     "name": "stdout",
     "output_type": "stream",
     "text": [
      "0.6120300751879699\n",
      "\n"
     ]
    }
   ],
   "source": [
    "it = gbt_titanic._initial_tree()\n",
    "viz.print_tree(it.tree)"
   ]
  },
  {
   "cell_type": "code",
   "execution_count": 7,
   "metadata": {},
   "outputs": [
    {
     "data": {
      "text/plain": [
       "<binarybeech.tree.Node at 0x1a1be1c0fa0>"
      ]
     },
     "execution_count": 7,
     "metadata": {},
     "output_type": "execute_result"
    }
   ],
   "source": [
    "it.tree.root"
   ]
  },
  {
   "cell_type": "code",
   "execution_count": 8,
   "metadata": {},
   "outputs": [
    {
     "name": "stdout",
     "output_type": "stream",
     "text": [
      "iter res_norm gamma sse \n",
      "     0\t13.83\t5.41\t0.40\t\n",
      "     1\t9.82\t6.23\t0.40\t\n",
      "     2\t9.19\t5.02\t0.39\t\n",
      "     3\t8.98\t5.37\t0.38\t\n",
      "     4\t8.86\t4.23\t0.37\t\n",
      "     5\t8.72\t3.49\t0.37\t\n",
      "     6\t8.65\t2.88\t0.37\t\n",
      "     7\t8.60\t4.70\t0.36\t\n",
      "     8\t8.55\t2.61\t0.36\t\n",
      "     9\t8.51\t3.76\t0.35\t\n",
      "    10\t8.37\t3.46\t0.34\t\n",
      "    11\t8.30\t3.18\t0.34\t\n",
      "    12\t8.26\t4.25\t0.34\t\n",
      "    13\t8.21\t4.95\t0.33\t\n",
      "    14\t8.16\t1.41\t0.33\t\n",
      "    15\t8.15\t2.93\t0.33\t\n",
      "    16\t8.10\t2.47\t0.33\t\n",
      "    17\t8.09\t3.07\t0.33\t\n",
      "    18\t8.08\t3.31\t0.33\t\n",
      "    19\t8.03\t4.12\t0.32\t\n",
      "    20\t8.00\t2.24\t0.32\t\n",
      "iter res_norm gamma sse \n",
      "    21\t7.98\t2.36\t0.32\t\n",
      "    22\t7.95\t1.81\t0.32\t\n",
      "    23\t7.95\t3.50\t0.32\t\n",
      "    24\t7.93\t2.08\t0.32\t\n",
      "    25\t7.93\t1.93\t0.32\t\n",
      "    26\t7.92\t3.09\t0.31\t\n",
      "    27\t7.86\t3.05\t0.31\t\n",
      "    28\t7.83\t2.89\t0.31\t\n",
      "    29\t7.79\t2.47\t0.31\t\n"
     ]
    }
   ],
   "source": [
    "gbt_titanic.train(30)"
   ]
  },
  {
   "cell_type": "code",
   "execution_count": 9,
   "metadata": {},
   "outputs": [
    {
     "data": {
      "text/plain": [
       "array([0.09224113])"
      ]
     },
     "execution_count": 9,
     "metadata": {},
     "output_type": "execute_result"
    }
   ],
   "source": [
    "gbt_titanic.predict(df_titanic.iloc[[0]])"
   ]
  },
  {
   "cell_type": "code",
   "execution_count": 10,
   "metadata": {},
   "outputs": [
    {
     "data": {
      "text/plain": [
       "{'precision': array([0.90909091, 0.8255814 ]),\n",
       " 'recall': array([0.89156627, 0.852     ]),\n",
       " 'F-score': 0.8694129930838936,\n",
       " 'accuracy': 0.8766917293233083}"
      ]
     },
     "execution_count": 10,
     "metadata": {},
     "output_type": "execute_result"
    }
   ],
   "source": [
    "gbt_titanic.validate()"
   ]
  }
 ],
 "metadata": {
  "kernelspec": {
   "display_name": "Python 3",
   "language": "python",
   "name": "python3"
  },
  "language_info": {
   "codemirror_mode": {
    "name": "ipython",
    "version": 3
   },
   "file_extension": ".py",
   "mimetype": "text/x-python",
   "name": "python",
   "nbconvert_exporter": "python",
   "pygments_lexer": "ipython3",
   "version": "3.8.3"
  }
 },
 "nbformat": 4,
 "nbformat_minor": 5
}
