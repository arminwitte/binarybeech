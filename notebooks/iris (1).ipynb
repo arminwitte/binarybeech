{
 "cells": [
  {
   "cell_type": "code",
   "execution_count": 52,
   "metadata": {},
   "outputs": [],
   "source": [
    "try:\n",
    "    passes += 1\n",
    "except NameError:\n",
    "    %cd ..\n",
    "    passes = 1"
   ]
  },
  {
   "cell_type": "code",
   "execution_count": 53,
   "metadata": {},
   "outputs": [],
   "source": [
    "import pandas as pd\n",
    "import numpy as np\n",
    "import binarybeech.binarybeech as bb\n",
    "import binarybeech.plot as plot\n",
    "import logging\n",
    "logging.basicConfig(level=logging.INFO)\n"
   ]
  },
  {
   "cell_type": "markdown",
   "metadata": {},
   "source": [
    "Iris dataset\n",
    "=="
   ]
  },
  {
   "cell_type": "code",
   "execution_count": 54,
   "metadata": {},
   "outputs": [],
   "source": [
    "df_iris=pd.read_csv(\"data/iris.csv\")"
   ]
  },
  {
   "cell_type": "code",
   "execution_count": 55,
   "metadata": {
    "jupyter": {
     "source_hidden": true
    },
    "tags": []
   },
   "outputs": [
    {
     "data": {
      "text/html": [
       "<div>\n",
       "<style scoped>\n",
       "    .dataframe tbody tr th:only-of-type {\n",
       "        vertical-align: middle;\n",
       "    }\n",
       "\n",
       "    .dataframe tbody tr th {\n",
       "        vertical-align: top;\n",
       "    }\n",
       "\n",
       "    .dataframe thead th {\n",
       "        text-align: right;\n",
       "    }\n",
       "</style>\n",
       "<table border=\"1\" class=\"dataframe\">\n",
       "  <thead>\n",
       "    <tr style=\"text-align: right;\">\n",
       "      <th></th>\n",
       "      <th>petal_length</th>\n",
       "      <th>petal_width</th>\n",
       "    </tr>\n",
       "  </thead>\n",
       "  <tbody>\n",
       "    <tr>\n",
       "      <th>0</th>\n",
       "      <td>1.4</td>\n",
       "      <td>0.2</td>\n",
       "    </tr>\n",
       "    <tr>\n",
       "      <th>1</th>\n",
       "      <td>1.4</td>\n",
       "      <td>0.2</td>\n",
       "    </tr>\n",
       "    <tr>\n",
       "      <th>2</th>\n",
       "      <td>1.3</td>\n",
       "      <td>0.2</td>\n",
       "    </tr>\n",
       "    <tr>\n",
       "      <th>3</th>\n",
       "      <td>1.5</td>\n",
       "      <td>0.2</td>\n",
       "    </tr>\n",
       "    <tr>\n",
       "      <th>4</th>\n",
       "      <td>1.4</td>\n",
       "      <td>0.2</td>\n",
       "    </tr>\n",
       "    <tr>\n",
       "      <th>...</th>\n",
       "      <td>...</td>\n",
       "      <td>...</td>\n",
       "    </tr>\n",
       "    <tr>\n",
       "      <th>145</th>\n",
       "      <td>5.2</td>\n",
       "      <td>2.3</td>\n",
       "    </tr>\n",
       "    <tr>\n",
       "      <th>146</th>\n",
       "      <td>5.0</td>\n",
       "      <td>1.9</td>\n",
       "    </tr>\n",
       "    <tr>\n",
       "      <th>147</th>\n",
       "      <td>5.2</td>\n",
       "      <td>2.0</td>\n",
       "    </tr>\n",
       "    <tr>\n",
       "      <th>148</th>\n",
       "      <td>5.4</td>\n",
       "      <td>2.3</td>\n",
       "    </tr>\n",
       "    <tr>\n",
       "      <th>149</th>\n",
       "      <td>5.1</td>\n",
       "      <td>1.8</td>\n",
       "    </tr>\n",
       "  </tbody>\n",
       "</table>\n",
       "<p>150 rows × 2 columns</p>\n",
       "</div>"
      ],
      "text/plain": [
       "     petal_length  petal_width\n",
       "0             1.4          0.2\n",
       "1             1.4          0.2\n",
       "2             1.3          0.2\n",
       "3             1.5          0.2\n",
       "4             1.4          0.2\n",
       "..            ...          ...\n",
       "145           5.2          2.3\n",
       "146           5.0          1.9\n",
       "147           5.2          2.0\n",
       "148           5.4          2.3\n",
       "149           5.1          1.8\n",
       "\n",
       "[150 rows x 2 columns]"
      ]
     },
     "execution_count": 55,
     "metadata": {},
     "output_type": "execute_result"
    }
   ],
   "source": [
    "df_iris.columns\n",
    "X_names=[\"petal_length\",\"petal_width\"]\n",
    "df_iris[X_names]"
   ]
  },
  {
   "cell_type": "code",
   "execution_count": 56,
   "metadata": {},
   "outputs": [
    {
     "name": "stdout",
     "output_type": "stream",
     "text": [
      "A tree with 12 leafs was created\n"
     ]
    },
    {
     "data": {
      "text/plain": [
       "<binarybeech.tree.Tree at 0x7f1d14cd7160>"
      ]
     },
     "execution_count": 56,
     "metadata": {},
     "output_type": "execute_result"
    }
   ],
   "source": [
    "\n",
    "c_iris = bb.CART(df=df_iris,y_name=\"species\",metrics_type=\"classification\")\n",
    "c_iris.create_tree()\n"
   ]
  },
  {
   "cell_type": "code",
   "execution_count": 57,
   "metadata": {},
   "outputs": [
    {
     "data": {
      "text/plain": [
       "'setosa'"
      ]
     },
     "execution_count": 57,
     "metadata": {},
     "output_type": "execute_result"
    }
   ],
   "source": [
    "c_iris.tree.traverse(df_iris.iloc[0]).value"
   ]
  },
  {
   "cell_type": "code",
   "execution_count": 58,
   "metadata": {},
   "outputs": [
    {
     "data": {
      "text/plain": [
       "{'N': 50, 'r': 0.0, 'R': 0.0}"
      ]
     },
     "execution_count": 58,
     "metadata": {},
     "output_type": "execute_result"
    }
   ],
   "source": [
    "c_iris.tree.root.branches[0].pinfo\n"
   ]
  },
  {
   "cell_type": "code",
   "execution_count": 59,
   "metadata": {},
   "outputs": [
    {
     "data": {
      "text/plain": [
       "{'alpha': [0,\n",
       "  0.0022222222222222205,\n",
       "  0.006666666666666657,\n",
       "  0.006666666666666668,\n",
       "  0.006666666666666676,\n",
       "  0.006666666666666677,\n",
       "  0.2866666666666666],\n",
       " 'R': [0.006666666666666662,\n",
       "  0.013333333333333319,\n",
       "  0.026666666666666655,\n",
       "  0.03333333333333333,\n",
       "  0.04666666666666668,\n",
       "  0.3333333333333333,\n",
       "  0.6666666666666667],\n",
       " 'n_leafs': [9, 8, 6, 5, 3, 2, 1]}"
      ]
     },
     "execution_count": 59,
     "metadata": {},
     "output_type": "execute_result"
    }
   ],
   "source": [
    "c_iris.prune()\n"
   ]
  },
  {
   "cell_type": "code",
   "execution_count": 60,
   "metadata": {},
   "outputs": [
    {
     "name": "stdout",
     "output_type": "stream",
     "text": [
      "A tree with 12 leafs was created\n"
     ]
    },
    {
     "data": {
      "text/plain": [
       "{'alpha': [0], 'R': [0.006666666666666662], 'n_leafs': [9]}"
      ]
     },
     "execution_count": 60,
     "metadata": {},
     "output_type": "execute_result"
    }
   ],
   "source": [
    "c_iris.create_tree()\n",
    "c_iris.prune(alpha_max = 2e-3)\n"
   ]
  },
  {
   "cell_type": "code",
   "execution_count": 61,
   "metadata": {},
   "outputs": [
    {
     "data": {
      "text/plain": [
       "<matplotlib.collections.PathCollection at 0x7f1d142c7eb0>"
      ]
     },
     "execution_count": 61,
     "metadata": {},
     "output_type": "execute_result"
    },
    {
     "data": {
      "image/png": "[encoded data removed]",
      "text/plain": [
       "<Figure size 640x480 with 1 Axes>"
      ]
     },
     "metadata": {},
     "output_type": "display_data"
    }
   ],
   "source": [
    "import matplotlib.pyplot as plt\n",
    "colors = {\"setosa\":\"red\", \"versicolor\":\"blue\", \"virginica\":\"green\"}\n",
    "plt.scatter(df_iris[\"petal_length\"],df_iris[\"petal_width\"],c=df_iris[\"species\"].map(colors))\n"
   ]
  },
  {
   "cell_type": "code",
   "execution_count": 62,
   "metadata": {},
   "outputs": [],
   "source": [
    "\n",
    "x, y = np.meshgrid(np.linspace(1,7,11),np.linspace(0,2.5,11))\n",
    "col = []\n",
    "for i in range(len(x.ravel())):\n",
    "    d = df_iris.iloc[120].copy()\n",
    "    d[\"petal_length\"] = x.ravel()[i]\n",
    "    d[\"petal_width\"] = y.ravel()[i]\n",
    "    col.append(c_iris.tree.traverse(d).value)\n",
    "for i in range(len(col)):\n",
    "    if col[i] == \"setosa\":\n",
    "        col[i] = 0\n",
    "    if col[i] == \"versicolor\":\n",
    "        col[i] = 1\n",
    "    if col[i] == \"virginica\":\n",
    "        col[i] = 2\n",
    "z = np.array(col).reshape(x.shape)"
   ]
  },
  {
   "cell_type": "code",
   "execution_count": 63,
   "metadata": {},
   "outputs": [
    {
     "data": {
      "text/plain": [
       "<matplotlib.collections.PathCollection at 0x7f1d14339fc0>"
      ]
     },
     "execution_count": 63,
     "metadata": {},
     "output_type": "execute_result"
    },
    {
     "data": {
      "image/png": "[encoded data removed]",
      "text/plain": [
       "<Figure size 640x480 with 1 Axes>"
      ]
     },
     "metadata": {},
     "output_type": "display_data"
    }
   ],
   "source": [
    "fig, ax = plt.subplots()\n",
    "ax.pcolormesh(x,y,z)\n",
    "ax.scatter(df_iris[\"petal_length\"],df_iris[\"petal_width\"],c=df_iris[\"species\"].map(colors))"
   ]
  },
  {
   "cell_type": "code",
   "execution_count": 64,
   "metadata": {},
   "outputs": [
    {
     "data": {
      "text/plain": [
       "{'precision': array([1.  , 0.98, 1.  ]),\n",
       " 'recall': array([1.        , 1.        , 0.98039216]),\n",
       " 'F-score': 0.9933326665999934,\n",
       " 'accuracy': 0.9933333333333333}"
      ]
     },
     "execution_count": 64,
     "metadata": {},
     "output_type": "execute_result"
    }
   ],
   "source": [
    "c_iris.validate()"
   ]
  },
  {
   "cell_type": "code",
   "execution_count": 65,
   "metadata": {},
   "outputs": [
    {
     "name": "stdout",
     "output_type": "stream",
     "text": [
      "A tree with 12 leafs was created\n",
      "A tree with 10 leafs was created\n",
      "A tree with 9 leafs was created\n",
      "A tree with 8 leafs was created\n",
      "A tree with 10 leafs was created\n"
     ]
    },
    {
     "name": "stderr",
     "output_type": "stream",
     "text": [
      "INFO:binarybeech.binarybeech:beta_best: 0.006666666666666676\n"
     ]
    },
    {
     "name": "stdout",
     "output_type": "stream",
     "text": [
      "A tree with 10 leafs was created\n",
      "A tree with 12 leafs was created\n",
      "A tree with 12 leafs was created\n",
      "A tree with 11 leafs was created\n",
      "A tree with 10 leafs was created\n",
      "A tree with 11 leafs was created\n",
      "A tree with 7 leafs was created\n"
     ]
    },
    {
     "name": "stderr",
     "output_type": "stream",
     "text": [
      "INFO:binarybeech.binarybeech:beta_best: 0.006666666666666676\n"
     ]
    },
    {
     "name": "stdout",
     "output_type": "stream",
     "text": [
      "A tree with 9 leafs was created\n",
      "A tree with 12 leafs was created\n",
      "A tree with 12 leafs was created\n",
      "A tree with 9 leafs was created\n",
      "A tree with 9 leafs was created\n",
      "A tree with 8 leafs was created\n",
      "A tree with 7 leafs was created\n"
     ]
    },
    {
     "name": "stderr",
     "output_type": "stream",
     "text": [
      "INFO:binarybeech.binarybeech:beta_best: 0.006666666666666676\n"
     ]
    },
    {
     "name": "stdout",
     "output_type": "stream",
     "text": [
      "A tree with 10 leafs was created\n",
      "A tree with 12 leafs was created\n",
      "A tree with 12 leafs was created\n",
      "A tree with 10 leafs was created\n",
      "A tree with 7 leafs was created\n",
      "A tree with 10 leafs was created\n",
      "A tree with 9 leafs was created\n"
     ]
    },
    {
     "name": "stderr",
     "output_type": "stream",
     "text": [
      "INFO:binarybeech.binarybeech:beta_best: 0.006666666666666676\n"
     ]
    },
    {
     "name": "stdout",
     "output_type": "stream",
     "text": [
      "A tree with 9 leafs was created\n",
      "A tree with 12 leafs was created\n",
      "A tree with 12 leafs was created\n",
      "A tree with 5 leafs was created\n",
      "A tree with 13 leafs was created\n",
      "A tree with 10 leafs was created\n",
      "A tree with 11 leafs was created\n"
     ]
    },
    {
     "name": "stderr",
     "output_type": "stream",
     "text": [
      "INFO:binarybeech.binarybeech:beta_best: 0.006666666666666676\n"
     ]
    },
    {
     "name": "stdout",
     "output_type": "stream",
     "text": [
      "A tree with 11 leafs was created\n",
      "A tree with 12 leafs was created\n",
      "A tree with 12 leafs was created\n",
      "A tree with 9 leafs was created\n",
      "A tree with 8 leafs was created\n",
      "A tree with 10 leafs was created\n",
      "A tree with 8 leafs was created\n"
     ]
    },
    {
     "name": "stderr",
     "output_type": "stream",
     "text": [
      "INFO:binarybeech.binarybeech:beta_best: 0.006666666666666676\n"
     ]
    },
    {
     "name": "stdout",
     "output_type": "stream",
     "text": [
      "A tree with 13 leafs was created\n",
      "A tree with 12 leafs was created\n",
      "A tree with 12 leafs was created\n",
      "A tree with 7 leafs was created\n",
      "A tree with 9 leafs was created\n",
      "A tree with 8 leafs was created\n",
      "A tree with 11 leafs was created\n"
     ]
    },
    {
     "name": "stderr",
     "output_type": "stream",
     "text": [
      "INFO:binarybeech.binarybeech:beta_best: 0.0038490017945975005\n"
     ]
    },
    {
     "name": "stdout",
     "output_type": "stream",
     "text": [
      "A tree with 11 leafs was created\n",
      "A tree with 12 leafs was created\n",
      "A tree with 12 leafs was created\n",
      "A tree with 8 leafs was created\n",
      "A tree with 7 leafs was created\n",
      "A tree with 10 leafs was created\n",
      "A tree with 12 leafs was created\n",
      "A tree with 7 leafs was created\n"
     ]
    },
    {
     "name": "stderr",
     "output_type": "stream",
     "text": [
      "INFO:binarybeech.binarybeech:beta_best: 0.006666666666666676\n"
     ]
    },
    {
     "name": "stdout",
     "output_type": "stream",
     "text": [
      "A tree with 12 leafs was created\n",
      "1.51 s ± 49.2 ms per loop (mean ± std. dev. of 7 runs, 1 loop each)\n"
     ]
    }
   ],
   "source": [
    "%%timeit\n",
    "c_iris.train()"
   ]
  },
  {
   "cell_type": "code",
   "execution_count": 70,
   "metadata": {},
   "outputs": [
    {
     "data": {
      "image/png": "[encoded data removed]",
      "text/plain": [
       "<Figure size 640x480 with 1 Axes>"
      ]
     },
     "metadata": {},
     "output_type": "display_data"
    }
   ],
   "source": [
    "\n",
    "plot.plot_pruning_quality(**c_iris.pruning_quality)\n"
   ]
  },
  {
   "cell_type": "code",
   "execution_count": 66,
   "metadata": {},
   "outputs": [
    {
     "name": "stdout",
     "output_type": "stream",
     "text": [
      "petal_length<2.16\n",
      "├── False:petal_length<4.79\n",
      "│   ├── False:virginica\n",
      "│   └── True: versicolor\n",
      "└── True: setosa\n",
      "\n"
     ]
    }
   ],
   "source": [
    "import binarybeech.utils\n",
    "binarybeech.utils.print_tree(c_iris.tree)"
   ]
  },
  {
   "cell_type": "code",
   "execution_count": 67,
   "metadata": {},
   "outputs": [
    {
     "data": {
      "image/png": "[encoded data removed]",
      "text/plain": [
       "<Figure size 640x480 with 1 Axes>"
      ]
     },
     "metadata": {},
     "output_type": "display_data"
    }
   ],
   "source": [
    "plot.plot_areas(c_iris,\"petal_length\",\"petal_width\",df=df_iris)\n"
   ]
  },
  {
   "cell_type": "code",
   "execution_count": 68,
   "metadata": {},
   "outputs": [
    {
     "data": {
      "text/plain": [
       "{'precision': array([1.  , 0.88, 0.98]),\n",
       " 'recall': array([1.        , 0.97777778, 0.89090909]),\n",
       " 'F-score': 0.9532163742690059,\n",
       " 'accuracy': 0.9533333333333334}"
      ]
     },
     "execution_count": 68,
     "metadata": {},
     "output_type": "execute_result"
    }
   ],
   "source": [
    "c_iris.validate()"
   ]
  }
 ],
 "metadata": {
  "kernelspec": {
   "display_name": "Python 3 (ipykernel)",
   "language": "python",
   "name": "python3"
  },
  "language_info": {
   "codemirror_mode": {
    "name": "ipython",
    "version": 3
   },
   "file_extension": ".py",
   "mimetype": "text/x-python",
   "name": "python",
   "nbconvert_exporter": "python",
   "pygments_lexer": "ipython3",
   "version": "3.10.10"
  }
 },
 "nbformat": 4,
 "nbformat_minor": 4
}
