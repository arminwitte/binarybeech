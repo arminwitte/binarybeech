{
 "cells": [
  {
   "cell_type": "code",
   "execution_count": 1,
   "id": "7ade3a1c",
   "metadata": {},
   "outputs": [
    {
     "name": "stdout",
     "output_type": "stream",
     "text": [
      "c:\\Users\\susanne\\git\\binarybeech\n"
     ]
    }
   ],
   "source": [
    "try:\n",
    "    passes += 1\n",
    "except NameError:\n",
    "    %cd ..\n",
    "    passes = 1"
   ]
  },
  {
   "cell_type": "code",
   "execution_count": 2,
   "id": "b28d0aa4",
   "metadata": {},
   "outputs": [],
   "source": [
    "import pandas as pd\n",
    "import binarybeech.binarybeech as bb\n",
    "import logging\n",
    "\n",
    "logging.basicConfig(level=logging.INFO)"
   ]
  },
  {
   "cell_type": "code",
   "execution_count": 3,
   "id": "7759c230",
   "metadata": {},
   "outputs": [],
   "source": [
    "adult_train = pd.read_csv(\"data/adult_data.csv\", header=None)\n",
    "adult_test = pd.read_csv(\"data/adult_test.csv\", skiprows=1, header=None)"
   ]
  },
  {
   "cell_type": "code",
   "execution_count": 4,
   "id": "08bee701",
   "metadata": {},
   "outputs": [],
   "source": [
    "c = bb.CART(df=adult_train, y_name=14, max_depth=4, method=\"classification\")"
   ]
  },
  {
   "cell_type": "code",
   "execution_count": 5,
   "id": "7735e383",
   "metadata": {},
   "outputs": [
    {
     "name": "stderr",
     "output_type": "stream",
     "text": [
      "INFO:binarybeech.binarybeech:beta_best: 0.0024428746506979936\n"
     ]
    }
   ],
   "source": [
    "c.train()\n",
    "# c.create_tree()"
   ]
  },
  {
   "cell_type": "code",
   "execution_count": 6,
   "id": "1b809183",
   "metadata": {},
   "outputs": [
    {
     "data": {
      "text/plain": [
       "{'precision': array([0.95044498, 0.40900395]),\n",
       " 'recall': array([0.83525899, 0.72360108]),\n",
       " 'F-score': 0.7058737919043865,\n",
       " 'accuracy': 0.8200608089432143}"
      ]
     },
     "execution_count": 6,
     "metadata": {},
     "output_type": "execute_result"
    }
   ],
   "source": [
    "c.validate()"
   ]
  },
  {
   "cell_type": "code",
   "execution_count": 7,
   "id": "a94729fc",
   "metadata": {},
   "outputs": [
    {
     "name": "stdout",
     "output_type": "stream",
     "text": [
      "7 in ['Not-in-family', 'Own-child', 'Other-relative', 'Unmarried']\n",
      "├── False:3 in ['10th', '11th', '12th', '1st-4th', '5th-6th', '7th-8th', '9th', 'Assoc-acdm', 'Assoc-voc', 'HS-grad', 'Preschool', 'Some-college']\n",
      "│   ├── False:>50K\n",
      "│   └── True: <=50K\n",
      "└── True: <=50K\n",
      "\n"
     ]
    }
   ],
   "source": [
    "import binarybeech.visualize as viz\n",
    "\n",
    "viz.print_tree(c.tree)"
   ]
  },
  {
   "cell_type": "code",
   "execution_count": 8,
   "id": "50001578",
   "metadata": {},
   "outputs": [
    {
     "data": {
      "text/html": [
       "<div>\n",
       "<style scoped>\n",
       "    .dataframe tbody tr th:only-of-type {\n",
       "        vertical-align: middle;\n",
       "    }\n",
       "\n",
       "    .dataframe tbody tr th {\n",
       "        vertical-align: top;\n",
       "    }\n",
       "\n",
       "    .dataframe thead th {\n",
       "        text-align: right;\n",
       "    }\n",
       "</style>\n",
       "<table border=\"1\" class=\"dataframe\">\n",
       "  <thead>\n",
       "    <tr style=\"text-align: right;\">\n",
       "      <th></th>\n",
       "      <th>0</th>\n",
       "      <th>1</th>\n",
       "      <th>2</th>\n",
       "      <th>3</th>\n",
       "      <th>4</th>\n",
       "      <th>5</th>\n",
       "      <th>6</th>\n",
       "      <th>7</th>\n",
       "      <th>8</th>\n",
       "      <th>9</th>\n",
       "      <th>10</th>\n",
       "      <th>11</th>\n",
       "      <th>12</th>\n",
       "      <th>13</th>\n",
       "      <th>14</th>\n",
       "    </tr>\n",
       "  </thead>\n",
       "  <tbody>\n",
       "    <tr>\n",
       "      <th>0</th>\n",
       "      <td>38</td>\n",
       "      <td>Private</td>\n",
       "      <td>89814</td>\n",
       "      <td>HS-grad</td>\n",
       "      <td>9</td>\n",
       "      <td>Married-civ-spouse</td>\n",
       "      <td>Farming-fishing</td>\n",
       "      <td>Husband</td>\n",
       "      <td>White</td>\n",
       "      <td>Male</td>\n",
       "      <td>0</td>\n",
       "      <td>0</td>\n",
       "      <td>50</td>\n",
       "      <td>United-States</td>\n",
       "      <td>&lt;=50K</td>\n",
       "    </tr>\n",
       "    <tr>\n",
       "      <th>1</th>\n",
       "      <td>28</td>\n",
       "      <td>Local-gov</td>\n",
       "      <td>336951</td>\n",
       "      <td>Assoc-acdm</td>\n",
       "      <td>12</td>\n",
       "      <td>Married-civ-spouse</td>\n",
       "      <td>Protective-serv</td>\n",
       "      <td>Husband</td>\n",
       "      <td>White</td>\n",
       "      <td>Male</td>\n",
       "      <td>0</td>\n",
       "      <td>0</td>\n",
       "      <td>40</td>\n",
       "      <td>United-States</td>\n",
       "      <td>&gt;50K</td>\n",
       "    </tr>\n",
       "    <tr>\n",
       "      <th>2</th>\n",
       "      <td>44</td>\n",
       "      <td>Private</td>\n",
       "      <td>160323</td>\n",
       "      <td>Some-college</td>\n",
       "      <td>10</td>\n",
       "      <td>Married-civ-spouse</td>\n",
       "      <td>Machine-op-inspct</td>\n",
       "      <td>Husband</td>\n",
       "      <td>Black</td>\n",
       "      <td>Male</td>\n",
       "      <td>7688</td>\n",
       "      <td>0</td>\n",
       "      <td>40</td>\n",
       "      <td>United-States</td>\n",
       "      <td>&gt;50K</td>\n",
       "    </tr>\n",
       "    <tr>\n",
       "      <th>3</th>\n",
       "      <td>18</td>\n",
       "      <td>?</td>\n",
       "      <td>103497</td>\n",
       "      <td>Some-college</td>\n",
       "      <td>10</td>\n",
       "      <td>Never-married</td>\n",
       "      <td>?</td>\n",
       "      <td>Own-child</td>\n",
       "      <td>White</td>\n",
       "      <td>Female</td>\n",
       "      <td>0</td>\n",
       "      <td>0</td>\n",
       "      <td>30</td>\n",
       "      <td>United-States</td>\n",
       "      <td>&lt;=50K</td>\n",
       "    </tr>\n",
       "    <tr>\n",
       "      <th>4</th>\n",
       "      <td>34</td>\n",
       "      <td>Private</td>\n",
       "      <td>198693</td>\n",
       "      <td>10th</td>\n",
       "      <td>6</td>\n",
       "      <td>Never-married</td>\n",
       "      <td>Other-service</td>\n",
       "      <td>Not-in-family</td>\n",
       "      <td>White</td>\n",
       "      <td>Male</td>\n",
       "      <td>0</td>\n",
       "      <td>0</td>\n",
       "      <td>30</td>\n",
       "      <td>United-States</td>\n",
       "      <td>&lt;=50K</td>\n",
       "    </tr>\n",
       "    <tr>\n",
       "      <th>...</th>\n",
       "      <td>...</td>\n",
       "      <td>...</td>\n",
       "      <td>...</td>\n",
       "      <td>...</td>\n",
       "      <td>...</td>\n",
       "      <td>...</td>\n",
       "      <td>...</td>\n",
       "      <td>...</td>\n",
       "      <td>...</td>\n",
       "      <td>...</td>\n",
       "      <td>...</td>\n",
       "      <td>...</td>\n",
       "      <td>...</td>\n",
       "      <td>...</td>\n",
       "      <td>...</td>\n",
       "    </tr>\n",
       "    <tr>\n",
       "      <th>16275</th>\n",
       "      <td>39</td>\n",
       "      <td>Private</td>\n",
       "      <td>215419</td>\n",
       "      <td>Bachelors</td>\n",
       "      <td>13</td>\n",
       "      <td>Divorced</td>\n",
       "      <td>Prof-specialty</td>\n",
       "      <td>Not-in-family</td>\n",
       "      <td>White</td>\n",
       "      <td>Female</td>\n",
       "      <td>0</td>\n",
       "      <td>0</td>\n",
       "      <td>36</td>\n",
       "      <td>United-States</td>\n",
       "      <td>&lt;=50K</td>\n",
       "    </tr>\n",
       "    <tr>\n",
       "      <th>16276</th>\n",
       "      <td>64</td>\n",
       "      <td>?</td>\n",
       "      <td>321403</td>\n",
       "      <td>HS-grad</td>\n",
       "      <td>9</td>\n",
       "      <td>Widowed</td>\n",
       "      <td>?</td>\n",
       "      <td>Other-relative</td>\n",
       "      <td>Black</td>\n",
       "      <td>Male</td>\n",
       "      <td>0</td>\n",
       "      <td>0</td>\n",
       "      <td>40</td>\n",
       "      <td>United-States</td>\n",
       "      <td>&lt;=50K</td>\n",
       "    </tr>\n",
       "    <tr>\n",
       "      <th>16277</th>\n",
       "      <td>38</td>\n",
       "      <td>Private</td>\n",
       "      <td>374983</td>\n",
       "      <td>Bachelors</td>\n",
       "      <td>13</td>\n",
       "      <td>Married-civ-spouse</td>\n",
       "      <td>Prof-specialty</td>\n",
       "      <td>Husband</td>\n",
       "      <td>White</td>\n",
       "      <td>Male</td>\n",
       "      <td>0</td>\n",
       "      <td>0</td>\n",
       "      <td>50</td>\n",
       "      <td>United-States</td>\n",
       "      <td>&lt;=50K</td>\n",
       "    </tr>\n",
       "    <tr>\n",
       "      <th>16278</th>\n",
       "      <td>44</td>\n",
       "      <td>Private</td>\n",
       "      <td>83891</td>\n",
       "      <td>Bachelors</td>\n",
       "      <td>13</td>\n",
       "      <td>Divorced</td>\n",
       "      <td>Adm-clerical</td>\n",
       "      <td>Own-child</td>\n",
       "      <td>Asian-Pac-Islander</td>\n",
       "      <td>Male</td>\n",
       "      <td>5455</td>\n",
       "      <td>0</td>\n",
       "      <td>40</td>\n",
       "      <td>United-States</td>\n",
       "      <td>&lt;=50K</td>\n",
       "    </tr>\n",
       "    <tr>\n",
       "      <th>16279</th>\n",
       "      <td>35</td>\n",
       "      <td>Self-emp-inc</td>\n",
       "      <td>182148</td>\n",
       "      <td>Bachelors</td>\n",
       "      <td>13</td>\n",
       "      <td>Married-civ-spouse</td>\n",
       "      <td>Exec-managerial</td>\n",
       "      <td>Husband</td>\n",
       "      <td>White</td>\n",
       "      <td>Male</td>\n",
       "      <td>0</td>\n",
       "      <td>0</td>\n",
       "      <td>60</td>\n",
       "      <td>United-States</td>\n",
       "      <td>&gt;50K</td>\n",
       "    </tr>\n",
       "  </tbody>\n",
       "</table>\n",
       "<p>16280 rows × 15 columns</p>\n",
       "</div>"
      ],
      "text/plain": [
       "       0             1       2             3   4                   5   \\\n",
       "0      38       Private   89814       HS-grad   9  Married-civ-spouse   \n",
       "1      28     Local-gov  336951    Assoc-acdm  12  Married-civ-spouse   \n",
       "2      44       Private  160323  Some-college  10  Married-civ-spouse   \n",
       "3      18             ?  103497  Some-college  10       Never-married   \n",
       "4      34       Private  198693          10th   6       Never-married   \n",
       "...    ..           ...     ...           ...  ..                 ...   \n",
       "16275  39       Private  215419     Bachelors  13            Divorced   \n",
       "16276  64             ?  321403       HS-grad   9             Widowed   \n",
       "16277  38       Private  374983     Bachelors  13  Married-civ-spouse   \n",
       "16278  44       Private   83891     Bachelors  13            Divorced   \n",
       "16279  35  Self-emp-inc  182148     Bachelors  13  Married-civ-spouse   \n",
       "\n",
       "                      6               7                   8       9     10  \\\n",
       "0        Farming-fishing         Husband               White    Male     0   \n",
       "1        Protective-serv         Husband               White    Male     0   \n",
       "2      Machine-op-inspct         Husband               Black    Male  7688   \n",
       "3                      ?       Own-child               White  Female     0   \n",
       "4          Other-service   Not-in-family               White    Male     0   \n",
       "...                  ...             ...                 ...     ...   ...   \n",
       "16275     Prof-specialty   Not-in-family               White  Female     0   \n",
       "16276                  ?  Other-relative               Black    Male     0   \n",
       "16277     Prof-specialty         Husband               White    Male     0   \n",
       "16278       Adm-clerical       Own-child  Asian-Pac-Islander    Male  5455   \n",
       "16279    Exec-managerial         Husband               White    Male     0   \n",
       "\n",
       "       11  12             13     14  \n",
       "0       0  50  United-States  <=50K  \n",
       "1       0  40  United-States   >50K  \n",
       "2       0  40  United-States   >50K  \n",
       "3       0  30  United-States  <=50K  \n",
       "4       0  30  United-States  <=50K  \n",
       "...    ..  ..            ...    ...  \n",
       "16275   0  36  United-States  <=50K  \n",
       "16276   0  40  United-States  <=50K  \n",
       "16277   0  50  United-States  <=50K  \n",
       "16278   0  40  United-States  <=50K  \n",
       "16279   0  60  United-States   >50K  \n",
       "\n",
       "[16280 rows x 15 columns]"
      ]
     },
     "execution_count": 8,
     "metadata": {},
     "output_type": "execute_result"
    }
   ],
   "source": [
    "adult_test"
   ]
  },
  {
   "cell_type": "code",
   "execution_count": 9,
   "id": "bd51f198",
   "metadata": {},
   "outputs": [
    {
     "data": {
      "text/plain": [
       "{'precision': array([0.9500563 , 0.40691628]),\n",
       " 'recall': array([0.83815808, 0.71591949]),\n",
       " 'F-score': 0.7047526781171909,\n",
       " 'accuracy': 0.8217444717444717}"
      ]
     },
     "execution_count": 9,
     "metadata": {},
     "output_type": "execute_result"
    }
   ],
   "source": [
    "c.validate(adult_test)"
   ]
  },
  {
   "cell_type": "code",
   "execution_count": 10,
   "id": "b6a6ddd9",
   "metadata": {},
   "outputs": [
    {
     "data": {
      "text/plain": [
       "{14: <binarybeech.attributehandler.DichotomousAttributeHandler at 0x23f4c1ecf70>,\n",
       " 0: <binarybeech.attributehandler.IntervalAttributeHandler at 0x23f4c1ece20>,\n",
       " 1: <binarybeech.attributehandler.HighCardinalityNominalAttributeHandler at 0x23f4c1ecfa0>,\n",
       " 2: <binarybeech.attributehandler.IntervalAttributeHandler at 0x23f4c1ecd60>,\n",
       " 3: <binarybeech.attributehandler.HighCardinalityNominalAttributeHandler at 0x23f4c1ec760>,\n",
       " 4: <binarybeech.attributehandler.IntervalAttributeHandler at 0x23f4c1ecf10>,\n",
       " 5: <binarybeech.attributehandler.HighCardinalityNominalAttributeHandler at 0x23f4c1ec4c0>,\n",
       " 6: <binarybeech.attributehandler.HighCardinalityNominalAttributeHandler at 0x23f4c1ecc40>,\n",
       " 7: <binarybeech.attributehandler.HighCardinalityNominalAttributeHandler at 0x23f4c1ec430>,\n",
       " 8: <binarybeech.attributehandler.NominalAttributeHandler at 0x23f4c1ec040>,\n",
       " 9: <binarybeech.attributehandler.DichotomousAttributeHandler at 0x23f4c1eceb0>,\n",
       " 10: <binarybeech.attributehandler.IntervalAttributeHandler at 0x23f4c1d4fa0>,\n",
       " 11: <binarybeech.attributehandler.IntervalAttributeHandler at 0x23f4c1d4be0>,\n",
       " 12: <binarybeech.attributehandler.IntervalAttributeHandler at 0x23f4c1d4d90>,\n",
       " 13: <binarybeech.attributehandler.HighCardinalityNominalAttributeHandler at 0x23f4c1d4bb0>}"
      ]
     },
     "execution_count": 10,
     "metadata": {},
     "output_type": "execute_result"
    }
   ],
   "source": [
    "c.dmgr.attribute_handlers"
   ]
  },
  {
   "cell_type": "code",
   "execution_count": null,
   "id": "800ad79c",
   "metadata": {},
   "outputs": [],
   "source": []
  }
 ],
 "metadata": {
  "kernelspec": {
   "display_name": "Python 3",
   "language": "python",
   "name": "python3"
  },
  "language_info": {
   "codemirror_mode": {
    "name": "ipython",
    "version": 3
   },
   "file_extension": ".py",
   "mimetype": "text/x-python",
   "name": "python",
   "nbconvert_exporter": "python",
   "pygments_lexer": "ipython3",
   "version": "3.8.3"
  }
 },
 "nbformat": 4,
 "nbformat_minor": 5
}
