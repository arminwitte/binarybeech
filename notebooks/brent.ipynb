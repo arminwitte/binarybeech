{
  "metadata": {
    "language_info": {
      "codemirror_mode": {
        "name": "python",
        "version": 3
      },
      "file_extension": ".py",
      "mimetype": "text/x-python",
      "name": "python",
      "nbconvert_exporter": "python",
      "pygments_lexer": "ipython3",
      "version": "3.8"
    },
    "kernelspec": {
      "name": "python",
      "display_name": "Python (Pyodide)",
      "language": "python"
    }
  },
  "nbformat_minor": 4,
  "nbformat": 4,
  "cells": [
    {
      "cell_type": "code",
      "source": "\nimport numpy as np\n",
      "metadata": {
        "trusted": true
      },
      "execution_count": 61,
      "outputs": []
    },
    {
      "cell_type": "code",
      "source": "\nclass BrentsScalarMinimizer():\n    \n    invphisqr = (3 - np.sqrt(5)) * 0.5\n    rtol = np.sqrt(np.finfo(float).eps)\n    \n    def __init__(self, atol = 0):\n        self.a = None\n        self.b = None\n        self.e = None\n        self.m = None\n        self.u = None\n        self.fu = None\n        self.v = None\n        self.fv = None\n        self.w = None\n        self.fw = None\n        self.x = None\n        self.fx = None\n        self.max_iter = 100\n        self.n_iter = None\n        self.tol1 = self.rtol\n        self.tol2 = 2 * self.tol1\n        self.atol = atol\n        \n    def minimize(self, f, a, b):\n        self._initialize(f, a, b)\n        while self._iterate():\n            self.m = 0.5 * (self.a + self.b)\n            self.tol1 = self.rtol * abs(self.x) + self.atol\n            self.tol2 = 2 * self.tol1\n            if abs(self.x - self.m) <= self.tol2 - 0.5 * (self.b - self.a):\n                break\n            d = self._spi()\n            if not d:\n                d = self._gss()\n            \n            if abs(d) >= self.tol1:\n                u = self.x + d\n            elif d > 0:\n                u = self.x + self.tol1\n            else:\n                u = self.x - self.tol1\n            \n            #updating\n            self.e = d\n            self.u = u\n            self.fu = f(self.u)\n            \n            if self.fu <= self.fx:\n                \n                if self.u < self.x:\n                    self.b = self.x\n                else:\n                    self.a = self.x\n                    \n                self.v = self.w\n                self.fv = self.fw\n                self.w = self.x\n                self.fw = self.fx\n                self.x = self.u\n                self.fx = self.fu\n                \n            else:\n                \n                if self.u < self.x:\n                    self.a = self.u\n                else:\n                    self.b = self.u\n                    \n                if self.fu <= self.fw or self.w == self.x:\n                    self.v = self.w\n                    self.fv = self.fw\n                    self.w = self.u\n                    self.fw = self.fu\n                elif self.fu <= self.fv or self.v == self.x or self.v == self.w:\n                    self.v = self.u\n                    self.fv = self.fu\n        return self.x, self.fx\n                \n    def _initialize(self, f, a, b,):\n        self.a = min(a, b)\n        self.b = max(a, b)\n        self.x = self.a + self.invphisqr * (self.b - self.a)\n        self.w = self.x\n        self.v = self.x\n        self.e = 0\n        self.n_iter = 0\n        \n        self.fx = f(self.x)\n        self.fw = self.fx\n        self.fv = self.fx\n    \n    def _gss(self):\n        if self.x < self.m:\n            e = self.b - self.x\n        else:\n            e = self.a - self.x\n            \n        d = self.invphisqr * e\n        return d\n    \n    def _spi(self):\n        xw = self.x - self.w\n        xv = self.x - self.v\n        r = xw * (self.fx - self.fv)\n        q = xv * (self.fx - self.fw)\n        p = xv * q - xw * r\n        q = 2 * (q - r)\n        \n        if abs(p) >= (0.5 * q * self.e):\n            return None\n        if abs(q) < np.finfo(float).tiny:\n            return None\n        \n        d = p/q\n        \n        if abs(d) < 0.5 * self.e:\n            return None\n        \n        u = self.x + d\n        \n        if u <= self.a:\n            return None\n        if u >= self.b:\n            return None\n        \n        if (u - self.a) < self.tol2:\n            d = np.sign(d) * self.tol1\n        if (self.b - u) < self.tol2:\n            d = np.sign(d) * self.tol1\n        return d\n    \n    def _iterate(self):\n        self.n_iter += 1\n        if self.n_iter > self.max_iter:\n            return False\n        return True\n    \n",
      "metadata": {
        "trusted": true
      },
      "execution_count": 62,
      "outputs": []
    },
    {
      "cell_type": "code",
      "source": "\nmini = BrentsScalarMinimizer()\n",
      "metadata": {
        "trusted": true
      },
      "execution_count": 63,
      "outputs": []
    },
    {
      "cell_type": "code",
      "source": "\n%%timeit\nmini.minimize(np.sin,0,6)\n",
      "metadata": {
        "trusted": true
      },
      "execution_count": 64,
      "outputs": [
        {
          "name": "stdout",
          "text": "2.4 ms ± 41.2 µs per loop (mean ± std. dev. of 7 runs, 100 loops each)\n",
          "output_type": "stream"
        }
      ]
    },
    {
      "cell_type": "code",
      "source": "\nmini.n_iter\n",
      "metadata": {
        "trusted": true
      },
      "execution_count": 65,
      "outputs": [
        {
          "execution_count": 65,
          "output_type": "execute_result",
          "data": {
            "text/plain": "31"
          },
          "metadata": {}
        }
      ]
    },
    {
      "cell_type": "code",
      "source": "\ndef f(x):\n    return round(np.sin(x)/x,1)\n",
      "metadata": {
        "trusted": true
      },
      "execution_count": 66,
      "outputs": []
    },
    {
      "cell_type": "code",
      "source": "\nmini.minimize(f, 0, 6)\n",
      "metadata": {
        "trusted": true
      },
      "execution_count": 67,
      "outputs": [
        {
          "execution_count": 67,
          "output_type": "execute_result",
          "data": {
            "text/plain": "(4.583592246074276, -0.2)"
          },
          "metadata": {}
        }
      ]
    },
    {
      "cell_type": "code",
      "source": "mini.n_iter",
      "metadata": {
        "trusted": true
      },
      "execution_count": 68,
      "outputs": [
        {
          "execution_count": 68,
          "output_type": "execute_result",
          "data": {
            "text/plain": "37"
          },
          "metadata": {}
        }
      ]
    },
    {
      "cell_type": "code",
      "source": "import scipy.optimize\nscipy.optimize.minimize_scalar(f,[0,6])",
      "metadata": {
        "trusted": true
      },
      "execution_count": 69,
      "outputs": [
        {
          "execution_count": 69,
          "output_type": "execute_result",
          "data": {
            "text/plain": "     fun: -0.1\n message: '\\nOptimization terminated successfully;\\nThe returned value satisfies the termination criteria\\n(using xtol = 1.48e-08 )'\n    nfev: 37\n     nit: 33\n success: True\n       x: 10.854102185845045"
          },
          "metadata": {}
        }
      ]
    },
    {
      "cell_type": "code",
      "source": "",
      "metadata": {},
      "execution_count": null,
      "outputs": []
    }
  ]
}