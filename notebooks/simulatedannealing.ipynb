{
  "cells": [
    {
      "cell_type": "code",
      "execution_count": 1,
      "metadata": {
        "trusted": true
      },
      "outputs": [],
      "source": [
        "import random\n",
        "import math"
      ]
    },
    {
      "cell_type": "code",
      "execution_count": 2,
      "metadata": {
        "trusted": true
      },
      "outputs": [],
      "source": [
        "\n",
        "class ScalarSimulatedAnnealing():\n",
        "    def __init__(self):\n",
        "        self.init_temp = 10\n",
        "        self.max_iter = 100\n",
        "        \n",
        "    \n",
        "    def minimize(self,f, a, b):\n",
        "        a, b = min(a, b), max(a, b)\n",
        "        delta = b - a\n",
        "        m = (a + b) / 2\n",
        "        ym = f(m)\n",
        "        best = m\n",
        "        ybest = ym\n",
        "        current = m\n",
        "        ycurrent = ym\n",
        "        for i in range(self.max_iter):\n",
        "            T = 1 - (i + 1) / self.max_iter\n",
        "            #print(T)\n",
        "            new = random.normalvariate(mu = current, sigma = delta)\n",
        "            if new < a:\n",
        "                new = a + (a-new)\n",
        "            if new > b:\n",
        "                new = b + (b-new)\n",
        "            ynew = f(new)\n",
        "            if ynew < ybest:\n",
        "                best = new\n",
        "                ybest = ynew\n",
        "            if ynew < ycurrent or self._accept(ycurrent,ynew, T):\n",
        "                current = new\n",
        "                ycurrent = ynew\n",
        "        return (best, ybest)\n",
        "                \n",
        "    def _accept(self,ycurrent, ynew, T):\n",
        "        if T < 1e-12:\n",
        "            return False\n",
        "        p = math.exp((ycurrent-ynew)/T)\n",
        "        return random.random() > p\n",
        "        \n",
        "        \n"
      ]
    },
    {
      "cell_type": "code",
      "execution_count": 3,
      "metadata": {
        "trusted": true
      },
      "outputs": [],
      "source": [
        "\n",
        "mini = ScalarSimulatedAnnealing()\n"
      ]
    },
    {
      "cell_type": "code",
      "execution_count": 4,
      "metadata": {
        "trusted": true
      },
      "outputs": [
        {
          "name": "stdout",
          "output_type": "stream",
          "text": [
            "325 µs ± 29.5 µs per loop (mean ± std. dev. of 7 runs, 1000 loops each)\n"
          ]
        }
      ],
      "source": [
        "\n",
        "%%timeit\n",
        "mini.minimize(math.sin,0,7)\n"
      ]
    },
    {
      "cell_type": "code",
      "execution_count": 5,
      "metadata": {},
      "outputs": [
        {
          "data": {
            "text/plain": [
              "(4.712154111256886, -0.9999999724182466)"
            ]
          },
          "execution_count": 5,
          "metadata": {},
          "output_type": "execute_result"
        }
      ],
      "source": [
        "mini.minimize(math.sin,0,7)"
      ]
    },
    {
      "cell_type": "code",
      "execution_count": null,
      "metadata": {},
      "outputs": [],
      "source": []
    }
  ],
  "metadata": {
    "kernelspec": {
      "display_name": "base",
      "language": "python",
      "name": "python3"
    },
    "language_info": {
      "codemirror_mode": {
        "name": "ipython",
        "version": 3
      },
      "file_extension": ".py",
      "mimetype": "text/x-python",
      "name": "python",
      "nbconvert_exporter": "python",
      "pygments_lexer": "ipython3",
      "version": "3.8.3"
    }
  },
  "nbformat": 4,
  "nbformat_minor": 4
}
