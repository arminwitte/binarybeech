{
 "cells": [
  {
   "cell_type": "code",
   "execution_count": 19,
   "metadata": {},
   "outputs": [],
   "source": [
    "try:\n",
    "    passes += 1\n",
    "except NameError:\n",
    "    %cd ..\n",
    "    passes = 1"
   ]
  },
  {
   "cell_type": "code",
   "execution_count": 20,
   "metadata": {},
   "outputs": [],
   "source": [
    "import pandas as pd\n",
    "import numpy as np\n",
    "import binarybeech.binarybeech as bb\n",
    "import binarybeech.visualize as viz\n",
    "import logging\n",
    "\n",
    "logging.basicConfig(level=logging.INFO)"
   ]
  },
  {
   "attachments": {},
   "cell_type": "markdown",
   "metadata": {},
   "source": [
    "Iris dataset\n",
    "=="
   ]
  },
  {
   "cell_type": "code",
   "execution_count": 21,
   "metadata": {},
   "outputs": [],
   "source": [
    "df_iris = pd.read_csv(\"data/iris.csv\")"
   ]
  },
  {
   "cell_type": "code",
   "execution_count": 22,
   "metadata": {
    "jupyter": {
     "source_hidden": true
    },
    "tags": []
   },
   "outputs": [
    {
     "data": {
      "text/html": [
       "<div>\n",
       "<style scoped>\n",
       "    .dataframe tbody tr th:only-of-type {\n",
       "        vertical-align: middle;\n",
       "    }\n",
       "\n",
       "    .dataframe tbody tr th {\n",
       "        vertical-align: top;\n",
       "    }\n",
       "\n",
       "    .dataframe thead th {\n",
       "        text-align: right;\n",
       "    }\n",
       "</style>\n",
       "<table border=\"1\" class=\"dataframe\">\n",
       "  <thead>\n",
       "    <tr style=\"text-align: right;\">\n",
       "      <th></th>\n",
       "      <th>petal_length</th>\n",
       "      <th>petal_width</th>\n",
       "    </tr>\n",
       "  </thead>\n",
       "  <tbody>\n",
       "    <tr>\n",
       "      <th>0</th>\n",
       "      <td>1.4</td>\n",
       "      <td>0.2</td>\n",
       "    </tr>\n",
       "    <tr>\n",
       "      <th>1</th>\n",
       "      <td>1.4</td>\n",
       "      <td>0.2</td>\n",
       "    </tr>\n",
       "    <tr>\n",
       "      <th>2</th>\n",
       "      <td>1.3</td>\n",
       "      <td>0.2</td>\n",
       "    </tr>\n",
       "    <tr>\n",
       "      <th>3</th>\n",
       "      <td>1.5</td>\n",
       "      <td>0.2</td>\n",
       "    </tr>\n",
       "    <tr>\n",
       "      <th>4</th>\n",
       "      <td>1.4</td>\n",
       "      <td>0.2</td>\n",
       "    </tr>\n",
       "    <tr>\n",
       "      <th>...</th>\n",
       "      <td>...</td>\n",
       "      <td>...</td>\n",
       "    </tr>\n",
       "    <tr>\n",
       "      <th>145</th>\n",
       "      <td>5.2</td>\n",
       "      <td>2.3</td>\n",
       "    </tr>\n",
       "    <tr>\n",
       "      <th>146</th>\n",
       "      <td>5.0</td>\n",
       "      <td>1.9</td>\n",
       "    </tr>\n",
       "    <tr>\n",
       "      <th>147</th>\n",
       "      <td>5.2</td>\n",
       "      <td>2.0</td>\n",
       "    </tr>\n",
       "    <tr>\n",
       "      <th>148</th>\n",
       "      <td>5.4</td>\n",
       "      <td>2.3</td>\n",
       "    </tr>\n",
       "    <tr>\n",
       "      <th>149</th>\n",
       "      <td>5.1</td>\n",
       "      <td>1.8</td>\n",
       "    </tr>\n",
       "  </tbody>\n",
       "</table>\n",
       "<p>150 rows × 2 columns</p>\n",
       "</div>"
      ],
      "text/plain": [
       "     petal_length  petal_width\n",
       "0             1.4          0.2\n",
       "1             1.4          0.2\n",
       "2             1.3          0.2\n",
       "3             1.5          0.2\n",
       "4             1.4          0.2\n",
       "..            ...          ...\n",
       "145           5.2          2.3\n",
       "146           5.0          1.9\n",
       "147           5.2          2.0\n",
       "148           5.4          2.3\n",
       "149           5.1          1.8\n",
       "\n",
       "[150 rows x 2 columns]"
      ]
     },
     "execution_count": 22,
     "metadata": {},
     "output_type": "execute_result"
    }
   ],
   "source": [
    "df_iris.columns\n",
    "X_names = [\"petal_length\", \"petal_width\"]\n",
    "df_iris[X_names]"
   ]
  },
  {
   "cell_type": "code",
   "execution_count": 23,
   "metadata": {},
   "outputs": [
    {
     "name": "stdout",
     "output_type": "stream",
     "text": [
      "WARNING: {method} is not a registered method group. Chosing 'default'.\n",
      "A tree with 12 leafs was created\n"
     ]
    },
    {
     "data": {
      "text/plain": [
       "<binarybeech.tree.Tree at 0x7f56e1bbdee0>"
      ]
     },
     "execution_count": 23,
     "metadata": {},
     "output_type": "execute_result"
    }
   ],
   "source": [
    "c_iris = bb.CART(df=df_iris, y_name=\"species\", method=\"classification\")\n",
    "c_iris.create_tree()"
   ]
  },
  {
   "cell_type": "code",
   "execution_count": 24,
   "metadata": {},
   "outputs": [
    {
     "data": {
      "text/plain": [
       "'setosa'"
      ]
     },
     "execution_count": 24,
     "metadata": {},
     "output_type": "execute_result"
    }
   ],
   "source": [
    "c_iris.tree.traverse(df_iris.iloc[0]).value"
   ]
  },
  {
   "cell_type": "code",
   "execution_count": 25,
   "metadata": {},
   "outputs": [
    {
     "data": {
      "text/plain": [
       "{'N': 50, 'r': 0.0, 'R': 0.0}"
      ]
     },
     "execution_count": 25,
     "metadata": {},
     "output_type": "execute_result"
    }
   ],
   "source": [
    "c_iris.tree.root.branches[0].pinfo"
   ]
  },
  {
   "cell_type": "code",
   "execution_count": 26,
   "metadata": {},
   "outputs": [
    {
     "data": {
      "text/plain": [
       "{'alpha': [0,\n",
       "  0.0022222222222222205,\n",
       "  0.006666666666666657,\n",
       "  0.006666666666666668,\n",
       "  0.006666666666666676,\n",
       "  0.006666666666666677,\n",
       "  0.2866666666666666],\n",
       " 'R': [0.006666666666666662,\n",
       "  0.013333333333333319,\n",
       "  0.026666666666666655,\n",
       "  0.03333333333333333,\n",
       "  0.04666666666666668,\n",
       "  0.3333333333333333,\n",
       "  0.6666666666666667],\n",
       " 'n_leafs': [9, 8, 6, 5, 3, 2, 1]}"
      ]
     },
     "execution_count": 26,
     "metadata": {},
     "output_type": "execute_result"
    }
   ],
   "source": [
    "c_iris.prune()"
   ]
  },
  {
   "cell_type": "code",
   "execution_count": 27,
   "metadata": {},
   "outputs": [
    {
     "name": "stdout",
     "output_type": "stream",
     "text": [
      "A tree with 12 leafs was created\n"
     ]
    },
    {
     "data": {
      "text/plain": [
       "{'alpha': [0], 'R': [0.006666666666666662], 'n_leafs': [9]}"
      ]
     },
     "execution_count": 27,
     "metadata": {},
     "output_type": "execute_result"
    }
   ],
   "source": [
    "c_iris.create_tree()\n",
    "c_iris.prune(alpha_max=2e-3)"
   ]
  },
  {
   "cell_type": "code",
   "execution_count": 28,
   "metadata": {},
   "outputs": [
    {
     "data": {
      "text/plain": [
       "<matplotlib.collections.PathCollection at 0x7f56e19e9c40>"
      ]
     },
     "execution_count": 28,
     "metadata": {},
     "output_type": "execute_result"
    },
    {
     "data": {
      "image/png": "[encoded data removed]",
      "text/plain": [
       "<Figure size 432x288 with 1 Axes>"
      ]
     },
     "metadata": {
      "needs_background": "light"
     },
     "output_type": "display_data"
    }
   ],
   "source": [
    "import matplotlib.pyplot as plt\n",
    "\n",
    "colors = {\"setosa\": \"red\", \"versicolor\": \"blue\", \"virginica\": \"green\"}\n",
    "plt.scatter(\n",
    "    df_iris[\"petal_length\"], df_iris[\"petal_width\"], c=df_iris[\"species\"].map(colors)\n",
    ")"
   ]
  },
  {
   "cell_type": "code",
   "execution_count": 29,
   "metadata": {},
   "outputs": [],
   "source": [
    "x, y = np.meshgrid(np.linspace(1, 7, 11), np.linspace(0, 2.5, 11))\n",
    "col = []\n",
    "for i in range(len(x.ravel())):\n",
    "    d = df_iris.iloc[120].copy()\n",
    "    d[\"petal_length\"] = x.ravel()[i]\n",
    "    d[\"petal_width\"] = y.ravel()[i]\n",
    "    col.append(c_iris.tree.traverse(d).value)\n",
    "for i in range(len(col)):\n",
    "    if col[i] == \"setosa\":\n",
    "        col[i] = 0\n",
    "    if col[i] == \"versicolor\":\n",
    "        col[i] = 1\n",
    "    if col[i] == \"virginica\":\n",
    "        col[i] = 2\n",
    "z = np.array(col).reshape(x.shape)"
   ]
  },
  {
   "cell_type": "code",
   "execution_count": 30,
   "metadata": {},
   "outputs": [
    {
     "name": "stderr",
     "output_type": "stream",
     "text": [
      "/tmp/ipykernel_39717/3975466110.py:2: MatplotlibDeprecationWarning: shading='flat' when X and Y have the same dimensions as C is deprecated since 3.3.  Either specify the corners of the quadrilaterals with X and Y, or pass shading='auto', 'nearest' or 'gouraud', or set rcParams['pcolor.shading'].  This will become an error two minor releases later.\n",
      "  ax.pcolormesh(x, y, z)\n"
     ]
    },
    {
     "data": {
      "text/plain": [
       "<matplotlib.collections.PathCollection at 0x7f56e1b64df0>"
      ]
     },
     "execution_count": 30,
     "metadata": {},
     "output_type": "execute_result"
    },
    {
     "data": {
      "image/png": "[encoded data removed]",
      "text/plain": [
       "<Figure size 432x288 with 1 Axes>"
      ]
     },
     "metadata": {
      "needs_background": "light"
     },
     "output_type": "display_data"
    }
   ],
   "source": [
    "fig, ax = plt.subplots()\n",
    "ax.pcolormesh(x, y, z)\n",
    "ax.scatter(\n",
    "    df_iris[\"petal_length\"], df_iris[\"petal_width\"], c=df_iris[\"species\"].map(colors)\n",
    ")"
   ]
  },
  {
   "cell_type": "code",
   "execution_count": 31,
   "metadata": {},
   "outputs": [
    {
     "data": {
      "text/plain": [
       "{'precision': array([1.  , 0.98, 1.  ]),\n",
       " 'recall': array([1.        , 1.        , 0.98039216]),\n",
       " 'F-score': 0.9933326665999934,\n",
       " 'accuracy': 0.9933333333333333}"
      ]
     },
     "execution_count": 31,
     "metadata": {},
     "output_type": "execute_result"
    }
   ],
   "source": [
    "c_iris.validate()"
   ]
  },
  {
   "cell_type": "code",
   "execution_count": 32,
   "metadata": {},
   "outputs": [
    {
     "name": "stdout",
     "output_type": "stream",
     "text": [
      "A tree with 12 leafs was created\n",
      "A tree with 8 leafs was created\n",
      "A tree with 13 leafs was created\n",
      "A tree with 7 leafs was created\n",
      "A tree with 8 leafs was created\n"
     ]
    },
    {
     "name": "stderr",
     "output_type": "stream",
     "text": [
      "INFO:binarybeech.binarybeech:beta_best: 0.006666666666666676\n"
     ]
    },
    {
     "name": "stdout",
     "output_type": "stream",
     "text": [
      "A tree with 9 leafs was created\n",
      "A tree with 12 leafs was created\n",
      "A tree with 12 leafs was created\n",
      "A tree with 6 leafs was created\n",
      "A tree with 9 leafs was created\n",
      "A tree with 11 leafs was created\n",
      "A tree with 10 leafs was created\n"
     ]
    },
    {
     "name": "stderr",
     "output_type": "stream",
     "text": [
      "INFO:binarybeech.binarybeech:beta_best: 0.0038490017945975005\n"
     ]
    },
    {
     "name": "stdout",
     "output_type": "stream",
     "text": [
      "A tree with 10 leafs was created\n",
      "A tree with 12 leafs was created\n",
      "A tree with 12 leafs was created\n",
      "A tree with 6 leafs was created\n",
      "A tree with 9 leafs was created\n",
      "A tree with 8 leafs was created\n",
      "A tree with 10 leafs was created\n"
     ]
    },
    {
     "name": "stderr",
     "output_type": "stream",
     "text": [
      "INFO:binarybeech.binarybeech:beta_best: 0.0038490017945975005\n"
     ]
    },
    {
     "name": "stdout",
     "output_type": "stream",
     "text": [
      "A tree with 10 leafs was created\n",
      "A tree with 12 leafs was created\n",
      "A tree with 12 leafs was created\n",
      "A tree with 11 leafs was created\n",
      "A tree with 11 leafs was created\n",
      "A tree with 9 leafs was created\n",
      "A tree with 12 leafs was created\n"
     ]
    },
    {
     "name": "stderr",
     "output_type": "stream",
     "text": [
      "INFO:binarybeech.binarybeech:beta_best: 0.006666666666666676\n"
     ]
    },
    {
     "name": "stdout",
     "output_type": "stream",
     "text": [
      "A tree with 5 leafs was created\n",
      "A tree with 12 leafs was created\n",
      "A tree with 12 leafs was created\n",
      "A tree with 12 leafs was created\n",
      "A tree with 10 leafs was created\n",
      "A tree with 8 leafs was created\n",
      "A tree with 11 leafs was created\n"
     ]
    },
    {
     "name": "stderr",
     "output_type": "stream",
     "text": [
      "INFO:binarybeech.binarybeech:beta_best: 0.006666666666666676\n"
     ]
    },
    {
     "name": "stdout",
     "output_type": "stream",
     "text": [
      "A tree with 8 leafs was created\n",
      "A tree with 12 leafs was created\n",
      "A tree with 12 leafs was created\n",
      "A tree with 10 leafs was created\n",
      "A tree with 10 leafs was created\n",
      "A tree with 7 leafs was created\n",
      "A tree with 8 leafs was created\n"
     ]
    },
    {
     "name": "stderr",
     "output_type": "stream",
     "text": [
      "INFO:binarybeech.binarybeech:beta_best: 0.006666666666666676\n"
     ]
    },
    {
     "name": "stdout",
     "output_type": "stream",
     "text": [
      "A tree with 9 leafs was created\n",
      "A tree with 12 leafs was created\n",
      "A tree with 12 leafs was created\n",
      "A tree with 11 leafs was created\n",
      "A tree with 10 leafs was created\n",
      "A tree with 10 leafs was created\n",
      "A tree with 10 leafs was created\n"
     ]
    },
    {
     "name": "stderr",
     "output_type": "stream",
     "text": [
      "INFO:binarybeech.binarybeech:beta_best: 0.0038490017945975005\n"
     ]
    },
    {
     "name": "stdout",
     "output_type": "stream",
     "text": [
      "A tree with 11 leafs was created\n",
      "A tree with 12 leafs was created\n",
      "A tree with 12 leafs was created\n",
      "A tree with 9 leafs was created\n",
      "A tree with 13 leafs was created\n",
      "A tree with 10 leafs was created\n",
      "A tree with 9 leafs was created\n"
     ]
    },
    {
     "name": "stderr",
     "output_type": "stream",
     "text": [
      "INFO:binarybeech.binarybeech:beta_best: 0.0038490017945975005\n"
     ]
    },
    {
     "name": "stdout",
     "output_type": "stream",
     "text": [
      "A tree with 7 leafs was created\n",
      "A tree with 12 leafs was created\n",
      "6.11 s ± 1.04 s per loop (mean ± std. dev. of 7 runs, 1 loop each)\n"
     ]
    }
   ],
   "source": [
    "%%timeit\n",
    "c_iris.train()"
   ]
  },
  {
   "cell_type": "code",
   "execution_count": 33,
   "metadata": {},
   "outputs": [
    {
     "data": {
      "image/png": "[encoded data removed]",
      "text/plain": [
       "<Figure size 432x288 with 1 Axes>"
      ]
     },
     "metadata": {
      "needs_background": "light"
     },
     "output_type": "display_data"
    }
   ],
   "source": [
    "viz.plot_pruning_quality(**c_iris.pruning_quality)"
   ]
  },
  {
   "cell_type": "code",
   "execution_count": 34,
   "metadata": {},
   "outputs": [
    {
     "name": "stdout",
     "output_type": "stream",
     "text": [
      "petal_length<2.16\n",
      "├── False:petal_length<4.79\n",
      "│   ├── False:petal_width<1.60\n",
      "│   │   ├── False:virginica\n",
      "│   │   └── True: petal_length<5.18\n",
      "│   │       ├── False:virginica\n",
      "│   │       └── True: petal_length<4.91\n",
      "│   │           ├── False:petal_width<1.54\n",
      "│   │           │   ├── False:versicolor\n",
      "│   │           │   └── True: virginica\n",
      "│   │           └── True: versicolor\n",
      "│   └── True: petal_width<1.68\n",
      "│       ├── False:virginica\n",
      "│       └── True: versicolor\n",
      "└── True: setosa\n",
      "\n"
     ]
    }
   ],
   "source": [
    "import binarybeech.visualize as viz\n",
    "\n",
    "viz.print_tree(c_iris.tree)"
   ]
  },
  {
   "cell_type": "code",
   "execution_count": 35,
   "metadata": {},
   "outputs": [
    {
     "data": {
      "image/png": "[encoded data removed]",
      "text/plain": [
       "<Figure size 432x288 with 1 Axes>"
      ]
     },
     "metadata": {
      "needs_background": "light"
     },
     "output_type": "display_data"
    }
   ],
   "source": [
    "viz.plot_areas(c_iris, \"petal_length\", \"petal_width\", df=df_iris)"
   ]
  },
  {
   "cell_type": "code",
   "execution_count": 36,
   "metadata": {},
   "outputs": [
    {
     "data": {
      "text/plain": [
       "{'precision': array([1.  , 0.96, 1.  ]),\n",
       " 'recall': array([1.        , 1.        , 0.96153846]),\n",
       " 'F-score': 0.9866613311991462,\n",
       " 'accuracy': 0.9866666666666667}"
      ]
     },
     "execution_count": 36,
     "metadata": {},
     "output_type": "execute_result"
    }
   ],
   "source": [
    "c_iris.validate()"
   ]
  }
 ],
 "metadata": {
  "kernelspec": {
   "display_name": "Python 3 (ipykernel)",
   "language": "python",
   "name": "python3"
  },
  "language_info": {
   "codemirror_mode": {
    "name": "ipython",
    "version": 3
   },
   "file_extension": ".py",
   "mimetype": "text/x-python",
   "name": "python",
   "nbconvert_exporter": "python",
   "pygments_lexer": "ipython3",
   "version": "3.8.8"
  }
 },
 "nbformat": 4,
 "nbformat_minor": 4
}
