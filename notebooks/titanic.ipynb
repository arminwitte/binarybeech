{
 "cells": [
  {
   "cell_type": "code",
   "execution_count": 1,
   "metadata": {},
   "outputs": [
    {
     "name": "stdout",
     "output_type": "stream",
     "text": [
      "c:\\Users\\susanne\\git\\binarybeech\n"
     ]
    }
   ],
   "source": [
    "try:\n",
    "    passes += 1\n",
    "except NameError:\n",
    "    %cd ..\n",
    "    passes = 1"
   ]
  },
  {
   "cell_type": "code",
   "execution_count": 2,
   "metadata": {},
   "outputs": [],
   "source": [
    "import pandas as pd"
   ]
  },
  {
   "cell_type": "code",
   "execution_count": 3,
   "metadata": {},
   "outputs": [],
   "source": [
    "df = pd.read_csv(\"data/titanic_kaggle.csv\")\n",
    "df_titanic = df.sample(frac=0.75)\n",
    "df_test = df.loc[df.index.difference(df_titanic), :]"
   ]
  },
  {
   "cell_type": "code",
   "execution_count": 4,
   "metadata": {},
   "outputs": [],
   "source": [
    "from binarybeech.binarybeech import *\n",
    "import binarybeech.utils as utils"
   ]
  },
  {
   "cell_type": "code",
   "execution_count": 5,
   "metadata": {},
   "outputs": [],
   "source": [
    "import logging\n",
    "\n",
    "logging.basicConfig(level=logging.INFO)"
   ]
  },
  {
   "cell_type": "code",
   "execution_count": 6,
   "metadata": {},
   "outputs": [],
   "source": [
    "rf_titanic = RandomForest(\n",
    "    df=df_titanic.copy(),\n",
    "    y_name=\"Survived\",\n",
    "    cart_settings={\"max_depth\": 4, \"min_leaf_samples\": 2, \"min_split_samples\": 2},\n",
    "    sample_frac=0.3,\n",
    "    n_attributes=5,\n",
    "    method=\"classification\",\n",
    ")"
   ]
  },
  {
   "cell_type": "code",
   "execution_count": 7,
   "metadata": {},
   "outputs": [],
   "source": [
    "rf_titanic.train(20)"
   ]
  },
  {
   "cell_type": "code",
   "execution_count": 8,
   "metadata": {},
   "outputs": [
    {
     "data": {
      "text/plain": [
       "{'precision': array([0.96314496, 0.30651341]),\n",
       " 'recall': array([0.68411867, 0.84210526]),\n",
       " 'F-score': 0.6247191011235955,\n",
       " 'accuracy': 0.7065868263473054}"
      ]
     },
     "execution_count": 8,
     "metadata": {},
     "output_type": "execute_result"
    }
   ],
   "source": [
    "rf_titanic.validate_oob()"
   ]
  },
  {
   "cell_type": "code",
   "execution_count": 9,
   "metadata": {},
   "outputs": [
    {
     "data": {
      "text/plain": [
       "{'precision': array([0.97542998, 0.348659  ]),\n",
       " 'recall': array([0.70017637, 0.9009901 ]),\n",
       " 'F-score': 0.6589787514039049,\n",
       " 'accuracy': 0.7305389221556886}"
      ]
     },
     "execution_count": 9,
     "metadata": {},
     "output_type": "execute_result"
    }
   ],
   "source": [
    "rf_titanic.validate()"
   ]
  },
  {
   "cell_type": "code",
   "execution_count": 10,
   "metadata": {},
   "outputs": [
    {
     "data": {
      "text/plain": [
       "{'Sex': 1.0,\n",
       " 'Pclass': 0.5876288659793812,\n",
       " 'Age': 0.38144329896907236,\n",
       " 'PassengerId': 0.34536082474226826,\n",
       " 'Fare': 0.31958762886597936,\n",
       " 'SibSp': 0.19587628865979392,\n",
       " 'Parch': 0.13917525773195874,\n",
       " 'Embarked': 0.0979381443298969,\n",
       " 'Name': 0.0,\n",
       " 'Ticket': 0.0,\n",
       " 'Cabin': 0.0}"
      ]
     },
     "execution_count": 10,
     "metadata": {},
     "output_type": "execute_result"
    }
   ],
   "source": [
    "rf_titanic.variable_importance()"
   ]
  },
  {
   "cell_type": "code",
   "execution_count": 11,
   "metadata": {},
   "outputs": [
    {
     "name": "stdout",
     "output_type": "stream",
     "text": [
      "Sex       |############################### 1.0\n",
      "Pclass    |##################             0.59\n",
      "Age       |############                   0.38\n",
      "PassengerId|###########                    0.35\n",
      "Fare      |##########                     0.32\n",
      "SibSp     |######                          0.2\n",
      "Parch     |####                           0.14\n",
      "Embarked  |###                            0.098\n",
      "Name      |                                0.0\n",
      "Ticket    |                                0.0\n",
      "Cabin     |                                0.0\n"
     ]
    }
   ],
   "source": [
    "import binarybeech.visualize as viz\n",
    "\n",
    "viz.print_bars(rf_titanic.variable_importance(), max_width=50)"
   ]
  },
  {
   "cell_type": "code",
   "execution_count": 12,
   "metadata": {},
   "outputs": [
    {
     "data": {
      "text/plain": [
       "{'precision': array([0.97814208, 0.34795322]),\n",
       " 'recall': array([0.70657895, 0.90839695]),\n",
       " 'F-score': 0.6618224456801749,\n",
       " 'accuracy': 0.7362514029180696}"
      ]
     },
     "execution_count": 12,
     "metadata": {},
     "output_type": "execute_result"
    }
   ],
   "source": [
    "rf_titanic.validate(df_test)"
   ]
  },
  {
   "cell_type": "code",
   "execution_count": 13,
   "metadata": {},
   "outputs": [],
   "source": [
    "gbt_titanic = GradientBoostedTree(\n",
    "    df=df_titanic.copy(),\n",
    "    y_name=\"Survived\",\n",
    "    cart_settings={\"max_depth\": 2, \"min_leaf_samples\": 10, \"min_split_samples\": 10},\n",
    "    sample_frac=0.75,\n",
    "    n_attributes=9,\n",
    ")"
   ]
  },
  {
   "cell_type": "code",
   "execution_count": 14,
   "metadata": {},
   "outputs": [
    {
     "data": {
      "text/plain": [
       "['PassengerId',\n",
       " 'Pclass',\n",
       " 'Name',\n",
       " 'Sex',\n",
       " 'Age',\n",
       " 'SibSp',\n",
       " 'Parch',\n",
       " 'Ticket',\n",
       " 'Fare',\n",
       " 'Cabin',\n",
       " 'Embarked']"
      ]
     },
     "execution_count": 14,
     "metadata": {},
     "output_type": "execute_result"
    }
   ],
   "source": [
    "gbt_titanic.X_names"
   ]
  },
  {
   "cell_type": "code",
   "execution_count": 15,
   "metadata": {},
   "outputs": [
    {
     "name": "stderr",
     "output_type": "stream",
     "text": [
      "INFO:numexpr.utils:NumExpr defaulting to 4 threads.\n"
     ]
    }
   ],
   "source": [
    "it = gbt_titanic._initial_tree()"
   ]
  },
  {
   "cell_type": "code",
   "execution_count": 16,
   "metadata": {},
   "outputs": [
    {
     "name": "stdout",
     "output_type": "stream",
     "text": [
      "0.6092814371257484\n",
      "\n"
     ]
    }
   ],
   "source": [
    "viz.print_tree(it.tree)"
   ]
  },
  {
   "cell_type": "code",
   "execution_count": 17,
   "metadata": {},
   "outputs": [
    {
     "data": {
      "text/plain": [
       "<binarybeech.tree.Node at 0x216bc0e0eb0>"
      ]
     },
     "execution_count": 17,
     "metadata": {},
     "output_type": "execute_result"
    }
   ],
   "source": [
    "it.tree.root"
   ]
  },
  {
   "cell_type": "code",
   "execution_count": 18,
   "metadata": {},
   "outputs": [],
   "source": [
    "gbt_titanic.learning_rate = 0.01\n",
    "# gbt_titanic.create_trees(200)"
   ]
  },
  {
   "cell_type": "code",
   "execution_count": 19,
   "metadata": {},
   "outputs": [
    {
     "data": {
      "text/plain": [
       "array([0.60928144])"
      ]
     },
     "execution_count": 19,
     "metadata": {},
     "output_type": "execute_result"
    }
   ],
   "source": [
    "gbt_titanic.predict(df_titanic.iloc[[0]])"
   ]
  },
  {
   "cell_type": "code",
   "execution_count": 20,
   "metadata": {},
   "outputs": [
    {
     "name": "stderr",
     "output_type": "stream",
     "text": [
      "c:\\Users\\susanne\\git\\binarybeech\\binarybeech\\metrics.py:34: RuntimeWarning: invalid value encountered in true_divide\n",
      "  return np.diag(m) / np.sum(m, axis=0)\n"
     ]
    },
    {
     "data": {
      "text/plain": [
       "{'precision': array([0., 1.]),\n",
       " 'recall': array([       nan, 0.38383838]),\n",
       " 'F-score': nan,\n",
       " 'accuracy': 0.3838383838383838}"
      ]
     },
     "execution_count": 20,
     "metadata": {},
     "output_type": "execute_result"
    }
   ],
   "source": [
    "gbt_titanic.validate(df_test)"
   ]
  },
  {
   "attachments": {},
   "cell_type": "markdown",
   "metadata": {
    "tags": []
   },
   "source": [
    "#k-fold cross-validation"
   ]
  },
  {
   "cell_type": "code",
   "execution_count": 21,
   "metadata": {},
   "outputs": [],
   "source": [
    "c = CART(df=df_titanic, y_name=\"Survived\", method=\"classification\")"
   ]
  },
  {
   "cell_type": "code",
   "execution_count": 22,
   "metadata": {},
   "outputs": [
    {
     "name": "stderr",
     "output_type": "stream",
     "text": [
      "INFO:binarybeech.binarybeech:beta_best: 0.0035785287704622527\n"
     ]
    }
   ],
   "source": [
    "c.train(slack=1e-3)"
   ]
  },
  {
   "cell_type": "code",
   "execution_count": 23,
   "metadata": {},
   "outputs": [
    {
     "data": {
      "text/plain": [
       "6"
      ]
     },
     "execution_count": 23,
     "metadata": {},
     "output_type": "execute_result"
    }
   ],
   "source": [
    "c.tree.leaf_count()"
   ]
  },
  {
   "cell_type": "code",
   "execution_count": 24,
   "metadata": {},
   "outputs": [
    {
     "name": "stdout",
     "output_type": "stream",
     "text": [
      "Sex in ('female',)\n",
      "├── False:0\n",
      "└── True: Pclass<3.00\n",
      "    ├── False:Fare<24.54\n",
      "    │   ├── False:0\n",
      "    │   └── True: Embarked in ('S',)\n",
      "    │       ├── False:1\n",
      "    │       └── True: PassengerId<626.41\n",
      "    │           ├── False:1\n",
      "    │           └── True: 0\n",
      "    └── True: 1\n",
      "\n"
     ]
    }
   ],
   "source": [
    "viz.print_tree(c.tree)"
   ]
  },
  {
   "cell_type": "code",
   "execution_count": 25,
   "metadata": {},
   "outputs": [
    {
     "data": {
      "text/plain": [
       "{'precision': array([0.9435337 , 0.60526316]),\n",
       " 'recall': array([0.79326187, 0.8697479 ]),\n",
       " 'F-score': 0.7878449710253026,\n",
       " 'accuracy': 0.813692480359147}"
      ]
     },
     "execution_count": 25,
     "metadata": {},
     "output_type": "execute_result"
    }
   ],
   "source": [
    "c.validate(df_test)"
   ]
  }
 ],
 "metadata": {
  "kernelspec": {
   "display_name": "Python 3",
   "language": "python",
   "name": "python3"
  },
  "language_info": {
   "codemirror_mode": {
    "name": "ipython",
    "version": 3
   },
   "file_extension": ".py",
   "mimetype": "text/x-python",
   "name": "python",
   "nbconvert_exporter": "python",
   "pygments_lexer": "ipython3",
   "version": "3.8.3"
  }
 },
 "nbformat": 4,
 "nbformat_minor": 5
}
