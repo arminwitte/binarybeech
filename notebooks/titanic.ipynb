{
 "cells": [
  {
   "cell_type": "code",
   "execution_count": 77,
   "metadata": {},
   "outputs": [],
   "source": [
    "try:\n",
    "    passes += 1\n",
    "except NameError:\n",
    "    %cd ..\n",
    "    passes = 1"
   ]
  },
  {
   "cell_type": "code",
   "execution_count": 78,
   "metadata": {},
   "outputs": [],
   "source": [
    "import pandas as pd"
   ]
  },
  {
   "cell_type": "code",
   "execution_count": 79,
   "metadata": {},
   "outputs": [],
   "source": [
    "df = pd.read_csv(\"data/titanic_kaggle.csv\")\n",
    "df_titanic = df.sample(frac=0.75)\n",
    "df_test = df.loc[df.index.difference(df_titanic), :]"
   ]
  },
  {
   "cell_type": "code",
   "execution_count": 80,
   "metadata": {},
   "outputs": [],
   "source": [
    "from binarybeech.binarybeech import *\n",
    "import binarybeech.utils as utils"
   ]
  },
  {
   "cell_type": "code",
   "execution_count": 81,
   "metadata": {},
   "outputs": [],
   "source": [
    "import logging\n",
    "\n",
    "logging.basicConfig(level=logging.INFO)"
   ]
  },
  {
   "cell_type": "code",
   "execution_count": 82,
   "metadata": {},
   "outputs": [
    {
     "name": "stdout",
     "output_type": "stream",
     "text": [
      "WARNING: {method} is not a registered method group. Chosing 'default'.\n"
     ]
    }
   ],
   "source": [
    "rf_titanic = RandomForest(\n",
    "    df=df_titanic.copy(),\n",
    "    y_name=\"Survived\",\n",
    "    cart_settings={\"max_depth\": 4, \"min_leaf_samples\": 2, \"min_split_samples\": 2},\n",
    "    sample_frac=0.3,\n",
    "    n_attributes=5,\n",
    "    method=\"classification\",\n",
    ")"
   ]
  },
  {
   "cell_type": "code",
   "execution_count": 83,
   "metadata": {},
   "outputs": [
    {
     "name": "stdout",
     "output_type": "stream",
     "text": [
      "A tree with 15 leafs was created\n",
      "A tree with 10 leafs was created\n",
      "A tree with 11 leafs was created\n",
      "A tree with 11 leafs was created\n",
      "A tree with 13 leafs was created\n",
      "A tree with 12 leafs was created\n",
      "A tree with 10 leafs was created\n",
      "A tree with 11 leafs was created\n",
      "A tree with 12 leafs was created\n",
      "A tree with 12 leafs was created\n",
      "A tree with 11 leafs was created\n",
      "A tree with 13 leafs was created\n",
      "A tree with 10 leafs was created\n",
      "A tree with 10 leafs was created\n",
      "A tree with 14 leafs was created\n",
      "A tree with 12 leafs was created\n",
      "A tree with 13 leafs was created\n",
      "A tree with 13 leafs was created\n",
      "A tree with 11 leafs was created\n",
      "A tree with 12 leafs was created\n"
     ]
    }
   ],
   "source": [
    "rf_titanic.train(20)"
   ]
  },
  {
   "cell_type": "code",
   "execution_count": 84,
   "metadata": {},
   "outputs": [
    {
     "data": {
      "text/plain": [
       "{'precision': array([0.91463415, 0.57751938]),\n",
       " 'recall': array([0.77479339, 0.80978261]),\n",
       " 'F-score': 0.7565671596465122,\n",
       " 'accuracy': 0.7844311377245509}"
      ]
     },
     "execution_count": 84,
     "metadata": {},
     "output_type": "execute_result"
    }
   ],
   "source": [
    "rf_titanic.validate_oob()"
   ]
  },
  {
   "cell_type": "code",
   "execution_count": 85,
   "metadata": {},
   "outputs": [
    {
     "data": {
      "text/plain": [
       "{'precision': array([0.93658537, 0.59689922]),\n",
       " 'recall': array([0.78688525, 0.85555556]),\n",
       " 'F-score': 0.7792151000193226,\n",
       " 'accuracy': 0.8053892215568862}"
      ]
     },
     "execution_count": 85,
     "metadata": {},
     "output_type": "execute_result"
    }
   ],
   "source": [
    "rf_titanic.validate()"
   ]
  },
  {
   "cell_type": "code",
   "execution_count": 86,
   "metadata": {},
   "outputs": [
    {
     "data": {
      "text/plain": [
       "{'Sex': 1.0,\n",
       " 'Fare': 0.22246220302375816,\n",
       " 'Age': 0.1987041036717063,\n",
       " 'Pclass': 0.09287257019438439,\n",
       " 'PassengerId': 0.08423326133909285,\n",
       " 'SibSp': 0.06695464362850974,\n",
       " 'Parch': 0.047516198704103646,\n",
       " 'Embarked': 0.032397408207343464,\n",
       " 'Name': 0.0,\n",
       " 'Ticket': 0.0,\n",
       " 'Cabin': 0.0}"
      ]
     },
     "execution_count": 86,
     "metadata": {},
     "output_type": "execute_result"
    }
   ],
   "source": [
    "rf_titanic.variable_importance()"
   ]
  },
  {
   "cell_type": "code",
   "execution_count": 87,
   "metadata": {},
   "outputs": [
    {
     "name": "stdout",
     "output_type": "stream",
     "text": [
      "Sex       |############################### 1.0\n",
      "Fare      |#######                        0.22\n",
      "Age       |######                          0.2\n",
      "Pclass    |###                            0.093\n",
      "PassengerId|###                            0.084\n",
      "SibSp     |##                             0.067\n",
      "Parch     |#                              0.048\n",
      "Embarked  |#                              0.032\n",
      "Name      |                                0.0\n",
      "Ticket    |                                0.0\n",
      "Cabin     |                                0.0\n"
     ]
    }
   ],
   "source": [
    "import binarybeech.visualize as viz\n",
    "\n",
    "viz.print_bars(rf_titanic.variable_importance(), max_width=50)"
   ]
  },
  {
   "cell_type": "code",
   "execution_count": 88,
   "metadata": {},
   "outputs": [
    {
     "data": {
      "text/plain": [
       "{'precision': array([0.94899818, 0.56432749]),\n",
       " 'recall': array([0.77761194, 0.87330317]),\n",
       " 'F-score': 0.7702059021094365,\n",
       " 'accuracy': 0.8013468013468014}"
      ]
     },
     "execution_count": 88,
     "metadata": {},
     "output_type": "execute_result"
    }
   ],
   "source": [
    "rf_titanic.validate(df_test)"
   ]
  },
  {
   "cell_type": "code",
   "execution_count": 89,
   "metadata": {},
   "outputs": [
    {
     "name": "stdout",
     "output_type": "stream",
     "text": [
      "WARNING: {method} is not a registered method group. Chosing 'default'.\n"
     ]
    }
   ],
   "source": [
    "gbt_titanic = GradientBoostedTree(\n",
    "    df=df_titanic.copy(),\n",
    "    y_name=\"Survived\",\n",
    "    cart_settings={\"max_depth\": 2, \"min_leaf_samples\": 10, \"min_split_samples\": 10},\n",
    "    sample_frac=0.75,\n",
    "    n_attributes=9,\n",
    ")"
   ]
  },
  {
   "cell_type": "code",
   "execution_count": 90,
   "metadata": {},
   "outputs": [
    {
     "data": {
      "text/plain": [
       "['PassengerId',\n",
       " 'Pclass',\n",
       " 'Name',\n",
       " 'Sex',\n",
       " 'Age',\n",
       " 'SibSp',\n",
       " 'Parch',\n",
       " 'Ticket',\n",
       " 'Fare',\n",
       " 'Cabin',\n",
       " 'Embarked']"
      ]
     },
     "execution_count": 90,
     "metadata": {},
     "output_type": "execute_result"
    }
   ],
   "source": [
    "gbt_titanic.X_names"
   ]
  },
  {
   "cell_type": "code",
   "execution_count": 91,
   "metadata": {},
   "outputs": [
    {
     "name": "stdout",
     "output_type": "stream",
     "text": [
      "A tree with 1 leafs was created\n"
     ]
    }
   ],
   "source": [
    "it = gbt_titanic._initial_tree()"
   ]
  },
  {
   "cell_type": "code",
   "execution_count": 92,
   "metadata": {},
   "outputs": [
    {
     "name": "stdout",
     "output_type": "stream",
     "text": [
      "0.6137724550898204\n",
      "\n"
     ]
    }
   ],
   "source": [
    "viz.print_tree(it.tree)"
   ]
  },
  {
   "cell_type": "code",
   "execution_count": 93,
   "metadata": {},
   "outputs": [
    {
     "data": {
      "text/plain": [
       "<binarybeech.tree.Node at 0x7fef2dd0a5e0>"
      ]
     },
     "execution_count": 93,
     "metadata": {},
     "output_type": "execute_result"
    }
   ],
   "source": [
    "it.tree.root"
   ]
  },
  {
   "cell_type": "code",
   "execution_count": 94,
   "metadata": {},
   "outputs": [],
   "source": [
    "gbt_titanic.learning_rate = 0.01\n",
    "# gbt_titanic.create_trees(200)"
   ]
  },
  {
   "cell_type": "code",
   "execution_count": 95,
   "metadata": {},
   "outputs": [
    {
     "data": {
      "text/plain": [
       "array([0.61377246])"
      ]
     },
     "execution_count": 95,
     "metadata": {},
     "output_type": "execute_result"
    }
   ],
   "source": [
    "gbt_titanic.predict(df_titanic.iloc[[0]])"
   ]
  },
  {
   "cell_type": "code",
   "execution_count": 96,
   "metadata": {},
   "outputs": [
    {
     "name": "stderr",
     "output_type": "stream",
     "text": [
      "/home/armin/git/binarybeech/binarybeech/metrics.py:34: RuntimeWarning: invalid value encountered in true_divide\n",
      "  return np.diag(m) / np.sum(m, axis=0)\n"
     ]
    },
    {
     "data": {
      "text/plain": [
       "{'precision': array([0., 1.]),\n",
       " 'recall': array([       nan, 0.38383838]),\n",
       " 'F-score': nan,\n",
       " 'accuracy': 0.3838383838383838}"
      ]
     },
     "execution_count": 96,
     "metadata": {},
     "output_type": "execute_result"
    }
   ],
   "source": [
    "gbt_titanic.validate(df_test)"
   ]
  },
  {
   "attachments": {},
   "cell_type": "markdown",
   "metadata": {
    "tags": []
   },
   "source": [
    "#k-fold cross-validation"
   ]
  },
  {
   "cell_type": "code",
   "execution_count": 97,
   "metadata": {},
   "outputs": [
    {
     "name": "stdout",
     "output_type": "stream",
     "text": [
      "WARNING: {method} is not a registered method group. Chosing 'default'.\n"
     ]
    }
   ],
   "source": [
    "c = CART(df=df_titanic, y_name=\"Survived\", method=\"classification\")"
   ]
  },
  {
   "cell_type": "code",
   "execution_count": 98,
   "metadata": {},
   "outputs": [
    {
     "name": "stdout",
     "output_type": "stream",
     "text": [
      "A tree with 107 leafs was created\n",
      "A tree with 87 leafs was created\n",
      "A tree with 108 leafs was created\n",
      "A tree with 82 leafs was created\n",
      "A tree with 90 leafs was created\n",
      "A tree with 86 leafs was created\n"
     ]
    },
    {
     "name": "stderr",
     "output_type": "stream",
     "text": [
      "INFO:binarybeech.binarybeech:beta_best: 0.0012223002708498891\n"
     ]
    },
    {
     "name": "stdout",
     "output_type": "stream",
     "text": [
      "A tree with 107 leafs was created\n"
     ]
    }
   ],
   "source": [
    "c.train(slack=1e-3)"
   ]
  },
  {
   "cell_type": "code",
   "execution_count": 99,
   "metadata": {},
   "outputs": [
    {
     "data": {
      "text/plain": [
       "31"
      ]
     },
     "execution_count": 99,
     "metadata": {},
     "output_type": "execute_result"
    }
   ],
   "source": [
    "c.tree.leaf_count()"
   ]
  },
  {
   "cell_type": "code",
   "execution_count": 100,
   "metadata": {},
   "outputs": [
    {
     "name": "stdout",
     "output_type": "stream",
     "text": [
      "Sex in ('female',)\n",
      "├── False:Age<12.70\n",
      "│   ├── False:Pclass<1.00\n",
      "│   │   ├── False:Fare<48.17\n",
      "│   │   │   ├── False:Fare<69.49\n",
      "│   │   │   │   ├── False:0\n",
      "│   │   │   │   └── True: 1\n",
      "│   │   │   └── True: 0\n",
      "│   │   └── True: PassengerId<564.39\n",
      "│   │       ├── False:PassengerId<744.42\n",
      "│   │       │   ├── False:0\n",
      "│   │       │   └── True: Parch<1.94\n",
      "│   │       │       ├── False:0\n",
      "│   │       │       └── True: 1\n",
      "│   │       └── True: Age<52.68\n",
      "│   │           ├── False:0\n",
      "│   │           └── True: PassengerId<390.81\n",
      "│   │               ├── False:PassengerId<476.56\n",
      "│   │               │   ├── False:0\n",
      "│   │               │   └── True: 1\n",
      "│   │               └── True: PassengerId<186.66\n",
      "│   │                   ├── False:PassengerId<243.44\n",
      "│   │                   │   ├── False:0\n",
      "│   │                   │   └── True: 1\n",
      "│   │                   └── True: 0\n",
      "│   └── True: SibSp<1.87\n",
      "│       ├── False:0\n",
      "│       └── True: 1\n",
      "└── True: Pclass<2.99\n",
      "    ├── False:Fare<20.58\n",
      "    │   ├── False:Embarked in ('S',)\n",
      "    │   │   ├── False:PassengerId<795.71\n",
      "    │   │   │   ├── False:0\n",
      "    │   │   │   └── True: 1\n",
      "    │   │   └── True: 0\n",
      "    │   └── True: PassengerId<393.83\n",
      "    │       ├── False:Age<19.30\n",
      "    │       │   ├── False:Fare<17.22\n",
      "    │       │   │   ├── False:1\n",
      "    │       │   │   └── True: Age<60.60\n",
      "    │       │   │       ├── False:1\n",
      "    │       │   │       └── True: 0\n",
      "    │       │   └── True: Fare<13.58\n",
      "    │       │       ├── False:PassengerId<603.31\n",
      "    │       │       │   ├── False:0\n",
      "    │       │       │   └── True: 1\n",
      "    │       │       └── True: 1\n",
      "    │       └── True: Age<35.15\n",
      "    │           ├── False:0\n",
      "    │           └── True: PassengerId<297.87\n",
      "    │               ├── False:1\n",
      "    │               └── True: Embarked in ('Q',)\n",
      "    │                   ├── False:Parch<1.93\n",
      "    │                   │   ├── False:1\n",
      "    │                   │   └── True: PassengerId<235.33\n",
      "    │                   │       ├── False:0\n",
      "    │                   │       └── True: Age<20.75\n",
      "    │                   │           ├── False:1\n",
      "    │                   │           └── True: 0\n",
      "    │                   └── True: 1\n",
      "    └── True: 1\n",
      "\n"
     ]
    }
   ],
   "source": [
    "viz.print_tree(c.tree)"
   ]
  },
  {
   "cell_type": "code",
   "execution_count": 101,
   "metadata": {},
   "outputs": [
    {
     "data": {
      "text/plain": [
       "{'precision': array([0.93624772, 0.74853801]),\n",
       " 'recall': array([0.85666667, 0.87972509]),\n",
       " 'F-score': 0.8517688985682996,\n",
       " 'accuracy': 0.8641975308641975}"
      ]
     },
     "execution_count": 101,
     "metadata": {},
     "output_type": "execute_result"
    }
   ],
   "source": [
    "c.validate(df_test)"
   ]
  }
 ],
 "metadata": {
  "kernelspec": {
   "display_name": "Python 3",
   "language": "python",
   "name": "python3"
  },
  "language_info": {
   "codemirror_mode": {
    "name": "ipython",
    "version": 3
   },
   "file_extension": ".py",
   "mimetype": "text/x-python",
   "name": "python",
   "nbconvert_exporter": "python",
   "pygments_lexer": "ipython3",
   "version": "3.8.8"
  }
 },
 "nbformat": 4,
 "nbformat_minor": 5
}
