{
 "cells": [
  {
   "cell_type": "code",
   "execution_count": 1,
   "metadata": {},
   "outputs": [
    {
     "name": "stdout",
     "output_type": "stream",
     "text": [
      "c:\\Users\\susanne\\git\\binarybeech\n"
     ]
    }
   ],
   "source": [
    "try:\n",
    "    passes += 1\n",
    "except NameError:\n",
    "    %cd ..\n",
    "    passes = 1"
   ]
  },
  {
   "cell_type": "code",
   "execution_count": 2,
   "metadata": {},
   "outputs": [],
   "source": [
    "import pandas as pd"
   ]
  },
  {
   "cell_type": "code",
   "execution_count": 3,
   "metadata": {},
   "outputs": [],
   "source": [
    "df = pd.read_csv(\"data/titanic_kaggle.csv\")\n",
    "df_titanic = df.sample(frac=0.75)\n",
    "df_test = df.loc[df.index.difference(df_titanic), :]"
   ]
  },
  {
   "cell_type": "code",
   "execution_count": 4,
   "metadata": {},
   "outputs": [],
   "source": [
    "from binarybeech.binarybeech import *\n",
    "import binarybeech.utils as utils"
   ]
  },
  {
   "cell_type": "code",
   "execution_count": 5,
   "metadata": {},
   "outputs": [],
   "source": [
    "import logging\n",
    "\n",
    "logging.basicConfig(level=logging.INFO)"
   ]
  },
  {
   "cell_type": "code",
   "execution_count": 6,
   "metadata": {},
   "outputs": [],
   "source": [
    "rf_titanic = RandomForest(\n",
    "    df=df_titanic.copy(),\n",
    "    y_name=\"Survived\",\n",
    "    cart_settings={\"max_depth\": 4, \"min_leaf_samples\": 2, \"min_split_samples\": 2},\n",
    "    sample_frac=0.3,\n",
    "    n_attributes=5,\n",
    "    metrics_type=\"classification\",\n",
    ")"
   ]
  },
  {
   "cell_type": "code",
   "execution_count": 7,
   "metadata": {},
   "outputs": [
    {
     "name": "stdout",
     "output_type": "stream",
     "text": [
      "A tree with 12 leafs was created\n",
      "A tree with 11 leafs was created\n",
      "A tree with 11 leafs was created\n",
      "A tree with 11 leafs was created\n",
      "A tree with 12 leafs was created\n",
      "A tree with 10 leafs was created\n",
      "A tree with 10 leafs was created\n",
      "A tree with 13 leafs was created\n",
      "A tree with 9 leafs was created\n",
      "A tree with 12 leafs was created\n",
      "A tree with 10 leafs was created\n",
      "A tree with 5 leafs was created\n",
      "A tree with 15 leafs was created\n",
      "A tree with 15 leafs was created\n",
      "A tree with 11 leafs was created\n",
      "A tree with 8 leafs was created\n",
      "A tree with 11 leafs was created\n",
      "A tree with 10 leafs was created\n",
      "A tree with 14 leafs was created\n",
      "A tree with 12 leafs was created\n"
     ]
    }
   ],
   "source": [
    "rf_titanic.train(20)"
   ]
  },
  {
   "cell_type": "code",
   "execution_count": 8,
   "metadata": {},
   "outputs": [
    {
     "data": {
      "text/plain": [
       "{'precision': array([0.94660194, 0.46875   ]),\n",
       " 'recall': array([0.74144487, 0.84507042]),\n",
       " 'F-score': 0.7172857892875892,\n",
       " 'accuracy': 0.7634730538922155}"
      ]
     },
     "execution_count": 8,
     "metadata": {},
     "output_type": "execute_result"
    }
   ],
   "source": [
    "rf_titanic.validate_oob()"
   ]
  },
  {
   "cell_type": "code",
   "execution_count": 9,
   "metadata": {},
   "outputs": [
    {
     "data": {
      "text/plain": [
       "{'precision': array([0.98058252, 0.515625  ]),\n",
       " 'recall': array([0.76515152, 0.94285714]),\n",
       " 'F-score': 0.7631205673758865,\n",
       " 'accuracy': 0.8023952095808383}"
      ]
     },
     "execution_count": 9,
     "metadata": {},
     "output_type": "execute_result"
    }
   ],
   "source": [
    "rf_titanic.validate()"
   ]
  },
  {
   "cell_type": "code",
   "execution_count": 10,
   "metadata": {},
   "outputs": [
    {
     "data": {
      "text/plain": [
       "{'Sex': 1.0,\n",
       " 'Pclass': 0.39145907473309616,\n",
       " 'Fare': 0.26690391459074747,\n",
       " 'Age': 0.24199288256227758,\n",
       " 'Embarked': 0.10320284697508887,\n",
       " 'PassengerId': 0.09964412811387907,\n",
       " 'Parch': 0.08896797153024912,\n",
       " 'SibSp': 0.06761565836298931,\n",
       " 'Name': 0.0,\n",
       " 'Ticket': 0.0,\n",
       " 'Cabin': 0.0}"
      ]
     },
     "execution_count": 10,
     "metadata": {},
     "output_type": "execute_result"
    }
   ],
   "source": [
    "rf_titanic.variable_importance()"
   ]
  },
  {
   "cell_type": "code",
   "execution_count": 11,
   "metadata": {},
   "outputs": [
    {
     "name": "stdout",
     "output_type": "stream",
     "text": [
      "Sex       |############################### 1.0\n",
      "Pclass    |############                   0.39\n",
      "Fare      |########                       0.27\n",
      "Age       |########                       0.24\n",
      "Embarked  |###                             0.1\n",
      "PassengerId|###                             0.1\n",
      "Parch     |###                            0.089\n",
      "SibSp     |##                             0.068\n",
      "Name      |                                0.0\n",
      "Ticket    |                                0.0\n",
      "Cabin     |                                0.0\n"
     ]
    }
   ],
   "source": [
    "import binarybeech.utils as bu\n",
    "\n",
    "bu.print_bars(rf_titanic.variable_importance(), max_width=50)"
   ]
  },
  {
   "cell_type": "code",
   "execution_count": 12,
   "metadata": {},
   "outputs": [
    {
     "data": {
      "text/plain": [
       "{'precision': array([0.97632058, 0.48538012]),\n",
       " 'recall': array([0.75280899, 0.9273743 ]),\n",
       " 'F-score': 0.7436775188323559,\n",
       " 'accuracy': 0.7878787878787878}"
      ]
     },
     "execution_count": 12,
     "metadata": {},
     "output_type": "execute_result"
    }
   ],
   "source": [
    "rf_titanic.validate(df_test)"
   ]
  },
  {
   "cell_type": "code",
   "execution_count": 13,
   "metadata": {},
   "outputs": [],
   "source": [
    "gbt_titanic = GradientBoostedTree(\n",
    "    df=df_titanic.copy(),\n",
    "    y_name=\"Survived\",\n",
    "    cart_settings={\"max_depth\": 2, \"min_leaf_samples\": 10, \"min_split_samples\": 10},\n",
    "    sample_frac=0.75,\n",
    "    n_attributes=9,\n",
    ")"
   ]
  },
  {
   "cell_type": "code",
   "execution_count": 14,
   "metadata": {},
   "outputs": [
    {
     "data": {
      "text/plain": [
       "['PassengerId',\n",
       " 'Pclass',\n",
       " 'Name',\n",
       " 'Sex',\n",
       " 'Age',\n",
       " 'SibSp',\n",
       " 'Parch',\n",
       " 'Ticket',\n",
       " 'Fare',\n",
       " 'Cabin',\n",
       " 'Embarked']"
      ]
     },
     "execution_count": 14,
     "metadata": {},
     "output_type": "execute_result"
    }
   ],
   "source": [
    "gbt_titanic.X_names"
   ]
  },
  {
   "cell_type": "code",
   "execution_count": 15,
   "metadata": {},
   "outputs": [
    {
     "name": "stderr",
     "output_type": "stream",
     "text": [
      "INFO:numexpr.utils:NumExpr defaulting to 4 threads.\n"
     ]
    },
    {
     "name": "stdout",
     "output_type": "stream",
     "text": [
      "A tree with 1 leafs was created\n"
     ]
    }
   ],
   "source": [
    "it = gbt_titanic._initial_tree()"
   ]
  },
  {
   "cell_type": "code",
   "execution_count": 16,
   "metadata": {},
   "outputs": [
    {
     "name": "stdout",
     "output_type": "stream",
     "text": [
      "0.6167664670658682\n",
      "\n"
     ]
    }
   ],
   "source": [
    "utils.print_tree(it.tree)"
   ]
  },
  {
   "cell_type": "code",
   "execution_count": 17,
   "metadata": {},
   "outputs": [
    {
     "data": {
      "text/plain": [
       "<binarybeech.tree.Node at 0x16a376f68b0>"
      ]
     },
     "execution_count": 17,
     "metadata": {},
     "output_type": "execute_result"
    }
   ],
   "source": [
    "it.tree.root"
   ]
  },
  {
   "cell_type": "code",
   "execution_count": 18,
   "metadata": {},
   "outputs": [],
   "source": [
    "gbt_titanic.learning_rate = 0.01\n",
    "# gbt_titanic.create_trees(200)"
   ]
  },
  {
   "cell_type": "code",
   "execution_count": 19,
   "metadata": {},
   "outputs": [
    {
     "data": {
      "text/plain": [
       "array([0.61676647])"
      ]
     },
     "execution_count": 19,
     "metadata": {},
     "output_type": "execute_result"
    }
   ],
   "source": [
    "gbt_titanic.predict(df_titanic.iloc[[0]])"
   ]
  },
  {
   "cell_type": "code",
   "execution_count": 20,
   "metadata": {},
   "outputs": [
    {
     "name": "stderr",
     "output_type": "stream",
     "text": [
      "c:\\Users\\susanne\\git\\binarybeech\\binarybeech\\metrics.py:34: RuntimeWarning: invalid value encountered in true_divide\n",
      "  return np.diag(m) / np.sum(m, axis=0)\n"
     ]
    },
    {
     "data": {
      "text/plain": [
       "{'precision': array([0., 1.]),\n",
       " 'recall': array([       nan, 0.38383838]),\n",
       " 'F-score': nan,\n",
       " 'accuracy': 0.3838383838383838}"
      ]
     },
     "execution_count": 20,
     "metadata": {},
     "output_type": "execute_result"
    }
   ],
   "source": [
    "gbt_titanic.validate(df_test)"
   ]
  },
  {
   "attachments": {},
   "cell_type": "markdown",
   "metadata": {
    "tags": []
   },
   "source": [
    "#k-fold cross-validation"
   ]
  },
  {
   "cell_type": "code",
   "execution_count": 21,
   "metadata": {},
   "outputs": [],
   "source": [
    "c = CART(df=df_titanic, y_name=\"Survived\", metrics_type=\"classification\")"
   ]
  },
  {
   "cell_type": "code",
   "execution_count": 22,
   "metadata": {},
   "outputs": [
    {
     "name": "stdout",
     "output_type": "stream",
     "text": [
      "A tree with 99 leafs was created\n",
      "A tree with 92 leafs was created\n",
      "A tree with 78 leafs was created\n",
      "A tree with 87 leafs was created\n",
      "A tree with 85 leafs was created\n",
      "A tree with 92 leafs was created\n"
     ]
    },
    {
     "name": "stderr",
     "output_type": "stream",
     "text": [
      "INFO:binarybeech.binarybeech:beta_best: 0.005680738311679728\n"
     ]
    },
    {
     "name": "stdout",
     "output_type": "stream",
     "text": [
      "A tree with 99 leafs was created\n"
     ]
    }
   ],
   "source": [
    "c.train(slack=1e-3)"
   ]
  },
  {
   "cell_type": "code",
   "execution_count": 23,
   "metadata": {},
   "outputs": [
    {
     "data": {
      "text/plain": [
       "5"
      ]
     },
     "execution_count": 23,
     "metadata": {},
     "output_type": "execute_result"
    }
   ],
   "source": [
    "c.tree.leaf_count()"
   ]
  },
  {
   "cell_type": "code",
   "execution_count": 24,
   "metadata": {},
   "outputs": [
    {
     "name": "stdout",
     "output_type": "stream",
     "text": [
      "Sex in ('female',)\n",
      "├── False:Age<3.21\n",
      "│   ├── False:0\n",
      "│   └── True: 1\n",
      "└── True: Pclass<2.99\n",
      "    ├── False:Fare<20.82\n",
      "    │   ├── False:0\n",
      "    │   └── True: 1\n",
      "    └── True: 1\n",
      "\n"
     ]
    }
   ],
   "source": [
    "utils.print_tree(c.tree)"
   ]
  },
  {
   "cell_type": "code",
   "execution_count": 25,
   "metadata": {},
   "outputs": [
    {
     "data": {
      "text/plain": [
       "{'precision': array([0.89253188, 0.69883041]),\n",
       " 'recall': array([0.82630691, 0.80201342]),\n",
       " 'F-score': 0.8025093038528897,\n",
       " 'accuracy': 0.8181818181818182}"
      ]
     },
     "execution_count": 25,
     "metadata": {},
     "output_type": "execute_result"
    }
   ],
   "source": [
    "c.validate(df_test)"
   ]
  }
 ],
 "metadata": {
  "kernelspec": {
   "display_name": "Python 3",
   "language": "python",
   "name": "python3"
  },
  "language_info": {
   "codemirror_mode": {
    "name": "ipython",
    "version": 3
   },
   "file_extension": ".py",
   "mimetype": "text/x-python",
   "name": "python",
   "nbconvert_exporter": "python",
   "pygments_lexer": "ipython3",
   "version": "3.8.3"
  }
 },
 "nbformat": 4,
 "nbformat_minor": 5
}
