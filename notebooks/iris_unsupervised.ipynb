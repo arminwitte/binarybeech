{
 "cells": [
  {
   "cell_type": "code",
   "execution_count": 10,
   "metadata": {},
   "outputs": [],
   "source": [
    "try:\n",
    "    passes += 1\n",
    "except NameError:\n",
    "    %cd ..\n",
    "    passes = 1"
   ]
  },
  {
   "cell_type": "code",
   "execution_count": 11,
   "metadata": {},
   "outputs": [],
   "source": [
    "import pandas as pd\n",
    "import numpy as np\n",
    "import binarybeech.binarybeech as bb\n",
    "import logging\n",
    "\n",
    "logging.basicConfig(level=logging.INFO)"
   ]
  },
  {
   "attachments": {},
   "cell_type": "markdown",
   "metadata": {},
   "source": [
    "Iris dataset\n",
    "=="
   ]
  },
  {
   "cell_type": "code",
   "execution_count": 12,
   "metadata": {},
   "outputs": [],
   "source": [
    "df_iris_orig = pd.read_csv(\"data/iris.csv\")\n",
    "df_iris = df_iris_orig.drop(columns=[\"species\"])"
   ]
  },
  {
   "cell_type": "code",
   "execution_count": 13,
   "metadata": {},
   "outputs": [
    {
     "name": "stdout",
     "output_type": "stream",
     "text": [
      "sepal_length loss: -0.15025782525518672\n",
      "petal_length loss: -0.16863776132510316\n",
      "petal_width loss: -0.13935043004725742\n",
      "sepal_length loss: -0.1840474270265033\n",
      "sepal_width loss: -0.14044351177440367\n",
      "petal_width loss: -1.0392472533430951e-12\n",
      "sepal_length loss: -0.11866936510747746\n",
      "sepal_width loss: -0.16034393482207043\n",
      "petal_length loss: -0.1779594359572789\n",
      "petal_width loss: -1.1731181205199941e-12\n",
      "sepal_length loss: -0.1300995345448333\n",
      "sepal_width loss: -0.16419430562070075\n",
      "petal_length loss: -3.8032103325042577e-13\n",
      "petal_width loss: -9.462870952809856e-13\n",
      "sepal_length loss: -0.09980191693916261\n",
      "petal_length loss: -3.9388642177283926e-13\n",
      "petal_width loss: -9.764217078023972e-13\n",
      "sepal_length loss: -0.1500113428300219\n",
      "sepal_width loss: -0.14804095548588334\n",
      "petal_length loss: -5.403392445674152e-12\n",
      "petal_width loss: 0.0\n",
      "sepal_length loss: -0.1611594428256738\n",
      "petal_width loss: -0.20451470539014452\n",
      "petal_width loss: -1.2523025330665174e-12\n",
      "sepal_length loss: -0.11458901533073716\n",
      "sepal_width loss: -0.13426170358376718\n",
      "petal_length loss: -0.19245877501501177\n",
      "petal_width loss: -0.10188118893753939\n",
      "sepal_length loss: -0.23835299085072714\n",
      "sepal_width loss: -0.07911136268619853\n",
      "petal_length loss: -0.22844382631982613\n",
      "petal_width loss: -0.20281953111512\n",
      "sepal_length loss: -0.41092634872023476\n",
      "sepal_width loss: -0.08480703305325299\n",
      "petal_width loss: -0.16922269746959773\n",
      "sepal_width loss: -6.926846757298906e-12\n",
      "petal_width loss: -0.20391808903178574\n",
      "sepal_length loss: -0.17988764192662954\n",
      "sepal_width loss: -0.09025559952590236\n",
      "petal_length loss: -0.29614994045155096\n",
      "petal_width loss: -0.13811934167273948\n",
      "sepal_length loss: -0.2896900821449434\n",
      "sepal_width loss: -0.346230927865914\n",
      "petal_length loss: -5.1727712565155e-12\n",
      "petal_width loss: -0.2752893118088346\n",
      "sepal_length loss: -0.13117328564626338\n",
      "sepal_width loss: -1.1119565079122049e-11\n",
      "petal_length loss: -8.852084617322904e-12\n",
      "petal_width loss: -0.20391808904063782\n",
      "sepal_length loss: -0.3146685210399311\n",
      "sepal_width loss: -0.33976477070708616\n",
      "petal_length loss: -0.3058771335526774\n",
      "petal_width loss: -0.2926740223433885\n",
      "sepal_length loss: -0.2837910729958346\n",
      "sepal_width loss: -0.11936815450307355\n",
      "petal_length loss: -0.589949140970322\n",
      "petal_width loss: -0.3426657394830699\n",
      "A tree with 16 leafs was created\n"
     ]
    }
   ],
   "source": [
    "c_iris = bb.CART(\n",
    "    df=df_iris,\n",
    "    y_name=None,\n",
    "    # X_names=[\"petal_length\", \"petal_width\"],\n",
    "    algorithm_kwargs={\"unsupervised_minimum_relative_entropy_improvement\": -0.15},\n",
    "    method=\"clustering\",\n",
    "    max_depth=10,\n",
    "    min_leaf_samples=10,\n",
    ")\n",
    "c_iris.create_tree()\n",
    "p = c_iris.predict(df_iris)\n",
    "df_iris[\"species\"] = p"
   ]
  },
  {
   "cell_type": "code",
   "execution_count": 14,
   "metadata": {},
   "outputs": [
    {
     "data": {
      "text/plain": [
       "<matplotlib.collections.PathCollection at 0x7fe384696a60>"
      ]
     },
     "execution_count": 14,
     "metadata": {},
     "output_type": "execute_result"
    },
    {
     "data": {
      "image/png": "[encoded data removed]",
      "text/plain": [
       "<Figure size 432x288 with 1 Axes>"
      ]
     },
     "metadata": {
      "needs_background": "light"
     },
     "output_type": "display_data"
    }
   ],
   "source": [
    "import matplotlib.pyplot as plt\n",
    "\n",
    "# clusters = [n.value for n in c_iris.tree.nodes()]\n",
    "clusters = [n for n in df_iris_orig[\"species\"]]\n",
    "unique = np.unique(clusters)\n",
    "colors = {}\n",
    "for i, u in enumerate(unique):\n",
    "    colors[u] = i\n",
    "plt.scatter(\n",
    "    df_iris[\"petal_length\"],\n",
    "    df_iris[\"petal_width\"],\n",
    "    c=df_iris_orig[\"species\"].map(colors),\n",
    ")"
   ]
  },
  {
   "cell_type": "code",
   "execution_count": 15,
   "metadata": {},
   "outputs": [],
   "source": [
    "x, y = np.meshgrid(np.linspace(1, 7, 101), np.linspace(0, 8, 101))\n",
    "col = []\n",
    "for i in range(len(x.ravel())):\n",
    "    d = df_iris.iloc[120].copy()\n",
    "    d[\"petal_length\"] = x.ravel()[i]\n",
    "    d[\"petal_width\"] = y.ravel()[i]\n",
    "    col.append(c_iris.tree.traverse(d).value)\n",
    "unique = [u for u in np.unique(col)]\n",
    "for i, c in enumerate(col):\n",
    "    col[i] = unique.index(c) + 5\n",
    "z = np.array(col).reshape(x.shape)"
   ]
  },
  {
   "cell_type": "code",
   "execution_count": 16,
   "metadata": {},
   "outputs": [
    {
     "name": "stderr",
     "output_type": "stream",
     "text": [
      "/tmp/ipykernel_39684/1936089565.py:2: MatplotlibDeprecationWarning: shading='flat' when X and Y have the same dimensions as C is deprecated since 3.3.  Either specify the corners of the quadrilaterals with X and Y, or pass shading='auto', 'nearest' or 'gouraud', or set rcParams['pcolor.shading'].  This will become an error two minor releases later.\n",
      "  ax.pcolormesh(x, y, z, cmap=plt.get_cmap(\"PiYG\"))\n"
     ]
    },
    {
     "data": {
      "text/plain": [
       "<matplotlib.collections.PathCollection at 0x7fe384550070>"
      ]
     },
     "execution_count": 16,
     "metadata": {},
     "output_type": "execute_result"
    },
    {
     "data": {
      "image/png": "[encoded data removed]",
      "text/plain": [
       "<Figure size 432x288 with 1 Axes>"
      ]
     },
     "metadata": {
      "needs_background": "light"
     },
     "output_type": "display_data"
    }
   ],
   "source": [
    "fig, ax = plt.subplots()\n",
    "ax.pcolormesh(x, y, z, cmap=plt.get_cmap(\"PiYG\"))\n",
    "ax.scatter(\n",
    "    df_iris[\"petal_length\"],\n",
    "    df_iris[\"petal_width\"],\n",
    "    c=df_iris_orig[\"species\"].map(colors),\n",
    ")"
   ]
  },
  {
   "cell_type": "code",
   "execution_count": 17,
   "metadata": {},
   "outputs": [
    {
     "data": {
      "text/plain": [
       "(array([ 4.,  1.,  6.,  5., 12.,  8.,  4.,  5.,  2.,  3.]),\n",
       " array([4.3 , 4.45, 4.6 , 4.75, 4.9 , 5.05, 5.2 , 5.35, 5.5 , 5.65, 5.8 ]),\n",
       " <BarContainer object of 10 artists>)"
      ]
     },
     "execution_count": 17,
     "metadata": {},
     "output_type": "execute_result"
    },
    {
     "data": {
      "image/png": "[encoded data removed]",
      "text/plain": [
       "<Figure size 1080x360 with 3 Axes>"
      ]
     },
     "metadata": {
      "needs_background": "light"
     },
     "output_type": "display_data"
    }
   ],
   "source": [
    "fig, ax = plt.subplots(1, 3, figsize=(15, 5))\n",
    "ax[0].hist(df_iris[\"petal_length\"])\n",
    "ax[1].hist(df_iris[df_iris[\"petal_length\"] >= 2.64][\"petal_width\"])\n",
    "ax[2].hist(df_iris[df_iris[\"petal_length\"] < 2.64][\"sepal_length\"])"
   ]
  },
  {
   "cell_type": "code",
   "execution_count": 18,
   "metadata": {},
   "outputs": [
    {
     "name": "stdout",
     "output_type": "stream",
     "text": [
      "petal_length<2.64\n",
      "├── False:petal_width<1.66\n",
      "│   ├── False:petal_length<5.36\n",
      "│   │   ├── False:petal_length<5.78\n",
      "│   │   │   ├── False:sepal_width<3.41\n",
      "│   │   │   │   ├── False:cluster 3501f4a9-0ffe-4f87-b921-5f8fa6ae8b19\n",
      "│   │   │   │   └── True: petal_length<6.35\n",
      "│   │   │   │       ├── False:cluster 9b31309d-cf80-4617-8832-b2d564cb49b9\n",
      "│   │   │   │       └── True: cluster 8d2dfe38-d24b-4779-8916-ead7f7a78f88\n",
      "│   │   │   └── True: sepal_width<2.98\n",
      "│   │   │       ├── False:petal_width<2.29\n",
      "│   │   │       │   ├── False:cluster 4685a58c-7d88-4aff-accb-ad9af79a6947\n",
      "│   │   │       │   └── True: cluster 61814bcf-a732-4ecd-b9e1-8d8da3d3bd7e\n",
      "│   │   │       └── True: cluster c3847404-2b08-4cfe-91d8-ef858a35e2fa\n",
      "│   │   └── True: sepal_length<5.40\n",
      "│   │       ├── False:sepal_length<6.14\n",
      "│   │       │   ├── False:petal_width<2.12\n",
      "│   │       │   │   ├── False:cluster 1a90d6a5-3b50-4065-8b0e-545177ea8db3\n",
      "│   │       │   │   └── True: cluster 0541cc43-8f8a-464e-8d07-78b727112907\n",
      "│   │       │   └── True: cluster a21c704f-7852-47a8-9fe6-376deff5a570\n",
      "│   │       └── True: cluster 1923ebb5-9077-4bbd-9e4f-2f1710ebae5e\n",
      "│   └── True: cluster 89ae5141-0a37-4201-8c82-873f08ee2f83\n",
      "└── True: sepal_length<5.26\n",
      "    ├── False:sepal_length<5.65\n",
      "    │   ├── False:cluster 4016da3a-d256-43b8-afdf-5a700263c2f9\n",
      "    │   └── True: cluster a298fdb8-5d4e-4bf7-93b7-42df5bb9db5d\n",
      "    └── True: petal_length<1.19\n",
      "        ├── False:sepal_width<2.69\n",
      "        │   ├── False:cluster abd7cd85-de77-49d8-a5db-48542846b0ad\n",
      "        │   └── True: cluster 9fcb1a60-8487-4cf8-8254-b4fe598af4ce\n",
      "        └── True: cluster 2eed141f-e249-4e0c-abd1-52d210c14668\n",
      "\n"
     ]
    }
   ],
   "source": [
    "import binarybeech.visualize\n",
    "\n",
    "binarybeech.visualize.print_tree(c_iris.tree)"
   ]
  },
  {
   "cell_type": "code",
   "execution_count": 19,
   "metadata": {},
   "outputs": [
    {
     "data": {
      "text/plain": [
       "{}"
      ]
     },
     "execution_count": 19,
     "metadata": {},
     "output_type": "execute_result"
    }
   ],
   "source": [
    "c_iris.validate()"
   ]
  }
 ],
 "metadata": {
  "kernelspec": {
   "display_name": "base",
   "language": "python",
   "name": "python3"
  },
  "language_info": {
   "codemirror_mode": {
    "name": "ipython",
    "version": 3
   },
   "file_extension": ".py",
   "mimetype": "text/x-python",
   "name": "python",
   "nbconvert_exporter": "python",
   "pygments_lexer": "ipython3",
   "version": "3.8.8"
  },
  "vscode": {
   "interpreter": {
    "hash": "ad2bdc8ecc057115af97d19610ffacc2b4e99fae6737bb82f5d7fb13d2f2c186"
   }
  }
 },
 "nbformat": 4,
 "nbformat_minor": 4
}
