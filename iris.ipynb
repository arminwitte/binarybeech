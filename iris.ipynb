{
 "cells": [
  {
   "cell_type": "code",
   "execution_count": 1,
   "metadata": {},
   "outputs": [],
   "source": [
    "import pandas as pd\n",
    "import numpy as np\n",
    "import binarybeech.binarybeech as bb\n",
    "import matplotlib.pyplot as plt\n",
    "import logging\n",
    "logging.basicConfig(level=logging.INFO)\n"
   ]
  },
  {
   "cell_type": "markdown",
   "metadata": {},
   "source": [
    "Iris dataset\n",
    "=="
   ]
  },
  {
   "cell_type": "code",
   "execution_count": 2,
   "metadata": {},
   "outputs": [],
   "source": [
    "df_iris=pd.read_csv(\"data/iris.csv\")"
   ]
  },
  {
   "cell_type": "code",
   "execution_count": 3,
   "metadata": {
    "jupyter": {
     "source_hidden": true
    },
    "tags": []
   },
   "outputs": [
    {
     "data": {
      "text/html": [
       "<div>\n",
       "<style scoped>\n",
       "    .dataframe tbody tr th:only-of-type {\n",
       "        vertical-align: middle;\n",
       "    }\n",
       "\n",
       "    .dataframe tbody tr th {\n",
       "        vertical-align: top;\n",
       "    }\n",
       "\n",
       "    .dataframe thead th {\n",
       "        text-align: right;\n",
       "    }\n",
       "</style>\n",
       "<table border=\"1\" class=\"dataframe\">\n",
       "  <thead>\n",
       "    <tr style=\"text-align: right;\">\n",
       "      <th></th>\n",
       "      <th>petal_length</th>\n",
       "      <th>petal_width</th>\n",
       "    </tr>\n",
       "  </thead>\n",
       "  <tbody>\n",
       "    <tr>\n",
       "      <th>0</th>\n",
       "      <td>1.4</td>\n",
       "      <td>0.2</td>\n",
       "    </tr>\n",
       "    <tr>\n",
       "      <th>1</th>\n",
       "      <td>1.4</td>\n",
       "      <td>0.2</td>\n",
       "    </tr>\n",
       "    <tr>\n",
       "      <th>2</th>\n",
       "      <td>1.3</td>\n",
       "      <td>0.2</td>\n",
       "    </tr>\n",
       "    <tr>\n",
       "      <th>3</th>\n",
       "      <td>1.5</td>\n",
       "      <td>0.2</td>\n",
       "    </tr>\n",
       "    <tr>\n",
       "      <th>4</th>\n",
       "      <td>1.4</td>\n",
       "      <td>0.2</td>\n",
       "    </tr>\n",
       "    <tr>\n",
       "      <th>...</th>\n",
       "      <td>...</td>\n",
       "      <td>...</td>\n",
       "    </tr>\n",
       "    <tr>\n",
       "      <th>145</th>\n",
       "      <td>5.2</td>\n",
       "      <td>2.3</td>\n",
       "    </tr>\n",
       "    <tr>\n",
       "      <th>146</th>\n",
       "      <td>5.0</td>\n",
       "      <td>1.9</td>\n",
       "    </tr>\n",
       "    <tr>\n",
       "      <th>147</th>\n",
       "      <td>5.2</td>\n",
       "      <td>2.0</td>\n",
       "    </tr>\n",
       "    <tr>\n",
       "      <th>148</th>\n",
       "      <td>5.4</td>\n",
       "      <td>2.3</td>\n",
       "    </tr>\n",
       "    <tr>\n",
       "      <th>149</th>\n",
       "      <td>5.1</td>\n",
       "      <td>1.8</td>\n",
       "    </tr>\n",
       "  </tbody>\n",
       "</table>\n",
       "<p>150 rows × 2 columns</p>\n",
       "</div>"
      ],
      "text/plain": [
       "     petal_length  petal_width\n",
       "0             1.4          0.2\n",
       "1             1.4          0.2\n",
       "2             1.3          0.2\n",
       "3             1.5          0.2\n",
       "4             1.4          0.2\n",
       "..            ...          ...\n",
       "145           5.2          2.3\n",
       "146           5.0          1.9\n",
       "147           5.2          2.0\n",
       "148           5.4          2.3\n",
       "149           5.1          1.8\n",
       "\n",
       "[150 rows x 2 columns]"
      ]
     },
     "execution_count": 3,
     "metadata": {},
     "output_type": "execute_result"
    }
   ],
   "source": [
    "df_iris.columns\n",
    "X_names=[\"petal_length\",\"petal_width\"]\n",
    "df_iris[X_names]"
   ]
  },
  {
   "cell_type": "code",
   "execution_count": 4,
   "metadata": {},
   "outputs": [
    {
     "name": "stderr",
     "output_type": "stream",
     "text": [
      "INFO:binarybeech.binarybeech:A tree with 9 leafs was created\n"
     ]
    },
    {
     "data": {
      "text/plain": [
       "<binarybeech.binarybeech.Tree at 0x7f069e965e10>"
      ]
     },
     "execution_count": 4,
     "metadata": {},
     "output_type": "execute_result"
    }
   ],
   "source": [
    "\n",
    "c_iris = bb.CART(df_iris,\"species\",metrics_type=\"classification\")\n",
    "c_iris.create_tree()\n"
   ]
  },
  {
   "cell_type": "code",
   "execution_count": 5,
   "metadata": {},
   "outputs": [
    {
     "data": {
      "text/plain": [
       "'setosa'"
      ]
     },
     "execution_count": 5,
     "metadata": {},
     "output_type": "execute_result"
    }
   ],
   "source": [
    "c_iris.tree.predict(df_iris.iloc[0]).value"
   ]
  },
  {
   "cell_type": "code",
   "execution_count": 6,
   "metadata": {},
   "outputs": [
    {
     "data": {
      "text/plain": [
       "{'N': 50, 'r': 0.0, 'R': 0.0}"
      ]
     },
     "execution_count": 6,
     "metadata": {},
     "output_type": "execute_result"
    }
   ],
   "source": [
    "c_iris.tree.root.branches[0].pinfo\n"
   ]
  },
  {
   "cell_type": "code",
   "execution_count": 7,
   "metadata": {},
   "outputs": [
    {
     "data": {
      "text/plain": [
       "{'alpha': [0,\n",
       "  0.0033333333333333327,\n",
       "  0.004444444444444441,\n",
       "  0.019999999999999987,\n",
       "  0.29333333333333333],\n",
       " 'R': [0.006666666666666665,\n",
       "  0.019999999999999987,\n",
       "  0.03999999999999997,\n",
       "  0.3333333333333333,\n",
       "  0.6666666666666667],\n",
       " 'n_leafs': [7, 4, 3, 2, 1]}"
      ]
     },
     "execution_count": 7,
     "metadata": {},
     "output_type": "execute_result"
    }
   ],
   "source": [
    "c_iris.prune()\n"
   ]
  },
  {
   "cell_type": "code",
   "execution_count": 8,
   "metadata": {},
   "outputs": [
    {
     "name": "stderr",
     "output_type": "stream",
     "text": [
      "INFO:binarybeech.binarybeech:A tree with 9 leafs was created\n"
     ]
    },
    {
     "data": {
      "text/plain": [
       "{'alpha': [0], 'R': [0.006666666666666665], 'n_leafs': [7]}"
      ]
     },
     "execution_count": 8,
     "metadata": {},
     "output_type": "execute_result"
    }
   ],
   "source": [
    "c_iris.create_tree()\n",
    "c_iris.prune(alpha_max = 2e-3)\n"
   ]
  },
  {
   "cell_type": "code",
   "execution_count": 9,
   "metadata": {},
   "outputs": [
    {
     "data": {
      "text/plain": [
       "<matplotlib.collections.PathCollection at 0x7f069e91f310>"
      ]
     },
     "execution_count": 9,
     "metadata": {},
     "output_type": "execute_result"
    },
    {
     "data": {
      "image/png": "[encoded data removed]",
      "text/plain": [
       "<Figure size 640x480 with 1 Axes>"
      ]
     },
     "metadata": {},
     "output_type": "display_data"
    }
   ],
   "source": [
    "import matplotlib.pyplot as plt\n",
    "colors = {\"setosa\":\"red\", \"versicolor\":\"blue\", \"virginica\":\"green\"}\n",
    "plt.scatter(df_iris[\"petal_length\"],df_iris[\"petal_width\"],c=df_iris[\"species\"].map(colors))\n"
   ]
  },
  {
   "cell_type": "code",
   "execution_count": 10,
   "metadata": {},
   "outputs": [],
   "source": [
    "\n",
    "x, y = np.meshgrid(np.linspace(1,7,11),np.linspace(0,2.5,11))\n",
    "col = []\n",
    "for i in range(len(x.ravel())):\n",
    "    d = df_iris.iloc[120].copy()\n",
    "    d[\"petal_length\"] = x.ravel()[i]\n",
    "    d[\"petal_width\"] = y.ravel()[i]\n",
    "    col.append(c_iris.tree.predict(d).value)\n",
    "for i in range(len(col)):\n",
    "    if col[i] == \"setosa\":\n",
    "        col[i] = 0\n",
    "    if col[i] == \"versicolor\":\n",
    "        col[i] = 1\n",
    "    if col[i] == \"virginica\":\n",
    "        col[i] = 2\n",
    "z = np.array(col).reshape(x.shape)"
   ]
  },
  {
   "cell_type": "code",
   "execution_count": 11,
   "metadata": {},
   "outputs": [
    {
     "data": {
      "text/plain": [
       "<matplotlib.collections.PathCollection at 0x7f069c447210>"
      ]
     },
     "execution_count": 11,
     "metadata": {},
     "output_type": "execute_result"
    },
    {
     "data": {
      "image/png": "[encoded data removed]",
      "text/plain": [
       "<Figure size 640x480 with 1 Axes>"
      ]
     },
     "metadata": {},
     "output_type": "display_data"
    }
   ],
   "source": [
    "fig, ax = plt.subplots()\n",
    "ax.pcolormesh(x,y,z)\n",
    "ax.scatter(df_iris[\"petal_length\"],df_iris[\"petal_width\"],c=df_iris[\"species\"].map(colors))"
   ]
  },
  {
   "cell_type": "code",
   "execution_count": 12,
   "metadata": {},
   "outputs": [
    {
     "data": {
      "text/plain": [
       "{'precision': array([1.  , 0.98, 1.  ]),\n",
       " 'recall': array([1.        , 1.        , 0.98039216]),\n",
       " 'F-score': 0.9933326665999934,\n",
       " 'accuracy': 0.9933333333333333}"
      ]
     },
     "execution_count": 12,
     "metadata": {},
     "output_type": "execute_result"
    }
   ],
   "source": [
    "c_iris.validate()"
   ]
  },
  {
   "cell_type": "code",
   "execution_count": 13,
   "metadata": {},
   "outputs": [
    {
     "name": "stderr",
     "output_type": "stream",
     "text": [
      "INFO:binarybeech.binarybeech:A tree with 9 leafs was created\n",
      "INFO:binarybeech.binarybeech:A tree with 7 leafs was created\n",
      "/home/jovyan/binarybeech/metrics.py:106: RuntimeWarning: invalid value encountered in true_divide\n",
      "  return np.diag(m) / np.sum(m, axis=0)\n",
      "INFO:binarybeech.binarybeech:A tree with 9 leafs was created\n",
      "INFO:binarybeech.binarybeech:A tree with 8 leafs was created\n",
      "INFO:binarybeech.binarybeech:A tree with 9 leafs was created\n",
      "INFO:binarybeech.binarybeech:A tree with 9 leafs was created\n",
      "INFO:binarybeech.binarybeech:beta_best: 0.003849001794597503\n",
      "INFO:binarybeech.binarybeech:A tree with 9 leafs was created\n"
     ]
    },
    {
     "data": {
      "image/png": "[encoded data removed]",
      "text/plain": [
       "<Figure size 640x480 with 1 Axes>"
      ]
     },
     "metadata": {},
     "output_type": "display_data"
    }
   ],
   "source": [
    "c_iris.train()"
   ]
  },
  {
   "cell_type": "code",
   "execution_count": 14,
   "metadata": {},
   "outputs": [
    {
     "name": "stdout",
     "output_type": "stream",
     "text": [
      "petal_length<2.39\n",
      "├── False:petal_width<1.64\n",
      "│   ├── False:virginica\n",
      "│   └── True: petal_length<4.94\n",
      "│       ├── False:virginica\n",
      "│       └── True: versicolor\n",
      "└── True: setosa\n",
      "\n"
     ]
    }
   ],
   "source": [
    "c_iris.tree.show()"
   ]
  },
  {
   "cell_type": "code",
   "execution_count": 15,
   "metadata": {},
   "outputs": [
    {
     "data": {
      "text/plain": [
       "{'precision': array([1.  , 0.94, 1.  ]),\n",
       " 'recall': array([1.        , 1.        , 0.94339623]),\n",
       " 'F-score': 0.9799819837854069,\n",
       " 'accuracy': 0.98}"
      ]
     },
     "execution_count": 15,
     "metadata": {},
     "output_type": "execute_result"
    }
   ],
   "source": [
    "c_iris.validate()"
   ]
  },
  {
   "cell_type": "markdown",
   "metadata": {},
   "source": [
    "# Penguins dataset"
   ]
  },
  {
   "cell_type": "code",
   "execution_count": 16,
   "metadata": {},
   "outputs": [
    {
     "data": {
      "text/plain": [
       "Index(['rowid', 'species', 'island', 'bill_length_mm', 'bill_depth_mm',\n",
       "       'flipper_length_mm', 'body_mass_g', 'sex', 'year'],\n",
       "      dtype='object')"
      ]
     },
     "execution_count": 16,
     "metadata": {},
     "output_type": "execute_result"
    }
   ],
   "source": [
    "\n",
    "df_penguins = pd.read_csv(\"data/penguins.csv\")\n",
    "df_penguins.columns"
   ]
  },
  {
   "cell_type": "code",
   "execution_count": 17,
   "metadata": {},
   "outputs": [
    {
     "data": {
      "text/html": [
       "<div>\n",
       "<style scoped>\n",
       "    .dataframe tbody tr th:only-of-type {\n",
       "        vertical-align: middle;\n",
       "    }\n",
       "\n",
       "    .dataframe tbody tr th {\n",
       "        vertical-align: top;\n",
       "    }\n",
       "\n",
       "    .dataframe thead th {\n",
       "        text-align: right;\n",
       "    }\n",
       "</style>\n",
       "<table border=\"1\" class=\"dataframe\">\n",
       "  <thead>\n",
       "    <tr style=\"text-align: right;\">\n",
       "      <th></th>\n",
       "      <th>rowid</th>\n",
       "      <th>species</th>\n",
       "      <th>island</th>\n",
       "      <th>bill_length_mm</th>\n",
       "      <th>bill_depth_mm</th>\n",
       "      <th>flipper_length_mm</th>\n",
       "      <th>body_mass_g</th>\n",
       "      <th>sex</th>\n",
       "      <th>year</th>\n",
       "    </tr>\n",
       "  </thead>\n",
       "  <tbody>\n",
       "    <tr>\n",
       "      <th>0</th>\n",
       "      <td>1</td>\n",
       "      <td>Adelie</td>\n",
       "      <td>Torgersen</td>\n",
       "      <td>39.1</td>\n",
       "      <td>18.7</td>\n",
       "      <td>181.0</td>\n",
       "      <td>3750.0</td>\n",
       "      <td>male</td>\n",
       "      <td>2007</td>\n",
       "    </tr>\n",
       "    <tr>\n",
       "      <th>1</th>\n",
       "      <td>2</td>\n",
       "      <td>Adelie</td>\n",
       "      <td>Torgersen</td>\n",
       "      <td>39.5</td>\n",
       "      <td>17.4</td>\n",
       "      <td>186.0</td>\n",
       "      <td>3800.0</td>\n",
       "      <td>female</td>\n",
       "      <td>2007</td>\n",
       "    </tr>\n",
       "    <tr>\n",
       "      <th>2</th>\n",
       "      <td>3</td>\n",
       "      <td>Adelie</td>\n",
       "      <td>Torgersen</td>\n",
       "      <td>40.3</td>\n",
       "      <td>18.0</td>\n",
       "      <td>195.0</td>\n",
       "      <td>3250.0</td>\n",
       "      <td>female</td>\n",
       "      <td>2007</td>\n",
       "    </tr>\n",
       "    <tr>\n",
       "      <th>3</th>\n",
       "      <td>4</td>\n",
       "      <td>Adelie</td>\n",
       "      <td>Torgersen</td>\n",
       "      <td>NaN</td>\n",
       "      <td>NaN</td>\n",
       "      <td>NaN</td>\n",
       "      <td>NaN</td>\n",
       "      <td>NaN</td>\n",
       "      <td>2007</td>\n",
       "    </tr>\n",
       "    <tr>\n",
       "      <th>4</th>\n",
       "      <td>5</td>\n",
       "      <td>Adelie</td>\n",
       "      <td>Torgersen</td>\n",
       "      <td>36.7</td>\n",
       "      <td>19.3</td>\n",
       "      <td>193.0</td>\n",
       "      <td>3450.0</td>\n",
       "      <td>female</td>\n",
       "      <td>2007</td>\n",
       "    </tr>\n",
       "    <tr>\n",
       "      <th>...</th>\n",
       "      <td>...</td>\n",
       "      <td>...</td>\n",
       "      <td>...</td>\n",
       "      <td>...</td>\n",
       "      <td>...</td>\n",
       "      <td>...</td>\n",
       "      <td>...</td>\n",
       "      <td>...</td>\n",
       "      <td>...</td>\n",
       "    </tr>\n",
       "    <tr>\n",
       "      <th>339</th>\n",
       "      <td>340</td>\n",
       "      <td>Chinstrap</td>\n",
       "      <td>Dream</td>\n",
       "      <td>55.8</td>\n",
       "      <td>19.8</td>\n",
       "      <td>207.0</td>\n",
       "      <td>4000.0</td>\n",
       "      <td>male</td>\n",
       "      <td>2009</td>\n",
       "    </tr>\n",
       "    <tr>\n",
       "      <th>340</th>\n",
       "      <td>341</td>\n",
       "      <td>Chinstrap</td>\n",
       "      <td>Dream</td>\n",
       "      <td>43.5</td>\n",
       "      <td>18.1</td>\n",
       "      <td>202.0</td>\n",
       "      <td>3400.0</td>\n",
       "      <td>female</td>\n",
       "      <td>2009</td>\n",
       "    </tr>\n",
       "    <tr>\n",
       "      <th>341</th>\n",
       "      <td>342</td>\n",
       "      <td>Chinstrap</td>\n",
       "      <td>Dream</td>\n",
       "      <td>49.6</td>\n",
       "      <td>18.2</td>\n",
       "      <td>193.0</td>\n",
       "      <td>3775.0</td>\n",
       "      <td>male</td>\n",
       "      <td>2009</td>\n",
       "    </tr>\n",
       "    <tr>\n",
       "      <th>342</th>\n",
       "      <td>343</td>\n",
       "      <td>Chinstrap</td>\n",
       "      <td>Dream</td>\n",
       "      <td>50.8</td>\n",
       "      <td>19.0</td>\n",
       "      <td>210.0</td>\n",
       "      <td>4100.0</td>\n",
       "      <td>male</td>\n",
       "      <td>2009</td>\n",
       "    </tr>\n",
       "    <tr>\n",
       "      <th>343</th>\n",
       "      <td>344</td>\n",
       "      <td>Chinstrap</td>\n",
       "      <td>Dream</td>\n",
       "      <td>50.2</td>\n",
       "      <td>18.7</td>\n",
       "      <td>198.0</td>\n",
       "      <td>3775.0</td>\n",
       "      <td>female</td>\n",
       "      <td>2009</td>\n",
       "    </tr>\n",
       "  </tbody>\n",
       "</table>\n",
       "<p>344 rows × 9 columns</p>\n",
       "</div>"
      ],
      "text/plain": [
       "     rowid    species     island  bill_length_mm  bill_depth_mm  \\\n",
       "0        1     Adelie  Torgersen            39.1           18.7   \n",
       "1        2     Adelie  Torgersen            39.5           17.4   \n",
       "2        3     Adelie  Torgersen            40.3           18.0   \n",
       "3        4     Adelie  Torgersen             NaN            NaN   \n",
       "4        5     Adelie  Torgersen            36.7           19.3   \n",
       "..     ...        ...        ...             ...            ...   \n",
       "339    340  Chinstrap      Dream            55.8           19.8   \n",
       "340    341  Chinstrap      Dream            43.5           18.1   \n",
       "341    342  Chinstrap      Dream            49.6           18.2   \n",
       "342    343  Chinstrap      Dream            50.8           19.0   \n",
       "343    344  Chinstrap      Dream            50.2           18.7   \n",
       "\n",
       "     flipper_length_mm  body_mass_g     sex  year  \n",
       "0                181.0       3750.0    male  2007  \n",
       "1                186.0       3800.0  female  2007  \n",
       "2                195.0       3250.0  female  2007  \n",
       "3                  NaN          NaN     NaN  2007  \n",
       "4                193.0       3450.0  female  2007  \n",
       "..                 ...          ...     ...   ...  \n",
       "339              207.0       4000.0    male  2009  \n",
       "340              202.0       3400.0  female  2009  \n",
       "341              193.0       3775.0    male  2009  \n",
       "342              210.0       4100.0    male  2009  \n",
       "343              198.0       3775.0  female  2009  \n",
       "\n",
       "[344 rows x 9 columns]"
      ]
     },
     "execution_count": 17,
     "metadata": {},
     "output_type": "execute_result"
    }
   ],
   "source": [
    "df_penguins"
   ]
  },
  {
   "cell_type": "code",
   "execution_count": 18,
   "metadata": {},
   "outputs": [],
   "source": [
    "\n",
    "c_penguins = bb.CART(df_penguins,\"species\",[\"island\",\"bill_length_mm\",\"bill_depth_mm\",\"flipper_length_mm\",\"body_mass_g\",\"sex\"],metrics_type=\"classification\")"
   ]
  },
  {
   "cell_type": "code",
   "execution_count": 19,
   "metadata": {},
   "outputs": [
    {
     "name": "stderr",
     "output_type": "stream",
     "text": [
      "INFO:binarybeech.binarybeech:A tree with 13 leafs was created\n"
     ]
    },
    {
     "data": {
      "text/plain": [
       "<binarybeech.binarybeech.Tree at 0x7f069c360890>"
      ]
     },
     "execution_count": 19,
     "metadata": {},
     "output_type": "execute_result"
    }
   ],
   "source": [
    "c_penguins.create_tree()"
   ]
  },
  {
   "cell_type": "code",
   "execution_count": 20,
   "metadata": {},
   "outputs": [
    {
     "data": {
      "text/plain": [
       "{'precision': array([1., 1., 1.]),\n",
       " 'recall': array([1., 1., 1.]),\n",
       " 'F-score': 1.0,\n",
       " 'accuracy': 1.0}"
      ]
     },
     "execution_count": 20,
     "metadata": {},
     "output_type": "execute_result"
    }
   ],
   "source": [
    "c_penguins.validate()"
   ]
  },
  {
   "cell_type": "code",
   "execution_count": 21,
   "metadata": {},
   "outputs": [
    {
     "data": {
      "text/plain": [
       "{'alpha': [0,\n",
       "  0.001453488372093023,\n",
       "  0.0014534883720930297,\n",
       "  0.0029069767441860465,\n",
       "  0.007267441860465099,\n",
       "  0.00872093023255814,\n",
       "  0.008720930232558143,\n",
       "  0.023255813953488393,\n",
       "  0.1482558139534884],\n",
       " 'R': [0.002906976744186046,\n",
       "  0.005813953488372105,\n",
       "  0.008720930232558152,\n",
       "  0.02325581395348835,\n",
       "  0.03197674418604649,\n",
       "  0.04069767441860463,\n",
       "  0.06395348837209303,\n",
       "  0.21220930232558144,\n",
       "  0.5581395348837209],\n",
       " 'n_leafs': [11, 9, 8, 6, 5, 4, 3, 2, 1]}"
      ]
     },
     "execution_count": 21,
     "metadata": {},
     "output_type": "execute_result"
    }
   ],
   "source": [
    "c_penguins.prune()\n"
   ]
  },
  {
   "cell_type": "code",
   "execution_count": 22,
   "metadata": {},
   "outputs": [
    {
     "name": "stderr",
     "output_type": "stream",
     "text": [
      "INFO:binarybeech.binarybeech:A tree with 13 leafs was created\n"
     ]
    },
    {
     "data": {
      "text/plain": [
       "{'alpha': [0,\n",
       "  0.001453488372093023,\n",
       "  0.0014534883720930297,\n",
       "  0.0029069767441860465],\n",
       " 'R': [0.002906976744186046,\n",
       "  0.005813953488372105,\n",
       "  0.008720930232558152,\n",
       "  0.02325581395348835],\n",
       " 'n_leafs': [11, 9, 8, 6]}"
      ]
     },
     "execution_count": 22,
     "metadata": {},
     "output_type": "execute_result"
    }
   ],
   "source": [
    "c_penguins.create_tree()\n",
    "c_penguins.prune(alpha_max=5e-3)"
   ]
  },
  {
   "cell_type": "code",
   "execution_count": 23,
   "metadata": {},
   "outputs": [
    {
     "name": "stderr",
     "output_type": "stream",
     "text": [
      "INFO:binarybeech.binarybeech:A tree with 13 leafs was created\n",
      "INFO:binarybeech.binarybeech:A tree with 13 leafs was created\n",
      "/home/jovyan/binarybeech/metrics.py:106: RuntimeWarning: invalid value encountered in true_divide\n",
      "  return np.diag(m) / np.sum(m, axis=0)\n",
      "INFO:binarybeech.binarybeech:A tree with 11 leafs was created\n",
      "INFO:binarybeech.binarybeech:A tree with 11 leafs was created\n",
      "INFO:binarybeech.binarybeech:A tree with 12 leafs was created\n",
      "INFO:binarybeech.binarybeech:A tree with 12 leafs was created\n",
      "INFO:binarybeech.binarybeech:beta_best: 0.004596333808384267\n",
      "INFO:binarybeech.binarybeech:A tree with 13 leafs was created\n"
     ]
    },
    {
     "data": {
      "image/png": "[encoded data removed]",
      "text/plain": [
       "<Figure size 640x480 with 1 Axes>"
      ]
     },
     "metadata": {},
     "output_type": "display_data"
    }
   ],
   "source": [
    "c_penguins.train()"
   ]
  },
  {
   "cell_type": "code",
   "execution_count": 24,
   "metadata": {},
   "outputs": [
    {
     "name": "stdout",
     "output_type": "stream",
     "text": [
      "flipper_length_mm<204.81\n",
      "├── False:island in ('Biscoe',)\n",
      "│   ├── False:bill_length_mm<44.34\n",
      "│   │   ├── False:Chinstrap\n",
      "│   │   └── True: Adelie\n",
      "│   └── True: Gentoo\n",
      "└── True: bill_length_mm<44.29\n",
      "    ├── False:island in ('Dream',)\n",
      "    │   ├── False:Adelie\n",
      "    │   └── True: Chinstrap\n",
      "    └── True: Adelie\n",
      "\n"
     ]
    }
   ],
   "source": [
    "c_penguins.tree.show()"
   ]
  },
  {
   "cell_type": "code",
   "execution_count": 25,
   "metadata": {},
   "outputs": [
    {
     "data": {
      "text/plain": [
       "{'precision': array([1.        , 0.91176471, 0.98387097]),\n",
       " 'recall': array([0.95, 1.  , 1.  ]),\n",
       " 'F-score': 0.9733583489681051,\n",
       " 'accuracy': 0.9767441860465116}"
      ]
     },
     "execution_count": 25,
     "metadata": {},
     "output_type": "execute_result"
    }
   ],
   "source": [
    "c_penguins.validate()"
   ]
  },
  {
   "cell_type": "code",
   "execution_count": null,
   "metadata": {},
   "outputs": [],
   "source": []
  }
 ],
 "metadata": {
  "kernelspec": {
   "display_name": "Python 3 (ipykernel)",
   "language": "python",
   "name": "python3"
  },
  "language_info": {
   "codemirror_mode": {
    "name": "ipython",
    "version": 3
   },
   "file_extension": ".py",
   "mimetype": "text/x-python",
   "name": "python",
   "nbconvert_exporter": "python",
   "pygments_lexer": "ipython3",
   "version": "3.7.12"
  }
 },
 "nbformat": 4,
 "nbformat_minor": 4
}
