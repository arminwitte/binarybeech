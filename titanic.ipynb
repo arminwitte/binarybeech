{
 "cells": [
  {
   "cell_type": "code",
   "execution_count": 1,
   "id": "b8249f94-d754-4452-bcb7-ff2de80fcd2d",
   "metadata": {},
   "outputs": [],
   "source": [
    "import pandas as pd"
   ]
  },
  {
   "cell_type": "code",
   "execution_count": 2,
   "id": "3e43599c-650e-4390-8ea2-cea4a1e37683",
   "metadata": {},
   "outputs": [],
   "source": [
    "\n",
    "df = pd.read_csv(\"data/titanic_kaggle.csv\")\n",
    "df_titanic = df.sample(frac=0.75)\n",
    "df_test = df.loc[df.index.difference(df_titanic),:]\n",
    "    "
   ]
  },
  {
   "cell_type": "code",
   "execution_count": 3,
   "id": "6a2b1431-9d4e-4939-87c2-7e213291d701",
   "metadata": {},
   "outputs": [],
   "source": [
    "\n",
    "from binarybeech.binarybeech import *\n"
   ]
  },
  {
   "cell_type": "code",
   "execution_count": 4,
   "id": "f7d2617c-10e3-457a-a521-2fbf2071b947",
   "metadata": {},
   "outputs": [],
   "source": [
    "\n",
    "import logging\n",
    "logging.basicConfig(level=logging.INFO)\n"
   ]
  },
  {
   "cell_type": "code",
   "execution_count": 5,
   "id": "13bc6b70-630e-4464-b85c-07970a06e549",
   "metadata": {},
   "outputs": [
    {
     "name": "stdout",
     "output_type": "stream",
     "text": [
      "PassengerId is interval\n",
      "Pclass is interval\n",
      "Name is nominal\n",
      "Sex is dichotomous\n",
      "Age is interval\n",
      "SibSp is interval\n",
      "Parch is interval\n",
      "Ticket is nominal\n",
      "Fare is interval\n",
      "Cabin is nominal\n",
      "Embarked is nominal\n",
      "Survived is dichotomous\n"
     ]
    }
   ],
   "source": [
    "\n",
    "rf_titanic = RandomForest(df_titanic.copy(),\"Survived\", cart_settings={\"max_depth\":4,\"min_leaf_samples\":2, \"min_split_samples\":2},sample_frac=0.3,n_attributes=5,metrics_type=\"classification\"\n",
    "                                 )"
   ]
  },
  {
   "cell_type": "code",
   "execution_count": 6,
   "id": "87df1e22-7a6a-4c77-b407-5a7aeb70e358",
   "metadata": {},
   "outputs": [
    {
     "name": "stdout",
     "output_type": "stream",
     "text": [
      "Embarked is nominal\n",
      "Sex is dichotomous\n",
      "Age is interval\n",
      "SibSp is interval\n",
      "Fare is interval\n",
      "Survived is dichotomous\n",
      "Embarked is nominal\n",
      "Sex is dichotomous\n",
      "Age is interval\n",
      "SibSp is interval\n",
      "Fare is interval\n",
      "Survived is dichotomous\n"
     ]
    },
    {
     "name": "stderr",
     "output_type": "stream",
     "text": [
      "INFO:binarybeech.binarybeech:A tree with 13 leafs was created\n"
     ]
    },
    {
     "name": "stdout",
     "output_type": "stream",
     "text": [
      "Fare is interval\n",
      "Embarked is nominal\n",
      "Parch is interval\n",
      "Name is nominal\n",
      "Pclass is interval\n",
      "Survived is dichotomous\n",
      "Fare is interval\n",
      "Embarked is nominal\n",
      "Parch is interval\n",
      "Name is nominal\n",
      "Pclass is interval\n",
      "Survived is dichotomous\n"
     ]
    },
    {
     "name": "stderr",
     "output_type": "stream",
     "text": [
      "INFO:binarybeech.binarybeech:A tree with 8 leafs was created\n"
     ]
    },
    {
     "name": "stdout",
     "output_type": "stream",
     "text": [
      "Cabin is nominal\n",
      "PassengerId is interval\n",
      "Ticket is nominal\n",
      "Fare is interval\n",
      "Sex is dichotomous\n",
      "Survived is dichotomous\n",
      "Cabin is nominal\n",
      "PassengerId is interval\n",
      "Ticket is nominal\n",
      "Fare is interval\n",
      "Sex is dichotomous\n",
      "Survived is dichotomous\n"
     ]
    },
    {
     "name": "stderr",
     "output_type": "stream",
     "text": [
      "INFO:binarybeech.binarybeech:A tree with 13 leafs was created\n"
     ]
    },
    {
     "name": "stdout",
     "output_type": "stream",
     "text": [
      "Pclass is interval\n",
      "Fare is interval\n",
      "Sex is dichotomous\n",
      "Parch is interval\n",
      "Age is interval\n",
      "Survived is dichotomous\n",
      "Pclass is interval\n",
      "Fare is interval\n",
      "Sex is dichotomous\n",
      "Parch is interval\n",
      "Age is interval\n",
      "Survived is dichotomous\n"
     ]
    },
    {
     "name": "stderr",
     "output_type": "stream",
     "text": [
      "INFO:binarybeech.binarybeech:A tree with 13 leafs was created\n"
     ]
    },
    {
     "name": "stdout",
     "output_type": "stream",
     "text": [
      "Cabin is nominal\n",
      "Sex is dichotomous\n",
      "Fare is interval\n",
      "Ticket is nominal\n",
      "Name is nominal\n",
      "Survived is dichotomous\n",
      "Cabin is nominal\n",
      "Sex is dichotomous\n",
      "Fare is interval\n",
      "Ticket is nominal\n",
      "Name is nominal\n",
      "Survived is dichotomous\n"
     ]
    },
    {
     "name": "stderr",
     "output_type": "stream",
     "text": [
      "INFO:binarybeech.binarybeech:A tree with 12 leafs was created\n"
     ]
    },
    {
     "name": "stdout",
     "output_type": "stream",
     "text": [
      "Name is nominal\n",
      "Ticket is nominal\n",
      "PassengerId is interval\n",
      "Fare is interval\n",
      "Embarked is nominal\n",
      "Survived is dichotomous\n",
      "Name is nominal\n",
      "Ticket is nominal\n",
      "PassengerId is interval\n",
      "Fare is interval\n",
      "Embarked is nominal\n",
      "Survived is dichotomous\n"
     ]
    },
    {
     "name": "stderr",
     "output_type": "stream",
     "text": [
      "INFO:binarybeech.binarybeech:A tree with 12 leafs was created\n"
     ]
    },
    {
     "name": "stdout",
     "output_type": "stream",
     "text": [
      "Sex is dichotomous\n",
      "Name is nominal\n",
      "Age is interval\n",
      "PassengerId is interval\n",
      "Fare is interval\n",
      "Survived is dichotomous\n",
      "Sex is dichotomous\n",
      "Name is nominal\n",
      "Age is interval\n",
      "PassengerId is interval\n",
      "Fare is interval\n",
      "Survived is dichotomous\n"
     ]
    },
    {
     "name": "stderr",
     "output_type": "stream",
     "text": [
      "INFO:binarybeech.binarybeech:A tree with 10 leafs was created\n"
     ]
    },
    {
     "name": "stdout",
     "output_type": "stream",
     "text": [
      "Ticket is nominal\n",
      "Cabin is nominal\n",
      "SibSp is interval\n",
      "Sex is dichotomous\n",
      "Age is interval\n",
      "Survived is dichotomous\n",
      "Ticket is nominal\n",
      "Cabin is nominal\n",
      "SibSp is interval\n",
      "Sex is dichotomous\n",
      "Age is interval\n",
      "Survived is dichotomous\n"
     ]
    },
    {
     "name": "stderr",
     "output_type": "stream",
     "text": [
      "INFO:binarybeech.binarybeech:A tree with 8 leafs was created\n"
     ]
    },
    {
     "name": "stdout",
     "output_type": "stream",
     "text": [
      "Sex is dichotomous\n",
      "Age is interval\n",
      "Name is nominal\n",
      "Ticket is nominal\n",
      "Embarked is nominal\n",
      "Survived is dichotomous\n",
      "Sex is dichotomous\n",
      "Age is interval\n",
      "Name is nominal\n",
      "Ticket is nominal\n",
      "Embarked is nominal\n",
      "Survived is dichotomous\n"
     ]
    },
    {
     "name": "stderr",
     "output_type": "stream",
     "text": [
      "INFO:binarybeech.binarybeech:A tree with 8 leafs was created\n"
     ]
    },
    {
     "name": "stdout",
     "output_type": "stream",
     "text": [
      "PassengerId is interval\n",
      "Name is nominal\n",
      "Sex is dichotomous\n",
      "Age is interval\n",
      "Parch is interval\n",
      "Survived is dichotomous\n",
      "PassengerId is interval\n",
      "Name is nominal\n",
      "Sex is dichotomous\n",
      "Age is interval\n",
      "Parch is interval\n",
      "Survived is dichotomous\n"
     ]
    },
    {
     "name": "stderr",
     "output_type": "stream",
     "text": [
      "INFO:binarybeech.binarybeech:A tree with 10 leafs was created\n"
     ]
    },
    {
     "name": "stdout",
     "output_type": "stream",
     "text": [
      "SibSp is interval\n",
      "Pclass is interval\n",
      "Sex is dichotomous\n",
      "PassengerId is interval\n",
      "Embarked is nominal\n",
      "Survived is dichotomous\n",
      "SibSp is interval\n",
      "Pclass is interval\n",
      "Sex is dichotomous\n",
      "PassengerId is interval\n",
      "Embarked is nominal\n",
      "Survived is dichotomous\n"
     ]
    },
    {
     "name": "stderr",
     "output_type": "stream",
     "text": [
      "INFO:binarybeech.binarybeech:A tree with 13 leafs was created\n"
     ]
    },
    {
     "name": "stdout",
     "output_type": "stream",
     "text": [
      "Parch is interval\n",
      "SibSp is interval\n",
      "Fare is interval\n",
      "Age is interval\n",
      "Name is nominal\n",
      "Survived is dichotomous\n",
      "Parch is interval\n",
      "SibSp is interval\n",
      "Fare is interval\n",
      "Age is interval\n",
      "Name is nominal\n",
      "Survived is dichotomous\n"
     ]
    },
    {
     "name": "stderr",
     "output_type": "stream",
     "text": [
      "INFO:binarybeech.binarybeech:A tree with 12 leafs was created\n"
     ]
    },
    {
     "name": "stdout",
     "output_type": "stream",
     "text": [
      "Pclass is interval\n",
      "Ticket is nominal\n",
      "Sex is dichotomous\n",
      "Parch is interval\n",
      "SibSp is interval\n",
      "Survived is dichotomous\n",
      "Pclass is interval\n",
      "Ticket is nominal\n",
      "Sex is dichotomous\n",
      "Parch is interval\n",
      "SibSp is interval\n",
      "Survived is dichotomous\n"
     ]
    },
    {
     "name": "stderr",
     "output_type": "stream",
     "text": [
      "INFO:binarybeech.binarybeech:A tree with 9 leafs was created\n"
     ]
    },
    {
     "name": "stdout",
     "output_type": "stream",
     "text": [
      "Name is nominal\n",
      "Pclass is interval\n",
      "Parch is interval\n",
      "Cabin is nominal\n",
      "SibSp is interval\n",
      "Survived is dichotomous\n",
      "Name is nominal\n",
      "Pclass is interval\n",
      "Parch is interval\n",
      "Cabin is nominal\n",
      "SibSp is interval\n",
      "Survived is dichotomous\n"
     ]
    },
    {
     "name": "stderr",
     "output_type": "stream",
     "text": [
      "INFO:binarybeech.binarybeech:A tree with 8 leafs was created\n"
     ]
    },
    {
     "name": "stdout",
     "output_type": "stream",
     "text": [
      "Name is nominal\n",
      "Ticket is nominal\n",
      "Sex is dichotomous\n",
      "Age is interval\n",
      "Pclass is interval\n",
      "Survived is dichotomous\n",
      "Name is nominal\n",
      "Ticket is nominal\n",
      "Sex is dichotomous\n",
      "Age is interval\n",
      "Pclass is interval\n",
      "Survived is dichotomous\n"
     ]
    },
    {
     "name": "stderr",
     "output_type": "stream",
     "text": [
      "INFO:binarybeech.binarybeech:A tree with 10 leafs was created\n"
     ]
    },
    {
     "name": "stdout",
     "output_type": "stream",
     "text": [
      "PassengerId is interval\n",
      "Name is nominal\n",
      "Sex is dichotomous\n",
      "Fare is interval\n",
      "Parch is interval\n",
      "Survived is dichotomous\n",
      "PassengerId is interval\n",
      "Name is nominal\n",
      "Sex is dichotomous\n",
      "Fare is interval\n",
      "Parch is interval\n",
      "Survived is dichotomous\n"
     ]
    },
    {
     "name": "stderr",
     "output_type": "stream",
     "text": [
      "INFO:binarybeech.binarybeech:A tree with 11 leafs was created\n"
     ]
    },
    {
     "name": "stdout",
     "output_type": "stream",
     "text": [
      "Sex is dichotomous\n",
      "Age is interval\n",
      "SibSp is interval\n",
      "Name is nominal\n",
      "Parch is interval\n",
      "Survived is dichotomous\n",
      "Sex is dichotomous\n",
      "Age is interval\n",
      "SibSp is interval\n",
      "Name is nominal\n",
      "Parch is interval\n",
      "Survived is dichotomous\n"
     ]
    },
    {
     "name": "stderr",
     "output_type": "stream",
     "text": [
      "INFO:binarybeech.binarybeech:A tree with 8 leafs was created\n"
     ]
    },
    {
     "name": "stdout",
     "output_type": "stream",
     "text": [
      "Fare is interval\n",
      "Sex is dichotomous\n",
      "Name is nominal\n",
      "SibSp is interval\n",
      "Embarked is nominal\n",
      "Survived is dichotomous\n",
      "Fare is interval\n",
      "Sex is dichotomous\n",
      "Name is nominal\n",
      "SibSp is interval\n",
      "Embarked is nominal\n",
      "Survived is dichotomous\n"
     ]
    },
    {
     "name": "stderr",
     "output_type": "stream",
     "text": [
      "INFO:binarybeech.binarybeech:A tree with 11 leafs was created\n"
     ]
    },
    {
     "name": "stdout",
     "output_type": "stream",
     "text": [
      "Parch is interval\n",
      "Fare is interval\n",
      "Embarked is nominal\n",
      "Name is nominal\n",
      "Pclass is interval\n",
      "Survived is dichotomous\n",
      "Parch is interval\n",
      "Fare is interval\n",
      "Embarked is nominal\n",
      "Name is nominal\n",
      "Pclass is interval\n",
      "Survived is dichotomous\n"
     ]
    },
    {
     "name": "stderr",
     "output_type": "stream",
     "text": [
      "INFO:binarybeech.binarybeech:A tree with 8 leafs was created\n"
     ]
    },
    {
     "name": "stdout",
     "output_type": "stream",
     "text": [
      "PassengerId is interval\n",
      "Parch is interval\n",
      "Cabin is nominal\n",
      "Name is nominal\n",
      "Fare is interval\n",
      "Survived is dichotomous\n",
      "PassengerId is interval\n",
      "Parch is interval\n",
      "Cabin is nominal\n",
      "Name is nominal\n",
      "Fare is interval\n",
      "Survived is dichotomous\n"
     ]
    },
    {
     "name": "stderr",
     "output_type": "stream",
     "text": [
      "INFO:binarybeech.binarybeech:A tree with 10 leafs was created\n"
     ]
    }
   ],
   "source": [
    "\n",
    "rf_titanic.train(20)\n"
   ]
  },
  {
   "cell_type": "code",
   "execution_count": 7,
   "id": "966e7fee-0943-4dc7-bd4e-736f60056d26",
   "metadata": {},
   "outputs": [
    {
     "data": {
      "text/plain": [
       "{'precision': array([0.86810552, 0.6374502 ]),\n",
       " 'recall': array([0.799117  , 0.74418605]),\n",
       " 'F-score': 0.7594395935079671,\n",
       " 'accuracy': 0.781437125748503}"
      ]
     },
     "execution_count": 7,
     "metadata": {},
     "output_type": "execute_result"
    }
   ],
   "source": [
    "\n",
    "rf_titanic.validate_oob()\n"
   ]
  },
  {
   "cell_type": "code",
   "execution_count": 8,
   "id": "3cb61adc-0d85-420b-8b35-a037a4a45f49",
   "metadata": {},
   "outputs": [
    {
     "data": {
      "text/plain": [
       "{'precision': array([0.88968825, 0.66533865]),\n",
       " 'recall': array([0.81538462, 0.78403756]),\n",
       " 'F-score': 0.7853725086997786,\n",
       " 'accuracy': 0.8053892215568862}"
      ]
     },
     "execution_count": 8,
     "metadata": {},
     "output_type": "execute_result"
    }
   ],
   "source": [
    "\n",
    "rf_titanic.validate()\n"
   ]
  },
  {
   "cell_type": "code",
   "execution_count": 9,
   "id": "75240e61-2565-466e-a7f9-b3a638b670ab",
   "metadata": {},
   "outputs": [
    {
     "data": {
      "text/plain": [
       "{'Sex': 1.0,\n",
       " 'Name': 0.21199143468950754,\n",
       " 'Pclass': 0.15203426124197003,\n",
       " 'Ticket': 0.08137044967880083,\n",
       " 'Fare': 0.08137044967880082,\n",
       " 'Cabin': 0.051391862955032105,\n",
       " 'SibSp': 0.04710920770877945,\n",
       " 'PassengerId': 0.04710920770877944,\n",
       " 'Age': 0.04496788008565311,\n",
       " 'Parch': 0.017130620985010662,\n",
       " 'Embarked': -8.9150671142277e-18}"
      ]
     },
     "execution_count": 9,
     "metadata": {},
     "output_type": "execute_result"
    }
   ],
   "source": [
    "\n",
    "rf_titanic.variable_importance()\n"
   ]
  },
  {
   "cell_type": "code",
   "execution_count": 10,
   "id": "6a3ba019-e426-4d01-828f-a8c083c7b064",
   "metadata": {},
   "outputs": [
    {
     "name": "stdout",
     "output_type": "stream",
     "text": [
      "Sex       |############################### 1.0\n",
      "Name      |#######                        0.21\n",
      "Pclass    |#####                          0.15\n",
      "Ticket    |###                            0.081\n",
      "Fare      |###                            0.081\n",
      "Cabin     |##                             0.051\n",
      "SibSp     |#                              0.047\n",
      "PassengerId|#                              0.047\n",
      "Age       |#                              0.045\n",
      "Parch     |#                              0.017\n",
      "Embarked  |                               -8.9e-18\n"
     ]
    }
   ],
   "source": [
    "\n",
    "import binarybeech.utils as bu\n",
    "bu.print_bars(rf_titanic.variable_importance(),max_width=50)\n",
    "\n"
   ]
  },
  {
   "cell_type": "code",
   "execution_count": 11,
   "id": "274c3cce-667e-4dcf-a08c-4ba4205e0969",
   "metadata": {},
   "outputs": [
    {
     "data": {
      "text/plain": [
       "{'precision': array([0.86156648, 0.68128655]),\n",
       " 'recall': array([0.81271478, 0.75404531]),\n",
       " 'F-score': 0.776124876236111,\n",
       " 'accuracy': 0.792368125701459}"
      ]
     },
     "execution_count": 11,
     "metadata": {},
     "output_type": "execute_result"
    }
   ],
   "source": [
    "\n",
    "rf_titanic.validate(df_test)\n"
   ]
  },
  {
   "cell_type": "code",
   "execution_count": 12,
   "id": "34bca363-d0c4-4cc1-8cce-e35223c4e2dc",
   "metadata": {},
   "outputs": [
    {
     "name": "stdout",
     "output_type": "stream",
     "text": [
      "PassengerId is interval\n",
      "Pclass is interval\n",
      "Name is nominal\n",
      "Sex is dichotomous\n",
      "Age is interval\n",
      "SibSp is interval\n",
      "Parch is interval\n",
      "Ticket is nominal\n",
      "Fare is interval\n",
      "Cabin is nominal\n",
      "Embarked is nominal\n",
      "Survived is dichotomous\n"
     ]
    }
   ],
   "source": [
    "\n",
    "gbt_titanic = GradientBoostedTree(df_titanic.copy(),\"Survived\", cart_settings={\"max_depth\":2,\"min_leaf_samples\":10, \"min_split_samples\":10},sample_frac=0.75,n_attributes=9\n",
    "                                 )"
   ]
  },
  {
   "cell_type": "code",
   "execution_count": 13,
   "id": "69e10b97-63a3-427e-a6a8-a6fcbe75f23d",
   "metadata": {},
   "outputs": [
    {
     "data": {
      "text/plain": [
       "['PassengerId',\n",
       " 'Pclass',\n",
       " 'Name',\n",
       " 'Sex',\n",
       " 'Age',\n",
       " 'SibSp',\n",
       " 'Parch',\n",
       " 'Ticket',\n",
       " 'Fare',\n",
       " 'Cabin',\n",
       " 'Embarked']"
      ]
     },
     "execution_count": 13,
     "metadata": {},
     "output_type": "execute_result"
    }
   ],
   "source": [
    "gbt_titanic.X_names"
   ]
  },
  {
   "cell_type": "code",
   "execution_count": 14,
   "id": "3a3c384c-9750-4efb-8691-17146eb9b0e4",
   "metadata": {},
   "outputs": [
    {
     "name": "stderr",
     "output_type": "stream",
     "text": [
      "INFO:binarybeech.binarybeech:A tree with 1 leafs was created\n"
     ]
    },
    {
     "name": "stdout",
     "output_type": "stream",
     "text": [
      "PassengerId is interval\n",
      "Pclass is interval\n",
      "Name is nominal\n",
      "Sex is dichotomous\n",
      "Age is interval\n",
      "SibSp is interval\n",
      "Parch is interval\n",
      "Ticket is nominal\n",
      "Fare is interval\n",
      "Cabin is nominal\n",
      "Embarked is nominal\n",
      "Survived is dichotomous\n",
      "PassengerId is interval\n",
      "Pclass is interval\n",
      "Name is nominal\n",
      "Sex is dichotomous\n",
      "Age is interval\n",
      "SibSp is interval\n",
      "Parch is interval\n",
      "Ticket is nominal\n",
      "Fare is interval\n",
      "Cabin is nominal\n",
      "Embarked is nominal\n",
      "Survived is dichotomous\n"
     ]
    }
   ],
   "source": [
    "it=gbt_titanic._initial_tree()"
   ]
  },
  {
   "cell_type": "code",
   "execution_count": 15,
   "id": "a798aebf-12bf-49df-87d7-da623d708b64",
   "metadata": {},
   "outputs": [
    {
     "name": "stdout",
     "output_type": "stream",
     "text": [
      "0.37574850299401197\n",
      "\n"
     ]
    }
   ],
   "source": [
    "it.tree.show()"
   ]
  },
  {
   "cell_type": "code",
   "execution_count": 16,
   "id": "c52850c8-e78a-43d6-863a-442fc59f485b",
   "metadata": {},
   "outputs": [
    {
     "data": {
      "text/plain": [
       "<binarybeech.binarybeech.Node at 0x7f8811141c10>"
      ]
     },
     "execution_count": 16,
     "metadata": {},
     "output_type": "execute_result"
    }
   ],
   "source": [
    "it.tree.root"
   ]
  },
  {
   "cell_type": "code",
   "execution_count": 17,
   "id": "7edbef2d-a34b-41d1-9903-3a1fb0d56cbf",
   "metadata": {},
   "outputs": [],
   "source": [
    "\n",
    "gbt_titanic.learning_rate=0.01\n",
    "#gbt_titanic.create_trees(200)\n"
   ]
  },
  {
   "cell_type": "code",
   "execution_count": 18,
   "id": "ab483568-cbe5-452a-8524-d1700c4f2efc",
   "metadata": {},
   "outputs": [
    {
     "data": {
      "text/plain": [
       "0.375748502994012"
      ]
     },
     "execution_count": 18,
     "metadata": {},
     "output_type": "execute_result"
    }
   ],
   "source": [
    "\n",
    "gbt_titanic._predict(df_titanic.iloc[0])"
   ]
  },
  {
   "cell_type": "code",
   "execution_count": 19,
   "id": "24a349c8-371f-4749-b0e5-e64362395322",
   "metadata": {},
   "outputs": [
    {
     "name": "stderr",
     "output_type": "stream",
     "text": [
      "/home/jovyan/binarybeech/metrics.py:83: RuntimeWarning: invalid value encountered in true_divide\n",
      "  return np.diag(m) / np.sum(m, axis=0)\n"
     ]
    },
    {
     "data": {
      "text/plain": [
       "{'precision': array([1., 0.]),\n",
       " 'recall': array([0.61616162,        nan]),\n",
       " 'F-score': nan,\n",
       " 'accuracy': 0.6161616161616161}"
      ]
     },
     "execution_count": 19,
     "metadata": {},
     "output_type": "execute_result"
    }
   ],
   "source": [
    "\n",
    "gbt_titanic.validate(df_test)\n"
   ]
  },
  {
   "cell_type": "markdown",
   "id": "cbea95cd-539e-43f8-a42f-504597cb60f4",
   "metadata": {
    "tags": []
   },
   "source": [
    "#k-fold cross-validation"
   ]
  },
  {
   "cell_type": "code",
   "execution_count": 20,
   "id": "2ca1ac16-51e1-4b8c-b24e-adb14805c846",
   "metadata": {},
   "outputs": [
    {
     "name": "stdout",
     "output_type": "stream",
     "text": [
      "PassengerId is interval\n",
      "Pclass is interval\n",
      "Name is nominal\n",
      "Sex is dichotomous\n",
      "Age is interval\n",
      "SibSp is interval\n",
      "Parch is interval\n",
      "Ticket is nominal\n",
      "Fare is interval\n",
      "Cabin is nominal\n",
      "Embarked is nominal\n",
      "Survived is dichotomous\n",
      "PassengerId is interval\n",
      "Pclass is interval\n",
      "Name is nominal\n",
      "Sex is dichotomous\n",
      "Age is interval\n",
      "SibSp is interval\n",
      "Parch is interval\n",
      "Ticket is nominal\n",
      "Fare is interval\n",
      "Cabin is nominal\n",
      "Embarked is nominal\n",
      "Survived is dichotomous\n"
     ]
    }
   ],
   "source": [
    "\n",
    "c = CART(df_titanic,\"Survived\",metrics_type=\"classification\")\n"
   ]
  },
  {
   "cell_type": "code",
   "execution_count": null,
   "id": "c009583e-2907-489f-b5bf-fa7dee70aae8",
   "metadata": {},
   "outputs": [
    {
     "name": "stderr",
     "output_type": "stream",
     "text": [
      "INFO:binarybeech.binarybeech:A tree with 67 leafs was created\n"
     ]
    },
    {
     "name": "stdout",
     "output_type": "stream",
     "text": [
      "PassengerId is interval\n",
      "Pclass is interval\n",
      "Name is nominal\n",
      "Sex is dichotomous\n",
      "Age is interval\n",
      "SibSp is interval\n",
      "Parch is interval\n",
      "Ticket is nominal\n",
      "Fare is interval\n",
      "Cabin is nominal\n",
      "Embarked is nominal\n",
      "Survived is dichotomous\n",
      "PassengerId is interval\n",
      "Pclass is interval\n",
      "Name is nominal\n",
      "Sex is dichotomous\n",
      "Age is interval\n",
      "SibSp is interval\n",
      "Parch is interval\n",
      "Ticket is nominal\n",
      "Fare is interval\n",
      "Cabin is nominal\n",
      "Embarked is nominal\n",
      "Survived is dichotomous\n"
     ]
    }
   ],
   "source": [
    "c.train(slack=1e-3)"
   ]
  },
  {
   "cell_type": "code",
   "execution_count": null,
   "id": "62e88b55-a808-4a63-81e4-a055a9a173df",
   "metadata": {},
   "outputs": [],
   "source": [
    "c.tree.leaf_count()"
   ]
  },
  {
   "cell_type": "code",
   "execution_count": null,
   "id": "e96ef449-5802-4c06-b60a-7981b4be6c0d",
   "metadata": {},
   "outputs": [],
   "source": [
    "c.tree.show()"
   ]
  },
  {
   "cell_type": "code",
   "execution_count": null,
   "id": "f09ff1fe-3dce-41b6-a816-99bb9facaa87",
   "metadata": {},
   "outputs": [],
   "source": [
    "c.validate(df_test)"
   ]
  },
  {
   "cell_type": "code",
   "execution_count": null,
   "id": "b36c4297-2553-4785-829f-88c74d1d29bd",
   "metadata": {},
   "outputs": [],
   "source": []
  }
 ],
 "metadata": {
  "kernelspec": {
   "display_name": "Python 3 (ipykernel)",
   "language": "python",
   "name": "python3"
  },
  "language_info": {
   "codemirror_mode": {
    "name": "ipython",
    "version": 3
   },
   "file_extension": ".py",
   "mimetype": "text/x-python",
   "name": "python",
   "nbconvert_exporter": "python",
   "pygments_lexer": "ipython3",
   "version": "3.7.12"
  }
 },
 "nbformat": 4,
 "nbformat_minor": 5
}
