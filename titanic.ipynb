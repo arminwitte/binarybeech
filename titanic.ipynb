{
 "cells": [
  {
   "cell_type": "code",
   "execution_count": 1,
   "id": "b8249f94-d754-4452-bcb7-ff2de80fcd2d",
   "metadata": {},
   "outputs": [],
   "source": [
    "import pandas as pd"
   ]
  },
  {
   "cell_type": "code",
   "execution_count": 2,
   "id": "3e43599c-650e-4390-8ea2-cea4a1e37683",
   "metadata": {},
   "outputs": [],
   "source": [
    "\n",
    "df = pd.read_csv(\"data/titanic_kaggle.csv\")\n",
    "df_titanic = df.sample(frac=0.75)\n",
    "df_test = df.loc[df.index.difference(df_titanic),:]\n",
    "    "
   ]
  },
  {
   "cell_type": "code",
   "execution_count": 3,
   "id": "6a2b1431-9d4e-4939-87c2-7e213291d701",
   "metadata": {},
   "outputs": [],
   "source": [
    "\n",
    "from binarybeech.binarybeech import *\n",
    "import binarybeech.utils as utils\n"
   ]
  },
  {
   "cell_type": "code",
   "execution_count": 4,
   "id": "f7d2617c-10e3-457a-a521-2fbf2071b947",
   "metadata": {},
   "outputs": [],
   "source": [
    "\n",
    "import logging\n",
    "logging.basicConfig(level=logging.INFO)\n"
   ]
  },
  {
   "cell_type": "code",
   "execution_count": 5,
   "id": "13bc6b70-630e-4464-b85c-07970a06e549",
   "metadata": {},
   "outputs": [],
   "source": [
    "\n",
    "rf_titanic = RandomForest(df_titanic.copy(),\"Survived\", cart_settings={\"max_depth\":4,\"min_leaf_samples\":2, \"min_split_samples\":2},sample_frac=0.3,n_attributes=5,metrics_type=\"classification\"\n",
    "                                 )"
   ]
  },
  {
   "cell_type": "code",
   "execution_count": 6,
   "id": "87df1e22-7a6a-4c77-b407-5a7aeb70e358",
   "metadata": {},
   "outputs": [
    {
     "name": "stdout",
     "output_type": "stream",
     "text": [
      "A tree with 14 leafs was created\n",
      "A tree with 10 leafs was created\n",
      "A tree with 12 leafs was created\n",
      "A tree with 11 leafs was created\n",
      "A tree with 15 leafs was created\n",
      "A tree with 14 leafs was created\n",
      "A tree with 11 leafs was created\n",
      "A tree with 11 leafs was created\n",
      "A tree with 12 leafs was created\n",
      "A tree with 12 leafs was created\n",
      "A tree with 13 leafs was created\n",
      "A tree with 11 leafs was created\n",
      "A tree with 14 leafs was created\n",
      "A tree with 12 leafs was created\n",
      "A tree with 15 leafs was created\n",
      "A tree with 14 leafs was created\n",
      "A tree with 15 leafs was created\n",
      "A tree with 13 leafs was created\n",
      "A tree with 12 leafs was created\n",
      "A tree with 6 leafs was created\n"
     ]
    }
   ],
   "source": [
    "\n",
    "rf_titanic.train(20)\n"
   ]
  },
  {
   "cell_type": "code",
   "execution_count": 7,
   "id": "966e7fee-0943-4dc7-bd4e-736f60056d26",
   "metadata": {},
   "outputs": [
    {
     "data": {
      "text/plain": [
       "{'precision': array([0.94974874, 0.46296296]),\n",
       " 'recall': array([0.72275335, 0.86206897]),\n",
       " 'F-score': 0.7116282720458381,\n",
       " 'accuracy': 0.7529940119760479}"
      ]
     },
     "execution_count": 7,
     "metadata": {},
     "output_type": "execute_result"
    }
   ],
   "source": [
    "\n",
    "rf_titanic.validate_oob()\n"
   ]
  },
  {
   "cell_type": "code",
   "execution_count": 8,
   "id": "3cb61adc-0d85-420b-8b35-a037a4a45f49",
   "metadata": {},
   "outputs": [
    {
     "data": {
      "text/plain": [
       "{'precision': array([0.97738693, 0.5       ]),\n",
       " 'recall': array([0.74236641, 0.9375    ]),\n",
       " 'F-score': 0.7479958502310666,\n",
       " 'accuracy': 0.7844311377245509}"
      ]
     },
     "execution_count": 8,
     "metadata": {},
     "output_type": "execute_result"
    }
   ],
   "source": [
    "\n",
    "rf_titanic.validate()\n"
   ]
  },
  {
   "cell_type": "code",
   "execution_count": 9,
   "id": "75240e61-2565-466e-a7f9-b3a638b670ab",
   "metadata": {},
   "outputs": [
    {
     "data": {
      "text/plain": [
       "{'Sex': 1.0,\n",
       " 'Pclass': 0.44398340248962653,\n",
       " 'Age': 0.3319502074688798,\n",
       " 'Fare': 0.31120331950207475,\n",
       " 'PassengerId': 0.2863070539419088,\n",
       " 'Embarked': 0.1825726141078838,\n",
       " 'Parch': 0.1535269709543568,\n",
       " 'SibSp': 0.09128630705394196,\n",
       " 'Name': 0.0,\n",
       " 'Ticket': 0.0,\n",
       " 'Cabin': 0.0}"
      ]
     },
     "execution_count": 9,
     "metadata": {},
     "output_type": "execute_result"
    }
   ],
   "source": [
    "\n",
    "rf_titanic.variable_importance()\n"
   ]
  },
  {
   "cell_type": "code",
   "execution_count": 10,
   "id": "6a3ba019-e426-4d01-828f-a8c083c7b064",
   "metadata": {},
   "outputs": [
    {
     "name": "stdout",
     "output_type": "stream",
     "text": [
      "Sex       |############################### 1.0\n",
      "Pclass    |##############                 0.44\n",
      "Age       |##########                     0.33\n",
      "Fare      |##########                     0.31\n",
      "PassengerId|#########                      0.29\n",
      "Embarked  |######                         0.18\n",
      "Parch     |#####                          0.15\n",
      "SibSp     |###                            0.091\n",
      "Name      |                                0.0\n",
      "Ticket    |                                0.0\n",
      "Cabin     |                                0.0\n"
     ]
    }
   ],
   "source": [
    "\n",
    "import binarybeech.utils as bu\n",
    "bu.print_bars(rf_titanic.variable_importance(),max_width=50)\n",
    "\n"
   ]
  },
  {
   "cell_type": "code",
   "execution_count": 11,
   "id": "274c3cce-667e-4dcf-a08c-4ba4205e0969",
   "metadata": {},
   "outputs": [
    {
     "data": {
      "text/plain": [
       "{'precision': array([0.97632058, 0.45906433]),\n",
       " 'recall': array([0.74341193, 0.92352941]),\n",
       " 'F-score': 0.7286878690944882,\n",
       " 'accuracy': 0.7777777777777778}"
      ]
     },
     "execution_count": 11,
     "metadata": {},
     "output_type": "execute_result"
    }
   ],
   "source": [
    "\n",
    "rf_titanic.validate(df_test)\n"
   ]
  },
  {
   "cell_type": "code",
   "execution_count": 12,
   "id": "34bca363-d0c4-4cc1-8cce-e35223c4e2dc",
   "metadata": {},
   "outputs": [],
   "source": [
    "\n",
    "gbt_titanic = GradientBoostedTree(df_titanic.copy(),\"Survived\", cart_settings={\"max_depth\":2,\"min_leaf_samples\":10, \"min_split_samples\":10},sample_frac=0.75,n_attributes=9\n",
    "                                 )"
   ]
  },
  {
   "cell_type": "code",
   "execution_count": 13,
   "id": "69e10b97-63a3-427e-a6a8-a6fcbe75f23d",
   "metadata": {},
   "outputs": [
    {
     "data": {
      "text/plain": [
       "['PassengerId',\n",
       " 'Pclass',\n",
       " 'Name',\n",
       " 'Sex',\n",
       " 'Age',\n",
       " 'SibSp',\n",
       " 'Parch',\n",
       " 'Ticket',\n",
       " 'Fare',\n",
       " 'Cabin',\n",
       " 'Embarked']"
      ]
     },
     "execution_count": 13,
     "metadata": {},
     "output_type": "execute_result"
    }
   ],
   "source": [
    "gbt_titanic.X_names"
   ]
  },
  {
   "cell_type": "code",
   "execution_count": 14,
   "id": "3a3c384c-9750-4efb-8691-17146eb9b0e4",
   "metadata": {},
   "outputs": [
    {
     "name": "stdout",
     "output_type": "stream",
     "text": [
      "A tree with 1 leafs was created\n"
     ]
    }
   ],
   "source": [
    "it=gbt_titanic._initial_tree()"
   ]
  },
  {
   "cell_type": "code",
   "execution_count": 15,
   "id": "a798aebf-12bf-49df-87d7-da623d708b64",
   "metadata": {},
   "outputs": [
    {
     "name": "stdout",
     "output_type": "stream",
     "text": [
      "0.4041916167664671\n",
      "\n"
     ]
    }
   ],
   "source": [
    "\n",
    "utils.print_tree(it.tree)"
   ]
  },
  {
   "cell_type": "code",
   "execution_count": 16,
   "id": "c52850c8-e78a-43d6-863a-442fc59f485b",
   "metadata": {},
   "outputs": [
    {
     "data": {
      "text/plain": [
       "<binarybeech.tree.Node at 0x7fc4de5e5bd0>"
      ]
     },
     "execution_count": 16,
     "metadata": {},
     "output_type": "execute_result"
    }
   ],
   "source": [
    "it.tree.root"
   ]
  },
  {
   "cell_type": "code",
   "execution_count": 17,
   "id": "7edbef2d-a34b-41d1-9903-3a1fb0d56cbf",
   "metadata": {},
   "outputs": [],
   "source": [
    "\n",
    "gbt_titanic.learning_rate=0.01\n",
    "#gbt_titanic.create_trees(200)\n"
   ]
  },
  {
   "cell_type": "code",
   "execution_count": 18,
   "id": "ab483568-cbe5-452a-8524-d1700c4f2efc",
   "metadata": {},
   "outputs": [
    {
     "data": {
      "text/plain": [
       "array([0.40419162])"
      ]
     },
     "execution_count": 18,
     "metadata": {},
     "output_type": "execute_result"
    }
   ],
   "source": [
    "\n",
    "gbt_titanic.predict(df_titanic.iloc[[0]])"
   ]
  },
  {
   "cell_type": "code",
   "execution_count": 19,
   "id": "24a349c8-371f-4749-b0e5-e64362395322",
   "metadata": {},
   "outputs": [
    {
     "name": "stderr",
     "output_type": "stream",
     "text": [
      "/home/jovyan/binarybeech/metrics.py:86: RuntimeWarning: invalid value encountered in true_divide\n",
      "  return np.diag(m) / np.sum(m, axis=0)\n"
     ]
    },
    {
     "data": {
      "text/plain": [
       "{'precision': array([1., 0.]),\n",
       " 'recall': array([0.61616162,        nan]),\n",
       " 'F-score': nan,\n",
       " 'accuracy': 0.6161616161616161}"
      ]
     },
     "execution_count": 19,
     "metadata": {},
     "output_type": "execute_result"
    }
   ],
   "source": [
    "\n",
    "gbt_titanic.validate(df_test)\n"
   ]
  },
  {
   "cell_type": "markdown",
   "id": "cbea95cd-539e-43f8-a42f-504597cb60f4",
   "metadata": {
    "tags": []
   },
   "source": [
    "#k-fold cross-validation"
   ]
  },
  {
   "cell_type": "code",
   "execution_count": 20,
   "id": "2ca1ac16-51e1-4b8c-b24e-adb14805c846",
   "metadata": {},
   "outputs": [],
   "source": [
    "\n",
    "c = CART(df_titanic,\"Survived\",metrics_type=\"classification\")\n"
   ]
  },
  {
   "cell_type": "code",
   "execution_count": 21,
   "id": "c009583e-2907-489f-b5bf-fa7dee70aae8",
   "metadata": {},
   "outputs": [
    {
     "name": "stdout",
     "output_type": "stream",
     "text": [
      "A tree with 111 leafs was created\n",
      "A tree with 112 leafs was created\n",
      "A tree with 82 leafs was created\n",
      "A tree with 105 leafs was created\n",
      "A tree with 105 leafs was created\n",
      "A tree with 121 leafs was created\n"
     ]
    },
    {
     "name": "stderr",
     "output_type": "stream",
     "text": [
      "INFO:binarybeech.binarybeech:beta_best: 0.0029940119760479057\n"
     ]
    },
    {
     "name": "stdout",
     "output_type": "stream",
     "text": [
      "A tree with 111 leafs was created\n"
     ]
    },
    {
     "data": {
      "image/png": "[encoded data removed]",
      "text/plain": [
       "<Figure size 640x480 with 1 Axes>"
      ]
     },
     "metadata": {},
     "output_type": "display_data"
    }
   ],
   "source": [
    "c.train(slack=1e-3)"
   ]
  },
  {
   "cell_type": "code",
   "execution_count": 22,
   "id": "62e88b55-a808-4a63-81e4-a055a9a173df",
   "metadata": {},
   "outputs": [
    {
     "data": {
      "text/plain": [
       "12"
      ]
     },
     "execution_count": 22,
     "metadata": {},
     "output_type": "execute_result"
    }
   ],
   "source": [
    "c.tree.leaf_count()"
   ]
  },
  {
   "cell_type": "code",
   "execution_count": 23,
   "id": "e96ef449-5802-4c06-b60a-7981b4be6c0d",
   "metadata": {},
   "outputs": [
    {
     "name": "stdout",
     "output_type": "stream",
     "text": [
      "Sex in ('female',)\n",
      "├── False:Pclass<1.47\n",
      "│   ├── False:0\n",
      "│   └── True: PassengerId<344.28\n",
      "│       ├── False:PassengerId<750.46\n",
      "│       │   ├── False:0\n",
      "│       │   └── True: 1\n",
      "│       └── True: 0\n",
      "└── True: Pclass<2.24\n",
      "    ├── False:Fare<24.84\n",
      "    │   ├── False:0\n",
      "    │   └── True: Embarked in ('S',)\n",
      "    │       ├── False:1\n",
      "    │       └── True: Age<36.14\n",
      "    │           ├── False:0\n",
      "    │           └── True: PassengerId<181.64\n",
      "    │               ├── False:Fare<11.24\n",
      "    │               │   ├── False:1\n",
      "    │               │   └── True: Fare<7.90\n",
      "    │               │       ├── False:0\n",
      "    │               │       └── True: 1\n",
      "    │               └── True: 1\n",
      "    └── True: 1\n",
      "\n"
     ]
    }
   ],
   "source": [
    "utils.print_tree(c.tree)"
   ]
  },
  {
   "cell_type": "code",
   "execution_count": 24,
   "id": "f09ff1fe-3dce-41b6-a816-99bb9facaa87",
   "metadata": {},
   "outputs": [
    {
     "data": {
      "text/plain": [
       "{'precision': array([0.86338798, 0.74853801]),\n",
       " 'recall': array([0.84642857, 0.7734139 ]),\n",
       " 'F-score': 0.80779841282389,\n",
       " 'accuracy': 0.819304152637486}"
      ]
     },
     "execution_count": 24,
     "metadata": {},
     "output_type": "execute_result"
    }
   ],
   "source": [
    "c.validate(df_test)"
   ]
  }
 ],
 "metadata": {
  "kernelspec": {
   "display_name": "Python 3 (ipykernel)",
   "language": "python",
   "name": "python3"
  },
  "language_info": {
   "codemirror_mode": {
    "name": "ipython",
    "version": 3
   },
   "file_extension": ".py",
   "mimetype": "text/x-python",
   "name": "python",
   "nbconvert_exporter": "python",
   "pygments_lexer": "ipython3",
   "version": "3.7.12"
  }
 },
 "nbformat": 4,
 "nbformat_minor": 5
}
