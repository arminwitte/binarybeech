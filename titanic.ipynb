{
 "cells": [
  {
   "cell_type": "code",
   "execution_count": 1,
   "id": "b8249f94-d754-4452-bcb7-ff2de80fcd2d",
   "metadata": {},
   "outputs": [],
   "source": [
    "import pandas as pd"
   ]
  },
  {
   "cell_type": "code",
   "execution_count": 2,
   "id": "3e43599c-650e-4390-8ea2-cea4a1e37683",
   "metadata": {},
   "outputs": [],
   "source": [
    "\n",
    "df = pd.read_csv(\"data/titanic.csv\")\n",
    "df_titanic = df.sample(frac=0.75)\n",
    "df_test = df.loc[df.index.difference(df_titanic),:]\n",
    "    "
   ]
  },
  {
   "cell_type": "code",
   "execution_count": 3,
   "id": "6a2b1431-9d4e-4939-87c2-7e213291d701",
   "metadata": {},
   "outputs": [],
   "source": [
    "\n",
    "from binarybeech.binarybeech import *\n"
   ]
  },
  {
   "cell_type": "code",
   "execution_count": 4,
   "id": "f7d2617c-10e3-457a-a521-2fbf2071b947",
   "metadata": {},
   "outputs": [],
   "source": [
    "\n",
    "import logging\n",
    "logging.basicConfig(level=logging.INFO)\n"
   ]
  },
  {
   "cell_type": "code",
   "execution_count": 5,
   "id": "13bc6b70-630e-4464-b85c-07970a06e549",
   "metadata": {},
   "outputs": [],
   "source": [
    "gbt_titanic = GradientBoostedTree(df_titanic.copy(),\"Survived\")"
   ]
  },
  {
   "cell_type": "code",
   "execution_count": 6,
   "id": "69e10b97-63a3-427e-a6a8-a6fcbe75f23d",
   "metadata": {},
   "outputs": [
    {
     "data": {
      "text/plain": [
       "['Pclass',\n",
       " 'Name',\n",
       " 'Sex',\n",
       " 'Age',\n",
       " 'Siblings/Spouses Aboard',\n",
       " 'Parents/Children Aboard',\n",
       " 'Fare']"
      ]
     },
     "execution_count": 6,
     "metadata": {},
     "output_type": "execute_result"
    }
   ],
   "source": [
    "gbt_titanic.X_names"
   ]
  },
  {
   "cell_type": "code",
   "execution_count": 7,
   "id": "3a3c384c-9750-4efb-8691-17146eb9b0e4",
   "metadata": {},
   "outputs": [
    {
     "name": "stderr",
     "output_type": "stream",
     "text": [
      "INFO:binarybeech.binarybeech:A tree with 2 leafs was created\n"
     ]
    }
   ],
   "source": [
    "it=gbt_titanic._initial_tree()"
   ]
  },
  {
   "cell_type": "code",
   "execution_count": 8,
   "id": "a798aebf-12bf-49df-87d7-da623d708b64",
   "metadata": {},
   "outputs": [
    {
     "name": "stdout",
     "output_type": "stream",
     "text": [
      "0.3744360902255639\n",
      "\n"
     ]
    }
   ],
   "source": [
    "it.tree.show()"
   ]
  },
  {
   "cell_type": "code",
   "execution_count": 9,
   "id": "c52850c8-e78a-43d6-863a-442fc59f485b",
   "metadata": {},
   "outputs": [
    {
     "data": {
      "text/plain": [
       "<binarybeech.binarybeech.Node at 0x7f86fdc7ea90>"
      ]
     },
     "execution_count": 9,
     "metadata": {},
     "output_type": "execute_result"
    }
   ],
   "source": [
    "it.tree.root"
   ]
  },
  {
   "cell_type": "code",
   "execution_count": 10,
   "id": "7edbef2d-a34b-41d1-9903-3a1fb0d56cbf",
   "metadata": {},
   "outputs": [
    {
     "name": "stderr",
     "output_type": "stream",
     "text": [
      "INFO:binarybeech.binarybeech:Norm of pseudo-residuals: 12.480601489264634\n",
      "INFO:binarybeech.binarybeech:A tree with 15 leafs was created\n",
      "INFO:binarybeech.binarybeech:Norm of pseudo-residuals: 10.046651863031617\n",
      "INFO:binarybeech.binarybeech:A tree with 15 leafs was created\n",
      "INFO:binarybeech.binarybeech:Norm of pseudo-residuals: 9.16104303701688\n",
      "INFO:binarybeech.binarybeech:A tree with 15 leafs was created\n",
      "INFO:binarybeech.binarybeech:Norm of pseudo-residuals: 8.734519388887104\n",
      "INFO:binarybeech.binarybeech:A tree with 15 leafs was created\n",
      "INFO:binarybeech.binarybeech:Norm of pseudo-residuals: 8.615699471719962\n",
      "INFO:binarybeech.binarybeech:A tree with 13 leafs was created\n",
      "INFO:binarybeech.binarybeech:Norm of pseudo-residuals: 8.43654883058252\n",
      "INFO:binarybeech.binarybeech:A tree with 8 leafs was created\n",
      "INFO:binarybeech.binarybeech:Norm of pseudo-residuals: 8.404091687312805\n",
      "INFO:binarybeech.binarybeech:A tree with 14 leafs was created\n",
      "INFO:binarybeech.binarybeech:Norm of pseudo-residuals: 8.28325629475203\n",
      "INFO:binarybeech.binarybeech:A tree with 10 leafs was created\n",
      "INFO:binarybeech.binarybeech:Norm of pseudo-residuals: 8.246629429174963\n",
      "INFO:binarybeech.binarybeech:A tree with 11 leafs was created\n",
      "INFO:binarybeech.binarybeech:Norm of pseudo-residuals: 8.180762411446901\n",
      "INFO:binarybeech.binarybeech:A tree with 15 leafs was created\n",
      "INFO:binarybeech.binarybeech:Norm of pseudo-residuals: 8.082423354623614\n",
      "INFO:binarybeech.binarybeech:A tree with 15 leafs was created\n",
      "INFO:binarybeech.binarybeech:Norm of pseudo-residuals: 8.041692740017362\n",
      "INFO:binarybeech.binarybeech:A tree with 16 leafs was created\n",
      "INFO:binarybeech.binarybeech:Norm of pseudo-residuals: 7.912269192470597\n",
      "INFO:binarybeech.binarybeech:A tree with 11 leafs was created\n",
      "INFO:binarybeech.binarybeech:Norm of pseudo-residuals: 7.864112523495005\n",
      "INFO:binarybeech.binarybeech:A tree with 16 leafs was created\n",
      "INFO:binarybeech.binarybeech:Norm of pseudo-residuals: 7.78731122821398\n",
      "INFO:binarybeech.binarybeech:A tree with 13 leafs was created\n",
      "INFO:binarybeech.binarybeech:Norm of pseudo-residuals: 7.763002474750016\n",
      "INFO:binarybeech.binarybeech:A tree with 14 leafs was created\n",
      "INFO:binarybeech.binarybeech:Norm of pseudo-residuals: 7.71714146061274\n",
      "INFO:binarybeech.binarybeech:A tree with 8 leafs was created\n",
      "INFO:binarybeech.binarybeech:Norm of pseudo-residuals: 7.696902281945025\n",
      "INFO:binarybeech.binarybeech:A tree with 13 leafs was created\n",
      "INFO:binarybeech.binarybeech:Norm of pseudo-residuals: 7.65079004168347\n",
      "INFO:binarybeech.binarybeech:A tree with 14 leafs was created\n",
      "INFO:binarybeech.binarybeech:Norm of pseudo-residuals: 7.575072210880576\n",
      "INFO:binarybeech.binarybeech:A tree with 8 leafs was created\n"
     ]
    }
   ],
   "source": [
    "\n",
    "gbt_titanic.learning_rate=0.5\n",
    "gbt_titanic.create_trees(20)\n"
   ]
  },
  {
   "cell_type": "code",
   "execution_count": 11,
   "id": "ab483568-cbe5-452a-8524-d1700c4f2efc",
   "metadata": {},
   "outputs": [
    {
     "data": {
      "text/plain": [
       "0.6380478824501777"
      ]
     },
     "execution_count": 11,
     "metadata": {},
     "output_type": "execute_result"
    }
   ],
   "source": [
    "\n",
    "gbt_titanic.predict(df_titanic.iloc[0])"
   ]
  },
  {
   "cell_type": "code",
   "execution_count": 12,
   "id": "24a349c8-371f-4749-b0e5-e64362395322",
   "metadata": {},
   "outputs": [
    {
     "data": {
      "text/plain": [
       "{'precision': array([0.91559633, 0.78654971]),\n",
       " 'recall': array([0.87237762, 0.85396825]),\n",
       " 'F-score': 0.856169152805201,\n",
       " 'accuracy': 0.8658399098083427}"
      ]
     },
     "execution_count": 12,
     "metadata": {},
     "output_type": "execute_result"
    }
   ],
   "source": [
    "\n",
    "gbt_titanic.validate(df_test)\n"
   ]
  },
  {
   "cell_type": "markdown",
   "id": "cbea95cd-539e-43f8-a42f-504597cb60f4",
   "metadata": {},
   "source": [
    "#k-fold cross-validation"
   ]
  },
  {
   "cell_type": "code",
   "execution_count": 13,
   "id": "2ca1ac16-51e1-4b8c-b24e-adb14805c846",
   "metadata": {},
   "outputs": [],
   "source": [
    "\n",
    "c = CART(df_titanic,\"Survived\",metrics_type=\"classification\")\n"
   ]
  },
  {
   "cell_type": "code",
   "execution_count": 14,
   "id": "c009583e-2907-489f-b5bf-fa7dee70aae8",
   "metadata": {},
   "outputs": [
    {
     "name": "stderr",
     "output_type": "stream",
     "text": [
      "INFO:binarybeech.binarybeech:A tree with 105 leafs was created\n",
      "INFO:binarybeech.binarybeech:A tree with 85 leafs was created\n",
      "/home/jovyan/binarybeech/metrics.py:106: RuntimeWarning: invalid value encountered in true_divide\n",
      "  return np.diag(m) / np.sum(m, axis=0)\n",
      "INFO:binarybeech.binarybeech:A tree with 89 leafs was created\n",
      "INFO:binarybeech.binarybeech:A tree with 94 leafs was created\n",
      "INFO:binarybeech.binarybeech:A tree with 82 leafs was created\n",
      "INFO:binarybeech.binarybeech:A tree with 93 leafs was created\n",
      "INFO:binarybeech.binarybeech:beta_best: 0.0029313667202432976\n",
      "INFO:binarybeech.binarybeech:A tree with 105 leafs was created\n"
     ]
    },
    {
     "data": {
      "image/png": "[encoded data removed]",
      "text/plain": [
       "<Figure size 640x480 with 1 Axes>"
      ]
     },
     "metadata": {},
     "output_type": "display_data"
    }
   ],
   "source": [
    "c.train(slack=1e-3)"
   ]
  },
  {
   "cell_type": "code",
   "execution_count": 15,
   "id": "62e88b55-a808-4a63-81e4-a055a9a173df",
   "metadata": {},
   "outputs": [
    {
     "data": {
      "text/plain": [
       "5"
      ]
     },
     "execution_count": 15,
     "metadata": {},
     "output_type": "execute_result"
    }
   ],
   "source": [
    "c.tree.leaf_count()"
   ]
  },
  {
   "cell_type": "code",
   "execution_count": 16,
   "id": "e96ef449-5802-4c06-b60a-7981b4be6c0d",
   "metadata": {},
   "outputs": [
    {
     "name": "stdout",
     "output_type": "stream",
     "text": [
      "Sex in ('female',)\n",
      "├── False:0\n",
      "└── True: Pclass<2.24\n",
      "    ├── False:Fare<23.77\n",
      "    │   ├── False:0\n",
      "    │   └── True: Age<37.77\n",
      "    │       ├── False:0\n",
      "    │       └── True: 1\n",
      "    └── True: 1\n",
      "\n"
     ]
    }
   ],
   "source": [
    "c.tree.show()"
   ]
  },
  {
   "cell_type": "code",
   "execution_count": 18,
   "id": "f09ff1fe-3dce-41b6-a816-99bb9facaa87",
   "metadata": {},
   "outputs": [
    {
     "data": {
      "text/plain": [
       "{'precision': array([0.90825688, 0.66959064]),\n",
       " 'recall': array([0.81414474, 0.82078853]),\n",
       " 'F-score': 0.7980748952882141,\n",
       " 'accuracy': 0.8162344983089064}"
      ]
     },
     "execution_count": 18,
     "metadata": {},
     "output_type": "execute_result"
    }
   ],
   "source": [
    "c.validate(df_test)"
   ]
  },
  {
   "cell_type": "code",
   "execution_count": null,
   "id": "b36c4297-2553-4785-829f-88c74d1d29bd",
   "metadata": {},
   "outputs": [],
   "source": []
  }
 ],
 "metadata": {
  "kernelspec": {
   "display_name": "Python 3 (ipykernel)",
   "language": "python",
   "name": "python3"
  },
  "language_info": {
   "codemirror_mode": {
    "name": "ipython",
    "version": 3
   },
   "file_extension": ".py",
   "mimetype": "text/x-python",
   "name": "python",
   "nbconvert_exporter": "python",
   "pygments_lexer": "ipython3",
   "version": "3.7.12"
  }
 },
 "nbformat": 4,
 "nbformat_minor": 5
}
