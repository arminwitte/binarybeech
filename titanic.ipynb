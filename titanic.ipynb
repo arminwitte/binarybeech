{
 "cells": [
  {
   "cell_type": "code",
   "execution_count": 1,
   "id": "b8249f94-d754-4452-bcb7-ff2de80fcd2d",
   "metadata": {},
   "outputs": [],
   "source": [
    "import pandas as pd"
   ]
  },
  {
   "cell_type": "code",
   "execution_count": 2,
   "id": "3e43599c-650e-4390-8ea2-cea4a1e37683",
   "metadata": {},
   "outputs": [],
   "source": [
    "\n",
    "df = pd.read_csv(\"data/titanic_kaggle.csv\")\n",
    "df_titanic = df.sample(frac=0.75)\n",
    "df_test = df.loc[df.index.difference(df_titanic),:]\n",
    "    "
   ]
  },
  {
   "cell_type": "code",
   "execution_count": 3,
   "id": "6a2b1431-9d4e-4939-87c2-7e213291d701",
   "metadata": {},
   "outputs": [],
   "source": [
    "\n",
    "from binarybeech.binarybeech import *\n"
   ]
  },
  {
   "cell_type": "code",
   "execution_count": 4,
   "id": "f7d2617c-10e3-457a-a521-2fbf2071b947",
   "metadata": {},
   "outputs": [],
   "source": [
    "\n",
    "import logging\n",
    "logging.basicConfig(level=logging.INFO)\n"
   ]
  },
  {
   "cell_type": "code",
   "execution_count": 5,
   "id": "13bc6b70-630e-4464-b85c-07970a06e549",
   "metadata": {},
   "outputs": [],
   "source": [
    "\n",
    "rf_titanic = RandomForest(df_titanic.copy(),\"Survived\", cart_settings={\"max_depth\":2,\"min_leaf_samples\":10, \"min_split_samples\":10},sample_frac=0.5,n_attributes=6,metrics_type=\"classification\"\n",
    "                                 )"
   ]
  },
  {
   "cell_type": "code",
   "execution_count": null,
   "id": "87df1e22-7a6a-4c77-b407-5a7aeb70e358",
   "metadata": {},
   "outputs": [
    {
     "name": "stderr",
     "output_type": "stream",
     "text": [
      "INFO:binarybeech.binarybeech:A tree with 8 leafs was created\n",
      "INFO:binarybeech.binarybeech:A tree with 8 leafs was created\n",
      "INFO:binarybeech.binarybeech:A tree with 8 leafs was created\n",
      "INFO:binarybeech.binarybeech:A tree with 8 leafs was created\n"
     ]
    }
   ],
   "source": [
    "\n",
    "rf_titanic.create_trees(20)\n"
   ]
  },
  {
   "cell_type": "code",
   "execution_count": null,
   "id": "3cb61adc-0d85-420b-8b35-a037a4a45f49",
   "metadata": {},
   "outputs": [],
   "source": [
    "\n",
    "rf_titanic.validate()\n"
   ]
  },
  {
   "cell_type": "code",
   "execution_count": null,
   "id": "274c3cce-667e-4dcf-a08c-4ba4205e0969",
   "metadata": {},
   "outputs": [],
   "source": [
    "\n",
    "rf_titanic.validate(df_test)\n"
   ]
  },
  {
   "cell_type": "code",
   "execution_count": null,
   "id": "34bca363-d0c4-4cc1-8cce-e35223c4e2dc",
   "metadata": {},
   "outputs": [],
   "source": [
    "\n",
    "gbt_titanic = GradientBoostedTree(df_titanic.copy(),\"Survived\", cart_settings={\"max_depth\":2,\"min_leaf_samples\":10, \"min_split_samples\":10},sample_frac=0.75,n_attributes=9\n",
    "                                 )"
   ]
  },
  {
   "cell_type": "code",
   "execution_count": null,
   "id": "69e10b97-63a3-427e-a6a8-a6fcbe75f23d",
   "metadata": {},
   "outputs": [],
   "source": [
    "gbt_titanic.X_names"
   ]
  },
  {
   "cell_type": "code",
   "execution_count": null,
   "id": "3a3c384c-9750-4efb-8691-17146eb9b0e4",
   "metadata": {},
   "outputs": [],
   "source": [
    "it=gbt_titanic._initial_tree()"
   ]
  },
  {
   "cell_type": "code",
   "execution_count": null,
   "id": "a798aebf-12bf-49df-87d7-da623d708b64",
   "metadata": {},
   "outputs": [],
   "source": [
    "it.tree.show()"
   ]
  },
  {
   "cell_type": "code",
   "execution_count": null,
   "id": "c52850c8-e78a-43d6-863a-442fc59f485b",
   "metadata": {},
   "outputs": [],
   "source": [
    "it.tree.root"
   ]
  },
  {
   "cell_type": "code",
   "execution_count": null,
   "id": "7edbef2d-a34b-41d1-9903-3a1fb0d56cbf",
   "metadata": {},
   "outputs": [],
   "source": [
    "\n",
    "gbt_titanic.learning_rate=0.01\n",
    "#gbt_titanic.create_trees(200)\n"
   ]
  },
  {
   "cell_type": "code",
   "execution_count": null,
   "id": "ab483568-cbe5-452a-8524-d1700c4f2efc",
   "metadata": {},
   "outputs": [],
   "source": [
    "\n",
    "gbt_titanic.predict(df_titanic.iloc[0])"
   ]
  },
  {
   "cell_type": "code",
   "execution_count": null,
   "id": "24a349c8-371f-4749-b0e5-e64362395322",
   "metadata": {},
   "outputs": [],
   "source": [
    "\n",
    "gbt_titanic.validate(df_test)\n"
   ]
  },
  {
   "cell_type": "markdown",
   "id": "cbea95cd-539e-43f8-a42f-504597cb60f4",
   "metadata": {
    "tags": []
   },
   "source": [
    "#k-fold cross-validation"
   ]
  },
  {
   "cell_type": "code",
   "execution_count": null,
   "id": "2ca1ac16-51e1-4b8c-b24e-adb14805c846",
   "metadata": {},
   "outputs": [],
   "source": [
    "\n",
    "c = CART(df_titanic,\"Survived\",metrics_type=\"classification\")\n"
   ]
  },
  {
   "cell_type": "code",
   "execution_count": null,
   "id": "c009583e-2907-489f-b5bf-fa7dee70aae8",
   "metadata": {},
   "outputs": [],
   "source": [
    "c.train(slack=1e-3)"
   ]
  },
  {
   "cell_type": "code",
   "execution_count": null,
   "id": "62e88b55-a808-4a63-81e4-a055a9a173df",
   "metadata": {},
   "outputs": [],
   "source": [
    "c.tree.leaf_count()"
   ]
  },
  {
   "cell_type": "code",
   "execution_count": null,
   "id": "e96ef449-5802-4c06-b60a-7981b4be6c0d",
   "metadata": {},
   "outputs": [],
   "source": [
    "c.tree.show()"
   ]
  },
  {
   "cell_type": "code",
   "execution_count": null,
   "id": "f09ff1fe-3dce-41b6-a816-99bb9facaa87",
   "metadata": {},
   "outputs": [],
   "source": [
    "c.validate(df_test)"
   ]
  },
  {
   "cell_type": "code",
   "execution_count": null,
   "id": "b36c4297-2553-4785-829f-88c74d1d29bd",
   "metadata": {},
   "outputs": [],
   "source": []
  }
 ],
 "metadata": {
  "kernelspec": {
   "display_name": "Python 3 (ipykernel)",
   "language": "python",
   "name": "python3"
  },
  "language_info": {
   "codemirror_mode": {
    "name": "ipython",
    "version": 3
   },
   "file_extension": ".py",
   "mimetype": "text/x-python",
   "name": "python",
   "nbconvert_exporter": "python",
   "pygments_lexer": "ipython3",
   "version": "3.7.12"
  }
 },
 "nbformat": 4,
 "nbformat_minor": 5
}
