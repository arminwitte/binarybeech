{
 "cells": [
  {
   "cell_type": "code",
   "execution_count": 1,
   "id": "b8249f94-d754-4452-bcb7-ff2de80fcd2d",
   "metadata": {},
   "outputs": [],
   "source": [
    "import pandas as pd"
   ]
  },
  {
   "cell_type": "code",
   "execution_count": 2,
   "id": "3e43599c-650e-4390-8ea2-cea4a1e37683",
   "metadata": {},
   "outputs": [],
   "source": [
    "\n",
    "df = pd.read_csv(\"data/titanic.csv\")\n",
    "df_titanic = df.sample(frac=0.75)\n",
    "df_test = df.loc[df.index.difference(df_titanic),:]\n",
    "    "
   ]
  },
  {
   "cell_type": "code",
   "execution_count": 3,
   "id": "6a2b1431-9d4e-4939-87c2-7e213291d701",
   "metadata": {},
   "outputs": [],
   "source": [
    "\n",
    "from binarybeech.binarybeech import *\n"
   ]
  },
  {
   "cell_type": "code",
   "execution_count": 4,
   "id": "f7d2617c-10e3-457a-a521-2fbf2071b947",
   "metadata": {},
   "outputs": [],
   "source": [
    "\n",
    "import logging\n",
    "logging.basicConfig(level=logging.INFO)\n"
   ]
  },
  {
   "cell_type": "code",
   "execution_count": 5,
   "id": "13bc6b70-630e-4464-b85c-07970a06e549",
   "metadata": {},
   "outputs": [],
   "source": [
    "gbt_titanic = GradientBoostedTree(df_titanic.copy(),\"Survived\")"
   ]
  },
  {
   "cell_type": "code",
   "execution_count": 6,
   "id": "69e10b97-63a3-427e-a6a8-a6fcbe75f23d",
   "metadata": {},
   "outputs": [
    {
     "data": {
      "text/plain": [
       "['Pclass',\n",
       " 'Name',\n",
       " 'Sex',\n",
       " 'Age',\n",
       " 'Siblings/Spouses Aboard',\n",
       " 'Parents/Children Aboard',\n",
       " 'Fare']"
      ]
     },
     "execution_count": 6,
     "metadata": {},
     "output_type": "execute_result"
    }
   ],
   "source": [
    "gbt_titanic.X_names"
   ]
  },
  {
   "cell_type": "code",
   "execution_count": 7,
   "id": "caff0bba-f15d-46a5-baf7-dfc5b0a9173d",
   "metadata": {},
   "outputs": [
    {
     "name": "stdout",
     "output_type": "stream",
     "text": [
      "0\n",
      "\n"
     ]
    },
    {
     "data": {
      "text/plain": [
       "(<binarybeech.binarybeech.Tree at 0x7f13604c7790>, 0.6150375939849624)"
      ]
     },
     "execution_count": 7,
     "metadata": {},
     "output_type": "execute_result"
    }
   ],
   "source": [
    "\n",
    "gbt_titanic._initial_model()\n"
   ]
  },
  {
   "cell_type": "code",
   "execution_count": 8,
   "id": "3a3c384c-9750-4efb-8691-17146eb9b0e4",
   "metadata": {},
   "outputs": [
    {
     "name": "stderr",
     "output_type": "stream",
     "text": [
      "INFO:binarybeech.binarybeech:A tree with 2 leafs was created\n"
     ]
    }
   ],
   "source": [
    "it=gbt_titanic._initial_tree()"
   ]
  },
  {
   "cell_type": "code",
   "execution_count": 9,
   "id": "a798aebf-12bf-49df-87d7-da623d708b64",
   "metadata": {},
   "outputs": [
    {
     "name": "stdout",
     "output_type": "stream",
     "text": [
      "0.3849624060150376\n",
      "\n"
     ]
    }
   ],
   "source": [
    "it.tree.show()"
   ]
  },
  {
   "cell_type": "code",
   "execution_count": 10,
   "id": "c52850c8-e78a-43d6-863a-442fc59f485b",
   "metadata": {},
   "outputs": [
    {
     "data": {
      "text/plain": [
       "<binarybeech.binarybeech.Node at 0x7f13604efb90>"
      ]
     },
     "execution_count": 10,
     "metadata": {},
     "output_type": "execute_result"
    }
   ],
   "source": [
    "it.tree.root"
   ]
  },
  {
   "cell_type": "code",
   "execution_count": 11,
   "id": "7edbef2d-a34b-41d1-9903-3a1fb0d56cbf",
   "metadata": {},
   "outputs": [
    {
     "name": "stderr",
     "output_type": "stream",
     "text": [
      "INFO:binarybeech.binarybeech:Norm of pseudo-residuals: 12.547893212015728\n",
      "INFO:binarybeech.binarybeech:A tree with 16 leafs was created\n",
      "INFO:binarybeech.binarybeech:Norm of pseudo-residuals: 10.188957035429903\n",
      "INFO:binarybeech.binarybeech:A tree with 14 leafs was created\n",
      "INFO:binarybeech.binarybeech:Norm of pseudo-residuals: 9.445738182419944\n",
      "INFO:binarybeech.binarybeech:A tree with 14 leafs was created\n",
      "INFO:binarybeech.binarybeech:Norm of pseudo-residuals: 9.023802193927212\n",
      "INFO:binarybeech.binarybeech:A tree with 14 leafs was created\n",
      "INFO:binarybeech.binarybeech:Norm of pseudo-residuals: 8.839202044877894\n",
      "INFO:binarybeech.binarybeech:A tree with 14 leafs was created\n",
      "INFO:binarybeech.binarybeech:Norm of pseudo-residuals: 8.719408202252549\n",
      "INFO:binarybeech.binarybeech:A tree with 15 leafs was created\n",
      "INFO:binarybeech.binarybeech:Norm of pseudo-residuals: 8.590942286390758\n",
      "INFO:binarybeech.binarybeech:A tree with 10 leafs was created\n",
      "INFO:binarybeech.binarybeech:Norm of pseudo-residuals: 8.520535816520601\n",
      "INFO:binarybeech.binarybeech:A tree with 13 leafs was created\n",
      "INFO:binarybeech.binarybeech:Norm of pseudo-residuals: 8.469294487403406\n",
      "INFO:binarybeech.binarybeech:A tree with 16 leafs was created\n",
      "INFO:binarybeech.binarybeech:Norm of pseudo-residuals: 8.335173438796351\n",
      "INFO:binarybeech.binarybeech:A tree with 16 leafs was created\n",
      "INFO:binarybeech.binarybeech:Norm of pseudo-residuals: 8.232161562583713\n",
      "INFO:binarybeech.binarybeech:A tree with 10 leafs was created\n",
      "INFO:binarybeech.binarybeech:Norm of pseudo-residuals: 8.18271283770575\n",
      "INFO:binarybeech.binarybeech:A tree with 14 leafs was created\n",
      "INFO:binarybeech.binarybeech:Norm of pseudo-residuals: 8.13315093873827\n",
      "INFO:binarybeech.binarybeech:A tree with 13 leafs was created\n",
      "INFO:binarybeech.binarybeech:Norm of pseudo-residuals: 8.085106831987439\n",
      "INFO:binarybeech.binarybeech:A tree with 12 leafs was created\n",
      "INFO:binarybeech.binarybeech:Norm of pseudo-residuals: 8.024801975425111\n",
      "INFO:binarybeech.binarybeech:A tree with 12 leafs was created\n",
      "INFO:binarybeech.binarybeech:Norm of pseudo-residuals: 7.979045723437112\n",
      "INFO:binarybeech.binarybeech:A tree with 9 leafs was created\n",
      "INFO:binarybeech.binarybeech:Norm of pseudo-residuals: 7.966988940319342\n",
      "INFO:binarybeech.binarybeech:A tree with 9 leafs was created\n",
      "INFO:binarybeech.binarybeech:Norm of pseudo-residuals: 7.952787496038625\n",
      "INFO:binarybeech.binarybeech:A tree with 9 leafs was created\n",
      "INFO:binarybeech.binarybeech:Norm of pseudo-residuals: 7.935620454071207\n",
      "INFO:binarybeech.binarybeech:A tree with 16 leafs was created\n",
      "INFO:binarybeech.binarybeech:Norm of pseudo-residuals: 7.902570867529824\n",
      "INFO:binarybeech.binarybeech:A tree with 16 leafs was created\n"
     ]
    }
   ],
   "source": [
    "\n",
    "gbt_titanic.learning_rate=0.5\n",
    "gbt_titanic.create_trees(20)\n"
   ]
  },
  {
   "cell_type": "code",
   "execution_count": 12,
   "id": "ab483568-cbe5-452a-8524-d1700c4f2efc",
   "metadata": {},
   "outputs": [
    {
     "data": {
      "text/plain": [
       "0.06427875103318229"
      ]
     },
     "execution_count": 12,
     "metadata": {},
     "output_type": "execute_result"
    }
   ],
   "source": [
    "\n",
    "gbt_titanic.predict(df_titanic.iloc[0])"
   ]
  },
  {
   "cell_type": "code",
   "execution_count": 13,
   "id": "24a349c8-371f-4749-b0e5-e64362395322",
   "metadata": {},
   "outputs": [
    {
     "data": {
      "text/plain": [
       "{'precision': array([0.92293578, 0.78362573]),\n",
       " 'recall': array([0.87175043, 0.86451613]),\n",
       " 'F-score': 0.859349540150695,\n",
       " 'accuracy': 0.8692220969560316}"
      ]
     },
     "execution_count": 13,
     "metadata": {},
     "output_type": "execute_result"
    }
   ],
   "source": [
    "\n",
    "gbt_titanic.validate(df_test)\n"
   ]
  },
  {
   "cell_type": "markdown",
   "id": "cbea95cd-539e-43f8-a42f-504597cb60f4",
   "metadata": {},
   "source": [
    "#k-fold cross-validation"
   ]
  },
  {
   "cell_type": "code",
   "execution_count": 14,
   "id": "2ca1ac16-51e1-4b8c-b24e-adb14805c846",
   "metadata": {},
   "outputs": [],
   "source": [
    "\n",
    "c = CART(df_titanic,\"Survived\",metrics_type=\"classification\")\n"
   ]
  },
  {
   "cell_type": "code",
   "execution_count": null,
   "id": "c009583e-2907-489f-b5bf-fa7dee70aae8",
   "metadata": {},
   "outputs": [
    {
     "name": "stderr",
     "output_type": "stream",
     "text": [
      "INFO:binarybeech.binarybeech:A tree with 110 leafs was created\n",
      "INFO:binarybeech.binarybeech:A tree with 97 leafs was created\n",
      "/home/jovyan/binarybeech/metrics.py:106: RuntimeWarning: invalid value encountered in true_divide\n",
      "  return np.diag(m) / np.sum(m, axis=0)\n",
      "INFO:binarybeech.binarybeech:A tree with 100 leafs was created\n",
      "INFO:binarybeech.binarybeech:A tree with 98 leafs was created\n",
      "INFO:binarybeech.binarybeech:A tree with 94 leafs was created\n",
      "INFO:binarybeech.binarybeech:A tree with 93 leafs was created\n",
      "INFO:binarybeech.binarybeech:beta_best: 0.005576089088041849\n"
     ]
    }
   ],
   "source": [
    "c.train()"
   ]
  },
  {
   "cell_type": "code",
   "execution_count": null,
   "id": "62e88b55-a808-4a63-81e4-a055a9a173df",
   "metadata": {},
   "outputs": [],
   "source": [
    "c.tree.leaf_count()"
   ]
  },
  {
   "cell_type": "code",
   "execution_count": null,
   "id": "e96ef449-5802-4c06-b60a-7981b4be6c0d",
   "metadata": {},
   "outputs": [],
   "source": [
    "c.tree.show()"
   ]
  },
  {
   "cell_type": "code",
   "execution_count": null,
   "id": "f09ff1fe-3dce-41b6-a816-99bb9facaa87",
   "metadata": {},
   "outputs": [],
   "source": [
    "c.validate(df_test)"
   ]
  }
 ],
 "metadata": {
  "kernelspec": {
   "display_name": "Python 3 (ipykernel)",
   "language": "python",
   "name": "python3"
  },
  "language_info": {
   "codemirror_mode": {
    "name": "ipython",
    "version": 3
   },
   "file_extension": ".py",
   "mimetype": "text/x-python",
   "name": "python",
   "nbconvert_exporter": "python",
   "pygments_lexer": "ipython3",
   "version": "3.7.12"
  }
 },
 "nbformat": 4,
 "nbformat_minor": 5
}
