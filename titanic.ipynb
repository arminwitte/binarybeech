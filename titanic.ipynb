{
 "cells": [
  {
   "cell_type": "code",
   "execution_count": 1,
   "id": "b8249f94-d754-4452-bcb7-ff2de80fcd2d",
   "metadata": {},
   "outputs": [],
   "source": [
    "import pandas as pd"
   ]
  },
  {
   "cell_type": "code",
   "execution_count": 2,
   "id": "3e43599c-650e-4390-8ea2-cea4a1e37683",
   "metadata": {},
   "outputs": [],
   "source": [
    "\n",
    "df = pd.read_csv(\"data/titanic_kaggle.csv\")\n",
    "df_titanic = df.sample(frac=0.75)\n",
    "df_test = df.loc[df.index.difference(df_titanic),:]\n",
    "    "
   ]
  },
  {
   "cell_type": "code",
   "execution_count": 3,
   "id": "6a2b1431-9d4e-4939-87c2-7e213291d701",
   "metadata": {},
   "outputs": [],
   "source": [
    "\n",
    "from binarybeech.binarybeech import *\n"
   ]
  },
  {
   "cell_type": "code",
   "execution_count": 4,
   "id": "f7d2617c-10e3-457a-a521-2fbf2071b947",
   "metadata": {},
   "outputs": [],
   "source": [
    "\n",
    "import logging\n",
    "logging.basicConfig(level=logging.INFO)\n"
   ]
  },
  {
   "cell_type": "code",
   "execution_count": 5,
   "id": "13bc6b70-630e-4464-b85c-07970a06e549",
   "metadata": {},
   "outputs": [],
   "source": [
    "\n",
    "gbt_titanic = GradientBoostedTree(df_titanic.copy(),\"Survived\", cart_settings={\"max_depth\":2,\"min_leaf_samples\":10, \"min_split_samples\":10},sample_frac=0.75,n_attributes=9\n",
    "                                 )"
   ]
  },
  {
   "cell_type": "code",
   "execution_count": 6,
   "id": "69e10b97-63a3-427e-a6a8-a6fcbe75f23d",
   "metadata": {},
   "outputs": [
    {
     "data": {
      "text/plain": [
       "['PassengerId',\n",
       " 'Pclass',\n",
       " 'Name',\n",
       " 'Sex',\n",
       " 'Age',\n",
       " 'SibSp',\n",
       " 'Parch',\n",
       " 'Ticket',\n",
       " 'Fare',\n",
       " 'Cabin',\n",
       " 'Embarked']"
      ]
     },
     "execution_count": 6,
     "metadata": {},
     "output_type": "execute_result"
    }
   ],
   "source": [
    "gbt_titanic.X_names"
   ]
  },
  {
   "cell_type": "code",
   "execution_count": 7,
   "id": "3a3c384c-9750-4efb-8691-17146eb9b0e4",
   "metadata": {},
   "outputs": [
    {
     "name": "stderr",
     "output_type": "stream",
     "text": [
      "INFO:binarybeech.binarybeech:A tree with 2 leafs was created\n"
     ]
    }
   ],
   "source": [
    "it=gbt_titanic._initial_tree()"
   ]
  },
  {
   "cell_type": "code",
   "execution_count": 8,
   "id": "a798aebf-12bf-49df-87d7-da623d708b64",
   "metadata": {},
   "outputs": [
    {
     "name": "stdout",
     "output_type": "stream",
     "text": [
      "0.3907185628742515\n",
      "\n"
     ]
    }
   ],
   "source": [
    "it.tree.show()"
   ]
  },
  {
   "cell_type": "code",
   "execution_count": 9,
   "id": "c52850c8-e78a-43d6-863a-442fc59f485b",
   "metadata": {},
   "outputs": [
    {
     "data": {
      "text/plain": [
       "<binarybeech.binarybeech.Node at 0x7f537df2f090>"
      ]
     },
     "execution_count": 9,
     "metadata": {},
     "output_type": "execute_result"
    }
   ],
   "source": [
    "it.tree.root"
   ]
  },
  {
   "cell_type": "code",
   "execution_count": 10,
   "id": "7edbef2d-a34b-41d1-9903-3a1fb0d56cbf",
   "metadata": {},
   "outputs": [
    {
     "name": "stderr",
     "output_type": "stream",
     "text": [
      "INFO:binarybeech.binarybeech:A tree with 2 leafs was created\n",
      "INFO:binarybeech.binarybeech:Norm of pseudo-residuals: 13.817837556236467\n",
      "INFO:binarybeech.binarybeech:A tree with 8 leafs was created\n",
      "INFO:binarybeech.binarybeech:Norm of pseudo-residuals: 13.761314826325277\n"
     ]
    },
    {
     "name": "stdout",
     "output_type": "stream",
     "text": [
      "6.27\t 371.41\n"
     ]
    },
    {
     "name": "stderr",
     "output_type": "stream",
     "text": [
      "INFO:binarybeech.binarybeech:A tree with 8 leafs was created\n",
      "INFO:binarybeech.binarybeech:Norm of pseudo-residuals: 13.715016324728403\n"
     ]
    },
    {
     "name": "stdout",
     "output_type": "stream",
     "text": [
      "6.21\t 392.28\n"
     ]
    },
    {
     "name": "stderr",
     "output_type": "stream",
     "text": [
      "INFO:binarybeech.binarybeech:A tree with 8 leafs was created\n",
      "INFO:binarybeech.binarybeech:Norm of pseudo-residuals: 13.666888835265517\n"
     ]
    },
    {
     "name": "stdout",
     "output_type": "stream",
     "text": [
      "6.72\t 385.39\n"
     ]
    },
    {
     "name": "stderr",
     "output_type": "stream",
     "text": [
      "INFO:binarybeech.binarybeech:A tree with 8 leafs was created\n"
     ]
    },
    {
     "name": "stdout",
     "output_type": "stream",
     "text": [
      "8.04\t 352.06\n"
     ]
    },
    {
     "name": "stderr",
     "output_type": "stream",
     "text": [
      "INFO:binarybeech.binarybeech:Norm of pseudo-residuals: 13.607162081609\n",
      "INFO:binarybeech.binarybeech:A tree with 7 leafs was created\n",
      "INFO:binarybeech.binarybeech:Norm of pseudo-residuals: 13.585833700665058\n"
     ]
    },
    {
     "name": "stdout",
     "output_type": "stream",
     "text": [
      "3.62\t 441.92\n"
     ]
    },
    {
     "name": "stderr",
     "output_type": "stream",
     "text": [
      "INFO:binarybeech.binarybeech:A tree with 6 leafs was created\n",
      "INFO:binarybeech.binarybeech:Norm of pseudo-residuals: 13.541043471620382\n"
     ]
    },
    {
     "name": "stdout",
     "output_type": "stream",
     "text": [
      "4.39\t 380.50\n"
     ]
    },
    {
     "name": "stderr",
     "output_type": "stream",
     "text": [
      "INFO:binarybeech.binarybeech:A tree with 8 leafs was created\n",
      "INFO:binarybeech.binarybeech:Norm of pseudo-residuals: 13.507260875014609\n"
     ]
    },
    {
     "name": "stdout",
     "output_type": "stream",
     "text": [
      "4.87\t 408.70\n"
     ]
    },
    {
     "name": "stderr",
     "output_type": "stream",
     "text": [
      "INFO:binarybeech.binarybeech:A tree with 8 leafs was created\n",
      "INFO:binarybeech.binarybeech:Norm of pseudo-residuals: 13.435892456915173\n"
     ]
    },
    {
     "name": "stdout",
     "output_type": "stream",
     "text": [
      "6.77\t 319.35\n"
     ]
    },
    {
     "name": "stderr",
     "output_type": "stream",
     "text": [
      "INFO:binarybeech.binarybeech:A tree with 8 leafs was created\n"
     ]
    },
    {
     "name": "stdout",
     "output_type": "stream",
     "text": [
      "3.17\t 463.87\n"
     ]
    },
    {
     "name": "stderr",
     "output_type": "stream",
     "text": [
      "INFO:binarybeech.binarybeech:Norm of pseudo-residuals: 13.426258966171106\n",
      "INFO:binarybeech.binarybeech:A tree with 7 leafs was created\n"
     ]
    },
    {
     "name": "stdout",
     "output_type": "stream",
     "text": [
      "8.99\t 302.65\n"
     ]
    },
    {
     "name": "stderr",
     "output_type": "stream",
     "text": [
      "INFO:binarybeech.binarybeech:Norm of pseudo-residuals: 13.349436412369169\n",
      "INFO:binarybeech.binarybeech:A tree with 8 leafs was created\n"
     ]
    },
    {
     "name": "stdout",
     "output_type": "stream",
     "text": [
      "5.40\t 368.27\n"
     ]
    },
    {
     "name": "stderr",
     "output_type": "stream",
     "text": [
      "INFO:binarybeech.binarybeech:Norm of pseudo-residuals: 13.304466411396403\n",
      "INFO:binarybeech.binarybeech:A tree with 8 leafs was created\n"
     ]
    },
    {
     "name": "stdout",
     "output_type": "stream",
     "text": [
      "4.45\t 417.58\n"
     ]
    },
    {
     "name": "stderr",
     "output_type": "stream",
     "text": [
      "INFO:binarybeech.binarybeech:Norm of pseudo-residuals: 13.279511474677063\n",
      "INFO:binarybeech.binarybeech:A tree with 8 leafs was created\n"
     ]
    },
    {
     "name": "stdout",
     "output_type": "stream",
     "text": [
      "5.27\t 392.58\n"
     ]
    },
    {
     "name": "stderr",
     "output_type": "stream",
     "text": [
      "INFO:binarybeech.binarybeech:Norm of pseudo-residuals: 13.243785249312008\n",
      "INFO:binarybeech.binarybeech:A tree with 8 leafs was created\n"
     ]
    },
    {
     "name": "stdout",
     "output_type": "stream",
     "text": [
      "6.71\t 369.70\n"
     ]
    },
    {
     "name": "stderr",
     "output_type": "stream",
     "text": [
      "INFO:binarybeech.binarybeech:Norm of pseudo-residuals: 13.200489249792637\n",
      "INFO:binarybeech.binarybeech:A tree with 8 leafs was created\n"
     ]
    },
    {
     "name": "stdout",
     "output_type": "stream",
     "text": [
      "6.66\t 349.14\n"
     ]
    },
    {
     "name": "stderr",
     "output_type": "stream",
     "text": [
      "INFO:binarybeech.binarybeech:Norm of pseudo-residuals: 13.145436294151398\n",
      "INFO:binarybeech.binarybeech:A tree with 8 leafs was created\n"
     ]
    },
    {
     "name": "stdout",
     "output_type": "stream",
     "text": [
      "6.93\t 381.04\n"
     ]
    },
    {
     "name": "stderr",
     "output_type": "stream",
     "text": [
      "INFO:binarybeech.binarybeech:Norm of pseudo-residuals: 13.106303463590999\n",
      "INFO:binarybeech.binarybeech:A tree with 7 leafs was created\n"
     ]
    },
    {
     "name": "stdout",
     "output_type": "stream",
     "text": [
      "4.92\t 405.99\n"
     ]
    },
    {
     "name": "stderr",
     "output_type": "stream",
     "text": [
      "INFO:binarybeech.binarybeech:Norm of pseudo-residuals: 13.080881086561586\n",
      "INFO:binarybeech.binarybeech:A tree with 8 leafs was created\n"
     ]
    },
    {
     "name": "stdout",
     "output_type": "stream",
     "text": [
      "3.08\t 435.57\n"
     ]
    },
    {
     "name": "stderr",
     "output_type": "stream",
     "text": [
      "INFO:binarybeech.binarybeech:Norm of pseudo-residuals: 13.067784339823566\n",
      "INFO:binarybeech.binarybeech:A tree with 8 leafs was created\n"
     ]
    },
    {
     "name": "stdout",
     "output_type": "stream",
     "text": [
      "4.82\t 297.48\n"
     ]
    },
    {
     "name": "stderr",
     "output_type": "stream",
     "text": [
      "INFO:binarybeech.binarybeech:Norm of pseudo-residuals: 12.995931250915994\n",
      "INFO:binarybeech.binarybeech:A tree with 8 leafs was created\n"
     ]
    },
    {
     "name": "stdout",
     "output_type": "stream",
     "text": [
      "4.61\t 380.91\n"
     ]
    },
    {
     "name": "stderr",
     "output_type": "stream",
     "text": [
      "INFO:binarybeech.binarybeech:Norm of pseudo-residuals: 12.961117777927925\n",
      "INFO:binarybeech.binarybeech:A tree with 8 leafs was created\n"
     ]
    },
    {
     "name": "stdout",
     "output_type": "stream",
     "text": [
      "4.44\t 309.40\n"
     ]
    },
    {
     "name": "stderr",
     "output_type": "stream",
     "text": [
      "INFO:binarybeech.binarybeech:Norm of pseudo-residuals: 12.897294291830251\n",
      "INFO:binarybeech.binarybeech:A tree with 8 leafs was created\n"
     ]
    },
    {
     "name": "stdout",
     "output_type": "stream",
     "text": [
      "4.56\t 356.52\n"
     ]
    },
    {
     "name": "stderr",
     "output_type": "stream",
     "text": [
      "INFO:binarybeech.binarybeech:Norm of pseudo-residuals: 12.854721109901254\n",
      "INFO:binarybeech.binarybeech:A tree with 7 leafs was created\n"
     ]
    },
    {
     "name": "stdout",
     "output_type": "stream",
     "text": [
      "2.01\t 452.33\n"
     ]
    },
    {
     "name": "stderr",
     "output_type": "stream",
     "text": [
      "INFO:binarybeech.binarybeech:Norm of pseudo-residuals: 12.852523370890212\n",
      "INFO:binarybeech.binarybeech:A tree with 8 leafs was created\n"
     ]
    },
    {
     "name": "stdout",
     "output_type": "stream",
     "text": [
      "5.56\t 377.80\n"
     ]
    },
    {
     "name": "stderr",
     "output_type": "stream",
     "text": [
      "INFO:binarybeech.binarybeech:Norm of pseudo-residuals: 12.81985034845087\n",
      "INFO:binarybeech.binarybeech:A tree with 7 leafs was created\n"
     ]
    },
    {
     "name": "stdout",
     "output_type": "stream",
     "text": [
      "3.95\t 409.33\n"
     ]
    },
    {
     "name": "stderr",
     "output_type": "stream",
     "text": [
      "INFO:binarybeech.binarybeech:Norm of pseudo-residuals: 12.801416764662347\n",
      "INFO:binarybeech.binarybeech:A tree with 7 leafs was created\n"
     ]
    },
    {
     "name": "stdout",
     "output_type": "stream",
     "text": [
      "4.80\t 306.35\n"
     ]
    },
    {
     "name": "stderr",
     "output_type": "stream",
     "text": [
      "INFO:binarybeech.binarybeech:Norm of pseudo-residuals: 12.738353312202461\n",
      "INFO:binarybeech.binarybeech:A tree with 8 leafs was created\n"
     ]
    },
    {
     "name": "stdout",
     "output_type": "stream",
     "text": [
      "7.43\t 364.16\n"
     ]
    },
    {
     "name": "stderr",
     "output_type": "stream",
     "text": [
      "INFO:binarybeech.binarybeech:Norm of pseudo-residuals: 12.698897975614155\n",
      "INFO:binarybeech.binarybeech:A tree with 8 leafs was created\n"
     ]
    },
    {
     "name": "stdout",
     "output_type": "stream",
     "text": [
      "5.24\t 289.17\n"
     ]
    },
    {
     "name": "stderr",
     "output_type": "stream",
     "text": [
      "INFO:binarybeech.binarybeech:Norm of pseudo-residuals: 12.628883801093552\n",
      "INFO:binarybeech.binarybeech:A tree with 8 leafs was created\n"
     ]
    },
    {
     "name": "stdout",
     "output_type": "stream",
     "text": [
      "4.22\t 396.79\n"
     ]
    },
    {
     "name": "stderr",
     "output_type": "stream",
     "text": [
      "INFO:binarybeech.binarybeech:Norm of pseudo-residuals: 12.608897226751841\n",
      "INFO:binarybeech.binarybeech:A tree with 8 leafs was created\n"
     ]
    },
    {
     "name": "stdout",
     "output_type": "stream",
     "text": [
      "6.30\t 354.39\n"
     ]
    },
    {
     "name": "stderr",
     "output_type": "stream",
     "text": [
      "INFO:binarybeech.binarybeech:Norm of pseudo-residuals: 12.568554424885233\n",
      "INFO:binarybeech.binarybeech:A tree with 8 leafs was created\n"
     ]
    },
    {
     "name": "stdout",
     "output_type": "stream",
     "text": [
      "4.00\t 399.98\n"
     ]
    },
    {
     "name": "stderr",
     "output_type": "stream",
     "text": [
      "INFO:binarybeech.binarybeech:Norm of pseudo-residuals: 12.55125043431964\n",
      "INFO:binarybeech.binarybeech:A tree with 8 leafs was created\n"
     ]
    },
    {
     "name": "stdout",
     "output_type": "stream",
     "text": [
      "3.87\t 424.68\n"
     ]
    },
    {
     "name": "stderr",
     "output_type": "stream",
     "text": [
      "INFO:binarybeech.binarybeech:Norm of pseudo-residuals: 12.544475239934027\n",
      "INFO:binarybeech.binarybeech:A tree with 8 leafs was created\n"
     ]
    },
    {
     "name": "stdout",
     "output_type": "stream",
     "text": [
      "5.26\t 386.61\n"
     ]
    },
    {
     "name": "stderr",
     "output_type": "stream",
     "text": [
      "INFO:binarybeech.binarybeech:Norm of pseudo-residuals: 12.5216958551323\n",
      "INFO:binarybeech.binarybeech:A tree with 8 leafs was created\n"
     ]
    },
    {
     "name": "stdout",
     "output_type": "stream",
     "text": [
      "7.60\t 342.50\n"
     ]
    },
    {
     "name": "stderr",
     "output_type": "stream",
     "text": [
      "INFO:binarybeech.binarybeech:Norm of pseudo-residuals: 12.479350885544044\n",
      "INFO:binarybeech.binarybeech:A tree with 8 leafs was created\n"
     ]
    },
    {
     "name": "stdout",
     "output_type": "stream",
     "text": [
      "4.57\t 382.05\n"
     ]
    },
    {
     "name": "stderr",
     "output_type": "stream",
     "text": [
      "INFO:binarybeech.binarybeech:Norm of pseudo-residuals: 12.456702828793158\n",
      "INFO:binarybeech.binarybeech:A tree with 8 leafs was created\n"
     ]
    },
    {
     "name": "stdout",
     "output_type": "stream",
     "text": [
      "5.28\t 377.31\n"
     ]
    },
    {
     "name": "stderr",
     "output_type": "stream",
     "text": [
      "INFO:binarybeech.binarybeech:Norm of pseudo-residuals: 12.431715361498819\n",
      "INFO:binarybeech.binarybeech:A tree with 8 leafs was created\n"
     ]
    },
    {
     "name": "stdout",
     "output_type": "stream",
     "text": [
      "9.53\t 340.88\n"
     ]
    },
    {
     "name": "stderr",
     "output_type": "stream",
     "text": [
      "INFO:binarybeech.binarybeech:Norm of pseudo-residuals: 12.389389441213156\n",
      "INFO:binarybeech.binarybeech:A tree with 8 leafs was created\n"
     ]
    },
    {
     "name": "stdout",
     "output_type": "stream",
     "text": [
      "5.03\t 294.35\n"
     ]
    },
    {
     "name": "stderr",
     "output_type": "stream",
     "text": [
      "INFO:binarybeech.binarybeech:Norm of pseudo-residuals: 12.326611307708486\n",
      "INFO:binarybeech.binarybeech:A tree with 8 leafs was created\n"
     ]
    },
    {
     "name": "stdout",
     "output_type": "stream",
     "text": [
      "5.24\t 387.75\n"
     ]
    },
    {
     "name": "stderr",
     "output_type": "stream",
     "text": [
      "INFO:binarybeech.binarybeech:Norm of pseudo-residuals: 12.309455362640362\n",
      "INFO:binarybeech.binarybeech:A tree with 8 leafs was created\n"
     ]
    },
    {
     "name": "stdout",
     "output_type": "stream",
     "text": [
      "5.80\t 331.99\n"
     ]
    },
    {
     "name": "stderr",
     "output_type": "stream",
     "text": [
      "INFO:binarybeech.binarybeech:Norm of pseudo-residuals: 12.267734687426755\n",
      "INFO:binarybeech.binarybeech:A tree with 7 leafs was created\n"
     ]
    },
    {
     "name": "stdout",
     "output_type": "stream",
     "text": [
      "5.73\t 392.46\n"
     ]
    },
    {
     "name": "stderr",
     "output_type": "stream",
     "text": [
      "INFO:binarybeech.binarybeech:Norm of pseudo-residuals: 12.253453231571967\n",
      "INFO:binarybeech.binarybeech:A tree with 8 leafs was created\n"
     ]
    },
    {
     "name": "stdout",
     "output_type": "stream",
     "text": [
      "7.99\t 366.48\n"
     ]
    },
    {
     "name": "stderr",
     "output_type": "stream",
     "text": [
      "INFO:binarybeech.binarybeech:Norm of pseudo-residuals: 12.227173915480025\n",
      "INFO:binarybeech.binarybeech:A tree with 7 leafs was created\n"
     ]
    },
    {
     "name": "stdout",
     "output_type": "stream",
     "text": [
      "4.69\t 336.82\n"
     ]
    },
    {
     "name": "stderr",
     "output_type": "stream",
     "text": [
      "INFO:binarybeech.binarybeech:Norm of pseudo-residuals: 12.188527142477259\n",
      "INFO:binarybeech.binarybeech:A tree with 8 leafs was created\n"
     ]
    },
    {
     "name": "stdout",
     "output_type": "stream",
     "text": [
      "3.39\t 398.87\n"
     ]
    },
    {
     "name": "stderr",
     "output_type": "stream",
     "text": [
      "INFO:binarybeech.binarybeech:Norm of pseudo-residuals: 12.178780624525112\n",
      "INFO:binarybeech.binarybeech:A tree with 8 leafs was created\n"
     ]
    },
    {
     "name": "stdout",
     "output_type": "stream",
     "text": [
      "2.34\t 416.64\n"
     ]
    },
    {
     "name": "stderr",
     "output_type": "stream",
     "text": [
      "INFO:binarybeech.binarybeech:Norm of pseudo-residuals: 12.176257353311415\n",
      "INFO:binarybeech.binarybeech:A tree with 8 leafs was created\n"
     ]
    },
    {
     "name": "stdout",
     "output_type": "stream",
     "text": [
      "4.84\t 385.61\n"
     ]
    },
    {
     "name": "stderr",
     "output_type": "stream",
     "text": [
      "INFO:binarybeech.binarybeech:Norm of pseudo-residuals: 12.161205328852638\n",
      "INFO:binarybeech.binarybeech:A tree with 8 leafs was created\n"
     ]
    },
    {
     "name": "stdout",
     "output_type": "stream",
     "text": [
      "6.51\t 358.25\n"
     ]
    },
    {
     "name": "stderr",
     "output_type": "stream",
     "text": [
      "INFO:binarybeech.binarybeech:Norm of pseudo-residuals: 12.133928449617997\n",
      "INFO:binarybeech.binarybeech:A tree with 8 leafs was created\n"
     ]
    },
    {
     "name": "stdout",
     "output_type": "stream",
     "text": [
      "7.16\t 364.45\n"
     ]
    },
    {
     "name": "stderr",
     "output_type": "stream",
     "text": [
      "INFO:binarybeech.binarybeech:Norm of pseudo-residuals: 12.109952681087764\n",
      "INFO:binarybeech.binarybeech:A tree with 8 leafs was created\n"
     ]
    },
    {
     "name": "stdout",
     "output_type": "stream",
     "text": [
      "6.53\t 381.34\n"
     ]
    },
    {
     "name": "stderr",
     "output_type": "stream",
     "text": [
      "INFO:binarybeech.binarybeech:Norm of pseudo-residuals: 12.09485623537713\n",
      "INFO:binarybeech.binarybeech:A tree with 8 leafs was created\n"
     ]
    },
    {
     "name": "stdout",
     "output_type": "stream",
     "text": [
      "6.80\t 349.93\n"
     ]
    },
    {
     "name": "stderr",
     "output_type": "stream",
     "text": [
      "INFO:binarybeech.binarybeech:Norm of pseudo-residuals: 12.06608792559269\n",
      "INFO:binarybeech.binarybeech:A tree with 8 leafs was created\n"
     ]
    },
    {
     "name": "stdout",
     "output_type": "stream",
     "text": [
      "4.14\t 387.83\n"
     ]
    },
    {
     "name": "stderr",
     "output_type": "stream",
     "text": [
      "INFO:binarybeech.binarybeech:Norm of pseudo-residuals: 12.054535775588734\n",
      "INFO:binarybeech.binarybeech:A tree with 8 leafs was created\n"
     ]
    },
    {
     "name": "stdout",
     "output_type": "stream",
     "text": [
      "8.94\t 352.04\n"
     ]
    },
    {
     "name": "stderr",
     "output_type": "stream",
     "text": [
      "INFO:binarybeech.binarybeech:Norm of pseudo-residuals: 12.027234166773885\n",
      "INFO:binarybeech.binarybeech:A tree with 7 leafs was created\n"
     ]
    },
    {
     "name": "stdout",
     "output_type": "stream",
     "text": [
      "8.95\t 331.79\n"
     ]
    },
    {
     "name": "stderr",
     "output_type": "stream",
     "text": [
      "INFO:binarybeech.binarybeech:Norm of pseudo-residuals: 11.99106726079225\n",
      "INFO:binarybeech.binarybeech:A tree with 7 leafs was created\n"
     ]
    },
    {
     "name": "stdout",
     "output_type": "stream",
     "text": [
      "-0.92\t 412.37\n"
     ]
    },
    {
     "name": "stderr",
     "output_type": "stream",
     "text": [
      "INFO:binarybeech.binarybeech:Norm of pseudo-residuals: 11.990595619163237\n",
      "INFO:binarybeech.binarybeech:A tree with 8 leafs was created\n"
     ]
    },
    {
     "name": "stdout",
     "output_type": "stream",
     "text": [
      "2.87\t 396.26\n"
     ]
    },
    {
     "name": "stderr",
     "output_type": "stream",
     "text": [
      "INFO:binarybeech.binarybeech:Norm of pseudo-residuals: 11.984132499158866\n",
      "INFO:binarybeech.binarybeech:A tree with 8 leafs was created\n"
     ]
    },
    {
     "name": "stdout",
     "output_type": "stream",
     "text": [
      "6.67\t 355.07\n"
     ]
    },
    {
     "name": "stderr",
     "output_type": "stream",
     "text": [
      "INFO:binarybeech.binarybeech:Norm of pseudo-residuals: 11.95958370907346\n",
      "INFO:binarybeech.binarybeech:A tree with 8 leafs was created\n"
     ]
    },
    {
     "name": "stdout",
     "output_type": "stream",
     "text": [
      "7.64\t 340.76\n"
     ]
    },
    {
     "name": "stderr",
     "output_type": "stream",
     "text": [
      "INFO:binarybeech.binarybeech:Norm of pseudo-residuals: 11.929705854749967\n",
      "INFO:binarybeech.binarybeech:A tree with 8 leafs was created\n"
     ]
    },
    {
     "name": "stdout",
     "output_type": "stream",
     "text": [
      "7.13\t 362.09\n"
     ]
    },
    {
     "name": "stderr",
     "output_type": "stream",
     "text": [
      "INFO:binarybeech.binarybeech:Norm of pseudo-residuals: 11.909650514799901\n",
      "INFO:binarybeech.binarybeech:A tree with 8 leafs was created\n"
     ]
    },
    {
     "name": "stdout",
     "output_type": "stream",
     "text": [
      "5.14\t 292.26\n"
     ]
    },
    {
     "name": "stderr",
     "output_type": "stream",
     "text": [
      "INFO:binarybeech.binarybeech:Norm of pseudo-residuals: 11.855490821670902\n",
      "INFO:binarybeech.binarybeech:A tree with 8 leafs was created\n"
     ]
    },
    {
     "name": "stdout",
     "output_type": "stream",
     "text": [
      "5.88\t 374.72\n"
     ]
    },
    {
     "name": "stderr",
     "output_type": "stream",
     "text": [
      "INFO:binarybeech.binarybeech:Norm of pseudo-residuals: 11.842403326327586\n",
      "INFO:binarybeech.binarybeech:A tree with 8 leafs was created\n"
     ]
    },
    {
     "name": "stdout",
     "output_type": "stream",
     "text": [
      "4.80\t 376.10\n"
     ]
    },
    {
     "name": "stderr",
     "output_type": "stream",
     "text": [
      "INFO:binarybeech.binarybeech:Norm of pseudo-residuals: 11.83048066180226\n",
      "INFO:binarybeech.binarybeech:A tree with 7 leafs was created\n"
     ]
    },
    {
     "name": "stdout",
     "output_type": "stream",
     "text": [
      "5.14\t 294.34\n"
     ]
    },
    {
     "name": "stderr",
     "output_type": "stream",
     "text": [
      "INFO:binarybeech.binarybeech:Norm of pseudo-residuals: 11.779154749146597\n",
      "INFO:binarybeech.binarybeech:A tree with 8 leafs was created\n"
     ]
    },
    {
     "name": "stdout",
     "output_type": "stream",
     "text": [
      "7.50\t 324.07\n"
     ]
    },
    {
     "name": "stderr",
     "output_type": "stream",
     "text": [
      "INFO:binarybeech.binarybeech:Norm of pseudo-residuals: 11.744873986605619\n",
      "INFO:binarybeech.binarybeech:A tree with 8 leafs was created\n"
     ]
    },
    {
     "name": "stdout",
     "output_type": "stream",
     "text": [
      "3.69\t 364.93\n"
     ]
    },
    {
     "name": "stderr",
     "output_type": "stream",
     "text": [
      "INFO:binarybeech.binarybeech:Norm of pseudo-residuals: 11.729354345184682\n",
      "INFO:binarybeech.binarybeech:A tree with 8 leafs was created\n"
     ]
    },
    {
     "name": "stdout",
     "output_type": "stream",
     "text": [
      "6.88\t 356.39\n"
     ]
    },
    {
     "name": "stderr",
     "output_type": "stream",
     "text": [
      "INFO:binarybeech.binarybeech:Norm of pseudo-residuals: 11.710460765889863\n",
      "INFO:binarybeech.binarybeech:A tree with 8 leafs was created\n"
     ]
    },
    {
     "name": "stdout",
     "output_type": "stream",
     "text": [
      "2.90\t 390.85\n"
     ]
    },
    {
     "name": "stderr",
     "output_type": "stream",
     "text": [
      "INFO:binarybeech.binarybeech:Norm of pseudo-residuals: 11.707497124110485\n",
      "INFO:binarybeech.binarybeech:A tree with 8 leafs was created\n"
     ]
    },
    {
     "name": "stdout",
     "output_type": "stream",
     "text": [
      "3.10\t 385.94\n"
     ]
    },
    {
     "name": "stderr",
     "output_type": "stream",
     "text": [
      "INFO:binarybeech.binarybeech:Norm of pseudo-residuals: 11.702673737814541\n",
      "INFO:binarybeech.binarybeech:A tree with 8 leafs was created\n"
     ]
    },
    {
     "name": "stdout",
     "output_type": "stream",
     "text": [
      "4.52\t 385.61\n"
     ]
    },
    {
     "name": "stderr",
     "output_type": "stream",
     "text": [
      "INFO:binarybeech.binarybeech:Norm of pseudo-residuals: 11.698058595136981\n",
      "INFO:binarybeech.binarybeech:A tree with 8 leafs was created\n"
     ]
    },
    {
     "name": "stdout",
     "output_type": "stream",
     "text": [
      "3.25\t 381.22\n"
     ]
    },
    {
     "name": "stderr",
     "output_type": "stream",
     "text": [
      "INFO:binarybeech.binarybeech:Norm of pseudo-residuals: 11.69148648514965\n",
      "INFO:binarybeech.binarybeech:A tree with 8 leafs was created\n"
     ]
    },
    {
     "name": "stdout",
     "output_type": "stream",
     "text": [
      "0.58\t 397.72\n"
     ]
    },
    {
     "name": "stderr",
     "output_type": "stream",
     "text": [
      "INFO:binarybeech.binarybeech:Norm of pseudo-residuals: 11.691393800710468\n",
      "INFO:binarybeech.binarybeech:A tree with 8 leafs was created\n"
     ]
    },
    {
     "name": "stdout",
     "output_type": "stream",
     "text": [
      "5.13\t 292.27\n"
     ]
    },
    {
     "name": "stderr",
     "output_type": "stream",
     "text": [
      "INFO:binarybeech.binarybeech:Norm of pseudo-residuals: 11.642804831411075\n",
      "INFO:binarybeech.binarybeech:A tree with 8 leafs was created\n"
     ]
    },
    {
     "name": "stdout",
     "output_type": "stream",
     "text": [
      "6.01\t 376.04\n"
     ]
    },
    {
     "name": "stderr",
     "output_type": "stream",
     "text": [
      "INFO:binarybeech.binarybeech:Norm of pseudo-residuals: 11.635385674599625\n",
      "INFO:binarybeech.binarybeech:A tree with 8 leafs was created\n"
     ]
    },
    {
     "name": "stdout",
     "output_type": "stream",
     "text": [
      "4.24\t 364.10\n"
     ]
    },
    {
     "name": "stderr",
     "output_type": "stream",
     "text": [
      "INFO:binarybeech.binarybeech:Norm of pseudo-residuals: 11.62248972939292\n",
      "INFO:binarybeech.binarybeech:A tree with 8 leafs was created\n"
     ]
    },
    {
     "name": "stdout",
     "output_type": "stream",
     "text": [
      "4.10\t 370.19\n"
     ]
    },
    {
     "name": "stderr",
     "output_type": "stream",
     "text": [
      "INFO:binarybeech.binarybeech:Norm of pseudo-residuals: 11.612752010185952\n",
      "INFO:binarybeech.binarybeech:A tree with 8 leafs was created\n"
     ]
    },
    {
     "name": "stdout",
     "output_type": "stream",
     "text": [
      "0.70\t 393.01\n"
     ]
    },
    {
     "name": "stderr",
     "output_type": "stream",
     "text": [
      "INFO:binarybeech.binarybeech:Norm of pseudo-residuals: 11.612464705108033\n",
      "INFO:binarybeech.binarybeech:A tree with 8 leafs was created\n"
     ]
    },
    {
     "name": "stdout",
     "output_type": "stream",
     "text": [
      "2.19\t 385.38\n"
     ]
    },
    {
     "name": "stderr",
     "output_type": "stream",
     "text": [
      "INFO:binarybeech.binarybeech:Norm of pseudo-residuals: 11.609324263694289\n",
      "INFO:binarybeech.binarybeech:A tree with 8 leafs was created\n"
     ]
    },
    {
     "name": "stdout",
     "output_type": "stream",
     "text": [
      "6.76\t 346.20\n"
     ]
    },
    {
     "name": "stderr",
     "output_type": "stream",
     "text": [
      "INFO:binarybeech.binarybeech:Norm of pseudo-residuals: 11.589561348369802\n",
      "INFO:binarybeech.binarybeech:A tree with 8 leafs was created\n"
     ]
    },
    {
     "name": "stdout",
     "output_type": "stream",
     "text": [
      "3.38\t 378.69\n"
     ]
    },
    {
     "name": "stderr",
     "output_type": "stream",
     "text": [
      "INFO:binarybeech.binarybeech:Norm of pseudo-residuals: 11.584156528771624\n",
      "INFO:binarybeech.binarybeech:A tree with 8 leafs was created\n"
     ]
    },
    {
     "name": "stdout",
     "output_type": "stream",
     "text": [
      "3.29\t 379.47\n"
     ]
    },
    {
     "name": "stderr",
     "output_type": "stream",
     "text": [
      "INFO:binarybeech.binarybeech:Norm of pseudo-residuals: 11.579211602492444\n",
      "INFO:binarybeech.binarybeech:A tree with 7 leafs was created\n"
     ]
    },
    {
     "name": "stdout",
     "output_type": "stream",
     "text": [
      "-0.97\t 391.78\n"
     ]
    },
    {
     "name": "stderr",
     "output_type": "stream",
     "text": [
      "INFO:binarybeech.binarybeech:Norm of pseudo-residuals: 11.578863799349737\n",
      "INFO:binarybeech.binarybeech:A tree with 6 leafs was created\n"
     ]
    },
    {
     "name": "stdout",
     "output_type": "stream",
     "text": [
      "9.59\t 307.44\n"
     ]
    },
    {
     "name": "stderr",
     "output_type": "stream",
     "text": [
      "INFO:binarybeech.binarybeech:Norm of pseudo-residuals: 11.541568362361199\n",
      "INFO:binarybeech.binarybeech:A tree with 8 leafs was created\n"
     ]
    },
    {
     "name": "stdout",
     "output_type": "stream",
     "text": [
      "3.68\t 344.34\n"
     ]
    },
    {
     "name": "stderr",
     "output_type": "stream",
     "text": [
      "INFO:binarybeech.binarybeech:Norm of pseudo-residuals: 11.521229634957905\n",
      "INFO:binarybeech.binarybeech:A tree with 8 leafs was created\n"
     ]
    },
    {
     "name": "stdout",
     "output_type": "stream",
     "text": [
      "4.71\t 364.46\n"
     ]
    },
    {
     "name": "stderr",
     "output_type": "stream",
     "text": [
      "INFO:binarybeech.binarybeech:Norm of pseudo-residuals: 11.511290504671857\n",
      "INFO:binarybeech.binarybeech:A tree with 8 leafs was created\n"
     ]
    },
    {
     "name": "stdout",
     "output_type": "stream",
     "text": [
      "4.43\t 326.63\n"
     ]
    },
    {
     "name": "stderr",
     "output_type": "stream",
     "text": [
      "INFO:binarybeech.binarybeech:Norm of pseudo-residuals: 11.48265888878968\n",
      "INFO:binarybeech.binarybeech:A tree with 7 leafs was created\n"
     ]
    },
    {
     "name": "stdout",
     "output_type": "stream",
     "text": [
      "-1.14\t 385.33\n"
     ]
    },
    {
     "name": "stderr",
     "output_type": "stream",
     "text": [
      "INFO:binarybeech.binarybeech:Norm of pseudo-residuals: 11.481436639416462\n",
      "INFO:binarybeech.binarybeech:A tree with 8 leafs was created\n"
     ]
    },
    {
     "name": "stdout",
     "output_type": "stream",
     "text": [
      "1.18\t 386.76\n"
     ]
    },
    {
     "name": "stderr",
     "output_type": "stream",
     "text": [
      "INFO:binarybeech.binarybeech:Norm of pseudo-residuals: 11.48119058885593\n",
      "INFO:binarybeech.binarybeech:A tree with 8 leafs was created\n"
     ]
    },
    {
     "name": "stdout",
     "output_type": "stream",
     "text": [
      "1.89\t 382.56\n"
     ]
    },
    {
     "name": "stderr",
     "output_type": "stream",
     "text": [
      "INFO:binarybeech.binarybeech:Norm of pseudo-residuals: 11.479334317453755\n",
      "INFO:binarybeech.binarybeech:A tree with 8 leafs was created\n"
     ]
    },
    {
     "name": "stdout",
     "output_type": "stream",
     "text": [
      "5.49\t 364.37\n"
     ]
    },
    {
     "name": "stderr",
     "output_type": "stream",
     "text": [
      "INFO:binarybeech.binarybeech:Norm of pseudo-residuals: 11.470211361225338\n",
      "INFO:binarybeech.binarybeech:A tree with 8 leafs was created\n"
     ]
    },
    {
     "name": "stdout",
     "output_type": "stream",
     "text": [
      "8.74\t 328.62\n"
     ]
    },
    {
     "name": "stderr",
     "output_type": "stream",
     "text": [
      "INFO:binarybeech.binarybeech:Norm of pseudo-residuals: 11.445404264992543\n",
      "INFO:binarybeech.binarybeech:A tree with 8 leafs was created\n"
     ]
    },
    {
     "name": "stdout",
     "output_type": "stream",
     "text": [
      "4.98\t 361.39\n"
     ]
    },
    {
     "name": "stderr",
     "output_type": "stream",
     "text": [
      "INFO:binarybeech.binarybeech:Norm of pseudo-residuals: 11.43540268580414\n",
      "INFO:binarybeech.binarybeech:A tree with 8 leafs was created\n"
     ]
    },
    {
     "name": "stdout",
     "output_type": "stream",
     "text": [
      "3.08\t 375.47\n"
     ]
    },
    {
     "name": "stderr",
     "output_type": "stream",
     "text": [
      "INFO:binarybeech.binarybeech:Norm of pseudo-residuals: 11.431753515863292\n",
      "INFO:binarybeech.binarybeech:A tree with 8 leafs was created\n"
     ]
    },
    {
     "name": "stdout",
     "output_type": "stream",
     "text": [
      "-1.12\t 383.75\n"
     ]
    },
    {
     "name": "stderr",
     "output_type": "stream",
     "text": [
      "INFO:binarybeech.binarybeech:Norm of pseudo-residuals: 11.431062856717041\n",
      "INFO:binarybeech.binarybeech:A tree with 8 leafs was created\n"
     ]
    },
    {
     "name": "stdout",
     "output_type": "stream",
     "text": [
      "4.83\t 363.62\n"
     ]
    },
    {
     "name": "stderr",
     "output_type": "stream",
     "text": [
      "INFO:binarybeech.binarybeech:Norm of pseudo-residuals: 11.4227134128679\n",
      "INFO:binarybeech.binarybeech:A tree with 8 leafs was created\n"
     ]
    },
    {
     "name": "stdout",
     "output_type": "stream",
     "text": [
      "2.71\t 376.59\n"
     ]
    },
    {
     "name": "stderr",
     "output_type": "stream",
     "text": [
      "INFO:binarybeech.binarybeech:Norm of pseudo-residuals: 11.419807626117265\n",
      "INFO:binarybeech.binarybeech:A tree with 7 leafs was created\n"
     ]
    },
    {
     "name": "stdout",
     "output_type": "stream",
     "text": [
      "0.36\t 384.17\n"
     ]
    },
    {
     "name": "stderr",
     "output_type": "stream",
     "text": [
      "INFO:binarybeech.binarybeech:Norm of pseudo-residuals: 11.419772896163199\n",
      "INFO:binarybeech.binarybeech:A tree with 8 leafs was created\n"
     ]
    },
    {
     "name": "stdout",
     "output_type": "stream",
     "text": [
      "4.30\t 319.65\n"
     ]
    },
    {
     "name": "stderr",
     "output_type": "stream",
     "text": [
      "INFO:binarybeech.binarybeech:Norm of pseudo-residuals: 11.390370307864385\n",
      "INFO:binarybeech.binarybeech:A tree with 8 leafs was created\n"
     ]
    },
    {
     "name": "stdout",
     "output_type": "stream",
     "text": [
      "4.10\t 361.00\n"
     ]
    },
    {
     "name": "stderr",
     "output_type": "stream",
     "text": [
      "INFO:binarybeech.binarybeech:Norm of pseudo-residuals: 11.38164143965945\n",
      "INFO:binarybeech.binarybeech:A tree with 8 leafs was created\n"
     ]
    },
    {
     "name": "stdout",
     "output_type": "stream",
     "text": [
      "0.43\t 382.36\n"
     ]
    },
    {
     "name": "stderr",
     "output_type": "stream",
     "text": [
      "INFO:binarybeech.binarybeech:Norm of pseudo-residuals: 11.381674330581902\n",
      "INFO:binarybeech.binarybeech:A tree with 8 leafs was created\n"
     ]
    },
    {
     "name": "stdout",
     "output_type": "stream",
     "text": [
      "1.28\t 380.86\n"
     ]
    },
    {
     "name": "stderr",
     "output_type": "stream",
     "text": [
      "INFO:binarybeech.binarybeech:Norm of pseudo-residuals: 11.381252448295314\n",
      "INFO:binarybeech.binarybeech:A tree with 7 leafs was created\n"
     ]
    },
    {
     "name": "stdout",
     "output_type": "stream",
     "text": [
      "4.87\t 365.91\n"
     ]
    },
    {
     "name": "stderr",
     "output_type": "stream",
     "text": [
      "INFO:binarybeech.binarybeech:Norm of pseudo-residuals: 11.374611570718137\n",
      "INFO:binarybeech.binarybeech:A tree with 8 leafs was created\n"
     ]
    },
    {
     "name": "stdout",
     "output_type": "stream",
     "text": [
      "2.53\t 376.59\n"
     ]
    },
    {
     "name": "stderr",
     "output_type": "stream",
     "text": [
      "INFO:binarybeech.binarybeech:Norm of pseudo-residuals: 11.372516437361043\n",
      "INFO:binarybeech.binarybeech:A tree with 8 leafs was created\n"
     ]
    },
    {
     "name": "stdout",
     "output_type": "stream",
     "text": [
      "5.30\t 352.80\n"
     ]
    },
    {
     "name": "stderr",
     "output_type": "stream",
     "text": [
      "INFO:binarybeech.binarybeech:Norm of pseudo-residuals: 11.360450700798696\n",
      "INFO:binarybeech.binarybeech:A tree with 8 leafs was created\n"
     ]
    },
    {
     "name": "stdout",
     "output_type": "stream",
     "text": [
      "-1.49\t 379.51\n"
     ]
    },
    {
     "name": "stderr",
     "output_type": "stream",
     "text": [
      "INFO:binarybeech.binarybeech:Norm of pseudo-residuals: 11.359415022513032\n",
      "INFO:binarybeech.binarybeech:A tree with 8 leafs was created\n"
     ]
    },
    {
     "name": "stdout",
     "output_type": "stream",
     "text": [
      "7.48\t 334.08\n"
     ]
    },
    {
     "name": "stderr",
     "output_type": "stream",
     "text": [
      "INFO:binarybeech.binarybeech:Norm of pseudo-residuals: 11.339473164956095\n",
      "INFO:binarybeech.binarybeech:A tree with 8 leafs was created\n"
     ]
    },
    {
     "name": "stdout",
     "output_type": "stream",
     "text": [
      "3.95\t 368.48\n"
     ]
    },
    {
     "name": "stderr",
     "output_type": "stream",
     "text": [
      "INFO:binarybeech.binarybeech:Norm of pseudo-residuals: 11.33503598766752\n",
      "INFO:binarybeech.binarybeech:A tree with 8 leafs was created\n"
     ]
    },
    {
     "name": "stdout",
     "output_type": "stream",
     "text": [
      "6.78\t 352.97\n"
     ]
    },
    {
     "name": "stderr",
     "output_type": "stream",
     "text": [
      "INFO:binarybeech.binarybeech:Norm of pseudo-residuals: 11.324078714169904\n",
      "INFO:binarybeech.binarybeech:A tree with 7 leafs was created\n"
     ]
    },
    {
     "name": "stdout",
     "output_type": "stream",
     "text": [
      "9.07\t 342.50\n"
     ]
    },
    {
     "name": "stderr",
     "output_type": "stream",
     "text": [
      "INFO:binarybeech.binarybeech:Norm of pseudo-residuals: 11.308009337872887\n",
      "INFO:binarybeech.binarybeech:A tree with 8 leafs was created\n"
     ]
    },
    {
     "name": "stdout",
     "output_type": "stream",
     "text": [
      "5.16\t 290.16\n"
     ]
    },
    {
     "name": "stderr",
     "output_type": "stream",
     "text": [
      "INFO:binarybeech.binarybeech:Norm of pseudo-residuals: 11.266402359972139\n",
      "INFO:binarybeech.binarybeech:A tree with 8 leafs was created\n"
     ]
    },
    {
     "name": "stdout",
     "output_type": "stream",
     "text": [
      "9.65\t 341.97\n"
     ]
    },
    {
     "name": "stderr",
     "output_type": "stream",
     "text": [
      "INFO:binarybeech.binarybeech:Norm of pseudo-residuals: 11.251637458735088\n",
      "INFO:binarybeech.binarybeech:A tree with 8 leafs was created\n"
     ]
    },
    {
     "name": "stdout",
     "output_type": "stream",
     "text": [
      "4.99\t 350.56\n"
     ]
    },
    {
     "name": "stderr",
     "output_type": "stream",
     "text": [
      "INFO:binarybeech.binarybeech:Norm of pseudo-residuals: 11.240931155082418\n",
      "INFO:binarybeech.binarybeech:A tree with 8 leafs was created\n"
     ]
    },
    {
     "name": "stdout",
     "output_type": "stream",
     "text": [
      "2.23\t 368.20\n"
     ]
    },
    {
     "name": "stderr",
     "output_type": "stream",
     "text": [
      "INFO:binarybeech.binarybeech:Norm of pseudo-residuals: 11.238318893934574\n",
      "INFO:binarybeech.binarybeech:A tree with 8 leafs was created\n"
     ]
    },
    {
     "name": "stdout",
     "output_type": "stream",
     "text": [
      "1.96\t 372.47\n"
     ]
    },
    {
     "name": "stderr",
     "output_type": "stream",
     "text": [
      "INFO:binarybeech.binarybeech:Norm of pseudo-residuals: 11.237451209301275\n",
      "INFO:binarybeech.binarybeech:A tree with 8 leafs was created\n",
      "INFO:binarybeech.binarybeech:Norm of pseudo-residuals: 11.232511477491364\n",
      "INFO:binarybeech.binarybeech:A tree with 8 leafs was created\n"
     ]
    },
    {
     "name": "stdout",
     "output_type": "stream",
     "text": [
      "4.32\t 363.41\n"
     ]
    },
    {
     "name": "stderr",
     "output_type": "stream",
     "text": [
      "INFO:binarybeech.binarybeech:Norm of pseudo-residuals: 11.22807527742724\n",
      "INFO:binarybeech.binarybeech:A tree with 8 leafs was created\n"
     ]
    },
    {
     "name": "stdout",
     "output_type": "stream",
     "text": [
      "3.28\t 364.60\n"
     ]
    },
    {
     "name": "stderr",
     "output_type": "stream",
     "text": [
      "INFO:binarybeech.binarybeech:Norm of pseudo-residuals: 11.224380542469111\n",
      "INFO:binarybeech.binarybeech:A tree with 8 leafs was created\n"
     ]
    },
    {
     "name": "stdout",
     "output_type": "stream",
     "text": [
      "1.22\t 372.62\n"
     ]
    },
    {
     "name": "stderr",
     "output_type": "stream",
     "text": [
      "INFO:binarybeech.binarybeech:Norm of pseudo-residuals: 11.223842207033071\n",
      "INFO:binarybeech.binarybeech:A tree with 8 leafs was created\n"
     ]
    },
    {
     "name": "stdout",
     "output_type": "stream",
     "text": [
      "5.37\t 287.08\n"
     ]
    },
    {
     "name": "stderr",
     "output_type": "stream",
     "text": [
      "INFO:binarybeech.binarybeech:Norm of pseudo-residuals: 11.182637434542832\n",
      "INFO:binarybeech.binarybeech:A tree with 8 leafs was created\n"
     ]
    },
    {
     "name": "stdout",
     "output_type": "stream",
     "text": [
      "4.49\t 361.89\n"
     ]
    },
    {
     "name": "stderr",
     "output_type": "stream",
     "text": [
      "INFO:binarybeech.binarybeech:Norm of pseudo-residuals: 11.178714340015803\n",
      "INFO:binarybeech.binarybeech:A tree with 8 leafs was created\n"
     ]
    },
    {
     "name": "stdout",
     "output_type": "stream",
     "text": [
      "7.98\t 316.74\n"
     ]
    },
    {
     "name": "stderr",
     "output_type": "stream",
     "text": [
      "INFO:binarybeech.binarybeech:Norm of pseudo-residuals: 11.15433868662385\n",
      "INFO:binarybeech.binarybeech:A tree with 8 leafs was created\n"
     ]
    },
    {
     "name": "stdout",
     "output_type": "stream",
     "text": [
      "4.41\t 359.71\n"
     ]
    },
    {
     "name": "stderr",
     "output_type": "stream",
     "text": [
      "INFO:binarybeech.binarybeech:Norm of pseudo-residuals: 11.150054325144025\n",
      "INFO:binarybeech.binarybeech:A tree with 7 leafs was created\n"
     ]
    },
    {
     "name": "stdout",
     "output_type": "stream",
     "text": [
      "6.89\t 322.54\n"
     ]
    },
    {
     "name": "stderr",
     "output_type": "stream",
     "text": [
      "INFO:binarybeech.binarybeech:Norm of pseudo-residuals: 11.129125464698554\n",
      "INFO:binarybeech.binarybeech:A tree with 8 leafs was created\n"
     ]
    },
    {
     "name": "stdout",
     "output_type": "stream",
     "text": [
      "3.30\t 362.32\n"
     ]
    },
    {
     "name": "stderr",
     "output_type": "stream",
     "text": [
      "INFO:binarybeech.binarybeech:Norm of pseudo-residuals: 11.12634409371349\n",
      "INFO:binarybeech.binarybeech:A tree with 8 leafs was created\n"
     ]
    },
    {
     "name": "stdout",
     "output_type": "stream",
     "text": [
      "-0.75\t 369.02\n"
     ]
    },
    {
     "name": "stderr",
     "output_type": "stream",
     "text": [
      "INFO:binarybeech.binarybeech:Norm of pseudo-residuals: 11.125903001308096\n",
      "INFO:binarybeech.binarybeech:A tree with 8 leafs was created\n"
     ]
    },
    {
     "name": "stdout",
     "output_type": "stream",
     "text": [
      "1.38\t 367.94\n"
     ]
    },
    {
     "name": "stderr",
     "output_type": "stream",
     "text": [
      "INFO:binarybeech.binarybeech:Norm of pseudo-residuals: 11.125415756830172\n",
      "INFO:binarybeech.binarybeech:A tree with 8 leafs was created\n"
     ]
    },
    {
     "name": "stdout",
     "output_type": "stream",
     "text": [
      "4.83\t 356.02\n"
     ]
    },
    {
     "name": "stderr",
     "output_type": "stream",
     "text": [
      "INFO:binarybeech.binarybeech:Norm of pseudo-residuals: 11.120188320677896\n",
      "INFO:binarybeech.binarybeech:A tree with 8 leafs was created\n"
     ]
    },
    {
     "name": "stdout",
     "output_type": "stream",
     "text": [
      "5.64\t 353.96\n"
     ]
    },
    {
     "name": "stderr",
     "output_type": "stream",
     "text": [
      "INFO:binarybeech.binarybeech:Norm of pseudo-residuals: 11.114274134532856\n",
      "INFO:binarybeech.binarybeech:A tree with 8 leafs was created\n"
     ]
    },
    {
     "name": "stdout",
     "output_type": "stream",
     "text": [
      "6.93\t 344.82\n"
     ]
    },
    {
     "name": "stderr",
     "output_type": "stream",
     "text": [
      "INFO:binarybeech.binarybeech:Norm of pseudo-residuals: 11.104374417461894\n",
      "INFO:binarybeech.binarybeech:A tree with 8 leafs was created\n"
     ]
    },
    {
     "name": "stdout",
     "output_type": "stream",
     "text": [
      "5.17\t 282.47\n"
     ]
    },
    {
     "name": "stderr",
     "output_type": "stream",
     "text": [
      "INFO:binarybeech.binarybeech:Norm of pseudo-residuals: 11.063273496946481\n",
      "INFO:binarybeech.binarybeech:A tree with 8 leafs was created\n"
     ]
    },
    {
     "name": "stdout",
     "output_type": "stream",
     "text": [
      "-2.18\t 353.82\n"
     ]
    },
    {
     "name": "stderr",
     "output_type": "stream",
     "text": [
      "INFO:binarybeech.binarybeech:Norm of pseudo-residuals: 11.057184319441955\n",
      "INFO:binarybeech.binarybeech:A tree with 8 leafs was created\n"
     ]
    },
    {
     "name": "stdout",
     "output_type": "stream",
     "text": [
      "-1.08\t 365.07\n"
     ]
    },
    {
     "name": "stderr",
     "output_type": "stream",
     "text": [
      "INFO:binarybeech.binarybeech:Norm of pseudo-residuals: 11.05643768851843\n",
      "INFO:binarybeech.binarybeech:A tree with 8 leafs was created\n"
     ]
    },
    {
     "name": "stdout",
     "output_type": "stream",
     "text": [
      "0.60\t 366.16\n"
     ]
    },
    {
     "name": "stderr",
     "output_type": "stream",
     "text": [
      "INFO:binarybeech.binarybeech:Norm of pseudo-residuals: 11.056397419284298\n",
      "INFO:binarybeech.binarybeech:A tree with 8 leafs was created\n"
     ]
    },
    {
     "name": "stdout",
     "output_type": "stream",
     "text": [
      "3.86\t 358.06\n"
     ]
    },
    {
     "name": "stderr",
     "output_type": "stream",
     "text": [
      "INFO:binarybeech.binarybeech:Norm of pseudo-residuals: 11.053530470830607\n",
      "INFO:binarybeech.binarybeech:A tree with 8 leafs was created\n"
     ]
    },
    {
     "name": "stdout",
     "output_type": "stream",
     "text": [
      "2.13\t 361.66\n"
     ]
    },
    {
     "name": "stderr",
     "output_type": "stream",
     "text": [
      "INFO:binarybeech.binarybeech:Norm of pseudo-residuals: 11.051992114712442\n",
      "INFO:binarybeech.binarybeech:A tree with 8 leafs was created\n"
     ]
    },
    {
     "name": "stdout",
     "output_type": "stream",
     "text": [
      "7.63\t 351.42\n"
     ]
    },
    {
     "name": "stderr",
     "output_type": "stream",
     "text": [
      "INFO:binarybeech.binarybeech:Norm of pseudo-residuals: 11.046065598287447\n",
      "INFO:binarybeech.binarybeech:A tree with 8 leafs was created\n"
     ]
    },
    {
     "name": "stdout",
     "output_type": "stream",
     "text": [
      "-2.17\t 354.93\n"
     ]
    },
    {
     "name": "stderr",
     "output_type": "stream",
     "text": [
      "INFO:binarybeech.binarybeech:Norm of pseudo-residuals: 11.040900682017009\n",
      "INFO:binarybeech.binarybeech:A tree with 8 leafs was created\n"
     ]
    },
    {
     "name": "stdout",
     "output_type": "stream",
     "text": [
      "7.07\t 340.37\n"
     ]
    },
    {
     "name": "stderr",
     "output_type": "stream",
     "text": [
      "INFO:binarybeech.binarybeech:Norm of pseudo-residuals: 11.030717271073666\n",
      "INFO:binarybeech.binarybeech:A tree with 8 leafs was created\n"
     ]
    },
    {
     "name": "stdout",
     "output_type": "stream",
     "text": [
      "7.35\t 343.34\n"
     ]
    },
    {
     "name": "stderr",
     "output_type": "stream",
     "text": [
      "INFO:binarybeech.binarybeech:Norm of pseudo-residuals: 11.021732114458445\n",
      "INFO:binarybeech.binarybeech:A tree with 6 leafs was created\n"
     ]
    },
    {
     "name": "stdout",
     "output_type": "stream",
     "text": [
      "0.76\t 364.20\n"
     ]
    },
    {
     "name": "stderr",
     "output_type": "stream",
     "text": [
      "INFO:binarybeech.binarybeech:Norm of pseudo-residuals: 11.021631045989805\n",
      "INFO:binarybeech.binarybeech:A tree with 8 leafs was created\n"
     ]
    },
    {
     "name": "stdout",
     "output_type": "stream",
     "text": [
      "4.62\t 353.07\n"
     ]
    },
    {
     "name": "stderr",
     "output_type": "stream",
     "text": [
      "INFO:binarybeech.binarybeech:Norm of pseudo-residuals: 11.016732579116699\n",
      "INFO:binarybeech.binarybeech:A tree with 8 leafs was created\n"
     ]
    },
    {
     "name": "stdout",
     "output_type": "stream",
     "text": [
      "5.57\t 283.32\n"
     ]
    },
    {
     "name": "stderr",
     "output_type": "stream",
     "text": [
      "INFO:binarybeech.binarybeech:Norm of pseudo-residuals: 10.977383324257195\n",
      "INFO:binarybeech.binarybeech:A tree with 7 leafs was created\n"
     ]
    },
    {
     "name": "stdout",
     "output_type": "stream",
     "text": [
      "1.08\t 361.55\n"
     ]
    },
    {
     "name": "stderr",
     "output_type": "stream",
     "text": [
      "INFO:binarybeech.binarybeech:Norm of pseudo-residuals: 10.977213435003984\n",
      "INFO:binarybeech.binarybeech:A tree with 8 leafs was created\n"
     ]
    },
    {
     "name": "stdout",
     "output_type": "stream",
     "text": [
      "-1.76\t 360.14\n"
     ]
    },
    {
     "name": "stderr",
     "output_type": "stream",
     "text": [
      "INFO:binarybeech.binarybeech:Norm of pseudo-residuals: 10.975960651803216\n",
      "INFO:binarybeech.binarybeech:A tree with 8 leafs was created\n"
     ]
    },
    {
     "name": "stdout",
     "output_type": "stream",
     "text": [
      "7.82\t 342.80\n"
     ]
    },
    {
     "name": "stderr",
     "output_type": "stream",
     "text": [
      "INFO:binarybeech.binarybeech:Norm of pseudo-residuals: 10.968062175097574\n",
      "INFO:binarybeech.binarybeech:A tree with 8 leafs was created\n"
     ]
    },
    {
     "name": "stdout",
     "output_type": "stream",
     "text": [
      "3.29\t 354.19\n"
     ]
    },
    {
     "name": "stderr",
     "output_type": "stream",
     "text": [
      "INFO:binarybeech.binarybeech:Norm of pseudo-residuals: 10.965169670225203\n",
      "INFO:binarybeech.binarybeech:A tree with 7 leafs was created\n"
     ]
    },
    {
     "name": "stdout",
     "output_type": "stream",
     "text": [
      "5.06\t 308.19\n"
     ]
    },
    {
     "name": "stderr",
     "output_type": "stream",
     "text": [
      "INFO:binarybeech.binarybeech:Norm of pseudo-residuals: 10.940177848161062\n",
      "INFO:binarybeech.binarybeech:A tree with 8 leafs was created\n"
     ]
    },
    {
     "name": "stdout",
     "output_type": "stream",
     "text": [
      "0.10\t 360.74\n"
     ]
    },
    {
     "name": "stderr",
     "output_type": "stream",
     "text": [
      "INFO:binarybeech.binarybeech:Norm of pseudo-residuals: 10.940187283846798\n",
      "INFO:binarybeech.binarybeech:A tree with 8 leafs was created\n"
     ]
    },
    {
     "name": "stdout",
     "output_type": "stream",
     "text": [
      "5.63\t 269.41\n"
     ]
    },
    {
     "name": "stderr",
     "output_type": "stream",
     "text": [
      "INFO:binarybeech.binarybeech:Norm of pseudo-residuals: 10.89492733899657\n",
      "INFO:binarybeech.binarybeech:A tree with 7 leafs was created\n"
     ]
    },
    {
     "name": "stdout",
     "output_type": "stream",
     "text": [
      "4.71\t 296.92\n"
     ]
    },
    {
     "name": "stderr",
     "output_type": "stream",
     "text": [
      "INFO:binarybeech.binarybeech:Norm of pseudo-residuals: 10.865997238008433\n",
      "INFO:binarybeech.binarybeech:A tree with 8 leafs was created\n"
     ]
    },
    {
     "name": "stdout",
     "output_type": "stream",
     "text": [
      "6.77\t 334.79\n"
     ]
    },
    {
     "name": "stderr",
     "output_type": "stream",
     "text": [
      "INFO:binarybeech.binarybeech:Norm of pseudo-residuals: 10.856905142516558\n",
      "INFO:binarybeech.binarybeech:A tree with 7 leafs was created\n"
     ]
    },
    {
     "name": "stdout",
     "output_type": "stream",
     "text": [
      "5.61\t 342.80\n"
     ]
    },
    {
     "name": "stderr",
     "output_type": "stream",
     "text": [
      "INFO:binarybeech.binarybeech:Norm of pseudo-residuals: 10.851642390281151\n",
      "INFO:binarybeech.binarybeech:A tree with 8 leafs was created\n"
     ]
    },
    {
     "name": "stdout",
     "output_type": "stream",
     "text": [
      "0.58\t 355.83\n"
     ]
    },
    {
     "name": "stderr",
     "output_type": "stream",
     "text": [
      "INFO:binarybeech.binarybeech:Norm of pseudo-residuals: 10.851454554286907\n",
      "INFO:binarybeech.binarybeech:A tree with 8 leafs was created\n"
     ]
    },
    {
     "name": "stdout",
     "output_type": "stream",
     "text": [
      "2.73\t 348.37\n"
     ]
    },
    {
     "name": "stderr",
     "output_type": "stream",
     "text": [
      "INFO:binarybeech.binarybeech:Norm of pseudo-residuals: 10.848249906554138\n",
      "INFO:binarybeech.binarybeech:A tree with 8 leafs was created\n"
     ]
    },
    {
     "name": "stdout",
     "output_type": "stream",
     "text": [
      "0.80\t 355.04\n"
     ]
    },
    {
     "name": "stderr",
     "output_type": "stream",
     "text": [
      "INFO:binarybeech.binarybeech:Norm of pseudo-residuals: 10.847839928664722\n",
      "INFO:binarybeech.binarybeech:A tree with 8 leafs was created\n"
     ]
    },
    {
     "name": "stdout",
     "output_type": "stream",
     "text": [
      "5.39\t 283.08\n"
     ]
    },
    {
     "name": "stderr",
     "output_type": "stream",
     "text": [
      "INFO:binarybeech.binarybeech:Norm of pseudo-residuals: 10.812602076616061\n",
      "INFO:binarybeech.binarybeech:A tree with 7 leafs was created\n"
     ]
    },
    {
     "name": "stdout",
     "output_type": "stream",
     "text": [
      "5.51\t 286.75\n"
     ]
    },
    {
     "name": "stderr",
     "output_type": "stream",
     "text": [
      "INFO:binarybeech.binarybeech:Norm of pseudo-residuals: 10.78032882418807\n",
      "INFO:binarybeech.binarybeech:A tree with 8 leafs was created\n"
     ]
    },
    {
     "name": "stdout",
     "output_type": "stream",
     "text": [
      "4.26\t 297.78\n"
     ]
    },
    {
     "name": "stderr",
     "output_type": "stream",
     "text": [
      "INFO:binarybeech.binarybeech:Norm of pseudo-residuals: 10.754745257807905\n",
      "INFO:binarybeech.binarybeech:A tree with 8 leafs was created\n"
     ]
    },
    {
     "name": "stdout",
     "output_type": "stream",
     "text": [
      "-0.83\t 350.98\n"
     ]
    },
    {
     "name": "stderr",
     "output_type": "stream",
     "text": [
      "INFO:binarybeech.binarybeech:Norm of pseudo-residuals: 10.754057081726023\n",
      "INFO:binarybeech.binarybeech:A tree with 8 leafs was created\n"
     ]
    },
    {
     "name": "stdout",
     "output_type": "stream",
     "text": [
      "-0.66\t 351.26\n"
     ]
    },
    {
     "name": "stderr",
     "output_type": "stream",
     "text": [
      "INFO:binarybeech.binarybeech:Norm of pseudo-residuals: 10.753608247802475\n",
      "INFO:binarybeech.binarybeech:A tree with 8 leafs was created\n"
     ]
    },
    {
     "name": "stdout",
     "output_type": "stream",
     "text": [
      "0.04\t 351.99\n"
     ]
    },
    {
     "name": "stderr",
     "output_type": "stream",
     "text": [
      "INFO:binarybeech.binarybeech:Norm of pseudo-residuals: 10.753615259325205\n",
      "INFO:binarybeech.binarybeech:A tree with 8 leafs was created\n"
     ]
    },
    {
     "name": "stdout",
     "output_type": "stream",
     "text": [
      "5.23\t 286.49\n"
     ]
    },
    {
     "name": "stderr",
     "output_type": "stream",
     "text": [
      "INFO:binarybeech.binarybeech:Norm of pseudo-residuals: 10.722059989263546\n",
      "INFO:binarybeech.binarybeech:A tree with 7 leafs was created\n"
     ]
    },
    {
     "name": "stdout",
     "output_type": "stream",
     "text": [
      "5.01\t 288.35\n"
     ]
    },
    {
     "name": "stderr",
     "output_type": "stream",
     "text": [
      "INFO:binarybeech.binarybeech:Norm of pseudo-residuals: 10.692448148621878\n",
      "INFO:binarybeech.binarybeech:A tree with 8 leafs was created\n"
     ]
    },
    {
     "name": "stdout",
     "output_type": "stream",
     "text": [
      "4.79\t 286.55\n"
     ]
    },
    {
     "name": "stderr",
     "output_type": "stream",
     "text": [
      "INFO:binarybeech.binarybeech:Norm of pseudo-residuals: 10.663139912206583\n",
      "INFO:binarybeech.binarybeech:A tree with 8 leafs was created\n"
     ]
    },
    {
     "name": "stdout",
     "output_type": "stream",
     "text": [
      "5.61\t 285.36\n"
     ]
    },
    {
     "name": "stderr",
     "output_type": "stream",
     "text": [
      "INFO:binarybeech.binarybeech:Norm of pseudo-residuals: 10.633088787359814\n",
      "INFO:binarybeech.binarybeech:A tree with 7 leafs was created\n"
     ]
    },
    {
     "name": "stdout",
     "output_type": "stream",
     "text": [
      "6.03\t 273.87\n"
     ]
    },
    {
     "name": "stderr",
     "output_type": "stream",
     "text": [
      "INFO:binarybeech.binarybeech:Norm of pseudo-residuals: 10.5967231216576\n",
      "INFO:binarybeech.binarybeech:A tree with 8 leafs was created\n"
     ]
    },
    {
     "name": "stdout",
     "output_type": "stream",
     "text": [
      "-0.25\t 344.70\n"
     ]
    },
    {
     "name": "stderr",
     "output_type": "stream",
     "text": [
      "INFO:binarybeech.binarybeech:Norm of pseudo-residuals: 10.596667996128206\n",
      "INFO:binarybeech.binarybeech:A tree with 8 leafs was created\n"
     ]
    },
    {
     "name": "stdout",
     "output_type": "stream",
     "text": [
      "4.68\t 337.06\n"
     ]
    },
    {
     "name": "stderr",
     "output_type": "stream",
     "text": [
      "INFO:binarybeech.binarybeech:Norm of pseudo-residuals: 10.593962339616668\n",
      "INFO:binarybeech.binarybeech:A tree with 8 leafs was created\n"
     ]
    },
    {
     "name": "stdout",
     "output_type": "stream",
     "text": [
      "4.43\t 337.29\n"
     ]
    },
    {
     "name": "stderr",
     "output_type": "stream",
     "text": [
      "INFO:binarybeech.binarybeech:Norm of pseudo-residuals: 10.591482845541936\n",
      "INFO:binarybeech.binarybeech:A tree with 8 leafs was created\n"
     ]
    },
    {
     "name": "stdout",
     "output_type": "stream",
     "text": [
      "-1.58\t 342.22\n"
     ]
    },
    {
     "name": "stderr",
     "output_type": "stream",
     "text": [
      "INFO:binarybeech.binarybeech:Norm of pseudo-residuals: 10.590359596609215\n",
      "INFO:binarybeech.binarybeech:A tree with 8 leafs was created\n"
     ]
    },
    {
     "name": "stdout",
     "output_type": "stream",
     "text": [
      "-1.14\t 342.96\n"
     ]
    },
    {
     "name": "stderr",
     "output_type": "stream",
     "text": [
      "INFO:binarybeech.binarybeech:Norm of pseudo-residuals: 10.589586616212296\n",
      "INFO:binarybeech.binarybeech:A tree with 8 leafs was created\n"
     ]
    },
    {
     "name": "stdout",
     "output_type": "stream",
     "text": [
      "1.41\t 342.88\n"
     ]
    },
    {
     "name": "stderr",
     "output_type": "stream",
     "text": [
      "INFO:binarybeech.binarybeech:Norm of pseudo-residuals: 10.58918866391062\n",
      "INFO:binarybeech.binarybeech:A tree with 8 leafs was created\n"
     ]
    },
    {
     "name": "stdout",
     "output_type": "stream",
     "text": [
      "5.72\t 283.80\n"
     ]
    },
    {
     "name": "stderr",
     "output_type": "stream",
     "text": [
      "INFO:binarybeech.binarybeech:Norm of pseudo-residuals: 10.56013950551734\n",
      "INFO:binarybeech.binarybeech:A tree with 8 leafs was created\n"
     ]
    },
    {
     "name": "stdout",
     "output_type": "stream",
     "text": [
      "0.24\t 342.97\n"
     ]
    },
    {
     "name": "stderr",
     "output_type": "stream",
     "text": [
      "INFO:binarybeech.binarybeech:Norm of pseudo-residuals: 10.560163673844986\n",
      "INFO:binarybeech.binarybeech:A tree with 8 leafs was created\n"
     ]
    },
    {
     "name": "stdout",
     "output_type": "stream",
     "text": [
      "0.96\t 342.68\n"
     ]
    },
    {
     "name": "stderr",
     "output_type": "stream",
     "text": [
      "INFO:binarybeech.binarybeech:Norm of pseudo-residuals: 10.56015669251178\n",
      "INFO:binarybeech.binarybeech:A tree with 8 leafs was created\n"
     ]
    },
    {
     "name": "stdout",
     "output_type": "stream",
     "text": [
      "1.82\t 341.08\n"
     ]
    },
    {
     "name": "stderr",
     "output_type": "stream",
     "text": [
      "INFO:binarybeech.binarybeech:Norm of pseudo-residuals: 10.559634216719259\n",
      "INFO:binarybeech.binarybeech:A tree with 8 leafs was created\n"
     ]
    },
    {
     "name": "stdout",
     "output_type": "stream",
     "text": [
      "-4.33\t 330.83\n"
     ]
    },
    {
     "name": "stderr",
     "output_type": "stream",
     "text": [
      "INFO:binarybeech.binarybeech:Norm of pseudo-residuals: 10.55358623601758\n",
      "INFO:binarybeech.binarybeech:A tree with 7 leafs was created\n"
     ]
    },
    {
     "name": "stdout",
     "output_type": "stream",
     "text": [
      "-1.26\t 341.58\n"
     ]
    },
    {
     "name": "stderr",
     "output_type": "stream",
     "text": [
      "INFO:binarybeech.binarybeech:Norm of pseudo-residuals: 10.55287323343777\n",
      "INFO:binarybeech.binarybeech:A tree with 8 leafs was created\n"
     ]
    },
    {
     "name": "stdout",
     "output_type": "stream",
     "text": [
      "0.05\t 342.68\n"
     ]
    },
    {
     "name": "stderr",
     "output_type": "stream",
     "text": [
      "INFO:binarybeech.binarybeech:Norm of pseudo-residuals: 10.552883321849254\n",
      "INFO:binarybeech.binarybeech:A tree with 8 leafs was created\n"
     ]
    },
    {
     "name": "stdout",
     "output_type": "stream",
     "text": [
      "-2.89\t 326.22\n"
     ]
    },
    {
     "name": "stderr",
     "output_type": "stream",
     "text": [
      "INFO:binarybeech.binarybeech:Norm of pseudo-residuals: 10.544974252079296\n",
      "INFO:binarybeech.binarybeech:A tree with 7 leafs was created\n"
     ]
    },
    {
     "name": "stdout",
     "output_type": "stream",
     "text": [
      "5.38\t 282.18\n"
     ]
    },
    {
     "name": "stderr",
     "output_type": "stream",
     "text": [
      "INFO:binarybeech.binarybeech:Norm of pseudo-residuals: 10.515790037568326\n",
      "INFO:binarybeech.binarybeech:A tree with 8 leafs was created\n"
     ]
    },
    {
     "name": "stdout",
     "output_type": "stream",
     "text": [
      "2.24\t 339.07\n"
     ]
    },
    {
     "name": "stderr",
     "output_type": "stream",
     "text": [
      "INFO:binarybeech.binarybeech:Norm of pseudo-residuals: 10.515251133325608\n",
      "INFO:binarybeech.binarybeech:A tree with 8 leafs was created\n"
     ]
    },
    {
     "name": "stdout",
     "output_type": "stream",
     "text": [
      "-0.28\t 340.92\n"
     ]
    },
    {
     "name": "stderr",
     "output_type": "stream",
     "text": [
      "INFO:binarybeech.binarybeech:Norm of pseudo-residuals: 10.515195256754982\n",
      "INFO:binarybeech.binarybeech:A tree with 8 leafs was created\n"
     ]
    },
    {
     "name": "stdout",
     "output_type": "stream",
     "text": [
      "5.18\t 284.36\n"
     ]
    },
    {
     "name": "stderr",
     "output_type": "stream",
     "text": [
      "INFO:binarybeech.binarybeech:Norm of pseudo-residuals: 10.48799750297629\n",
      "INFO:binarybeech.binarybeech:A tree with 8 leafs was created\n"
     ]
    },
    {
     "name": "stdout",
     "output_type": "stream",
     "text": [
      "1.19\t 338.98\n"
     ]
    },
    {
     "name": "stderr",
     "output_type": "stream",
     "text": [
      "INFO:binarybeech.binarybeech:Norm of pseudo-residuals: 10.487799449897647\n",
      "INFO:binarybeech.binarybeech:A tree with 8 leafs was created\n"
     ]
    },
    {
     "name": "stdout",
     "output_type": "stream",
     "text": [
      "0.45\t 339.43\n"
     ]
    },
    {
     "name": "stderr",
     "output_type": "stream",
     "text": [
      "INFO:binarybeech.binarybeech:Norm of pseudo-residuals: 10.487738070749392\n",
      "INFO:binarybeech.binarybeech:A tree with 8 leafs was created\n"
     ]
    },
    {
     "name": "stdout",
     "output_type": "stream",
     "text": [
      "0.75\t 339.32\n"
     ]
    },
    {
     "name": "stderr",
     "output_type": "stream",
     "text": [
      "INFO:binarybeech.binarybeech:Norm of pseudo-residuals: 10.48774896426618\n",
      "INFO:binarybeech.binarybeech:A tree with 8 leafs was created\n"
     ]
    },
    {
     "name": "stdout",
     "output_type": "stream",
     "text": [
      "0.03\t 339.68\n"
     ]
    },
    {
     "name": "stderr",
     "output_type": "stream",
     "text": [
      "INFO:binarybeech.binarybeech:Norm of pseudo-residuals: 10.487755605572355\n",
      "INFO:binarybeech.binarybeech:A tree with 8 leafs was created\n"
     ]
    },
    {
     "name": "stdout",
     "output_type": "stream",
     "text": [
      "-0.94\t 338.74\n"
     ]
    },
    {
     "name": "stderr",
     "output_type": "stream",
     "text": [
      "INFO:binarybeech.binarybeech:Norm of pseudo-residuals: 10.487243180155527\n",
      "INFO:binarybeech.binarybeech:A tree with 8 leafs was created\n"
     ]
    },
    {
     "name": "stdout",
     "output_type": "stream",
     "text": [
      "4.77\t 331.10\n"
     ]
    },
    {
     "name": "stderr",
     "output_type": "stream",
     "text": [
      "INFO:binarybeech.binarybeech:Norm of pseudo-residuals: 10.4840982807988\n",
      "INFO:binarybeech.binarybeech:A tree with 8 leafs was created\n"
     ]
    },
    {
     "name": "stdout",
     "output_type": "stream",
     "text": [
      "10.00\t 283.90\n"
     ]
    },
    {
     "name": "stderr",
     "output_type": "stream",
     "text": [
      "INFO:binarybeech.binarybeech:Norm of pseudo-residuals: 10.456022121353714\n",
      "INFO:binarybeech.binarybeech:A tree with 8 leafs was created\n"
     ]
    },
    {
     "name": "stdout",
     "output_type": "stream",
     "text": [
      "6.27\t 282.48\n"
     ]
    },
    {
     "name": "stderr",
     "output_type": "stream",
     "text": [
      "INFO:binarybeech.binarybeech:Norm of pseudo-residuals: 10.429135927361278\n",
      "INFO:binarybeech.binarybeech:A tree with 7 leafs was created\n"
     ]
    },
    {
     "name": "stdout",
     "output_type": "stream",
     "text": [
      "-0.60\t 336.54\n"
     ]
    },
    {
     "name": "stderr",
     "output_type": "stream",
     "text": [
      "INFO:binarybeech.binarybeech:Norm of pseudo-residuals: 10.428826933519396\n",
      "INFO:binarybeech.binarybeech:A tree with 7 leafs was created\n"
     ]
    },
    {
     "name": "stdout",
     "output_type": "stream",
     "text": [
      "4.97\t 298.28\n"
     ]
    },
    {
     "name": "stderr",
     "output_type": "stream",
     "text": [
      "INFO:binarybeech.binarybeech:Norm of pseudo-residuals: 10.411039055315507\n",
      "INFO:binarybeech.binarybeech:A tree with 8 leafs was created\n"
     ]
    },
    {
     "name": "stdout",
     "output_type": "stream",
     "text": [
      "-1.94\t 326.16\n"
     ]
    },
    {
     "name": "stderr",
     "output_type": "stream",
     "text": [
      "INFO:binarybeech.binarybeech:Norm of pseudo-residuals: 10.40614998306172\n",
      "INFO:binarybeech.binarybeech:A tree with 6 leafs was created\n"
     ]
    },
    {
     "name": "stdout",
     "output_type": "stream",
     "text": [
      "-3.08\t 312.38\n"
     ]
    },
    {
     "name": "stderr",
     "output_type": "stream",
     "text": [
      "INFO:binarybeech.binarybeech:Norm of pseudo-residuals: 10.395085196831108\n",
      "INFO:binarybeech.binarybeech:A tree with 8 leafs was created\n"
     ]
    },
    {
     "name": "stdout",
     "output_type": "stream",
     "text": [
      "1.30\t 334.19\n"
     ]
    },
    {
     "name": "stderr",
     "output_type": "stream",
     "text": [
      "INFO:binarybeech.binarybeech:Norm of pseudo-residuals: 10.39479375194795\n",
      "INFO:binarybeech.binarybeech:A tree with 8 leafs was created\n"
     ]
    },
    {
     "name": "stdout",
     "output_type": "stream",
     "text": [
      "-2.24\t 333.69\n"
     ]
    },
    {
     "name": "stderr",
     "output_type": "stream",
     "text": [
      "INFO:binarybeech.binarybeech:Norm of pseudo-residuals: 10.393809623522888\n",
      "INFO:binarybeech.binarybeech:A tree with 8 leafs was created\n"
     ]
    },
    {
     "name": "stdout",
     "output_type": "stream",
     "text": [
      "4.29\t 319.95\n"
     ]
    },
    {
     "name": "stderr",
     "output_type": "stream",
     "text": [
      "INFO:binarybeech.binarybeech:Norm of pseudo-residuals: 10.387499967244686\n",
      "INFO:binarybeech.binarybeech:A tree with 8 leafs was created\n"
     ]
    },
    {
     "name": "stdout",
     "output_type": "stream",
     "text": [
      "-0.60\t 334.72\n"
     ]
    },
    {
     "name": "stderr",
     "output_type": "stream",
     "text": [
      "INFO:binarybeech.binarybeech:Norm of pseudo-residuals: 10.387196450790272\n",
      "INFO:binarybeech.binarybeech:A tree with 8 leafs was created\n"
     ]
    },
    {
     "name": "stdout",
     "output_type": "stream",
     "text": [
      "1.31\t 333.78\n"
     ]
    },
    {
     "name": "stderr",
     "output_type": "stream",
     "text": [
      "INFO:binarybeech.binarybeech:Norm of pseudo-residuals: 10.386959498620055\n",
      "INFO:binarybeech.binarybeech:A tree with 8 leafs was created\n"
     ]
    },
    {
     "name": "stdout",
     "output_type": "stream",
     "text": [
      "5.75\t 271.07\n"
     ]
    }
   ],
   "source": [
    "\n",
    "gbt_titanic.learning_rate=0.01\n",
    "gbt_titanic.create_trees(200)\n"
   ]
  },
  {
   "cell_type": "code",
   "execution_count": 11,
   "id": "ab483568-cbe5-452a-8524-d1700c4f2efc",
   "metadata": {},
   "outputs": [
    {
     "data": {
      "text/plain": [
       "0.47924083626231045"
      ]
     },
     "execution_count": 11,
     "metadata": {},
     "output_type": "execute_result"
    }
   ],
   "source": [
    "\n",
    "gbt_titanic.predict(df_titanic.iloc[0])"
   ]
  },
  {
   "cell_type": "code",
   "execution_count": 12,
   "id": "24a349c8-371f-4749-b0e5-e64362395322",
   "metadata": {},
   "outputs": [
    {
     "data": {
      "text/plain": [
       "{'precision': array([0.8579235 , 0.77192982]),\n",
       " 'recall': array([0.8579235 , 0.77192982]),\n",
       " 'F-score': 0.8149266609145815,\n",
       " 'accuracy': 0.8249158249158249}"
      ]
     },
     "execution_count": 12,
     "metadata": {},
     "output_type": "execute_result"
    }
   ],
   "source": [
    "\n",
    "gbt_titanic.validate(df_test)\n"
   ]
  },
  {
   "cell_type": "markdown",
   "id": "cbea95cd-539e-43f8-a42f-504597cb60f4",
   "metadata": {
    "tags": []
   },
   "source": [
    "#k-fold cross-validation"
   ]
  },
  {
   "cell_type": "code",
   "execution_count": 13,
   "id": "2ca1ac16-51e1-4b8c-b24e-adb14805c846",
   "metadata": {},
   "outputs": [],
   "source": [
    "\n",
    "c = CART(df_titanic,\"Survived\",metrics_type=\"classification\")\n"
   ]
  },
  {
   "cell_type": "code",
   "execution_count": null,
   "id": "c009583e-2907-489f-b5bf-fa7dee70aae8",
   "metadata": {},
   "outputs": [
    {
     "name": "stderr",
     "output_type": "stream",
     "text": [
      "INFO:binarybeech.binarybeech:A tree with 113 leafs was created\n",
      "INFO:binarybeech.binarybeech:A tree with 80 leafs was created\n",
      "/home/jovyan/binarybeech/metrics.py:106: RuntimeWarning: invalid value encountered in true_divide\n",
      "  return np.diag(m) / np.sum(m, axis=0)\n",
      "INFO:binarybeech.binarybeech:A tree with 86 leafs was created\n"
     ]
    }
   ],
   "source": [
    "c.train(slack=1e-3)"
   ]
  },
  {
   "cell_type": "code",
   "execution_count": null,
   "id": "62e88b55-a808-4a63-81e4-a055a9a173df",
   "metadata": {},
   "outputs": [],
   "source": [
    "c.tree.leaf_count()"
   ]
  },
  {
   "cell_type": "code",
   "execution_count": null,
   "id": "e96ef449-5802-4c06-b60a-7981b4be6c0d",
   "metadata": {},
   "outputs": [],
   "source": [
    "c.tree.show()"
   ]
  },
  {
   "cell_type": "code",
   "execution_count": null,
   "id": "f09ff1fe-3dce-41b6-a816-99bb9facaa87",
   "metadata": {},
   "outputs": [],
   "source": [
    "c.validate(df_test)"
   ]
  },
  {
   "cell_type": "code",
   "execution_count": null,
   "id": "b36c4297-2553-4785-829f-88c74d1d29bd",
   "metadata": {},
   "outputs": [],
   "source": []
  }
 ],
 "metadata": {
  "kernelspec": {
   "display_name": "Python 3 (ipykernel)",
   "language": "python",
   "name": "python3"
  },
  "language_info": {
   "codemirror_mode": {
    "name": "ipython",
    "version": 3
   },
   "file_extension": ".py",
   "mimetype": "text/x-python",
   "name": "python",
   "nbconvert_exporter": "python",
   "pygments_lexer": "ipython3",
   "version": "3.7.12"
  }
 },
 "nbformat": 4,
 "nbformat_minor": 5
}
