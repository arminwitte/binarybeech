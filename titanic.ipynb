{
 "cells": [
  {
   "cell_type": "code",
   "execution_count": 1,
   "id": "b8249f94-d754-4452-bcb7-ff2de80fcd2d",
   "metadata": {},
   "outputs": [],
   "source": [
    "import pandas as pd"
   ]
  },
  {
   "cell_type": "code",
   "execution_count": 2,
   "id": "3e43599c-650e-4390-8ea2-cea4a1e37683",
   "metadata": {},
   "outputs": [],
   "source": [
    "\n",
    "df = pd.read_csv(\"data/titanic_kaggle.csv\")\n",
    "df_titanic = df.sample(frac=0.75)\n",
    "df_test = df.loc[df.index.difference(df_titanic),:]\n",
    "    "
   ]
  },
  {
   "cell_type": "code",
   "execution_count": 3,
   "id": "6a2b1431-9d4e-4939-87c2-7e213291d701",
   "metadata": {},
   "outputs": [],
   "source": [
    "\n",
    "from binarybeech.binarybeech import *\n"
   ]
  },
  {
   "cell_type": "code",
   "execution_count": 4,
   "id": "f7d2617c-10e3-457a-a521-2fbf2071b947",
   "metadata": {},
   "outputs": [],
   "source": [
    "\n",
    "import logging\n",
    "logging.basicConfig(level=logging.INFO)\n"
   ]
  },
  {
   "cell_type": "code",
   "execution_count": 5,
   "id": "13bc6b70-630e-4464-b85c-07970a06e549",
   "metadata": {},
   "outputs": [],
   "source": [
    "\n",
    "gbt_titanic = GradientBoostedTree(df_titanic.copy(),\"Survived\", cart_settings={\"max_depth\":3},sample_frac=0.5,n_attributes=5\n",
    "                                 )"
   ]
  },
  {
   "cell_type": "code",
   "execution_count": 6,
   "id": "69e10b97-63a3-427e-a6a8-a6fcbe75f23d",
   "metadata": {},
   "outputs": [
    {
     "data": {
      "text/plain": [
       "['PassengerId',\n",
       " 'Pclass',\n",
       " 'Name',\n",
       " 'Sex',\n",
       " 'Age',\n",
       " 'SibSp',\n",
       " 'Parch',\n",
       " 'Ticket',\n",
       " 'Fare',\n",
       " 'Cabin',\n",
       " 'Embarked']"
      ]
     },
     "execution_count": 6,
     "metadata": {},
     "output_type": "execute_result"
    }
   ],
   "source": [
    "gbt_titanic.X_names"
   ]
  },
  {
   "cell_type": "code",
   "execution_count": 7,
   "id": "3a3c384c-9750-4efb-8691-17146eb9b0e4",
   "metadata": {},
   "outputs": [
    {
     "name": "stderr",
     "output_type": "stream",
     "text": [
      "INFO:binarybeech.binarybeech:A tree with 2 leafs was created\n"
     ]
    }
   ],
   "source": [
    "it=gbt_titanic._initial_tree()"
   ]
  },
  {
   "cell_type": "code",
   "execution_count": 8,
   "id": "a798aebf-12bf-49df-87d7-da623d708b64",
   "metadata": {},
   "outputs": [
    {
     "name": "stdout",
     "output_type": "stream",
     "text": [
      "0.3832335329341317\n",
      "\n"
     ]
    }
   ],
   "source": [
    "it.tree.show()"
   ]
  },
  {
   "cell_type": "code",
   "execution_count": 9,
   "id": "c52850c8-e78a-43d6-863a-442fc59f485b",
   "metadata": {},
   "outputs": [
    {
     "data": {
      "text/plain": [
       "<binarybeech.binarybeech.Node at 0x7fce2e84c790>"
      ]
     },
     "execution_count": 9,
     "metadata": {},
     "output_type": "execute_result"
    }
   ],
   "source": [
    "it.tree.root"
   ]
  },
  {
   "cell_type": "code",
   "execution_count": 10,
   "id": "7edbef2d-a34b-41d1-9903-3a1fb0d56cbf",
   "metadata": {},
   "outputs": [
    {
     "name": "stderr",
     "output_type": "stream",
     "text": [
      "INFO:binarybeech.binarybeech:A tree with 2 leafs was created\n",
      "INFO:binarybeech.binarybeech:Norm of pseudo-residuals: 12.56551692406095\n",
      "INFO:binarybeech.binarybeech:A tree with 12 leafs was created\n",
      "INFO:binarybeech.binarybeech:Norm of pseudo-residuals: 12.545143251251782\n"
     ]
    },
    {
     "name": "stdout",
     "output_type": "stream",
     "text": [
      "0.12317116551628869 441.6683103653707\n"
     ]
    },
    {
     "name": "stderr",
     "output_type": "stream",
     "text": [
      "INFO:binarybeech.binarybeech:A tree with 12 leafs was created\n",
      "INFO:binarybeech.binarybeech:Norm of pseudo-residuals: 12.190636125957644\n"
     ]
    },
    {
     "name": "stdout",
     "output_type": "stream",
     "text": [
      "0.7248599335610821 391.51668549918423\n"
     ]
    },
    {
     "name": "stderr",
     "output_type": "stream",
     "text": [
      "INFO:binarybeech.binarybeech:A tree with 13 leafs was created\n"
     ]
    },
    {
     "name": "stdout",
     "output_type": "stream",
     "text": [
      "0.7090298631888736 361.8449354217952\n"
     ]
    },
    {
     "name": "stderr",
     "output_type": "stream",
     "text": [
      "INFO:binarybeech.binarybeech:Norm of pseudo-residuals: 11.75643169573953\n",
      "INFO:binarybeech.binarybeech:A tree with 12 leafs was created\n",
      "INFO:binarybeech.binarybeech:Norm of pseudo-residuals: 11.755695077464145\n"
     ]
    },
    {
     "name": "stdout",
     "output_type": "stream",
     "text": [
      "0.02619740584986584 403.76034073852475\n"
     ]
    },
    {
     "name": "stderr",
     "output_type": "stream",
     "text": [
      "INFO:binarybeech.binarybeech:A tree with 11 leafs was created\n",
      "INFO:binarybeech.binarybeech:Norm of pseudo-residuals: 11.426702177476345\n"
     ]
    },
    {
     "name": "stdout",
     "output_type": "stream",
     "text": [
      "0.949349465020217 359.95676445744095\n"
     ]
    },
    {
     "name": "stderr",
     "output_type": "stream",
     "text": [
      "INFO:binarybeech.binarybeech:A tree with 16 leafs was created\n"
     ]
    },
    {
     "name": "stdout",
     "output_type": "stream",
     "text": [
      "0.8287295446984421 343.8494613777305\n"
     ]
    },
    {
     "name": "stderr",
     "output_type": "stream",
     "text": [
      "INFO:binarybeech.binarybeech:Norm of pseudo-residuals: 11.127130585366867\n",
      "INFO:binarybeech.binarybeech:A tree with 10 leafs was created\n"
     ]
    },
    {
     "name": "stdout",
     "output_type": "stream",
     "text": [
      "0.5915291678694131 353.81967659996167\n"
     ]
    },
    {
     "name": "stderr",
     "output_type": "stream",
     "text": [
      "INFO:binarybeech.binarybeech:Norm of pseudo-residuals: 10.971344358402932\n",
      "INFO:binarybeech.binarybeech:A tree with 13 leafs was created\n"
     ]
    },
    {
     "name": "stdout",
     "output_type": "stream",
     "text": [
      "0.7265567462258504 304.67813511465386\n"
     ]
    },
    {
     "name": "stderr",
     "output_type": "stream",
     "text": [
      "INFO:binarybeech.binarybeech:Norm of pseudo-residuals: 10.575939430084912\n",
      "INFO:binarybeech.binarybeech:A tree with 12 leafs was created\n"
     ]
    },
    {
     "name": "stdout",
     "output_type": "stream",
     "text": [
      "0.7998160676180706 292.50878565207495\n"
     ]
    },
    {
     "name": "stderr",
     "output_type": "stream",
     "text": [
      "INFO:binarybeech.binarybeech:Norm of pseudo-residuals: 10.224992071686223\n",
      "INFO:binarybeech.binarybeech:A tree with 12 leafs was created\n"
     ]
    },
    {
     "name": "stdout",
     "output_type": "stream",
     "text": [
      "0.5314285997111305 323.2425934516418\n"
     ]
    },
    {
     "name": "stderr",
     "output_type": "stream",
     "text": [
      "INFO:binarybeech.binarybeech:Norm of pseudo-residuals: 10.173827720400821\n",
      "INFO:binarybeech.binarybeech:A tree with 7 leafs was created\n"
     ]
    },
    {
     "name": "stdout",
     "output_type": "stream",
     "text": [
      "0.8489044293421988 294.1688984635633\n"
     ]
    },
    {
     "name": "stderr",
     "output_type": "stream",
     "text": [
      "INFO:binarybeech.binarybeech:Norm of pseudo-residuals: 9.97352122574982\n",
      "INFO:binarybeech.binarybeech:A tree with 13 leafs was created\n"
     ]
    },
    {
     "name": "stdout",
     "output_type": "stream",
     "text": [
      "0.8205101634999541 280.2768169906383\n"
     ]
    },
    {
     "name": "stderr",
     "output_type": "stream",
     "text": [
      "INFO:binarybeech.binarybeech:Norm of pseudo-residuals: 9.772470048690549\n",
      "INFO:binarybeech.binarybeech:A tree with 15 leafs was created\n"
     ]
    },
    {
     "name": "stdout",
     "output_type": "stream",
     "text": [
      "0.6694562231868803 292.7859246946976\n"
     ]
    },
    {
     "name": "stderr",
     "output_type": "stream",
     "text": [
      "INFO:binarybeech.binarybeech:Norm of pseudo-residuals: 9.688929310468108\n",
      "INFO:binarybeech.binarybeech:A tree with 13 leafs was created\n"
     ]
    },
    {
     "name": "stdout",
     "output_type": "stream",
     "text": [
      "0.642514792687916 279.99423177577546\n"
     ]
    },
    {
     "name": "stderr",
     "output_type": "stream",
     "text": [
      "INFO:binarybeech.binarybeech:Norm of pseudo-residuals: 9.555193558675029\n",
      "INFO:binarybeech.binarybeech:A tree with 12 leafs was created\n"
     ]
    },
    {
     "name": "stdout",
     "output_type": "stream",
     "text": [
      "0.11506926523698256 295.60648857726164\n"
     ]
    },
    {
     "name": "stderr",
     "output_type": "stream",
     "text": [
      "INFO:binarybeech.binarybeech:Norm of pseudo-residuals: 9.551872879066831\n",
      "INFO:binarybeech.binarybeech:A tree with 8 leafs was created\n"
     ]
    },
    {
     "name": "stdout",
     "output_type": "stream",
     "text": [
      "0.3969580080219884 288.49061825135936\n"
     ]
    },
    {
     "name": "stderr",
     "output_type": "stream",
     "text": [
      "INFO:binarybeech.binarybeech:Norm of pseudo-residuals: 9.507204241477066\n",
      "INFO:binarybeech.binarybeech:A tree with 10 leafs was created\n"
     ]
    },
    {
     "name": "stdout",
     "output_type": "stream",
     "text": [
      "-0.29671697076420867 292.6279711956276\n"
     ]
    },
    {
     "name": "stderr",
     "output_type": "stream",
     "text": [
      "INFO:binarybeech.binarybeech:Norm of pseudo-residuals: 9.500846009270017\n",
      "INFO:binarybeech.binarybeech:A tree with 16 leafs was created\n"
     ]
    },
    {
     "name": "stdout",
     "output_type": "stream",
     "text": [
      "0.8209306767920702 275.74872964052923\n"
     ]
    },
    {
     "name": "stderr",
     "output_type": "stream",
     "text": [
      "INFO:binarybeech.binarybeech:Norm of pseudo-residuals: 9.411328888844537\n",
      "INFO:binarybeech.binarybeech:A tree with 13 leafs was created\n"
     ]
    },
    {
     "name": "stdout",
     "output_type": "stream",
     "text": [
      "0.22183148972354214 280.629396213054\n"
     ]
    },
    {
     "name": "stderr",
     "output_type": "stream",
     "text": [
      "INFO:binarybeech.binarybeech:Norm of pseudo-residuals: 9.372279221382898\n",
      "INFO:binarybeech.binarybeech:A tree with 12 leafs was created\n"
     ]
    },
    {
     "name": "stdout",
     "output_type": "stream",
     "text": [
      "0.325045565375141 275.1713594419034\n"
     ]
    },
    {
     "name": "stderr",
     "output_type": "stream",
     "text": [
      "INFO:binarybeech.binarybeech:Norm of pseudo-residuals: 9.315245147187527\n",
      "INFO:binarybeech.binarybeech:A tree with 15 leafs was created\n"
     ]
    },
    {
     "name": "stdout",
     "output_type": "stream",
     "text": [
      "0.14963154090138417 281.6551089818628\n"
     ]
    },
    {
     "name": "stderr",
     "output_type": "stream",
     "text": [
      "INFO:binarybeech.binarybeech:Norm of pseudo-residuals: 9.310214329331515\n",
      "INFO:binarybeech.binarybeech:A tree with 16 leafs was created\n"
     ]
    },
    {
     "name": "stdout",
     "output_type": "stream",
     "text": [
      "-0.06080333623577282 282.0860660630646\n"
     ]
    },
    {
     "name": "stderr",
     "output_type": "stream",
     "text": [
      "INFO:binarybeech.binarybeech:Norm of pseudo-residuals: 9.310187120388315\n",
      "INFO:binarybeech.binarybeech:A tree with 14 leafs was created\n"
     ]
    },
    {
     "name": "stdout",
     "output_type": "stream",
     "text": [
      "0.7927742117726361 264.7576273462832\n"
     ]
    },
    {
     "name": "stderr",
     "output_type": "stream",
     "text": [
      "INFO:binarybeech.binarybeech:Norm of pseudo-residuals: 9.221924647855985\n",
      "INFO:binarybeech.binarybeech:A tree with 14 leafs was created\n"
     ]
    },
    {
     "name": "stdout",
     "output_type": "stream",
     "text": [
      "0.5508846173971311 269.95630968915043\n"
     ]
    },
    {
     "name": "stderr",
     "output_type": "stream",
     "text": [
      "INFO:binarybeech.binarybeech:Norm of pseudo-residuals: 9.185666414794573\n",
      "INFO:binarybeech.binarybeech:A tree with 11 leafs was created\n"
     ]
    },
    {
     "name": "stdout",
     "output_type": "stream",
     "text": [
      "0.9268882340084135 256.70707787823676\n"
     ]
    },
    {
     "name": "stderr",
     "output_type": "stream",
     "text": [
      "INFO:binarybeech.binarybeech:Norm of pseudo-residuals: 9.082675200302749\n",
      "INFO:binarybeech.binarybeech:A tree with 12 leafs was created\n"
     ]
    },
    {
     "name": "stdout",
     "output_type": "stream",
     "text": [
      "0.9699810141501388 257.07793860502716\n"
     ]
    },
    {
     "name": "stderr",
     "output_type": "stream",
     "text": [
      "INFO:binarybeech.binarybeech:Norm of pseudo-residuals: 9.024529264016676\n",
      "INFO:binarybeech.binarybeech:A tree with 12 leafs was created\n"
     ]
    },
    {
     "name": "stdout",
     "output_type": "stream",
     "text": [
      "0.5596679557605329 258.8991343632541\n"
     ]
    },
    {
     "name": "stderr",
     "output_type": "stream",
     "text": [
      "INFO:binarybeech.binarybeech:Norm of pseudo-residuals: 8.978561020532748\n",
      "INFO:binarybeech.binarybeech:A tree with 9 leafs was created\n"
     ]
    },
    {
     "name": "stdout",
     "output_type": "stream",
     "text": [
      "0.5458158922231788 258.46455742297775\n"
     ]
    },
    {
     "name": "stderr",
     "output_type": "stream",
     "text": [
      "INFO:binarybeech.binarybeech:Norm of pseudo-residuals: 8.949180468065679\n",
      "INFO:binarybeech.binarybeech:A tree with 9 leafs was created\n"
     ]
    },
    {
     "name": "stdout",
     "output_type": "stream",
     "text": [
      "0.35461865464050896 258.85076762200936\n"
     ]
    },
    {
     "name": "stderr",
     "output_type": "stream",
     "text": [
      "INFO:binarybeech.binarybeech:Norm of pseudo-residuals: 8.92738665924384\n",
      "INFO:binarybeech.binarybeech:A tree with 14 leafs was created\n"
     ]
    },
    {
     "name": "stdout",
     "output_type": "stream",
     "text": [
      "0.591214897834847 252.04331647899036\n"
     ]
    },
    {
     "name": "stderr",
     "output_type": "stream",
     "text": [
      "INFO:binarybeech.binarybeech:Norm of pseudo-residuals: 8.892398337749604\n",
      "INFO:binarybeech.binarybeech:A tree with 9 leafs was created\n"
     ]
    },
    {
     "name": "stdout",
     "output_type": "stream",
     "text": [
      "0.4440676858213207 255.02902097295998\n"
     ]
    },
    {
     "name": "stderr",
     "output_type": "stream",
     "text": [
      "INFO:binarybeech.binarybeech:Norm of pseudo-residuals: 8.877283382761641\n",
      "INFO:binarybeech.binarybeech:A tree with 9 leafs was created\n"
     ]
    },
    {
     "name": "stdout",
     "output_type": "stream",
     "text": [
      "0.1781008109781555 255.27420760920003\n"
     ]
    },
    {
     "name": "stderr",
     "output_type": "stream",
     "text": [
      "INFO:binarybeech.binarybeech:Norm of pseudo-residuals: 8.862745030502802\n",
      "INFO:binarybeech.binarybeech:A tree with 14 leafs was created\n"
     ]
    },
    {
     "name": "stdout",
     "output_type": "stream",
     "text": [
      "0.4794249298883281 249.69461404345267\n"
     ]
    },
    {
     "name": "stderr",
     "output_type": "stream",
     "text": [
      "INFO:binarybeech.binarybeech:Norm of pseudo-residuals: 8.820659348399797\n",
      "INFO:binarybeech.binarybeech:A tree with 13 leafs was created\n"
     ]
    },
    {
     "name": "stdout",
     "output_type": "stream",
     "text": [
      "0.04808938010061928 253.975281847224\n"
     ]
    },
    {
     "name": "stderr",
     "output_type": "stream",
     "text": [
      "INFO:binarybeech.binarybeech:Norm of pseudo-residuals: 8.819515217409332\n",
      "INFO:binarybeech.binarybeech:A tree with 10 leafs was created\n"
     ]
    },
    {
     "name": "stdout",
     "output_type": "stream",
     "text": [
      "0.31233644814228173 252.27831883657808\n"
     ]
    },
    {
     "name": "stderr",
     "output_type": "stream",
     "text": [
      "INFO:binarybeech.binarybeech:Norm of pseudo-residuals: 8.808913226071112\n",
      "INFO:binarybeech.binarybeech:A tree with 14 leafs was created\n"
     ]
    },
    {
     "name": "stdout",
     "output_type": "stream",
     "text": [
      "0.3990066005312077 248.12226293852314\n"
     ]
    },
    {
     "name": "stderr",
     "output_type": "stream",
     "text": [
      "INFO:binarybeech.binarybeech:Norm of pseudo-residuals: 8.777777760902095\n",
      "INFO:binarybeech.binarybeech:A tree with 9 leafs was created\n"
     ]
    },
    {
     "name": "stdout",
     "output_type": "stream",
     "text": [
      "0.5580845178994015 248.2242355967787\n"
     ]
    },
    {
     "name": "stderr",
     "output_type": "stream",
     "text": [
      "INFO:binarybeech.binarybeech:Norm of pseudo-residuals: 8.767598667172205\n",
      "INFO:binarybeech.binarybeech:A tree with 8 leafs was created\n"
     ]
    },
    {
     "name": "stdout",
     "output_type": "stream",
     "text": [
      "0.12544008831021058 250.4344131638685\n"
     ]
    },
    {
     "name": "stderr",
     "output_type": "stream",
     "text": [
      "INFO:binarybeech.binarybeech:Norm of pseudo-residuals: 8.765517029773228\n",
      "INFO:binarybeech.binarybeech:A tree with 13 leafs was created\n"
     ]
    },
    {
     "name": "stdout",
     "output_type": "stream",
     "text": [
      "0.6332461016008433 243.22025345024107\n"
     ]
    },
    {
     "name": "stderr",
     "output_type": "stream",
     "text": [
      "INFO:binarybeech.binarybeech:Norm of pseudo-residuals: 8.719069582995253\n",
      "INFO:binarybeech.binarybeech:A tree with 6 leafs was created\n"
     ]
    },
    {
     "name": "stdout",
     "output_type": "stream",
     "text": [
      "0.449070489570872 246.99316905405928\n"
     ]
    },
    {
     "name": "stderr",
     "output_type": "stream",
     "text": [
      "INFO:binarybeech.binarybeech:Norm of pseudo-residuals: 8.71395166961125\n",
      "INFO:binarybeech.binarybeech:A tree with 9 leafs was created\n"
     ]
    },
    {
     "name": "stdout",
     "output_type": "stream",
     "text": [
      "0.19928030880836778 246.05379482906972\n"
     ]
    },
    {
     "name": "stderr",
     "output_type": "stream",
     "text": [
      "INFO:binarybeech.binarybeech:Norm of pseudo-residuals: 8.704836993627094\n",
      "INFO:binarybeech.binarybeech:A tree with 15 leafs was created\n"
     ]
    },
    {
     "name": "stdout",
     "output_type": "stream",
     "text": [
      "0.241296156572958 245.24464516031028\n"
     ]
    },
    {
     "name": "stderr",
     "output_type": "stream",
     "text": [
      "INFO:binarybeech.binarybeech:Norm of pseudo-residuals: 8.690201501679939\n",
      "INFO:binarybeech.binarybeech:A tree with 9 leafs was created\n"
     ]
    },
    {
     "name": "stdout",
     "output_type": "stream",
     "text": [
      "0.4136296634242027 244.14868059487873\n"
     ]
    },
    {
     "name": "stderr",
     "output_type": "stream",
     "text": [
      "INFO:binarybeech.binarybeech:Norm of pseudo-residuals: 8.677197500885683\n",
      "INFO:binarybeech.binarybeech:A tree with 14 leafs was created\n"
     ]
    },
    {
     "name": "stdout",
     "output_type": "stream",
     "text": [
      "0.1526915853883041 244.6501856155778\n"
     ]
    },
    {
     "name": "stderr",
     "output_type": "stream",
     "text": [
      "INFO:binarybeech.binarybeech:Norm of pseudo-residuals: 8.669175375566855\n",
      "INFO:binarybeech.binarybeech:A tree with 14 leafs was created\n"
     ]
    },
    {
     "name": "stdout",
     "output_type": "stream",
     "text": [
      "0.3816684525880985 241.5040847219352\n"
     ]
    },
    {
     "name": "stderr",
     "output_type": "stream",
     "text": [
      "INFO:binarybeech.binarybeech:Norm of pseudo-residuals: 8.643796584918569\n",
      "INFO:binarybeech.binarybeech:A tree with 11 leafs was created\n"
     ]
    },
    {
     "name": "stdout",
     "output_type": "stream",
     "text": [
      "0.5094513208371705 241.4524265041912\n"
     ]
    },
    {
     "name": "stderr",
     "output_type": "stream",
     "text": [
      "INFO:binarybeech.binarybeech:Norm of pseudo-residuals: 8.626097214345325\n",
      "INFO:binarybeech.binarybeech:A tree with 11 leafs was created\n"
     ]
    },
    {
     "name": "stdout",
     "output_type": "stream",
     "text": [
      "0.1947797412508748 241.44636501067447\n"
     ]
    },
    {
     "name": "stderr",
     "output_type": "stream",
     "text": [
      "INFO:binarybeech.binarybeech:Norm of pseudo-residuals: 8.618825625792333\n",
      "INFO:binarybeech.binarybeech:A tree with 10 leafs was created\n"
     ]
    },
    {
     "name": "stdout",
     "output_type": "stream",
     "text": [
      "1.104039594748967 232.3966281403317\n"
     ]
    },
    {
     "name": "stderr",
     "output_type": "stream",
     "text": [
      "INFO:binarybeech.binarybeech:Norm of pseudo-residuals: 8.571066350817766\n",
      "INFO:binarybeech.binarybeech:A tree with 9 leafs was created\n"
     ]
    },
    {
     "name": "stdout",
     "output_type": "stream",
     "text": [
      "0.14839613674669191 238.72566985217642\n"
     ]
    },
    {
     "name": "stderr",
     "output_type": "stream",
     "text": [
      "INFO:binarybeech.binarybeech:Norm of pseudo-residuals: 8.566744737809232\n",
      "INFO:binarybeech.binarybeech:A tree with 14 leafs was created\n"
     ]
    },
    {
     "name": "stdout",
     "output_type": "stream",
     "text": [
      "0.6471467220601705 233.02295429098592\n"
     ]
    },
    {
     "name": "stderr",
     "output_type": "stream",
     "text": [
      "INFO:binarybeech.binarybeech:Norm of pseudo-residuals: 8.5149195220745\n",
      "INFO:binarybeech.binarybeech:A tree with 10 leafs was created\n"
     ]
    },
    {
     "name": "stdout",
     "output_type": "stream",
     "text": [
      "0.5096872822548035 233.91555613141486\n"
     ]
    },
    {
     "name": "stderr",
     "output_type": "stream",
     "text": [
      "INFO:binarybeech.binarybeech:Norm of pseudo-residuals: 8.488673274095234\n",
      "INFO:binarybeech.binarybeech:A tree with 11 leafs was created\n"
     ]
    },
    {
     "name": "stdout",
     "output_type": "stream",
     "text": [
      "0.17203086429557402 234.16772207805604\n"
     ]
    },
    {
     "name": "stderr",
     "output_type": "stream",
     "text": [
      "INFO:binarybeech.binarybeech:Norm of pseudo-residuals: 8.482740978787925\n",
      "INFO:binarybeech.binarybeech:A tree with 15 leafs was created\n"
     ]
    },
    {
     "name": "stdout",
     "output_type": "stream",
     "text": [
      "0.5950067609150588 231.09952598009136\n"
     ]
    },
    {
     "name": "stderr",
     "output_type": "stream",
     "text": [
      "INFO:binarybeech.binarybeech:Norm of pseudo-residuals: 8.4566401466672\n",
      "INFO:binarybeech.binarybeech:A tree with 12 leafs was created\n"
     ]
    },
    {
     "name": "stdout",
     "output_type": "stream",
     "text": [
      "0.27064635522428265 232.0050238906975\n"
     ]
    },
    {
     "name": "stderr",
     "output_type": "stream",
     "text": [
      "INFO:binarybeech.binarybeech:Norm of pseudo-residuals: 8.444783564287178\n",
      "INFO:binarybeech.binarybeech:A tree with 9 leafs was created\n"
     ]
    },
    {
     "name": "stdout",
     "output_type": "stream",
     "text": [
      "0.17301101292195784 232.77033801240202\n"
     ]
    },
    {
     "name": "stderr",
     "output_type": "stream",
     "text": [
      "INFO:binarybeech.binarybeech:Norm of pseudo-residuals: 8.443054290404987\n",
      "INFO:binarybeech.binarybeech:A tree with 9 leafs was created\n"
     ]
    },
    {
     "name": "stdout",
     "output_type": "stream",
     "text": [
      "0.33394111855221564 231.56328935145513\n"
     ]
    },
    {
     "name": "stderr",
     "output_type": "stream",
     "text": [
      "INFO:binarybeech.binarybeech:Norm of pseudo-residuals: 8.43380168538783\n",
      "INFO:binarybeech.binarybeech:A tree with 13 leafs was created\n"
     ]
    },
    {
     "name": "stdout",
     "output_type": "stream",
     "text": [
      "0.27533129825650415 230.35023634246298\n"
     ]
    },
    {
     "name": "stderr",
     "output_type": "stream",
     "text": [
      "INFO:binarybeech.binarybeech:Norm of pseudo-residuals: 8.420688877382\n",
      "INFO:binarybeech.binarybeech:A tree with 14 leafs was created\n"
     ]
    },
    {
     "name": "stdout",
     "output_type": "stream",
     "text": [
      "0.5648944627675679 229.40347544167247\n"
     ]
    },
    {
     "name": "stderr",
     "output_type": "stream",
     "text": [
      "INFO:binarybeech.binarybeech:Norm of pseudo-residuals: 8.396276970107746\n",
      "INFO:binarybeech.binarybeech:A tree with 9 leafs was created\n"
     ]
    },
    {
     "name": "stdout",
     "output_type": "stream",
     "text": [
      "0.29278300613781916 229.88433952840717\n"
     ]
    },
    {
     "name": "stderr",
     "output_type": "stream",
     "text": [
      "INFO:binarybeech.binarybeech:Norm of pseudo-residuals: 8.392747850053642\n",
      "INFO:binarybeech.binarybeech:A tree with 14 leafs was created\n"
     ]
    },
    {
     "name": "stdout",
     "output_type": "stream",
     "text": [
      "0.4401075069113537 226.16464453597445\n"
     ]
    },
    {
     "name": "stderr",
     "output_type": "stream",
     "text": [
      "INFO:binarybeech.binarybeech:Norm of pseudo-residuals: 8.365964196576108\n",
      "INFO:binarybeech.binarybeech:A tree with 9 leafs was created\n"
     ]
    },
    {
     "name": "stdout",
     "output_type": "stream",
     "text": [
      "0.3222144500945865 228.3656445594495\n"
     ]
    },
    {
     "name": "stderr",
     "output_type": "stream",
     "text": [
      "INFO:binarybeech.binarybeech:Norm of pseudo-residuals: 8.361318156515193\n",
      "INFO:binarybeech.binarybeech:A tree with 9 leafs was created\n"
     ]
    },
    {
     "name": "stdout",
     "output_type": "stream",
     "text": [
      "0.6961058139940259 225.47108533276733\n"
     ]
    },
    {
     "name": "stderr",
     "output_type": "stream",
     "text": [
      "INFO:binarybeech.binarybeech:Norm of pseudo-residuals: 8.348689285884939\n",
      "INFO:binarybeech.binarybeech:A tree with 10 leafs was created\n"
     ]
    },
    {
     "name": "stdout",
     "output_type": "stream",
     "text": [
      "0.4463225674639761 225.1204048806169\n"
     ]
    },
    {
     "name": "stderr",
     "output_type": "stream",
     "text": [
      "INFO:binarybeech.binarybeech:Norm of pseudo-residuals: 8.327825164348758\n",
      "INFO:binarybeech.binarybeech:A tree with 13 leafs was created\n"
     ]
    },
    {
     "name": "stdout",
     "output_type": "stream",
     "text": [
      "0.18905506595815447 226.40927729477113\n"
     ]
    },
    {
     "name": "stderr",
     "output_type": "stream",
     "text": [
      "INFO:binarybeech.binarybeech:Norm of pseudo-residuals: 8.322989378219901\n",
      "INFO:binarybeech.binarybeech:A tree with 11 leafs was created\n"
     ]
    },
    {
     "name": "stdout",
     "output_type": "stream",
     "text": [
      "0.29298962762849984 224.7317134175346\n"
     ]
    },
    {
     "name": "stderr",
     "output_type": "stream",
     "text": [
      "INFO:binarybeech.binarybeech:Norm of pseudo-residuals: 8.315429138840903\n",
      "INFO:binarybeech.binarybeech:A tree with 15 leafs was created\n"
     ]
    },
    {
     "name": "stdout",
     "output_type": "stream",
     "text": [
      "0.5227620225237662 222.11978058936677\n"
     ]
    },
    {
     "name": "stderr",
     "output_type": "stream",
     "text": [
      "INFO:binarybeech.binarybeech:Norm of pseudo-residuals: 8.291575418232593\n",
      "INFO:binarybeech.binarybeech:A tree with 7 leafs was created\n"
     ]
    },
    {
     "name": "stdout",
     "output_type": "stream",
     "text": [
      "0.3279093144329915 224.0480064478412\n"
     ]
    },
    {
     "name": "stderr",
     "output_type": "stream",
     "text": [
      "INFO:binarybeech.binarybeech:Norm of pseudo-residuals: 8.28773335338392\n",
      "INFO:binarybeech.binarybeech:A tree with 14 leafs was created\n"
     ]
    },
    {
     "name": "stdout",
     "output_type": "stream",
     "text": [
      "0.37742292566267843 222.2872171975123\n"
     ]
    },
    {
     "name": "stderr",
     "output_type": "stream",
     "text": [
      "INFO:binarybeech.binarybeech:Norm of pseudo-residuals: 8.270533676190741\n",
      "INFO:binarybeech.binarybeech:A tree with 11 leafs was created\n"
     ]
    },
    {
     "name": "stdout",
     "output_type": "stream",
     "text": [
      "0.03186058053544215 223.60711615888187\n"
     ]
    },
    {
     "name": "stderr",
     "output_type": "stream",
     "text": [
      "INFO:binarybeech.binarybeech:Norm of pseudo-residuals: 8.270463935667244\n",
      "INFO:binarybeech.binarybeech:A tree with 15 leafs was created\n"
     ]
    },
    {
     "name": "stdout",
     "output_type": "stream",
     "text": [
      "0.4077617174687871 220.82312655978407\n"
     ]
    },
    {
     "name": "stderr",
     "output_type": "stream",
     "text": [
      "INFO:binarybeech.binarybeech:Norm of pseudo-residuals: 8.251939355913379\n",
      "INFO:binarybeech.binarybeech:A tree with 13 leafs was created\n"
     ]
    },
    {
     "name": "stdout",
     "output_type": "stream",
     "text": [
      "0.20617045026141498 220.7933201593374\n"
     ]
    },
    {
     "name": "stderr",
     "output_type": "stream",
     "text": [
      "INFO:binarybeech.binarybeech:Norm of pseudo-residuals: 8.24027259987962\n",
      "INFO:binarybeech.binarybeech:A tree with 14 leafs was created\n"
     ]
    },
    {
     "name": "stdout",
     "output_type": "stream",
     "text": [
      "0.63299219759374 217.41218376203432\n"
     ]
    },
    {
     "name": "stderr",
     "output_type": "stream",
     "text": [
      "INFO:binarybeech.binarybeech:Norm of pseudo-residuals: 8.208868628518694\n",
      "INFO:binarybeech.binarybeech:A tree with 14 leafs was created\n"
     ]
    },
    {
     "name": "stdout",
     "output_type": "stream",
     "text": [
      "0.2957732514832921 219.3075462219881\n"
     ]
    },
    {
     "name": "stderr",
     "output_type": "stream",
     "text": [
      "INFO:binarybeech.binarybeech:Norm of pseudo-residuals: 8.2004122331383\n",
      "INFO:binarybeech.binarybeech:A tree with 10 leafs was created\n"
     ]
    },
    {
     "name": "stdout",
     "output_type": "stream",
     "text": [
      "0.5174787746863564 218.04500292583697\n"
     ]
    },
    {
     "name": "stderr",
     "output_type": "stream",
     "text": [
      "INFO:binarybeech.binarybeech:Norm of pseudo-residuals: 8.175881108139812\n",
      "INFO:binarybeech.binarybeech:A tree with 9 leafs was created\n"
     ]
    },
    {
     "name": "stdout",
     "output_type": "stream",
     "text": [
      "0.5501195805947211 216.69340907613378\n"
     ]
    },
    {
     "name": "stderr",
     "output_type": "stream",
     "text": [
      "INFO:binarybeech.binarybeech:Norm of pseudo-residuals: 8.15869572564311\n",
      "INFO:binarybeech.binarybeech:A tree with 15 leafs was created\n"
     ]
    },
    {
     "name": "stdout",
     "output_type": "stream",
     "text": [
      "0.16913779979291424 217.84462453318395\n"
     ]
    },
    {
     "name": "stderr",
     "output_type": "stream",
     "text": [
      "INFO:binarybeech.binarybeech:Norm of pseudo-residuals: 8.152578975910716\n",
      "INFO:binarybeech.binarybeech:A tree with 8 leafs was created\n"
     ]
    },
    {
     "name": "stdout",
     "output_type": "stream",
     "text": [
      "0.3009254873529207 217.1401114395419\n"
     ]
    },
    {
     "name": "stderr",
     "output_type": "stream",
     "text": [
      "INFO:binarybeech.binarybeech:Norm of pseudo-residuals: 8.143619267905587\n",
      "INFO:binarybeech.binarybeech:A tree with 7 leafs was created\n"
     ]
    },
    {
     "name": "stdout",
     "output_type": "stream",
     "text": [
      "0.08478767407335082 217.69614177156365\n"
     ]
    },
    {
     "name": "stderr",
     "output_type": "stream",
     "text": [
      "INFO:binarybeech.binarybeech:Norm of pseudo-residuals: 8.144196305669688\n",
      "INFO:binarybeech.binarybeech:A tree with 10 leafs was created\n"
     ]
    },
    {
     "name": "stdout",
     "output_type": "stream",
     "text": [
      "0.21582955685844563 217.4039294527483\n"
     ]
    },
    {
     "name": "stderr",
     "output_type": "stream",
     "text": [
      "INFO:binarybeech.binarybeech:Norm of pseudo-residuals: 8.140718930817988\n",
      "INFO:binarybeech.binarybeech:A tree with 10 leafs was created\n"
     ]
    },
    {
     "name": "stdout",
     "output_type": "stream",
     "text": [
      "0.7805434760649972 216.42521781967437\n"
     ]
    },
    {
     "name": "stderr",
     "output_type": "stream",
     "text": [
      "INFO:binarybeech.binarybeech:Norm of pseudo-residuals: 8.138269663004586\n",
      "INFO:binarybeech.binarybeech:A tree with 12 leafs was created\n"
     ]
    },
    {
     "name": "stdout",
     "output_type": "stream",
     "text": [
      "0.2090559965075365 216.58796527363137\n"
     ]
    },
    {
     "name": "stderr",
     "output_type": "stream",
     "text": [
      "INFO:binarybeech.binarybeech:Norm of pseudo-residuals: 8.132451723503907\n",
      "INFO:binarybeech.binarybeech:A tree with 15 leafs was created\n"
     ]
    },
    {
     "name": "stdout",
     "output_type": "stream",
     "text": [
      "0.24688510393161653 215.86729003753294\n"
     ]
    },
    {
     "name": "stderr",
     "output_type": "stream",
     "text": [
      "INFO:binarybeech.binarybeech:Norm of pseudo-residuals: 8.12450863874874\n",
      "INFO:binarybeech.binarybeech:A tree with 12 leafs was created\n"
     ]
    },
    {
     "name": "stdout",
     "output_type": "stream",
     "text": [
      "0.3247179385295351 214.80823925847352\n"
     ]
    },
    {
     "name": "stderr",
     "output_type": "stream",
     "text": [
      "INFO:binarybeech.binarybeech:Norm of pseudo-residuals: 8.11390397661811\n",
      "INFO:binarybeech.binarybeech:A tree with 11 leafs was created\n"
     ]
    },
    {
     "name": "stdout",
     "output_type": "stream",
     "text": [
      "0.04900590300804115 215.86960787424619\n"
     ]
    },
    {
     "name": "stderr",
     "output_type": "stream",
     "text": [
      "INFO:binarybeech.binarybeech:Norm of pseudo-residuals: 8.11118684896068\n",
      "INFO:binarybeech.binarybeech:A tree with 13 leafs was created\n"
     ]
    },
    {
     "name": "stdout",
     "output_type": "stream",
     "text": [
      "0.13409742035089417 215.58221281022094\n"
     ]
    },
    {
     "name": "stderr",
     "output_type": "stream",
     "text": [
      "INFO:binarybeech.binarybeech:Norm of pseudo-residuals: 8.110266747957098\n",
      "INFO:binarybeech.binarybeech:A tree with 6 leafs was created\n"
     ]
    },
    {
     "name": "stdout",
     "output_type": "stream",
     "text": [
      "0.47009322449342805 215.30762987827993\n"
     ]
    },
    {
     "name": "stderr",
     "output_type": "stream",
     "text": [
      "INFO:binarybeech.binarybeech:Norm of pseudo-residuals: 8.103799946478143\n",
      "INFO:binarybeech.binarybeech:A tree with 11 leafs was created\n"
     ]
    },
    {
     "name": "stdout",
     "output_type": "stream",
     "text": [
      "0.08066285597348745 215.46398220135256\n"
     ]
    },
    {
     "name": "stderr",
     "output_type": "stream",
     "text": [
      "INFO:binarybeech.binarybeech:Norm of pseudo-residuals: 8.103171360228897\n",
      "INFO:binarybeech.binarybeech:A tree with 6 leafs was created\n"
     ]
    },
    {
     "name": "stdout",
     "output_type": "stream",
     "text": [
      "0.34919398502019744 215.18744397122947\n"
     ]
    },
    {
     "name": "stderr",
     "output_type": "stream",
     "text": [
      "INFO:binarybeech.binarybeech:Norm of pseudo-residuals: 8.102272970370512\n",
      "INFO:binarybeech.binarybeech:A tree with 12 leafs was created\n"
     ]
    },
    {
     "name": "stdout",
     "output_type": "stream",
     "text": [
      "0.2945861274443113 214.21696907537492\n"
     ]
    },
    {
     "name": "stderr",
     "output_type": "stream",
     "text": [
      "INFO:binarybeech.binarybeech:Norm of pseudo-residuals: 8.093675521257673\n",
      "INFO:binarybeech.binarybeech:A tree with 14 leafs was created\n"
     ]
    },
    {
     "name": "stdout",
     "output_type": "stream",
     "text": [
      "0.33851343018923313 212.56060263442959\n"
     ]
    },
    {
     "name": "stderr",
     "output_type": "stream",
     "text": [
      "INFO:binarybeech.binarybeech:Norm of pseudo-residuals: 8.07316900781692\n",
      "INFO:binarybeech.binarybeech:A tree with 14 leafs was created\n"
     ]
    },
    {
     "name": "stdout",
     "output_type": "stream",
     "text": [
      "0.34643619000178777 211.65317006324165\n"
     ]
    },
    {
     "name": "stderr",
     "output_type": "stream",
     "text": [
      "INFO:binarybeech.binarybeech:Norm of pseudo-residuals: 8.052259659979738\n",
      "INFO:binarybeech.binarybeech:A tree with 10 leafs was created\n"
     ]
    },
    {
     "name": "stdout",
     "output_type": "stream",
     "text": [
      "0.35209687210781343 212.8009505787015\n"
     ]
    },
    {
     "name": "stderr",
     "output_type": "stream",
     "text": [
      "INFO:binarybeech.binarybeech:Norm of pseudo-residuals: 8.048627431161988\n",
      "INFO:binarybeech.binarybeech:A tree with 13 leafs was created\n"
     ]
    },
    {
     "name": "stdout",
     "output_type": "stream",
     "text": [
      "0.23482568211488478 212.00304386951117\n"
     ]
    },
    {
     "name": "stderr",
     "output_type": "stream",
     "text": [
      "INFO:binarybeech.binarybeech:Norm of pseudo-residuals: 8.043193146493818\n",
      "INFO:binarybeech.binarybeech:A tree with 6 leafs was created\n"
     ]
    },
    {
     "name": "stdout",
     "output_type": "stream",
     "text": [
      "0.4087845098652219 212.04325530121992\n"
     ]
    },
    {
     "name": "stderr",
     "output_type": "stream",
     "text": [
      "INFO:binarybeech.binarybeech:Norm of pseudo-residuals: 8.039537071999517\n",
      "INFO:binarybeech.binarybeech:A tree with 14 leafs was created\n"
     ]
    },
    {
     "name": "stdout",
     "output_type": "stream",
     "text": [
      "0.17469312337359752 211.7663414175497\n"
     ]
    },
    {
     "name": "stderr",
     "output_type": "stream",
     "text": [
      "INFO:binarybeech.binarybeech:Norm of pseudo-residuals: 8.032412938433867\n",
      "INFO:binarybeech.binarybeech:A tree with 15 leafs was created\n"
     ]
    },
    {
     "name": "stdout",
     "output_type": "stream",
     "text": [
      "0.22824261214504984 211.3077293774782\n"
     ]
    },
    {
     "name": "stderr",
     "output_type": "stream",
     "text": [
      "INFO:binarybeech.binarybeech:Norm of pseudo-residuals: 8.026584943589382\n",
      "INFO:binarybeech.binarybeech:A tree with 13 leafs was created\n"
     ]
    },
    {
     "name": "stdout",
     "output_type": "stream",
     "text": [
      "0.01577430551789443 211.89802301386828\n"
     ]
    },
    {
     "name": "stderr",
     "output_type": "stream",
     "text": [
      "INFO:binarybeech.binarybeech:Norm of pseudo-residuals: 8.026631894086094\n",
      "INFO:binarybeech.binarybeech:A tree with 11 leafs was created\n"
     ]
    },
    {
     "name": "stdout",
     "output_type": "stream",
     "text": [
      "0.4118823232266139 210.27545767121075\n"
     ]
    },
    {
     "name": "stderr",
     "output_type": "stream",
     "text": [
      "INFO:binarybeech.binarybeech:Norm of pseudo-residuals: 8.015301226088534\n",
      "INFO:binarybeech.binarybeech:A tree with 12 leafs was created\n"
     ]
    },
    {
     "name": "stdout",
     "output_type": "stream",
     "text": [
      "0.04455960296229919 211.30159045215672\n"
     ]
    },
    {
     "name": "stderr",
     "output_type": "stream",
     "text": [
      "INFO:binarybeech.binarybeech:Norm of pseudo-residuals: 8.015226715963086\n",
      "INFO:binarybeech.binarybeech:A tree with 13 leafs was created\n"
     ]
    },
    {
     "name": "stdout",
     "output_type": "stream",
     "text": [
      "0.1457365580555023 211.02856225585342\n"
     ]
    }
   ],
   "source": [
    "\n",
    "gbt_titanic.learning_rate=0.2\n",
    "gbt_titanic.create_trees(100)\n"
   ]
  },
  {
   "cell_type": "code",
   "execution_count": 11,
   "id": "ab483568-cbe5-452a-8524-d1700c4f2efc",
   "metadata": {},
   "outputs": [
    {
     "data": {
      "text/plain": [
       "0.25455481743576136"
      ]
     },
     "execution_count": 11,
     "metadata": {},
     "output_type": "execute_result"
    }
   ],
   "source": [
    "\n",
    "gbt_titanic.predict(df_titanic.iloc[0])"
   ]
  },
  {
   "cell_type": "code",
   "execution_count": 12,
   "id": "24a349c8-371f-4749-b0e5-e64362395322",
   "metadata": {},
   "outputs": [
    {
     "data": {
      "text/plain": [
       "{'precision': array([0.93260474, 0.75438596]),\n",
       " 'recall': array([0.8590604 , 0.87457627]),\n",
       " 'F-score': 0.8521851199330924,\n",
       " 'accuracy': 0.8641975308641975}"
      ]
     },
     "execution_count": 12,
     "metadata": {},
     "output_type": "execute_result"
    }
   ],
   "source": [
    "\n",
    "gbt_titanic.validate(df_test)\n"
   ]
  },
  {
   "cell_type": "markdown",
   "id": "cbea95cd-539e-43f8-a42f-504597cb60f4",
   "metadata": {
    "tags": []
   },
   "source": [
    "#k-fold cross-validation"
   ]
  },
  {
   "cell_type": "code",
   "execution_count": 13,
   "id": "2ca1ac16-51e1-4b8c-b24e-adb14805c846",
   "metadata": {},
   "outputs": [],
   "source": [
    "\n",
    "c = CART(df_titanic,\"Survived\",metrics_type=\"classification\")\n"
   ]
  },
  {
   "cell_type": "code",
   "execution_count": 14,
   "id": "c009583e-2907-489f-b5bf-fa7dee70aae8",
   "metadata": {},
   "outputs": [
    {
     "name": "stderr",
     "output_type": "stream",
     "text": [
      "INFO:binarybeech.binarybeech:A tree with 108 leafs was created\n",
      "INFO:binarybeech.binarybeech:A tree with 81 leafs was created\n",
      "/home/jovyan/binarybeech/metrics.py:106: RuntimeWarning: invalid value encountered in true_divide\n",
      "  return np.diag(m) / np.sum(m, axis=0)\n",
      "INFO:binarybeech.binarybeech:A tree with 93 leafs was created\n",
      "INFO:binarybeech.binarybeech:A tree with 85 leafs was created\n",
      "INFO:binarybeech.binarybeech:A tree with 89 leafs was created\n",
      "INFO:binarybeech.binarybeech:A tree with 85 leafs was created\n",
      "INFO:binarybeech.binarybeech:beta_best: 0.003347407151945793\n",
      "INFO:binarybeech.binarybeech:A tree with 108 leafs was created\n"
     ]
    },
    {
     "data": {
      "image/png": "[encoded data removed]",
      "text/plain": [
       "<Figure size 640x480 with 1 Axes>"
      ]
     },
     "metadata": {},
     "output_type": "display_data"
    }
   ],
   "source": [
    "c.train(slack=1e-3)"
   ]
  },
  {
   "cell_type": "code",
   "execution_count": 15,
   "id": "62e88b55-a808-4a63-81e4-a055a9a173df",
   "metadata": {},
   "outputs": [
    {
     "data": {
      "text/plain": [
       "11"
      ]
     },
     "execution_count": 15,
     "metadata": {},
     "output_type": "execute_result"
    }
   ],
   "source": [
    "c.tree.leaf_count()"
   ]
  },
  {
   "cell_type": "code",
   "execution_count": 16,
   "id": "e96ef449-5802-4c06-b60a-7981b4be6c0d",
   "metadata": {},
   "outputs": [
    {
     "name": "stdout",
     "output_type": "stream",
     "text": [
      "Sex in ('female',)\n",
      "├── False:Cabin in ('missing',)\n",
      "│   ├── False:Age<40.18\n",
      "│   │   ├── False:0\n",
      "│   │   └── True: Age<14.68\n",
      "│   │       ├── False:0\n",
      "│   │       └── True: 1\n",
      "│   └── True: Age<4.35\n",
      "│       ├── False:0\n",
      "│       └── True: SibSp<1.53\n",
      "│           ├── False:0\n",
      "│           └── True: 1\n",
      "└── True: Pclass<2.24\n",
      "    ├── False:Fare<24.17\n",
      "    │   ├── False:0\n",
      "    │   └── True: Embarked in ('Q',)\n",
      "    │       ├── False:PassengerId<627.44\n",
      "    │       │   ├── False:1\n",
      "    │       │   └── True: 0\n",
      "    │       └── True: 1\n",
      "    └── True: 1\n",
      "\n"
     ]
    }
   ],
   "source": [
    "c.tree.show()"
   ]
  },
  {
   "cell_type": "code",
   "execution_count": 17,
   "id": "f09ff1fe-3dce-41b6-a816-99bb9facaa87",
   "metadata": {},
   "outputs": [
    {
     "data": {
      "text/plain": [
       "{'precision': array([0.92167577, 0.64035088]),\n",
       " 'recall': array([0.80445151, 0.83587786]),\n",
       " 'F-score': 0.7921243773822507,\n",
       " 'accuracy': 0.813692480359147}"
      ]
     },
     "execution_count": 17,
     "metadata": {},
     "output_type": "execute_result"
    }
   ],
   "source": [
    "c.validate(df_test)"
   ]
  },
  {
   "cell_type": "code",
   "execution_count": null,
   "id": "b36c4297-2553-4785-829f-88c74d1d29bd",
   "metadata": {},
   "outputs": [],
   "source": []
  }
 ],
 "metadata": {
  "kernelspec": {
   "display_name": "Python 3 (ipykernel)",
   "language": "python",
   "name": "python3"
  },
  "language_info": {
   "codemirror_mode": {
    "name": "ipython",
    "version": 3
   },
   "file_extension": ".py",
   "mimetype": "text/x-python",
   "name": "python",
   "nbconvert_exporter": "python",
   "pygments_lexer": "ipython3",
   "version": "3.7.12"
  }
 },
 "nbformat": 4,
 "nbformat_minor": 5
}
